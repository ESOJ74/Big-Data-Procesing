{
 "cells": [
  {
   "cell_type": "markdown",
   "metadata": {
    "deletable": false,
    "editable": false,
    "nbgrader": {
     "cell_type": "markdown",
     "checksum": "3d01e43162b64c90ce0048e8a23f3b1b",
     "grade": false,
     "grade_id": "cell-f8987996be9f1238",
     "locked": true,
     "schema_version": 3,
     "solution": false,
     "task": false
    }
   },
   "source": [
    "# Accidentes de tráfico en Reino Unido entre 2010 y 2014 \n",
    "\n",
    "### Disponible en Kaggle en:\n",
    "https://www.kaggle.com/stefanoleone992/adm-project-road-accidents-in-uk"
   ]
  },
  {
   "cell_type": "markdown",
   "metadata": {
    "deletable": false,
    "editable": false,
    "nbgrader": {
     "cell_type": "markdown",
     "checksum": "9a6b4dc108ddf890c659e33701965428",
     "grade": false,
     "grade_id": "cell-f74d7bfd01811789",
     "locked": true,
     "schema_version": 3,
     "solution": false,
     "task": false
    }
   },
   "source": [
    "### Variables y significado"
   ]
  },
  {
   "cell_type": "markdown",
   "metadata": {
    "deletable": false,
    "editable": false,
    "nbgrader": {
     "cell_type": "markdown",
     "checksum": "4a5a5882319ae0a14393c8d534816a56",
     "grade": false,
     "grade_id": "cell-9cfb34982bd4eb04",
     "locked": true,
     "schema_version": 3,
     "solution": false,
     "task": false
    }
   },
   "source": [
    "* Accident_Index: Accident index\n",
    "* Latitude: Accident latitude\n",
    "* Longitude: Accident longitude\n",
    "* Region: Accident region\n",
    "* Urban_or_Rural_Area: Accident area (rural or urban)\n",
    "* X1st_Road_Class: Accident road class\n",
    "* Driver_IMD_Decile: Road IMD Decile\n",
    "* Speed_limit: Road speed limit\n",
    "* Road_Type: Road type\n",
    "* Road_Surface_Conditions: Road surface condition\n",
    "* Weather: Weather\n",
    "* High_Wind: High wind\n",
    "* Lights: Road lights\n",
    "* Datetime: Accident datetime\n",
    "* Year: Accident year\n",
    "* Season: Accident season\n",
    "* Month_of_Year: Accident month\n",
    "* Day_of_Month: Accident day of month\n",
    "* Day_of_Week: Accident day of week\n",
    "* Hour_of_Day: Accident hour of day\n",
    "* Number_of_Vehicles: Accident number of vehicles\n",
    "* Age_of_Driver: Driver age\n",
    "* Age_of_Vehicle: Vehicle age\n",
    "* Junction_Detail: Accident junction detail\n",
    "* Junction_Location: Accident junction location\n",
    "* X1st_Point_of_Impact: Vehicle first point of impact\n",
    "* Driver_Journey_Purpose: Driver journey purpose\n",
    "* Engine_CC: Vehicle engine power (in CC)\n",
    "* Propulsion_Code: Vehicle propulsion code\n",
    "* Vehicle_Make: Vehicle brand\n",
    "* Vehicle_Category: Vehicle brand category\n",
    "* Vehicle_Manoeuvre: Vehicle manoeuvre when accident happened\n",
    "* Accident_Severity: Accident severity"
   ]
  },
  {
   "cell_type": "markdown",
   "metadata": {},
   "source": [
    "**Nombre completo del alumno:**  "
   ]
  },
  {
   "cell_type": "markdown",
   "metadata": {
    "deletable": false,
    "editable": false,
    "nbgrader": {
     "cell_type": "markdown",
     "checksum": "28429bd5e3051f643a72b2e5787231f5",
     "grade": false,
     "grade_id": "cell-b4f9c37a2b92d2e6",
     "locked": true,
     "schema_version": 3,
     "solution": false,
     "task": false
    }
   },
   "source": [
    "**INSTRUCCIONES**: en cada celda debes responder a la pregunta formulada, asegurándote de que el resultado queda guardado en la(s) variable(s) que por defecto vienen inicializadas a `None`. No se necesita usar variables intermedias, pero puedes hacerlo siempre que el resultado final del cálculo quede guardado exactamente en la variable que venía inicializada a None (debes reemplazar None por la secuencia de transformaciones necesarias, pero nunca cambiar el nombre de esa variable). **No olvides borrar la línea *raise NotImplementedError()* de cada celda cuando hayas completado la solución de esa celda y quieras probarla**.\n",
    "\n",
    "Después de cada celda evaluable verás una celda con código. Ejecútala (no modifiques su código) y te dirá si tu solución es correcta o no. Además de esas pruebas, se realizarán algunas más (ocultas) a la hora de puntuar el ejercicio, pero evaluar dicha celda es un indicador bastante fiable acerca de si realmente has implementado la solución correcta o no. Asegúrate de que, al menos, todas las celdas indican que el código es correcto antes de enviar el notebook terminado."
   ]
  },
  {
   "cell_type": "code",
   "execution_count": null,
   "metadata": {},
   "outputs": [],
   "source": [
    "from pyspark.sql import SparkSession\n",
    "\n",
    "spark = (SparkSession\n",
    " .builder\n",
    " .appName(\"Nombre_App\") \n",
    " .getOrCreate())"
   ]
  },
  {
   "cell_type": "markdown",
   "metadata": {
    "deletable": false,
    "editable": false,
    "nbgrader": {
     "cell_type": "markdown",
     "checksum": "e7764e6064699f591cd2896d2430528e",
     "grade": false,
     "grade_id": "cell-69ec0993eeaff3ac",
     "locked": true,
     "schema_version": 3,
     "solution": false,
     "task": false
    }
   },
   "source": [
    "### Sobre el dataset anterior (accidents_uk.csv) se pide:"
   ]
  },
  {
   "cell_type": "markdown",
   "metadata": {},
   "source": [
    "* **(1 punto)** Leerlo tratando de que Spark infiera el tipo de dato de cada columna, y cachearlo."
   ]
  },
  {
   "cell_type": "code",
   "execution_count": null,
   "metadata": {
    "deletable": false,
    "nbgrader": {
     "cell_type": "code",
     "checksum": "494ea1492132b3a5e88d7b7b5ea9c9ce",
     "grade": false,
     "grade_id": "read_csv",
     "locked": false,
     "schema_version": 3,
     "solution": true,
     "task": false
    }
   },
   "outputs": [],
   "source": [
    "from pyspark.sql import functions as F\n",
    "\n",
    "accidentesDF = spark.read\\\n",
    "                 .option(\"header\", \"true\")\\\n",
    "                 .option(\"inferSchema\", \"true\")\\\n",
    "                 .csv(\"Datasets/accidents_uk.csv\") # pon aquí la ruta en tu bucket\n",
    "\n",
    "accidentesDF.cache()\n",
    "accidentesDF.printSchema()\n",
    "                "
   ]
  },
  {
   "cell_type": "code",
   "execution_count": null,
   "metadata": {
    "deletable": false,
    "editable": false,
    "nbgrader": {
     "cell_type": "code",
     "checksum": "fe7160ffc743634220394f78cbf50bc1",
     "grade": true,
     "grade_id": "read_csv_test",
     "locked": true,
     "points": 1,
     "schema_version": 3,
     "solution": false,
     "task": false
    }
   },
   "outputs": [],
   "source": [
    "from pyspark.sql.types import DoubleType\n",
    "assert(accidentesDF.schema[1].dataType == DoubleType())"
   ]
  },
  {
   "cell_type": "markdown",
   "metadata": {
    "deletable": false,
    "editable": false,
    "nbgrader": {
     "cell_type": "markdown",
     "checksum": "1295004c825ce57f3f88b725f083e586",
     "grade": false,
     "grade_id": "cell-b90f5b934eda250e",
     "locked": true,
     "schema_version": 3,
     "solution": false,
     "task": false
    }
   },
   "source": [
    "* **(1 punto)** Discretizar la variable **Age_of_Vehicle** utilizando un bucketizer (sin crear un pipeline) en los puntos de corte (0, 2, 5, 10, 15, 20, 35). La discretización debe quedar en una nueva columna de tipo Double llamada **Edad_Vehiculo**."
   ]
  },
  {
   "cell_type": "code",
   "execution_count": 58,
   "metadata": {
    "deletable": false,
    "nbgrader": {
     "cell_type": "code",
     "checksum": "467714adc92d47c04b7573bd1f1faa06",
     "grade": false,
     "grade_id": "bucketize",
     "locked": false,
     "schema_version": 3,
     "solution": true,
     "task": false
    }
   },
   "outputs": [
    {
     "data": {
      "text/html": [
       "<div>\n",
       "<style scoped>\n",
       "    .dataframe tbody tr th:only-of-type {\n",
       "        vertical-align: middle;\n",
       "    }\n",
       "\n",
       "    .dataframe tbody tr th {\n",
       "        vertical-align: top;\n",
       "    }\n",
       "\n",
       "    .dataframe thead th {\n",
       "        text-align: right;\n",
       "    }\n",
       "</style>\n",
       "<table border=\"1\" class=\"dataframe\">\n",
       "  <thead>\n",
       "    <tr style=\"text-align: right;\">\n",
       "      <th></th>\n",
       "      <th>Edad_Vehiculo</th>\n",
       "    </tr>\n",
       "  </thead>\n",
       "  <tbody>\n",
       "    <tr>\n",
       "      <th>0</th>\n",
       "      <td>2.0</td>\n",
       "    </tr>\n",
       "    <tr>\n",
       "      <th>1</th>\n",
       "      <td>1.0</td>\n",
       "    </tr>\n",
       "    <tr>\n",
       "      <th>2</th>\n",
       "      <td>2.0</td>\n",
       "    </tr>\n",
       "    <tr>\n",
       "      <th>3</th>\n",
       "      <td>1.0</td>\n",
       "    </tr>\n",
       "    <tr>\n",
       "      <th>4</th>\n",
       "      <td>3.0</td>\n",
       "    </tr>\n",
       "    <tr>\n",
       "      <th>...</th>\n",
       "      <td>...</td>\n",
       "    </tr>\n",
       "    <tr>\n",
       "      <th>251827</th>\n",
       "      <td>5.0</td>\n",
       "    </tr>\n",
       "    <tr>\n",
       "      <th>251828</th>\n",
       "      <td>5.0</td>\n",
       "    </tr>\n",
       "    <tr>\n",
       "      <th>251829</th>\n",
       "      <td>3.0</td>\n",
       "    </tr>\n",
       "    <tr>\n",
       "      <th>251830</th>\n",
       "      <td>1.0</td>\n",
       "    </tr>\n",
       "    <tr>\n",
       "      <th>251831</th>\n",
       "      <td>2.0</td>\n",
       "    </tr>\n",
       "  </tbody>\n",
       "</table>\n",
       "<p>251832 rows × 1 columns</p>\n",
       "</div>"
      ],
      "text/plain": [
       "        Edad_Vehiculo\n",
       "0                 2.0\n",
       "1                 1.0\n",
       "2                 2.0\n",
       "3                 1.0\n",
       "4                 3.0\n",
       "...               ...\n",
       "251827            5.0\n",
       "251828            5.0\n",
       "251829            3.0\n",
       "251830            1.0\n",
       "251831            2.0\n",
       "\n",
       "[251832 rows x 1 columns]"
      ]
     },
     "execution_count": 58,
     "metadata": {},
     "output_type": "execute_result"
    }
   ],
   "source": [
    "from pyspark.ml.feature import Bucketizer\n",
    "\n",
    "# LÍNEAS EVALUABLES, NO RENOMBRAR LAS VARIABLES\n",
    "cortes =  [0.0, 2.0, 5.0, 10.0, 15.0, 20.0, 35.0]\n",
    "\n",
    "bucketizer = Bucketizer(splits=cortes, inputCol=\"Age_of_Vehicle\", outputCol=\"Edad_Vehiculo\")\n",
    "accidentesBucketizedDF = bucketizer.transform(accidentesDF)\n",
    "\n",
    "edad = accidentesBucketizedDF.select(\"Edad_Vehiculo\")\n",
    "edad.toPandas()"
   ]
  },
  {
   "cell_type": "code",
   "execution_count": null,
   "metadata": {
    "deletable": false,
    "editable": false,
    "nbgrader": {
     "cell_type": "code",
     "checksum": "7c1ac69726ac8effcf1a2124b1e2cd3a",
     "grade": true,
     "grade_id": "bucketize_tests",
     "locked": true,
     "points": 1,
     "schema_version": 3,
     "solution": false,
     "task": false
    }
   },
   "outputs": [],
   "source": [
    "assert(\"Edad_Vehiculo\" in accidentesBucketizedDF.columns)\n",
    "assert(accidentesBucketizedDF.schema.fields)"
   ]
  },
  {
   "cell_type": "markdown",
   "metadata": {
    "deletable": false,
    "editable": false,
    "nbgrader": {
     "cell_type": "markdown",
     "checksum": "cdd57f341bfabbfbb3c648ec78af5a64",
     "grade": false,
     "grade_id": "cell-fc88821f19453a51",
     "locked": true,
     "schema_version": 3,
     "solution": false,
     "task": false
    }
   },
   "source": [
    "* **(1 punto)** Crear un nuevo DF donde la columna \"Age_of_Driver\" ha sido reemplazada por otra de tipo string en la que los valores 1 y 2 son \"Adolescente\", los valores 3 y 4 por \"Joven\", los valores 5 y 6 por \"Adulto\", y los demás valores se dejan sin modificar."
   ]
  },
  {
   "cell_type": "code",
   "execution_count": 60,
   "metadata": {
    "deletable": false,
    "nbgrader": {
     "cell_type": "code",
     "checksum": "c9ee5110f5af1c97a769ec03d3431c3f",
     "grade": false,
     "grade_id": "renombrar_edad",
     "locked": false,
     "schema_version": 3,
     "solution": true,
     "task": false
    }
   },
   "outputs": [
    {
     "data": {
      "text/html": [
       "<div>\n",
       "<style scoped>\n",
       "    .dataframe tbody tr th:only-of-type {\n",
       "        vertical-align: middle;\n",
       "    }\n",
       "\n",
       "    .dataframe tbody tr th {\n",
       "        vertical-align: top;\n",
       "    }\n",
       "\n",
       "    .dataframe thead th {\n",
       "        text-align: right;\n",
       "    }\n",
       "</style>\n",
       "<table border=\"1\" class=\"dataframe\">\n",
       "  <thead>\n",
       "    <tr style=\"text-align: right;\">\n",
       "      <th></th>\n",
       "      <th>Age_of_Driver</th>\n",
       "    </tr>\n",
       "  </thead>\n",
       "  <tbody>\n",
       "    <tr>\n",
       "      <th>0</th>\n",
       "      <td>Joven</td>\n",
       "    </tr>\n",
       "    <tr>\n",
       "      <th>1</th>\n",
       "      <td>Joven</td>\n",
       "    </tr>\n",
       "    <tr>\n",
       "      <th>2</th>\n",
       "      <td>7</td>\n",
       "    </tr>\n",
       "    <tr>\n",
       "      <th>3</th>\n",
       "      <td>Joven</td>\n",
       "    </tr>\n",
       "    <tr>\n",
       "      <th>4</th>\n",
       "      <td>Adulto</td>\n",
       "    </tr>\n",
       "    <tr>\n",
       "      <th>...</th>\n",
       "      <td>...</td>\n",
       "    </tr>\n",
       "    <tr>\n",
       "      <th>251827</th>\n",
       "      <td>Adulto</td>\n",
       "    </tr>\n",
       "    <tr>\n",
       "      <th>251828</th>\n",
       "      <td>Adulto</td>\n",
       "    </tr>\n",
       "    <tr>\n",
       "      <th>251829</th>\n",
       "      <td>Adulto</td>\n",
       "    </tr>\n",
       "    <tr>\n",
       "      <th>251830</th>\n",
       "      <td>Adulto</td>\n",
       "    </tr>\n",
       "    <tr>\n",
       "      <th>251831</th>\n",
       "      <td>Adulto</td>\n",
       "    </tr>\n",
       "  </tbody>\n",
       "</table>\n",
       "<p>251832 rows × 1 columns</p>\n",
       "</div>"
      ],
      "text/plain": [
       "       Age_of_Driver\n",
       "0              Joven\n",
       "1              Joven\n",
       "2                  7\n",
       "3              Joven\n",
       "4             Adulto\n",
       "...              ...\n",
       "251827        Adulto\n",
       "251828        Adulto\n",
       "251829        Adulto\n",
       "251830        Adulto\n",
       "251831        Adulto\n",
       "\n",
       "[251832 rows x 1 columns]"
      ]
     },
     "execution_count": 60,
     "metadata": {},
     "output_type": "execute_result"
    }
   ],
   "source": [
    "# LÍNEA EVALUABLE, NO RENOMBRAR VARIABLES\n",
    "accidentesAgeDF = accidentesDF\\\n",
    "                        .withColumn(\"Age_of_Driver\", \n",
    "                                      F.when (\n",
    "                                         (F.col(\"Age_of_Driver\") == 1) \n",
    "                                          | (F.col(\"Age_of_Driver\") == 2),\n",
    "                                          \"Adolescente\"\n",
    "                                      )\\\n",
    "                                      .when (\n",
    "                                         (F.col(\"Age_of_Driver\") == 3) \n",
    "                                          | (F.col(\"Age_of_Driver\") == 4),\n",
    "                                          \"Joven\"\n",
    "                                      )\\\n",
    "                                      .when (\n",
    "                                         (F.col(\"Age_of_Driver\") == 5) \n",
    "                                          | (F.col(\"Age_of_Driver\") == 6),\n",
    "                                          \"Adulto\"\n",
    "                                      )\\\n",
    "                                      .otherwise(\n",
    "                                          F.col(\"Age_of_Driver\")\n",
    "                                      )\n",
    "                                   ) \n",
    "accidentesAgeDF.select(\"Age_of_Driver\").toPandas()"
   ]
  },
  {
   "cell_type": "code",
   "execution_count": 61,
   "metadata": {
    "deletable": false,
    "editable": false,
    "nbgrader": {
     "cell_type": "code",
     "checksum": "4f33a56b8af18220e6b77664c0f11851",
     "grade": true,
     "grade_id": "renombrar_edad_test",
     "locked": true,
     "points": 1,
     "schema_version": 3,
     "solution": false,
     "task": false
    }
   },
   "outputs": [
    {
     "name": "stdout",
     "output_type": "stream",
     "text": [
      "[Row(Age_of_Driver='8', count=9195), Row(Age_of_Driver='7', count=13338), Row(Age_of_Driver='Adolescente', count=57174), Row(Age_of_Driver='Adulto', count=67138), Row(Age_of_Driver='Joven', count=104987)]\n"
     ]
    }
   ],
   "source": [
    "assert(dict(accidentesAgeDF.dtypes)[\"Age_of_Driver\"] == \"string\")\n",
    "collectedDF = accidentesAgeDF.groupBy(\"Age_of_Driver\").count().orderBy(\"count\").collect()\n",
    "print(collectedDF)\n",
    "assert((collectedDF[0][\"count\"] == 9195) & (collectedDF[0][\"Age_of_Driver\"] == \"8\"))\n",
    "assert((collectedDF[1][\"count\"] == 13338) & (collectedDF[1][\"Age_of_Driver\"] == \"7\"))\n",
    "assert((collectedDF[2][\"count\"] == 57174) & (collectedDF[2][\"Age_of_Driver\"] == \"Adolescente\"))\n",
    "assert((collectedDF[3][\"count\"] == 67138) & (collectedDF[3][\"Age_of_Driver\"] == \"Adulto\"))\n",
    "assert((collectedDF[4][\"count\"] == 104987) & (collectedDF[4][\"Age_of_Driver\"] == \"Joven\"))"
   ]
  },
  {
   "cell_type": "markdown",
   "metadata": {
    "deletable": false,
    "editable": false,
    "nbgrader": {
     "cell_type": "markdown",
     "checksum": "b805abfe5774032f7cf030b50153b2a8",
     "grade": false,
     "grade_id": "cell-a71a6b17b1e0d613",
     "locked": true,
     "schema_version": 3,
     "solution": false,
     "task": false
    }
   },
   "source": [
    "* **(1 punto)** Partiendo de `accidentesDF`, crear un nuevo DataFrame de una sola fila que contenga, **por este orden de columnas**, el **número** de categorías existentes para el propósito del viaje, para el tipo de maniobra del vehículo, para las condiciones de la calzada y para la severidad del accidente. Pista: crear las columnas al vuelo con `select`(). Renombrar cada columna de conteo para que se llame igual que la propia columna que estamos contando."
   ]
  },
  {
   "cell_type": "code",
   "execution_count": 62,
   "metadata": {
    "deletable": false,
    "nbgrader": {
     "cell_type": "code",
     "checksum": "760ca31245afc350de47c7cd98aa6950",
     "grade": false,
     "grade_id": "numero_categorias",
     "locked": false,
     "schema_version": 3,
     "solution": true,
     "task": false
    }
   },
   "outputs": [
    {
     "data": {
      "text/html": [
       "<div>\n",
       "<style scoped>\n",
       "    .dataframe tbody tr th:only-of-type {\n",
       "        vertical-align: middle;\n",
       "    }\n",
       "\n",
       "    .dataframe tbody tr th {\n",
       "        vertical-align: top;\n",
       "    }\n",
       "\n",
       "    .dataframe thead th {\n",
       "        text-align: right;\n",
       "    }\n",
       "</style>\n",
       "<table border=\"1\" class=\"dataframe\">\n",
       "  <thead>\n",
       "    <tr style=\"text-align: right;\">\n",
       "      <th></th>\n",
       "      <th>Driver_Journey_Purpose</th>\n",
       "      <th>Vehicle_Manoeuvre</th>\n",
       "      <th>Road_Surface_Conditions</th>\n",
       "      <th>Accident_Severity</th>\n",
       "    </tr>\n",
       "  </thead>\n",
       "  <tbody>\n",
       "    <tr>\n",
       "      <th>0</th>\n",
       "      <td>5</td>\n",
       "      <td>11</td>\n",
       "      <td>5</td>\n",
       "      <td>2</td>\n",
       "    </tr>\n",
       "  </tbody>\n",
       "</table>\n",
       "</div>"
      ],
      "text/plain": [
       "   Driver_Journey_Purpose  Vehicle_Manoeuvre  Road_Surface_Conditions  \\\n",
       "0                       5                 11                        5   \n",
       "\n",
       "   Accident_Severity  \n",
       "0                  2  "
      ]
     },
     "execution_count": 62,
     "metadata": {},
     "output_type": "execute_result"
    }
   ],
   "source": [
    "# LÍNEA EVALUABLE, NO RENOMBRAR VARIABLES\n",
    "numeroCategoriasDF = accidentesDF\\\n",
    "                            .select(\n",
    "                                    F.countDistinct(\"Driver_Journey_Purpose\").alias(\"Driver_Journey_Purpose\"),\n",
    "                                    F.countDistinct(\"Vehicle_Manoeuvre\").alias(\"Vehicle_Manoeuvre\"),\n",
    "                                    F.countDistinct(\"Road_Surface_Conditions\").alias(\"Road_Surface_Conditions\"),\n",
    "                                    F.countDistinct(\"Accident_Severity\").alias(\"Accident_Severity\")\n",
    "                                    )\n",
    "                            \n",
    "numeroCategoriasDF.toPandas()"
   ]
  },
  {
   "cell_type": "code",
   "execution_count": 63,
   "metadata": {
    "deletable": false,
    "editable": false,
    "nbgrader": {
     "cell_type": "code",
     "checksum": "30ebc9730a12379f2bcce1ad04f24e33",
     "grade": true,
     "grade_id": "numero_categorias_test",
     "locked": true,
     "points": 1,
     "schema_version": 3,
     "solution": false,
     "task": false
    }
   },
   "outputs": [],
   "source": [
    "assert(len(numeroCategoriasDF.columns) == 4)\n",
    "assert(numeroCategoriasDF.count() == 1)"
   ]
  },
  {
   "cell_type": "markdown",
   "metadata": {
    "deletable": false,
    "editable": false,
    "nbgrader": {
     "cell_type": "markdown",
     "checksum": "8b42e836688d46b3680b7ab2dc4d3169",
     "grade": false,
     "grade_id": "cell-c5ec05706eccd480",
     "locked": true,
     "schema_version": 3,
     "solution": false,
     "task": false
    }
   },
   "source": [
    "* **(3 puntos)** Partiendo de `accidentesAgeDF` definido anteriormente, crear un nuevo DataFrame con tantas filas como posibles propósitos de un viaje, y tantas columnas como rangos de edad habíamos distinguido en dicho DataFrame más una (la del propósito del viaje). Las columnas deben llamarse igual que cada uno de los niveles posibles de rangos de edad. Cada casilla del nuevo DataFrame deberá contener el **porcentaje** del número de accidentes ocurridos en ese tipo de viaje (fila) para ese rango de edad (columna), medido sobre el *total de accidentes ocurridos para ese tipo de viaje*.\n",
    "\n",
    "Pista: se puede hacer todo en una sola secuencia de transformaciones sin variable auxiliar. Calcular primero el conteo, después añadir una columna con los totales de cada tipo de viaje como la suma de las 5 columnas de conteos, y finalmente reemplazar cada columna de conteo por su porcentaje. No debe utilizarse `when` en ningún momento, solo aritmética de columnas. Recuerda cómo desplegar grupos en varias columnas."
   ]
  },
  {
   "cell_type": "code",
   "execution_count": 64,
   "metadata": {
    "deletable": false,
    "nbgrader": {
     "cell_type": "code",
     "checksum": "7098be8996fe3e79691c07ae1552d862",
     "grade": false,
     "grade_id": "viajes_por_edad",
     "locked": false,
     "schema_version": 3,
     "solution": true,
     "task": false
    }
   },
   "outputs": [
    {
     "data": {
      "text/html": [
       "<div>\n",
       "<style scoped>\n",
       "    .dataframe tbody tr th:only-of-type {\n",
       "        vertical-align: middle;\n",
       "    }\n",
       "\n",
       "    .dataframe tbody tr th {\n",
       "        vertical-align: top;\n",
       "    }\n",
       "\n",
       "    .dataframe thead th {\n",
       "        text-align: right;\n",
       "    }\n",
       "</style>\n",
       "<table border=\"1\" class=\"dataframe\">\n",
       "  <thead>\n",
       "    <tr style=\"text-align: right;\">\n",
       "      <th></th>\n",
       "      <th>Driver_Journey_Purpose</th>\n",
       "      <th>7</th>\n",
       "      <th>8</th>\n",
       "      <th>Adolescente</th>\n",
       "      <th>Adulto</th>\n",
       "      <th>Joven</th>\n",
       "    </tr>\n",
       "  </thead>\n",
       "  <tbody>\n",
       "    <tr>\n",
       "      <th>0</th>\n",
       "      <td>Taking pupil to/from school</td>\n",
       "      <td>0.026578</td>\n",
       "      <td>0.009061</td>\n",
       "      <td>0.075506</td>\n",
       "      <td>0.222591</td>\n",
       "      <td>0.666264</td>\n",
       "    </tr>\n",
       "    <tr>\n",
       "      <th>1</th>\n",
       "      <td>Pupil riding to/from school</td>\n",
       "      <td>0.021611</td>\n",
       "      <td>0.017682</td>\n",
       "      <td>0.622790</td>\n",
       "      <td>0.125737</td>\n",
       "      <td>0.212181</td>\n",
       "    </tr>\n",
       "    <tr>\n",
       "      <th>2</th>\n",
       "      <td>Journey as part of work</td>\n",
       "      <td>0.023331</td>\n",
       "      <td>0.003815</td>\n",
       "      <td>0.155361</td>\n",
       "      <td>0.318026</td>\n",
       "      <td>0.499468</td>\n",
       "    </tr>\n",
       "    <tr>\n",
       "      <th>3</th>\n",
       "      <td>Other/Not known</td>\n",
       "      <td>0.065032</td>\n",
       "      <td>0.048146</td>\n",
       "      <td>0.240268</td>\n",
       "      <td>0.256509</td>\n",
       "      <td>0.390045</td>\n",
       "    </tr>\n",
       "    <tr>\n",
       "      <th>4</th>\n",
       "      <td>Commuting to/from work</td>\n",
       "      <td>0.012528</td>\n",
       "      <td>0.002520</td>\n",
       "      <td>0.236328</td>\n",
       "      <td>0.279199</td>\n",
       "      <td>0.469425</td>\n",
       "    </tr>\n",
       "  </tbody>\n",
       "</table>\n",
       "</div>"
      ],
      "text/plain": [
       "        Driver_Journey_Purpose         7         8  Adolescente    Adulto  \\\n",
       "0  Taking pupil to/from school  0.026578  0.009061     0.075506  0.222591   \n",
       "1  Pupil riding to/from school  0.021611  0.017682     0.622790  0.125737   \n",
       "2      Journey as part of work  0.023331  0.003815     0.155361  0.318026   \n",
       "3              Other/Not known  0.065032  0.048146     0.240268  0.256509   \n",
       "4       Commuting to/from work  0.012528  0.002520     0.236328  0.279199   \n",
       "\n",
       "      Joven  \n",
       "0  0.666264  \n",
       "1  0.212181  \n",
       "2  0.499468  \n",
       "3  0.390045  \n",
       "4  0.469425  "
      ]
     },
     "execution_count": 64,
     "metadata": {},
     "output_type": "execute_result"
    }
   ],
   "source": [
    "# LÍNEA EVALUABLE, NO RENOMBRAR VARIABLES\n",
    "viajesPorEdadDF = accidentesAgeDF\\\n",
    "                        .select(\"Driver_Journey_Purpose\",\"Age_of_Driver\")\\\n",
    "                        .groupBy(\"Driver_Journey_Purpose\")\\\n",
    "                        .pivot(\"Age_of_Driver\")\\\n",
    "                        .count()\\\n",
    "                        .withColumn(\"Total\",\n",
    "                                    F.col(\"7\") + F.col(\"8\") + F.col(\"Adolescente\") + F.col(\"Joven\") + F.col(\"Adulto\")\n",
    "                                   )\\\n",
    "                        .withColumn(\"7\",\n",
    "                                    F.col(\"7\")/F.col(\"Total\")\n",
    "                                   )\\\n",
    "                        .withColumn(\"8\",\n",
    "                                    F.col(\"8\")/F.col(\"Total\")\n",
    "                                   )\\\n",
    "                        .withColumn(\"Adolescente\",\n",
    "                                    F.col(\"Adolescente\")/F.col(\"Total\")\n",
    "                                   )\\\n",
    "                        .withColumn(\"Joven\",\n",
    "                                    F.col(\"Joven\")/F.col(\"Total\")\n",
    "                                   )\\\n",
    "                        .withColumn(\"Adulto\",\n",
    "                                    F.col(\"Adulto\")/F.col(\"Total\")\n",
    "                                   )\\\n",
    "                        .drop(F.col(\"Total\"))\n",
    "viajesPorEdadDF.toPandas()"
   ]
  },
  {
   "cell_type": "code",
   "execution_count": 66,
   "metadata": {
    "deletable": false,
    "editable": false,
    "nbgrader": {
     "cell_type": "code",
     "checksum": "1e85aec10339652ee69e69997a220ba1",
     "grade": true,
     "grade_id": "viajes_por_edad_test",
     "locked": true,
     "points": 3,
     "schema_version": 3,
     "solution": false,
     "task": false
    }
   },
   "outputs": [],
   "source": [
    "assert(len(viajesPorEdadDF.columns) >= 6)\n",
    "assert(\"7\" in viajesPorEdadDF.columns)\n",
    "assert(\"8\" in viajesPorEdadDF.columns)\n",
    "assert(\"Adolescente\" in viajesPorEdadDF.columns)\n",
    "assert(\"Joven\" in viajesPorEdadDF.columns)\n",
    "assert(\"Adulto\" in viajesPorEdadDF.columns)\n",
    "assert(viajesPorEdadDF.columns[0] == \"Driver_Journey_Purpose\")\n",
    "assert(viajesPorEdadDF.count() == 5)\n",
    "commuting = viajesPorEdadDF.orderBy(\"Driver_Journey_Purpose\").collect()[0]\n",
    "assert(commuting.Driver_Journey_Purpose.startswith(\"Commuting\"))\n",
    "assert(abs(commuting['7'] - 0.012527948326649396) < 0.001)\n",
    "assert(abs(commuting['8'] - 0.002519785640770) < 0.001)\n",
    "assert(abs(commuting.Adolescente - 0.236327501153423) < 0.001)\n",
    "assert(abs(commuting.Adulto - 0.2791993469851297) < 0.001)\n",
    "assert(abs(commuting.Joven - 0.46942541789402703) < 0.001)"
   ]
  },
  {
   "cell_type": "markdown",
   "metadata": {
    "deletable": false,
    "editable": false,
    "nbgrader": {
     "cell_type": "markdown",
     "checksum": "49d2b52bb5a2988f54170966f3657b57",
     "grade": false,
     "grade_id": "cell-9ebe35c4b4325269",
     "locked": true,
     "schema_version": 3,
     "solution": false,
     "task": false
    }
   },
   "source": [
    "* **(3 puntos)** Unir la información obtenida en el paso anterior al DataFrame `accidentesAgeDF`, de manera que **al resultado final se añada una columna nueva llamada `Porcentaje`** que contenga el porcentaje de accidentes que ha habido para ese rango de edad y ese tipo de viaje de entre todos los viajes que ha habido de ese tipo (es decir, el porcentaje adecuado de la tabla anterior). Por ejemplo, si el accidente se produjo en un trayecto de tipo `Commuting...` y la persona es `Joven`, entonces la columna Porcentaje tomará el valor de la columna `Joven` y por tanto tendrá el valor 0.46942, pero si la persona es `Adulto`, entonces tomará el valor de la columna `Adulto` el cual será 0.2791993469851297.\n",
    "\n",
    "PISTA: unir los dos DF mediante join() convencional, y a continuación, crear la nueva columna `Porcentaje` en el resultado, utilizando `when` para ver cuál es el valor que debe tener en cada fila (más concretamente: de qué columna debemos tomarlo) en función del valor de la columna `Age_of_Driver`. No se necesitan variables intermedias; se puede hacer en una secuencia de transformaciones encadenadas."
   ]
  },
  {
   "cell_type": "code",
   "execution_count": 86,
   "metadata": {
    "deletable": false,
    "nbgrader": {
     "cell_type": "code",
     "checksum": "2e8addac1e30ac1f6a2d5fed36ff4010",
     "grade": false,
     "grade_id": "join",
     "locked": false,
     "schema_version": 3,
     "solution": true,
     "task": false
    }
   },
   "outputs": [
    {
     "data": {
      "text/html": [
       "<div>\n",
       "<style scoped>\n",
       "    .dataframe tbody tr th:only-of-type {\n",
       "        vertical-align: middle;\n",
       "    }\n",
       "\n",
       "    .dataframe tbody tr th {\n",
       "        vertical-align: top;\n",
       "    }\n",
       "\n",
       "    .dataframe thead th {\n",
       "        text-align: right;\n",
       "    }\n",
       "</style>\n",
       "<table border=\"1\" class=\"dataframe\">\n",
       "  <thead>\n",
       "    <tr style=\"text-align: right;\">\n",
       "      <th></th>\n",
       "      <th>Accident_Index</th>\n",
       "      <th>Driver_Journey_Purpose</th>\n",
       "      <th>Age_of_Driver</th>\n",
       "      <th>Porcentaje</th>\n",
       "    </tr>\n",
       "  </thead>\n",
       "  <tbody>\n",
       "    <tr>\n",
       "      <th>0</th>\n",
       "      <td>201001CW10219</td>\n",
       "      <td>Taking pupil to/from school</td>\n",
       "      <td>Joven</td>\n",
       "      <td>0.666264</td>\n",
       "    </tr>\n",
       "    <tr>\n",
       "      <th>1</th>\n",
       "      <td>201001FH10178</td>\n",
       "      <td>Taking pupil to/from school</td>\n",
       "      <td>Adulto</td>\n",
       "      <td>0.222591</td>\n",
       "    </tr>\n",
       "    <tr>\n",
       "      <th>2</th>\n",
       "      <td>201001KF60126</td>\n",
       "      <td>Taking pupil to/from school</td>\n",
       "      <td>Joven</td>\n",
       "      <td>0.666264</td>\n",
       "    </tr>\n",
       "    <tr>\n",
       "      <th>3</th>\n",
       "      <td>201001KG70405</td>\n",
       "      <td>Taking pupil to/from school</td>\n",
       "      <td>Joven</td>\n",
       "      <td>0.666264</td>\n",
       "    </tr>\n",
       "    <tr>\n",
       "      <th>4</th>\n",
       "      <td>201001QA10091</td>\n",
       "      <td>Taking pupil to/from school</td>\n",
       "      <td>Adulto</td>\n",
       "      <td>0.222591</td>\n",
       "    </tr>\n",
       "    <tr>\n",
       "      <th>...</th>\n",
       "      <td>...</td>\n",
       "      <td>...</td>\n",
       "      <td>...</td>\n",
       "      <td>...</td>\n",
       "    </tr>\n",
       "    <tr>\n",
       "      <th>251827</th>\n",
       "      <td>2014554D45901</td>\n",
       "      <td>Commuting to/from work</td>\n",
       "      <td>Adolescente</td>\n",
       "      <td>0.236328</td>\n",
       "    </tr>\n",
       "    <tr>\n",
       "      <th>251828</th>\n",
       "      <td>2014554D45901</td>\n",
       "      <td>Commuting to/from work</td>\n",
       "      <td>Joven</td>\n",
       "      <td>0.469425</td>\n",
       "    </tr>\n",
       "    <tr>\n",
       "      <th>251829</th>\n",
       "      <td>2014554D51402</td>\n",
       "      <td>Commuting to/from work</td>\n",
       "      <td>Adulto</td>\n",
       "      <td>0.279199</td>\n",
       "    </tr>\n",
       "    <tr>\n",
       "      <th>251830</th>\n",
       "      <td>2014610009414</td>\n",
       "      <td>Commuting to/from work</td>\n",
       "      <td>Joven</td>\n",
       "      <td>0.469425</td>\n",
       "    </tr>\n",
       "    <tr>\n",
       "      <th>251831</th>\n",
       "      <td>2014930000307</td>\n",
       "      <td>Commuting to/from work</td>\n",
       "      <td>Joven</td>\n",
       "      <td>0.469425</td>\n",
       "    </tr>\n",
       "  </tbody>\n",
       "</table>\n",
       "<p>251832 rows × 4 columns</p>\n",
       "</div>"
      ],
      "text/plain": [
       "       Accident_Index       Driver_Journey_Purpose Age_of_Driver  Porcentaje\n",
       "0       201001CW10219  Taking pupil to/from school         Joven    0.666264\n",
       "1       201001FH10178  Taking pupil to/from school        Adulto    0.222591\n",
       "2       201001KF60126  Taking pupil to/from school         Joven    0.666264\n",
       "3       201001KG70405  Taking pupil to/from school         Joven    0.666264\n",
       "4       201001QA10091  Taking pupil to/from school        Adulto    0.222591\n",
       "...               ...                          ...           ...         ...\n",
       "251827  2014554D45901       Commuting to/from work   Adolescente    0.236328\n",
       "251828  2014554D45901       Commuting to/from work         Joven    0.469425\n",
       "251829  2014554D51402       Commuting to/from work        Adulto    0.279199\n",
       "251830  2014610009414       Commuting to/from work         Joven    0.469425\n",
       "251831  2014930000307       Commuting to/from work         Joven    0.469425\n",
       "\n",
       "[251832 rows x 4 columns]"
      ]
     },
     "execution_count": 86,
     "metadata": {},
     "output_type": "execute_result"
    }
   ],
   "source": [
    "# LÍNEA EVALUABLE, NO RENOMBRAR VARIABLES\n",
    "finalDF = accidentesAgeDF\\\n",
    "                .join(viajesPorEdadDF, \"Driver_Journey_Purpose\")\\\n",
    "                .withColumn(\"Porcentaje\",\n",
    "                            F.when (\n",
    "                                F.col(\"Age_of_Driver\") == \"Adolescente\", F.col(\"Adolescente\")\n",
    "                            )\\\n",
    "                            .when (\n",
    "                                F.col(\"Age_of_Driver\") == \"Joven\", F.col(\"Joven\")\n",
    "                            )\\\n",
    "                            .when (\n",
    "                                F.col(\"Age_of_Driver\") == \"Adulto\", F.col(\"Adulto\")\n",
    "                            )\\\n",
    "                            .when (\n",
    "                                F.col(\"Age_of_Driver\") == \"7\", F.col(\"7\")\n",
    "                            )\\\n",
    "                            .when (\n",
    "                                F.col(\"Age_of_Driver\") == \"8\", F.col(\"8\")\n",
    "                            )\\\n",
    "                           )\n",
    "finalDF.select(\"Accident_Index\", \"Driver_Journey_Purpose\", \"Age_of_Driver\", \"Porcentaje\").toPandas()"
   ]
  },
  {
   "cell_type": "code",
   "execution_count": 87,
   "metadata": {
    "deletable": false,
    "editable": false,
    "nbgrader": {
     "cell_type": "code",
     "checksum": "afede5f5bc886534cae92a88870b9688",
     "grade": true,
     "grade_id": "join_tests",
     "locked": true,
     "points": 3,
     "schema_version": 3,
     "solution": false,
     "task": false
    }
   },
   "outputs": [],
   "source": [
    "def sum_cond(df, column, condition): \n",
    "    return(df.where(condition).select(F.sum(column).alias(column)).collect()[0][column])\n",
    "    \n",
    "assert(\"Porcentaje\" in finalDF.columns)\n",
    "assert(abs(sum_cond(finalDF, \"Porcentaje\", F.col(\"Age_of_Driver\") == \"Adolescente\") - 13344.826819125037) < 0.001)\n",
    "assert(abs(sum_cond(finalDF, \"Porcentaje\", F.col(\"Age_of_Driver\") == \"Joven\") - 44438.00809518224) < 0.001)\n",
    "assert(abs(sum_cond(finalDF, \"Porcentaje\", F.col(\"Age_of_Driver\") == \"Adulto\") - 18028.24488479408) < 0.001)\n",
    "assert(abs(sum_cond(finalDF, \"Porcentaje\", F.col(\"Age_of_Driver\") == \"7\") - 812.0952970292334) < 0.001)\n",
    "assert(abs(sum_cond(finalDF, \"Porcentaje\", F.col(\"Age_of_Driver\") == \"8\") - 432.2987413617681) < 0.001)"
   ]
  },
  {
   "cell_type": "code",
   "execution_count": null,
   "metadata": {},
   "outputs": [],
   "source": []
  }
 ],
 "metadata": {
  "kernelspec": {
   "display_name": "Python 3",
   "language": "python",
   "name": "python3"
  },
  "language_info": {
   "codemirror_mode": {
    "name": "ipython",
    "version": 3
   },
   "file_extension": ".py",
   "mimetype": "text/x-python",
   "name": "python",
   "nbconvert_exporter": "python",
   "pygments_lexer": "ipython3",
   "version": "3.8.6"
  }
 },
 "nbformat": 4,
 "nbformat_minor": 2
}
