{
 "cells": [
  {
   "cell_type": "markdown",
   "metadata": {
    "collapsed": true
   },
   "source": [
    "# Árboles de Regresión"
   ]
  },
  {
   "cell_type": "code",
   "execution_count": 1,
   "metadata": {
    "collapsed": true
   },
   "outputs": [],
   "source": [
    "#from pyspark import SparkContext\n",
    "#sc = SparkContext()\n",
    "#from pyspark.sql import SQLContext\n",
    "#sqlContext=SQLContext(sc)"
   ]
  },
  {
   "cell_type": "code",
   "execution_count": 2,
   "metadata": {
    "collapsed": true
   },
   "outputs": [],
   "source": [
    "bd5 = sqlContext.read.format(\n",
    "    \"com.databricks.spark.csv\"\n",
    ").option(\"header\", \"true\").load(\"file:/home/cloudera/Documents/Ficheros de trabajo/bd5.csv\", inferSchema=True)\n",
    "sqlContext.registerDataFrameAsTable(bd5, \"bd5\")"
   ]
  },
  {
   "cell_type": "code",
   "execution_count": 3,
   "metadata": {
    "collapsed": false
   },
   "outputs": [
    {
     "data": {
      "text/plain": [
       "[('Year', 'int'),\n",
       " ('Month', 'int'),\n",
       " ('DayofMonth', 'int'),\n",
       " ('DayOfWeek', 'int'),\n",
       " ('CRSDepTime', 'int'),\n",
       " ('UniqueCarrier', 'string'),\n",
       " ('TailNum', 'string'),\n",
       " ('ArrDelay', 'double'),\n",
       " ('DepDelay', 'double'),\n",
       " ('Origin', 'string'),\n",
       " ('Dest', 'string'),\n",
       " ('Distance', 'double'),\n",
       " ('Cancelled', 'double'),\n",
       " ('Diverted', 'double'),\n",
       " ('CarrierDelay', 'double'),\n",
       " ('WeatherDelay', 'double'),\n",
       " ('NASDelay', 'double'),\n",
       " ('SecurityDelay', 'double'),\n",
       " ('LateAircraftDelay', 'double'),\n",
       " ('LogD', 'double'),\n",
       " ('Retraso', 'int'),\n",
       " ('RetrasoNeto', 'double'),\n",
       " ('Horario', 'int')]"
      ]
     },
     "execution_count": 3,
     "metadata": {},
     "output_type": "execute_result"
    }
   ],
   "source": [
    "bd5.dtypes"
   ]
  },
  {
   "cell_type": "code",
   "execution_count": 4,
   "metadata": {
    "collapsed": false
   },
   "outputs": [
    {
     "name": "stdout",
     "output_type": "stream",
     "text": [
      "+-------------+------------------+-----+\n",
      "|UniqueCarrier|IndexUniqueCarrier|count|\n",
      "+-------------+------------------+-----+\n",
      "|           AA|               0.0| 8853|\n",
      "|           UA|               1.0| 6112|\n",
      "|           WN|               2.0| 5395|\n",
      "|           DL|               3.0| 4239|\n",
      "|           VX|               4.0| 1703|\n",
      "|           NK|               5.0| 1581|\n",
      "|           F9|               6.0| 1295|\n",
      "|           OO|               7.0| 1166|\n",
      "|           B6|               8.0|  121|\n",
      "|           EV|               9.0|    1|\n",
      "+-------------+------------------+-----+\n",
      "\n"
     ]
    }
   ],
   "source": [
    "from pyspark.ml.feature import StringIndexer\n",
    "indexer = StringIndexer(inputCol='UniqueCarrier',outputCol='IndexUniqueCarrier') #el índice empieza en el 0!\n",
    "bd6=indexer.fit(bd5).transform(bd5)\n",
    "\n",
    "bd6.groupBy('UniqueCarrier','IndexUniqueCarrier').count().sort('IndexUniqueCarrier').show()\n"
   ]
  },
  {
   "cell_type": "markdown",
   "metadata": {},
   "source": [
    "## Ajuste del modelo"
   ]
  },
  {
   "cell_type": "code",
   "execution_count": 5,
   "metadata": {
    "collapsed": true
   },
   "outputs": [],
   "source": [
    "from pyspark.ml.feature import VectorAssembler\n",
    "from pyspark.sql.functions import col\n",
    "\n",
    "a1  = VectorAssembler(\n",
    "    inputCols=['DepDelay','Distance','DayOfWeek',\n",
    "               'CRSDepTime','IndexUniqueCarrier'],\n",
    "    outputCol='features')\n",
    "\n",
    "bd7 = a1.transform(bd6).select(col(\"ArrDelay\").alias(\"label\"),'features')"
   ]
  },
  {
   "cell_type": "markdown",
   "metadata": {},
   "source": [
    "### Partición Test - Train"
   ]
  },
  {
   "cell_type": "code",
   "execution_count": 6,
   "metadata": {
    "collapsed": false
   },
   "outputs": [
    {
     "name": "stdout",
     "output_type": "stream",
     "text": [
      "21353\n",
      "9113\n"
     ]
    }
   ],
   "source": [
    "(bd_train, bd_test) = bd7.randomSplit([0.7, 0.3],seed=123)\n",
    "print(bd_train.count())\n",
    "print(bd_test.count())"
   ]
  },
  {
   "cell_type": "code",
   "execution_count": 7,
   "metadata": {
    "collapsed": true
   },
   "outputs": [],
   "source": [
    "from pyspark.ml.regression import DecisionTreeRegressor as DTR\n",
    "\n",
    "rt = DTR(maxDepth=5)\n",
    "\n",
    "model = rt.fit(bd_train)\n",
    "pred = model.transform(bd7)"
   ]
  },
  {
   "cell_type": "code",
   "execution_count": 8,
   "metadata": {
    "collapsed": false
   },
   "outputs": [
    {
     "name": "stdout",
     "output_type": "stream",
     "text": [
      "+-----+--------------------+------------------+\n",
      "|label|            features|        prediction|\n",
      "+-----+--------------------+------------------+\n",
      "|-16.0|[0.0,1747.0,5.0,8...|-5.100687349061862|\n",
      "| -9.0|[0.0,1747.0,5.0,1...|-5.100687349061862|\n",
      "|-18.0|[-2.0,1747.0,5.0,...|-5.100687349061862|\n",
      "|119.0|[130.0,628.0,5.0,...|             174.1|\n",
      "|-18.0|[-8.0,628.0,5.0,2...|-13.17810650887574|\n",
      "| -5.0|[2.0,628.0,5.0,73...|-5.100687349061862|\n",
      "|  0.0|[11.0,628.0,5.0,1...| 3.532066508313539|\n",
      "| -7.0|[-2.0,1199.0,6.0,...|-5.100687349061862|\n",
      "|-21.0|[-3.0,1199.0,6.0,...|-9.127923246052369|\n",
      "|-13.0|[-3.0,1747.0,6.0,...|-9.127923246052369|\n",
      "|-15.0|[2.0,1747.0,6.0,9...|-5.100687349061862|\n",
      "| -9.0|[-4.0,1946.0,6.0,...|-9.127923246052369|\n",
      "|-14.0|[1.0,1946.0,6.0,1...|-5.100687349061862|\n",
      "|-14.0|[6.0,1587.0,6.0,1...| 3.532066508313539|\n",
      "| -7.0|[-4.0,1587.0,6.0,...|-9.127923246052369|\n",
      "|  6.0|[18.0,1199.0,6.0,...|             13.47|\n",
      "|-15.0|[0.0,1199.0,6.0,1...|-5.100687349061862|\n",
      "| -8.0|[0.0,628.0,6.0,17...|-5.100687349061862|\n",
      "| -4.0|[7.0,628.0,6.0,83...| 3.532066508313539|\n",
      "| -4.0|[-3.0,628.0,6.0,6...|-9.127923246052369|\n",
      "+-----+--------------------+------------------+\n",
      "only showing top 20 rows\n",
      "\n"
     ]
    }
   ],
   "source": [
    "pred.show()"
   ]
  },
  {
   "cell_type": "code",
   "execution_count": 9,
   "metadata": {
    "collapsed": false
   },
   "outputs": [
    {
     "name": "stdout",
     "output_type": "stream",
     "text": [
      "+-------------------+-----+\n",
      "|         prediction|count|\n",
      "+-------------------+-----+\n",
      "| 233.57407407407408|  233|\n",
      "| 48.296740994854204|  800|\n",
      "|  90.70588235294117|   50|\n",
      "|0.17442845046570704| 1714|\n",
      "|  65.28048780487805|  358|\n",
      "| -5.100687349061862| 7669|\n",
      "|               80.0|   15|\n",
      "|  3.532066508313539| 2414|\n",
      "|  77.50993377483444|  223|\n",
      "| -9.127923246052369| 7137|\n",
      "| 196.77884615384616|  280|\n",
      "| 56.574074074074076|  241|\n",
      "| 27.728183118741057|  991|\n",
      "|  66.71052631578948|   52|\n",
      "|  37.80821917808219|  815|\n",
      "|              631.2|    6|\n",
      "|  95.70833333333333|   65|\n",
      "| 257.81481481481484|   49|\n",
      "| 103.47058823529412|   25|\n",
      "| 357.45454545454544|   14|\n",
      "|  9.079545454545455|  606|\n",
      "|              13.47| 2161|\n",
      "| 102.55430711610487|  350|\n",
      "|              174.1|  174|\n",
      "| 104.63636363636364|   31|\n",
      "| 133.38709677419354|   57|\n",
      "|             259.75|   28|\n",
      "| -13.17810650887574| 2417|\n",
      "| 193.52727272727273|  161|\n",
      "|   72.7872340425532|  356|\n",
      "| 109.72200772200772|  360|\n",
      "| 21.206572769953052|  614|\n",
      "+-------------------+-----+\n",
      "\n"
     ]
    }
   ],
   "source": [
    "pred.groupBy('prediction').count().show(50)\n"
   ]
  },
  {
   "cell_type": "code",
   "execution_count": 10,
   "metadata": {
    "collapsed": false
   },
   "outputs": [
    {
     "name": "stdout",
     "output_type": "stream",
     "text": [
      "0.7230265506765332\n"
     ]
    }
   ],
   "source": [
    "from pyspark.ml.evaluation import RegressionEvaluator\n",
    "print(RegressionEvaluator(metricName=\"r2\").evaluate(pred))"
   ]
  },
  {
   "cell_type": "markdown",
   "metadata": {},
   "source": [
    "## Tuneado de parámetros"
   ]
  },
  {
   "cell_type": "code",
   "execution_count": 11,
   "metadata": {
    "collapsed": true
   },
   "outputs": [],
   "source": [
    "# DecisionTreeRegressor(featuresCol=\"features\", \n",
    "#    labelCol=\"label\", \n",
    "#    predictionCol=\"prediction\", \n",
    "#    maxDepth=5, \n",
    "#    maxBins=32, \n",
    "#    minInstancesPerNode=1, \n",
    "#    minInfoGain=0.0, \n",
    "#    maxMemoryInMB=256, \n",
    "#    impurity=\"variance\")"
   ]
  },
  {
   "cell_type": "code",
   "execution_count": 12,
   "metadata": {
    "collapsed": false
   },
   "outputs": [
    {
     "name": "stdout",
     "output_type": "stream",
     "text": [
      "0.7776534139022493\n"
     ]
    }
   ],
   "source": [
    "rt = DTR(maxDepth=20,minInstancesPerNode=10,maxBins=50)\n",
    "model = rt.fit(bd_train)\n",
    "pred = model.transform(bd7)\n",
    "print(RegressionEvaluator(metricName=\"r2\").evaluate(pred))"
   ]
  },
  {
   "cell_type": "markdown",
   "metadata": {},
   "source": [
    "### Validación externa"
   ]
  },
  {
   "cell_type": "code",
   "execution_count": 13,
   "metadata": {
    "collapsed": false
   },
   "outputs": [
    {
     "name": "stdout",
     "output_type": "stream",
     "text": [
      "0.7155373704083114\n"
     ]
    }
   ],
   "source": [
    "pred2 = model.transform(bd_test)\n",
    "print(RegressionEvaluator(metricName=\"r2\").evaluate(pred2))"
   ]
  }
 ],
 "metadata": {
  "anaconda-cloud": {},
  "kernelspec": {
   "display_name": "Python [default]",
   "language": "python",
   "name": "python3"
  },
  "language_info": {
   "codemirror_mode": {
    "name": "ipython",
    "version": 3
   },
   "file_extension": ".py",
   "mimetype": "text/x-python",
   "name": "python",
   "nbconvert_exporter": "python",
   "pygments_lexer": "ipython3",
   "version": "3.5.2"
  }
 },
 "nbformat": 4,
 "nbformat_minor": 2
}
