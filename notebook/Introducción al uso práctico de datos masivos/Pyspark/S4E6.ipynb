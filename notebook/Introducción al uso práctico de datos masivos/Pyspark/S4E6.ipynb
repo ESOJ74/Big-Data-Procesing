{
 "cells": [
  {
   "cell_type": "markdown",
   "metadata": {
    "collapsed": true
   },
   "source": [
    "# Reducción de la dimensionalidad"
   ]
  },
  {
   "cell_type": "code",
   "execution_count": 1,
   "metadata": {
    "collapsed": true
   },
   "outputs": [],
   "source": [
    "#from pyspark import SparkContext\n",
    "#sc = SparkContext()\n",
    "#from pyspark.sql import SQLContext\n",
    "#sqlContext=SQLContext(sc)"
   ]
  },
  {
   "cell_type": "code",
   "execution_count": 2,
   "metadata": {
    "collapsed": true
   },
   "outputs": [],
   "source": [
    "bd5 = sqlContext.read.format(\n",
    "    \"com.databricks.spark.csv\"\n",
    ").option(\"header\", \"true\").load(\"file:/home/cloudera/Documents/Ficheros de trabajo/bd5.csv\", inferSchema=True)\n",
    "sqlContext.registerDataFrameAsTable(bd5, \"bd5\")"
   ]
  },
  {
   "cell_type": "markdown",
   "metadata": {},
   "source": [
    "## Reducción de dimensionalidad: PCA"
   ]
  },
  {
   "cell_type": "code",
   "execution_count": 3,
   "metadata": {
    "collapsed": false
   },
   "outputs": [
    {
     "data": {
      "text/plain": [
       "[('Year', 'int'),\n",
       " ('Month', 'int'),\n",
       " ('DayofMonth', 'int'),\n",
       " ('DayOfWeek', 'int'),\n",
       " ('CRSDepTime', 'int'),\n",
       " ('UniqueCarrier', 'string'),\n",
       " ('TailNum', 'string'),\n",
       " ('ArrDelay', 'double'),\n",
       " ('DepDelay', 'double'),\n",
       " ('Origin', 'string'),\n",
       " ('Dest', 'string'),\n",
       " ('Distance', 'double'),\n",
       " ('Cancelled', 'double'),\n",
       " ('Diverted', 'double'),\n",
       " ('CarrierDelay', 'double'),\n",
       " ('WeatherDelay', 'double'),\n",
       " ('NASDelay', 'double'),\n",
       " ('SecurityDelay', 'double'),\n",
       " ('LateAircraftDelay', 'double'),\n",
       " ('LogD', 'double'),\n",
       " ('Retraso', 'int'),\n",
       " ('RetrasoNeto', 'double'),\n",
       " ('Horario', 'int')]"
      ]
     },
     "execution_count": 3,
     "metadata": {},
     "output_type": "execute_result"
    }
   ],
   "source": [
    "bd5.dtypes"
   ]
  },
  {
   "cell_type": "code",
   "execution_count": 4,
   "metadata": {
    "collapsed": true
   },
   "outputs": [],
   "source": [
    "from pyspark.ml.feature import VectorAssembler\n",
    "\n",
    "a1  = VectorAssembler(\n",
    "    inputCols=['DepDelay','Distance','DayOfWeek',\n",
    "               'CRSDepTime','Horario','LogD'],\n",
    "    outputCol='features')\n",
    "\n",
    "bd6 = a1.transform(bd5)"
   ]
  },
  {
   "cell_type": "code",
   "execution_count": 5,
   "metadata": {
    "collapsed": false
   },
   "outputs": [
    {
     "data": {
      "text/plain": [
       "DataFrame[Year: int, Month: int, DayofMonth: int, DayOfWeek: int, CRSDepTime: int, UniqueCarrier: string, TailNum: string, ArrDelay: double, DepDelay: double, Origin: string, Dest: string, Distance: double, Cancelled: double, Diverted: double, CarrierDelay: double, WeatherDelay: double, NASDelay: double, SecurityDelay: double, LateAircraftDelay: double, LogD: double, Retraso: int, RetrasoNeto: double, Horario: int, features: vector]"
      ]
     },
     "execution_count": 5,
     "metadata": {},
     "output_type": "execute_result"
    }
   ],
   "source": [
    "bd6"
   ]
  },
  {
   "cell_type": "markdown",
   "metadata": {},
   "source": [
    "## PCA sin estandarización"
   ]
  },
  {
   "cell_type": "code",
   "execution_count": 6,
   "metadata": {
    "collapsed": true
   },
   "outputs": [],
   "source": [
    "from pyspark.ml.feature import PCA\n",
    "\n",
    "#2 componentes\n",
    "pca=PCA(k=2,inputCol='features',outputCol='pca_features')"
   ]
  },
  {
   "cell_type": "code",
   "execution_count": 7,
   "metadata": {
    "collapsed": false
   },
   "outputs": [
    {
     "name": "stdout",
     "output_type": "stream",
     "text": [
      "+--------------------+--------------------+\n",
      "|            features|        pca_features|\n",
      "+--------------------+--------------------+\n",
      "|[0.0,1747.0,5.0,8...|[1257.18531329463...|\n",
      "|[0.0,1747.0,5.0,1...|[1080.33126488641...|\n",
      "|[-2.0,1747.0,5.0,...|[1174.93608766874...|\n",
      "|[130.0,628.0,5.0,...|[-337.05691583953...|\n",
      "|[-8.0,628.0,5.0,2...|[-291.25162109352...|\n",
      "|[2.0,628.0,5.0,73...|[272.172514924741...|\n",
      "|[11.0,628.0,5.0,1...|[-91.855232354303...|\n",
      "|[-2.0,1199.0,6.0,...|[835.838571711756...|\n",
      "|[-3.0,1199.0,6.0,...|[338.183492718131...|\n",
      "|[-3.0,1747.0,6.0,...|[934.336620967114...|\n",
      "|[2.0,1747.0,6.0,9...|[1216.04839251910...|\n",
      "|[-4.0,1946.0,6.0,...|[1399.51720648796...|\n",
      "|[1.0,1946.0,6.0,1...|[1113.65099329332...|\n",
      "|[6.0,1587.0,6.0,1...|[788.460308609670...|\n",
      "|[-4.0,1587.0,6.0,...|[1150.43512521245...|\n",
      "|[18.0,1199.0,6.0,...|[381.282585719361...|\n",
      "|[0.0,1199.0,6.0,1...|[628.129794834484...|\n",
      "|[0.0,628.0,6.0,17...|[-143.22105980336...|\n",
      "|[7.0,628.0,6.0,83...|[228.966272404802...|\n",
      "|[-3.0,628.0,6.0,6...|[309.208828620420...|\n",
      "+--------------------+--------------------+\n",
      "only showing top 20 rows\n",
      "\n"
     ]
    }
   ],
   "source": [
    "model=pca.fit(bd6)\n",
    "bd6pca=model.transform(bd6)\n",
    "bd6pca.select('features','pca_features').show()"
   ]
  },
  {
   "cell_type": "code",
   "execution_count": 8,
   "metadata": {
    "collapsed": true
   },
   "outputs": [],
   "source": [
    "#Extraemos la primera y segunda componentes\n",
    "\n",
    "from pyspark.sql.functions import udf\n",
    "from pyspark.sql.types import FloatType\n",
    "\n",
    "p1=udf(lambda v:float(v[0]),FloatType())\n",
    "p2=udf(lambda v:float(v[1]),FloatType())\n",
    "\n",
    "bd6pca=bd6pca.withColumn('pca1',p1('pca_features')).withColumn('pca2',p2('pca_features'))\n"
   ]
  },
  {
   "cell_type": "code",
   "execution_count": 9,
   "metadata": {
    "collapsed": false
   },
   "outputs": [
    {
     "name": "stdout",
     "output_type": "stream",
     "text": [
      "+-------+-----------------+-------------------+\n",
      "|summary|             pca1|               pca2|\n",
      "+-------+-----------------+-------------------+\n",
      "|  count|            30466|              30466|\n",
      "|   mean|300.9325448883614|-1601.4748862329209|\n",
      "| stddev|557.2501211351524|  495.7211976411703|\n",
      "|    min|       -731.57623|         -2935.9211|\n",
      "|    max|         1751.152|         -487.57773|\n",
      "+-------+-----------------+-------------------+\n",
      "\n"
     ]
    }
   ],
   "source": [
    "bd6pca.select('pca1','pca2').describe().show()"
   ]
  },
  {
   "cell_type": "markdown",
   "metadata": {},
   "source": [
    "## PCA con estandarización"
   ]
  },
  {
   "cell_type": "code",
   "execution_count": 10,
   "metadata": {
    "collapsed": false
   },
   "outputs": [
    {
     "name": "stdout",
     "output_type": "stream",
     "text": [
      "+--------------------+--------------------+\n",
      "|            features|      scaledFeatures|\n",
      "+--------------------+--------------------+\n",
      "|[0.0,1747.0,5.0,8...|[-0.3455994145866...|\n",
      "|[0.0,1747.0,5.0,1...|[-0.3455994145866...|\n",
      "|[-2.0,1747.0,5.0,...|[-0.3857378410949...|\n",
      "|[130.0,628.0,5.0,...|[2.26339830845110...|\n",
      "|[-8.0,628.0,5.0,2...|[-0.5061531206197...|\n",
      "|[2.0,628.0,5.0,73...|[-0.3054609880783...|\n",
      "|[11.0,628.0,5.0,1...|[-0.1248380687911...|\n",
      "|[-2.0,1199.0,6.0,...|[-0.3857378410949...|\n",
      "|[-3.0,1199.0,6.0,...|[-0.4058070543490...|\n",
      "|[-3.0,1747.0,6.0,...|[-0.4058070543490...|\n",
      "|[2.0,1747.0,6.0,9...|[-0.3054609880783...|\n",
      "|[-4.0,1946.0,6.0,...|[-0.4258762676032...|\n",
      "|[1.0,1946.0,6.0,1...|[-0.3255302013325...|\n",
      "|[6.0,1587.0,6.0,1...|[-0.2251841350618...|\n",
      "|[-4.0,1587.0,6.0,...|[-0.4258762676032...|\n",
      "|[18.0,1199.0,6.0,...|[0.01564642398779...|\n",
      "|[0.0,1199.0,6.0,1...|[-0.3455994145866...|\n",
      "|[0.0,628.0,6.0,17...|[-0.3455994145866...|\n",
      "|[7.0,628.0,6.0,83...|[-0.2051149218077...|\n",
      "|[-3.0,628.0,6.0,6...|[-0.4058070543490...|\n",
      "+--------------------+--------------------+\n",
      "only showing top 20 rows\n",
      "\n"
     ]
    }
   ],
   "source": [
    "from pyspark.ml.feature import StandardScaler\n",
    "\n",
    "scaler = StandardScaler(inputCol=\"features\", outputCol=\"scaledFeatures\",\n",
    "                        withStd=True, withMean=True)\n",
    "scalerModel = scaler.fit(bd6)\n",
    "bd6std = scalerModel.transform(bd6)\n",
    "\n",
    "bd6std.select('features','scaledFeatures').show()"
   ]
  },
  {
   "cell_type": "code",
   "execution_count": 11,
   "metadata": {
    "collapsed": true
   },
   "outputs": [],
   "source": [
    "from pyspark.ml.feature import PCA\n",
    "\n",
    "#2 componentes\n",
    "pca2=PCA(k=2,inputCol='scaledFeatures',outputCol='pca_scaledfeatures')"
   ]
  },
  {
   "cell_type": "code",
   "execution_count": 12,
   "metadata": {
    "collapsed": false
   },
   "outputs": [
    {
     "name": "stdout",
     "output_type": "stream",
     "text": [
      "+--------------------+\n",
      "|  pca_scaledfeatures|\n",
      "+--------------------+\n",
      "|[2.21788821413829...|\n",
      "|[1.75275837699323...|\n",
      "|[2.11195267378450...|\n",
      "|[-0.8409143667932...|\n",
      "|[-1.2935834988431...|\n",
      "|[0.13200405313116...|\n",
      "|[-1.0554173009605...|\n",
      "|[1.51778797343985...|\n",
      "|[0.16715497337274...|\n",
      "|[1.55728112741434...|\n",
      "|[2.15423621000769...|\n",
      "|[2.51024629339945...|\n",
      "|[1.66294972378514...|\n",
      "|[1.25831983271054...|\n",
      "|[2.21267273398649...|\n",
      "|[0.19636735996422...|\n",
      "|[1.00929269095489...|\n",
      "|[-1.1154366564473...|\n",
      "|[-0.1700103932075...|\n",
      "|[0.18076993873460...|\n",
      "+--------------------+\n",
      "only showing top 20 rows\n",
      "\n"
     ]
    }
   ],
   "source": [
    "model2=pca2.fit(bd6std)\n",
    "bd6pca2=model2.transform(bd6std)\n",
    "bd6pca2.select('pca_scaledfeatures').show()\n"
   ]
  },
  {
   "cell_type": "code",
   "execution_count": 13,
   "metadata": {
    "collapsed": false
   },
   "outputs": [
    {
     "data": {
      "text/html": [
       "<div>\n",
       "<table border=\"1\" class=\"dataframe\">\n",
       "  <thead>\n",
       "    <tr style=\"text-align: right;\">\n",
       "      <th></th>\n",
       "      <th>summary</th>\n",
       "      <th>pca1</th>\n",
       "      <th>pca2</th>\n",
       "    </tr>\n",
       "  </thead>\n",
       "  <tbody>\n",
       "    <tr>\n",
       "      <th>0</th>\n",
       "      <td>count</td>\n",
       "      <td>30466</td>\n",
       "      <td>30466</td>\n",
       "    </tr>\n",
       "    <tr>\n",
       "      <th>1</th>\n",
       "      <td>mean</td>\n",
       "      <td>1.4992589980211245E-10</td>\n",
       "      <td>-2.386263811770431E-11</td>\n",
       "    </tr>\n",
       "    <tr>\n",
       "      <th>2</th>\n",
       "      <td>stddev</td>\n",
       "      <td>1.424751251563491</td>\n",
       "      <td>1.2476208654224734</td>\n",
       "    </tr>\n",
       "    <tr>\n",
       "      <th>3</th>\n",
       "      <td>min</td>\n",
       "      <td>-3.9466622</td>\n",
       "      <td>-9.316214</td>\n",
       "    </tr>\n",
       "    <tr>\n",
       "      <th>4</th>\n",
       "      <td>max</td>\n",
       "      <td>3.2699375</td>\n",
       "      <td>2.831249</td>\n",
       "    </tr>\n",
       "  </tbody>\n",
       "</table>\n",
       "</div>"
      ],
      "text/plain": [
       "  summary                    pca1                    pca2\n",
       "0   count                   30466                   30466\n",
       "1    mean  1.4992589980211245E-10  -2.386263811770431E-11\n",
       "2  stddev       1.424751251563491      1.2476208654224734\n",
       "3     min              -3.9466622               -9.316214\n",
       "4     max               3.2699375                2.831249"
      ]
     },
     "execution_count": 13,
     "metadata": {},
     "output_type": "execute_result"
    }
   ],
   "source": [
    "bd6pca2=bd6pca2.withColumn('pca1',p1('pca_scaledfeatures')).withColumn('pca2',p2('pca_scaledfeatures')) \n",
    "bd6pca2.select('pca1','pca2').describe().toPandas()"
   ]
  },
  {
   "cell_type": "markdown",
   "metadata": {},
   "source": [
    "Nota: Las componentes obtenidas también se pueden estandarizar de nuevo."
   ]
  },
  {
   "cell_type": "code",
   "execution_count": 14,
   "metadata": {
    "collapsed": false
   },
   "outputs": [
    {
     "data": {
      "text/html": [
       "<div>\n",
       "<table border=\"1\" class=\"dataframe\">\n",
       "  <thead>\n",
       "    <tr style=\"text-align: right;\">\n",
       "      <th></th>\n",
       "      <th>DepDelay</th>\n",
       "      <th>Distance</th>\n",
       "      <th>DayOfWeek</th>\n",
       "      <th>CRSDepTime</th>\n",
       "      <th>Horario</th>\n",
       "      <th>LogD</th>\n",
       "      <th>pca1</th>\n",
       "      <th>pca2</th>\n",
       "    </tr>\n",
       "  </thead>\n",
       "  <tbody>\n",
       "    <tr>\n",
       "      <th>DepDelay</th>\n",
       "      <td>1.000000</td>\n",
       "      <td>-0.012365</td>\n",
       "      <td>0.086079</td>\n",
       "      <td>0.147063</td>\n",
       "      <td>0.139037</td>\n",
       "      <td>-0.015312</td>\n",
       "      <td>-0.106376</td>\n",
       "      <td>-0.302480</td>\n",
       "    </tr>\n",
       "    <tr>\n",
       "      <th>Distance</th>\n",
       "      <td>-0.012365</td>\n",
       "      <td>1.000000</td>\n",
       "      <td>0.006931</td>\n",
       "      <td>-0.070598</td>\n",
       "      <td>-0.057209</td>\n",
       "      <td>0.957791</td>\n",
       "      <td>0.925434</td>\n",
       "      <td>-0.355429</td>\n",
       "    </tr>\n",
       "    <tr>\n",
       "      <th>DayOfWeek</th>\n",
       "      <td>0.086079</td>\n",
       "      <td>0.006931</td>\n",
       "      <td>1.000000</td>\n",
       "      <td>0.008737</td>\n",
       "      <td>0.008176</td>\n",
       "      <td>0.004593</td>\n",
       "      <td>-0.010329</td>\n",
       "      <td>-0.045821</td>\n",
       "    </tr>\n",
       "    <tr>\n",
       "      <th>CRSDepTime</th>\n",
       "      <td>0.147063</td>\n",
       "      <td>-0.070598</td>\n",
       "      <td>0.008737</td>\n",
       "      <td>1.000000</td>\n",
       "      <td>0.629858</td>\n",
       "      <td>-0.083569</td>\n",
       "      <td>-0.387876</td>\n",
       "      <td>-0.798788</td>\n",
       "    </tr>\n",
       "    <tr>\n",
       "      <th>Horario</th>\n",
       "      <td>0.139037</td>\n",
       "      <td>-0.057209</td>\n",
       "      <td>0.008176</td>\n",
       "      <td>0.629858</td>\n",
       "      <td>1.000000</td>\n",
       "      <td>-0.054103</td>\n",
       "      <td>-0.365350</td>\n",
       "      <td>-0.808941</td>\n",
       "    </tr>\n",
       "    <tr>\n",
       "      <th>LogD</th>\n",
       "      <td>-0.015312</td>\n",
       "      <td>0.957791</td>\n",
       "      <td>0.004593</td>\n",
       "      <td>-0.083569</td>\n",
       "      <td>-0.054103</td>\n",
       "      <td>1.000000</td>\n",
       "      <td>0.927564</td>\n",
       "      <td>-0.349886</td>\n",
       "    </tr>\n",
       "    <tr>\n",
       "      <th>pca1</th>\n",
       "      <td>-0.106376</td>\n",
       "      <td>0.925434</td>\n",
       "      <td>-0.010329</td>\n",
       "      <td>-0.387876</td>\n",
       "      <td>-0.365350</td>\n",
       "      <td>0.927564</td>\n",
       "      <td>1.000000</td>\n",
       "      <td>-0.006720</td>\n",
       "    </tr>\n",
       "    <tr>\n",
       "      <th>pca2</th>\n",
       "      <td>-0.302480</td>\n",
       "      <td>-0.355429</td>\n",
       "      <td>-0.045821</td>\n",
       "      <td>-0.798788</td>\n",
       "      <td>-0.808941</td>\n",
       "      <td>-0.349886</td>\n",
       "      <td>-0.006720</td>\n",
       "      <td>1.000000</td>\n",
       "    </tr>\n",
       "  </tbody>\n",
       "</table>\n",
       "</div>"
      ],
      "text/plain": [
       "            DepDelay  Distance  DayOfWeek  CRSDepTime   Horario      LogD  \\\n",
       "DepDelay    1.000000 -0.012365   0.086079    0.147063  0.139037 -0.015312   \n",
       "Distance   -0.012365  1.000000   0.006931   -0.070598 -0.057209  0.957791   \n",
       "DayOfWeek   0.086079  0.006931   1.000000    0.008737  0.008176  0.004593   \n",
       "CRSDepTime  0.147063 -0.070598   0.008737    1.000000  0.629858 -0.083569   \n",
       "Horario     0.139037 -0.057209   0.008176    0.629858  1.000000 -0.054103   \n",
       "LogD       -0.015312  0.957791   0.004593   -0.083569 -0.054103  1.000000   \n",
       "pca1       -0.106376  0.925434  -0.010329   -0.387876 -0.365350  0.927564   \n",
       "pca2       -0.302480 -0.355429  -0.045821   -0.798788 -0.808941 -0.349886   \n",
       "\n",
       "                pca1      pca2  \n",
       "DepDelay   -0.106376 -0.302480  \n",
       "Distance    0.925434 -0.355429  \n",
       "DayOfWeek  -0.010329 -0.045821  \n",
       "CRSDepTime -0.387876 -0.798788  \n",
       "Horario    -0.365350 -0.808941  \n",
       "LogD        0.927564 -0.349886  \n",
       "pca1        1.000000 -0.006720  \n",
       "pca2       -0.006720  1.000000  "
      ]
     },
     "execution_count": 14,
     "metadata": {},
     "output_type": "execute_result"
    }
   ],
   "source": [
    "pdf6 = bd6pca2.sample(False,0.1).select('DepDelay','Distance','DayOfWeek',\n",
    "               'CRSDepTime','Horario','LogD','pca1','pca2').toPandas()\n",
    "\n",
    "pdf6.corr()"
   ]
  }
 ],
 "metadata": {
  "anaconda-cloud": {},
  "kernelspec": {
   "display_name": "Python [default]",
   "language": "python",
   "name": "python3"
  },
  "language_info": {
   "codemirror_mode": {
    "name": "ipython",
    "version": 3
   },
   "file_extension": ".py",
   "mimetype": "text/x-python",
   "name": "python",
   "nbconvert_exporter": "python",
   "pygments_lexer": "ipython3",
   "version": "3.5.2"
  }
 },
 "nbformat": 4,
 "nbformat_minor": 2
}
