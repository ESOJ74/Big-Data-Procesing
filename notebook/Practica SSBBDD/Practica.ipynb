{
 "cells": [
  {
   "cell_type": "code",
   "execution_count": 76,
   "metadata": {},
   "outputs": [],
   "source": [
    "! hadoop fs -mkdir tierrasCultivables\n",
    "! hadoop fs -mkdir poblacionRural"
   ]
  },
  {
   "cell_type": "code",
   "execution_count": 77,
   "metadata": {},
   "outputs": [
    {
     "name": "stdout",
     "output_type": "stream",
     "text": [
      "Found 2 items\r\n",
      "drwxr-xr-x   - cloudera cloudera          0 2021-10-13 23:44 poblacionRural\r\n",
      "drwxr-xr-x   - cloudera cloudera          0 2021-10-13 23:44 tierrasCultivables\r\n"
     ]
    }
   ],
   "source": [
    "! hadoop fs -ls"
   ]
  },
  {
   "cell_type": "code",
   "execution_count": 78,
   "metadata": {},
   "outputs": [],
   "source": [
    "! hadoop fs -put /home/cloudera/BancoMundial/API_AG.LND.ARBL.HA.PC_DS2_es_csv_v2_2593504.csv tierrasCultivables\n",
    "! hadoop fs -put /home/cloudera/BancoMundial/API_SP.RUR.TOTL.ZS_DS2_es_csv_v2_2601419.csv poblacionRural"
   ]
  },
  {
   "cell_type": "code",
   "execution_count": 79,
   "metadata": {},
   "outputs": [
    {
     "name": "stdout",
     "output_type": "stream",
     "text": [
      "Found 1 items\n",
      "-rw-r--r--   1 cloudera cloudera     267352 2021-10-13 23:44 tierrasCultivables/API_AG.LND.ARBL.HA.PC_DS2_es_csv_v2_2593504.csv\n",
      "Found 1 items\n",
      "-rw-r--r--   1 cloudera cloudera     159352 2021-10-13 23:44 poblacionRural/API_SP.RUR.TOTL.ZS_DS2_es_csv_v2_2601419.csv\n"
     ]
    }
   ],
   "source": [
    "! hadoop fs -ls tierrasCultivables\n",
    "! hadoop fs -ls poblacionRural"
   ]
  },
  {
   "cell_type": "code",
   "execution_count": 82,
   "metadata": {},
   "outputs": [
    {
     "name": "stdout",
     "output_type": "stream",
     "text": [
      "Writing API_SP.RUR.TOTL.ZS_DS2_es_csv_v2_2601419.hql\n"
     ]
    }
   ],
   "source": [
    "%%writefile API_SP.RUR.TOTL.ZS_DS2_es_csv_v2_2601419.hql\n",
    "\n",
    "DROP TABLE if EXISTS poblacionRuralTabla;\n",
    "create external table poblacionRuralTabla (\n",
    "  CountryName STRING, CountryCode STRING, IndicatorName STRING, IndicatorCode STRING, A1960 STRING, A1961 STRING,\n",
    "    A1962 STRING, A1963 STRING, A1964 STRING, A1965 STRING, A1966 STRING, A1967 STRING, A1968 STRING, A1969 STRING,\n",
    "    A1970 STRING, A1971 STRING, A1972 STRING, A1973 STRING, A1974 STRING, A1975 STRING, A1976 STRING, A1977 STRING,\n",
    "    A1978 STRING, A1979 STRING, A1980 STRING, A1981 STRING, A1982 STRING, A1983 STRING, A1984 STRING, A1985 STRING,\n",
    "    A1986 STRING, A1987 STRING, A1988 STRING, A1989 STRING, A1990 STRING, A1991 STRING, A1992 STRING, A1993 STRING,\n",
    "    A1994 STRING, A1995 STRING, A1996 STRING, A1997 STRING, A1998 STRING, A1999 STRING, A2000 STRING, A2001 STRING, \n",
    "    A2002 STRING, A2003 STRING, A2004 STRING, A2005 STRING, A2006 STRING, A2007 STRING, A2008 STRING, A2009 STRING,\n",
    "    A2010 STRING, A2011 STRING, A2012 STRING, A2013 STRING, A2014 STRING, A2015 STRING, A2016 STRING, A2017 STRING,\n",
    "    A2018 STRING, A2019 STRING, A2020 STRING)\n",
    "ROW FORMAT DELIMITED FIELDS TERMINATED BY ',' LOCATION '/user/cloudera/poblacionRural';"
   ]
  },
  {
   "cell_type": "code",
   "execution_count": 83,
   "metadata": {},
   "outputs": [
    {
     "name": "stdout",
     "output_type": "stream",
     "text": [
      "Writing API_AG.LND.ARBL.HA.PC_DS2_es_csv_v2_2593504.hql\n"
     ]
    }
   ],
   "source": [
    "%%writefile API_AG.LND.ARBL.HA.PC_DS2_es_csv_v2_2593504.hql\n",
    "\n",
    "DROP TABLE if EXISTS tierrasCultivablesTabla;\n",
    "create external table tierrasCultivablesTabla (\n",
    "  CountryName STRING, CountryCode STRING, IndicatorName STRING, IndicatorCode STRING, A1960 STRING, A1961 STRING,\n",
    "    A1962 STRING, A1963 STRING, A1964 STRING, A1965 STRING, A1966 STRING, A1967 STRING, A1968 STRING, A1969 STRING,\n",
    "    A1970 STRING, A1971 STRING, A1972 STRING, A1973 STRING, A1974 STRING, A1975 STRING, A1976 STRING, A1977 STRING,\n",
    "    A1978 STRING, A1979 STRING, A1980 STRING, A1981 STRING, A1982 STRING, A1983 STRING, A1984 STRING, A1985 STRING,\n",
    "    A1986 STRING, A1987 STRING, A1988 STRING, A1989 STRING, A1990 STRING, A1991 STRING, A1992 STRING, A1993 STRING,\n",
    "    A1994 STRING, A1995 STRING, A1996 STRING, A1997 STRING, A1998 STRING, A1999 STRING, A2000 STRING, A2001 STRING, \n",
    "    A2002 STRING, A2003 STRING, A2004 STRING, A2005 STRING, A2006 STRING, A2007 STRING, A2008 STRING, A2009 STRING,\n",
    "    A2010 STRING, A2011 STRING, A2012 STRING, A2013 STRING, A2014 STRING, A2015 STRING, A2016 STRING, A2017 STRING,\n",
    "    A2018 STRING, A2019 STRING, A2020 STRING)\n",
    "ROW FORMAT DELIMITED FIELDS TERMINATED BY ',' LOCATION '/user/cloudera/tierrasCultivables';"
   ]
  },
  {
   "cell_type": "code",
   "execution_count": 84,
   "metadata": {},
   "outputs": [
    {
     "name": "stdout",
     "output_type": "stream",
     "text": [
      "scan complete in 1ms\n",
      "Connecting to jdbc:hive2://localhost:10000/default\n",
      "Connected to: Apache Hive (version 1.1.0-cdh5.12.0)\n",
      "Driver: Hive JDBC (version 1.1.0-cdh5.12.0)\n",
      "Transaction isolation: TRANSACTION_REPEATABLE_READ\n",
      "0: jdbc:hive2://localhost:10000/default> \n",
      "Tabla;c:hive2://localhost:10000/default> DROP TABLE if EXISTS tierrasCultivables \n",
      "INFO  : Compiling command(queryId=hive_20211013234646_6ae1c37a-a273-470a-abf1-df282e6c68ae): DROP TABLE if EXISTS tierrasCultivablesTabla\n",
      "INFO  : Semantic Analysis Completed\n",
      "INFO  : Returning Hive schema: Schema(fieldSchemas:null, properties:null)\n",
      "INFO  : Completed compiling command(queryId=hive_20211013234646_6ae1c37a-a273-470a-abf1-df282e6c68ae); Time taken: 0.036 seconds\n",
      "INFO  : Concurrency mode is disabled, not creating a lock manager\n",
      "INFO  : Executing command(queryId=hive_20211013234646_6ae1c37a-a273-470a-abf1-df282e6c68ae): DROP TABLE if EXISTS tierrasCultivablesTabla\n",
      "INFO  : Starting task [Stage-0:DDL] in serial mode\n",
      "INFO  : Completed executing command(queryId=hive_20211013234646_6ae1c37a-a273-470a-abf1-df282e6c68ae); Time taken: 0.042 seconds\n",
      "INFO  : OK\n",
      "No rows affected (0.117 seconds)\n",
      "sTabla (hive2://localhost:10000/default> create external table tierrasCultivable \n",
      "G, IndicatorName STRING, IndicatorCode STRING, A1960 STRING, A1961 STRING, STRIN \n",
      "TRING, A1965 STRING, A1966 STRING, A1967 STRING, A1968 STRING, A1969ING, A1964 S  STRING,\n",
      "TRING, A1973 STRING, A1974 STRING, A1975 STRING, A1976 STRING, A1977 STRING,72 S \n",
      "TRING, A1981 STRING, A1982 STRING, A1983 STRING, A1984 STRING, A1985 STRING,80 S \n",
      "TRING, A1989 STRING, A1990 STRING, A1991 STRING, A1992 STRING, A1993 STRING,88 S \n",
      "TRING, A1997 STRING, A1998 STRING, A1999 STRING, A2000 STRING, A2001 STRING, 6 S \n",
      "TRING, A2005 STRING, A2006 STRING, A2007 STRING, A2008 STRING, A2009 STRING,04 S \n",
      "TRING, A2013 S. . . . . . . . . . . . .>     A2010 STRING, A2011 STRING, A2012 S TRING, A2014 STRING, A2015 STRING, A2016 STRING, A2017 STRING,\n",
      "TRING). . . . . . . . . . . . . . . . .>     A2018 STRING, A2019 STRING, A2020 S \n",
      "BY ',' LOCATION '/user/cloudera/tierrasCultivables';DELIMITED FIELDS TERMINATED  \n",
      "INFO  : Compiling command(queryId=hive_20211013234646_1a9834d5-0f5f-4532-bfb4-8995c1ab31ac): create external table tierrasCultivablesTabla (\n",
      "CountryName STRING, CountryCode STRING, IndicatorName STRING, IndicatorCode STRING, A1960 STRING, A1961 STRING,\n",
      "A1962 STRING, A1963 STRING, A1964 STRING, A1965 STRING, A1966 STRING, A1967 STRING, A1968 STRING, A1969 STRING,\n",
      "A1970 STRING, A1971 STRING, A1972 STRING, A1973 STRING, A1974 STRING, A1975 STRING, A1976 STRING, A1977 STRING,\n",
      "A1978 STRING, A1979 STRING, A1980 STRING, A1981 STRING, A1982 STRING, A1983 STRING, A1984 STRING, A1985 STRING,\n",
      "A1986 STRING, A1987 STRING, A1988 STRING, A1989 STRING, A1990 STRING, A1991 STRING, A1992 STRING, A1993 STRING,\n",
      "A1994 STRING, A1995 STRING, A1996 STRING, A1997 STRING, A1998 STRING, A1999 STRING, A2000 STRING, A2001 STRING,\n",
      "A2002 STRING, A2003 STRING, A2004 STRING, A2005 STRING, A2006 STRING, A2007 STRING, A2008 STRING, A2009 STRING,\n",
      "A2010 STRING, A2011 STRING, A2012 STRING, A2013 STRING, A2014 STRING, A2015 STRING, A2016 STRING, A2017 STRING,\n",
      "A2018 STRING, A2019 STRING, A2020 STRING)\n",
      "ROW FORMAT DELIMITED FIELDS TERMINATED BY ',' LOCATION '/user/cloudera/tierrasCultivables'\n",
      "INFO  : Semantic Analysis Completed\n",
      "INFO  : Returning Hive schema: Schema(fieldSchemas:null, properties:null)\n",
      "INFO  : Completed compiling command(queryId=hive_20211013234646_1a9834d5-0f5f-4532-bfb4-8995c1ab31ac); Time taken: 0.006 seconds\n",
      "INFO  : Concurrency mode is disabled, not creating a lock manager\n",
      "INFO  : Executing command(queryId=hive_20211013234646_1a9834d5-0f5f-4532-bfb4-8995c1ab31ac): create external table tierrasCultivablesTabla (\n",
      "CountryName STRING, CountryCode STRING, IndicatorName STRING, IndicatorCode STRING, A1960 STRING, A1961 STRING,\n",
      "A1962 STRING, A1963 STRING, A1964 STRING, A1965 STRING, A1966 STRING, A1967 STRING, A1968 STRING, A1969 STRING,\n",
      "A1970 STRING, A1971 STRING, A1972 STRING, A1973 STRING, A1974 STRING, A1975 STRING, A1976 STRING, A1977 STRING,\n",
      "A1978 STRING, A1979 STRING, A1980 STRING, A1981 STRING, A1982 STRING, A1983 STRING, A1984 STRING, A1985 STRING,\n",
      "A1986 STRING, A1987 STRING, A1988 STRING, A1989 STRING, A1990 STRING, A1991 STRING, A1992 STRING, A1993 STRING,\n",
      "A1994 STRING, A1995 STRING, A1996 STRING, A1997 STRING, A1998 STRING, A1999 STRING, A2000 STRING, A2001 STRING,\n",
      "A2002 STRING, A2003 STRING, A2004 STRING, A2005 STRING, A2006 STRING, A2007 STRING, A2008 STRING, A2009 STRING,\n",
      "A2010 STRING, A2011 STRING, A2012 STRING, A2013 STRING, A2014 STRING, A2015 STRING, A2016 STRING, A2017 STRING,\n",
      "A2018 STRING, A2019 STRING, A2020 STRING)\n",
      "ROW FORMAT DELIMITED FIELDS TERMINATED BY ',' LOCATION '/user/cloudera/tierrasCultivables'\n",
      "INFO  : Starting task [Stage-0:DDL] in serial mode\n",
      "INFO  : Completed executing command(queryId=hive_20211013234646_1a9834d5-0f5f-4532-bfb4-8995c1ab31ac); Time taken: 0.034 seconds\n",
      "INFO  : OK\n",
      "No rows affected (0.047 seconds)\n",
      "0: jdbc:hive2://localhost:10000/default> \n",
      "Closing: 0: jdbc:hive2://localhost:10000/default\n"
     ]
    }
   ],
   "source": [
    "! beeline -u \"jdbc:hive2://localhost:10000/default\" -f API_AG.LND.ARBL.HA.PC_DS2_es_csv_v2_2593504.hql"
   ]
  },
  {
   "cell_type": "code",
   "execution_count": 85,
   "metadata": {},
   "outputs": [
    {
     "name": "stdout",
     "output_type": "stream",
     "text": [
      "scan complete in 2ms\n",
      "Connecting to jdbc:hive2://localhost:10000/default\n",
      "Connected to: Apache Hive (version 1.1.0-cdh5.12.0)\n",
      "Driver: Hive JDBC (version 1.1.0-cdh5.12.0)\n",
      "Transaction isolation: TRANSACTION_REPEATABLE_READ\n",
      "0: jdbc:hive2://localhost:10000/default> \n",
      "a; jdbc:hive2://localhost:10000/default> DROP TABLE if EXISTS poblacionRuralTabl \n",
      "INFO  : Compiling command(queryId=hive_20211013234646_62b2e157-5461-445c-b41f-8a4ad60ac10e): DROP TABLE if EXISTS poblacionRuralTabla\n",
      "INFO  : Semantic Analysis Completed\n",
      "INFO  : Returning Hive schema: Schema(fieldSchemas:null, properties:null)\n",
      "INFO  : Completed compiling command(queryId=hive_20211013234646_62b2e157-5461-445c-b41f-8a4ad60ac10e); Time taken: 0.036 seconds\n",
      "INFO  : Concurrency mode is disabled, not creating a lock manager\n",
      "INFO  : Executing command(queryId=hive_20211013234646_62b2e157-5461-445c-b41f-8a4ad60ac10e): DROP TABLE if EXISTS poblacionRuralTabla\n",
      "INFO  : Starting task [Stage-0:DDL] in serial mode\n",
      "INFO  : Completed executing command(queryId=hive_20211013234646_62b2e157-5461-445c-b41f-8a4ad60ac10e); Time taken: 0.043 seconds\n",
      "INFO  : OK\n",
      "No rows affected (0.117 seconds)\n",
      "la (dbc:hive2://localhost:10000/default> create external table poblacionRuralTab \n",
      "G, IndicatorName STRING, IndicatorCode STRING, A1960 STRING, A1961 STRING, STRIN \n",
      "TRING, A1965 STRING, A1966 STRING, A1967 STRING, A1968 STRING, A1969 STRING,64 S \n",
      "TRIN. . . . . . . . . . . . . . . . . .>     A1970 STRING, A1971 STRING, A1972 S G, A1973 STRING, A1974 STRING, A1975 STRING, A1976 STRING, A1977 STRING,\n",
      "TRING, A1981 STRING, A1982 STRING, A1983 STRING, A1984 STRING, A1985 STRING,80 S \n",
      "TRING, A1989 STRING, A1990 STRING, A1991 STRING, A1992 STRING, A1993 STRING,88 S \n",
      "TRING, A1997 STRING, A1998 STRING, A1999 STRING, A2000 STRING, A2001 STRING, 6 S \n",
      "TRING, A2005 STRING, A2006 STRING, A2007 STRING, A2008 STRING, A2009 STRING,04 S \n",
      "TRING, A2013 STRING, A2014 STRING, A2015 STRING, A2016 STRING, A2017 STRING,12 S \n",
      "TRING). . . . . . . . . . . . . . . . .>     A2018 STRING, A2019 STRING, A2020 S \n",
      "BY ',' LOCATION '/user/cloudera/poblacionRural';MAT DELIMITED FIELDS TERMINATED  \n",
      "INFO  : Compiling command(queryId=hive_20211013234646_b6d16dc7-911f-4428-82bb-ef0872777399): create external table poblacionRuralTabla (\n",
      "CountryName STRING, CountryCode STRING, IndicatorName STRING, IndicatorCode STRING, A1960 STRING, A1961 STRING,\n",
      "A1962 STRING, A1963 STRING, A1964 STRING, A1965 STRING, A1966 STRING, A1967 STRING, A1968 STRING, A1969 STRING,\n",
      "A1970 STRING, A1971 STRING, A1972 STRING, A1973 STRING, A1974 STRING, A1975 STRING, A1976 STRING, A1977 STRING,\n",
      "A1978 STRING, A1979 STRING, A1980 STRING, A1981 STRING, A1982 STRING, A1983 STRING, A1984 STRING, A1985 STRING,\n",
      "A1986 STRING, A1987 STRING, A1988 STRING, A1989 STRING, A1990 STRING, A1991 STRING, A1992 STRING, A1993 STRING,\n",
      "A1994 STRING, A1995 STRING, A1996 STRING, A1997 STRING, A1998 STRING, A1999 STRING, A2000 STRING, A2001 STRING,\n",
      "A2002 STRING, A2003 STRING, A2004 STRING, A2005 STRING, A2006 STRING, A2007 STRING, A2008 STRING, A2009 STRING,\n",
      "A2010 STRING, A2011 STRING, A2012 STRING, A2013 STRING, A2014 STRING, A2015 STRING, A2016 STRING, A2017 STRING,\n",
      "A2018 STRING, A2019 STRING, A2020 STRING)\n",
      "ROW FORMAT DELIMITED FIELDS TERMINATED BY ',' LOCATION '/user/cloudera/poblacionRural'\n",
      "INFO  : Semantic Analysis Completed\n",
      "INFO  : Returning Hive schema: Schema(fieldSchemas:null, properties:null)\n",
      "INFO  : Completed compiling command(queryId=hive_20211013234646_b6d16dc7-911f-4428-82bb-ef0872777399); Time taken: 0.005 seconds\n",
      "INFO  : Concurrency mode is disabled, not creating a lock manager\n",
      "INFO  : Executing command(queryId=hive_20211013234646_b6d16dc7-911f-4428-82bb-ef0872777399): create external table poblacionRuralTabla (\n",
      "CountryName STRING, CountryCode STRING, IndicatorName STRING, IndicatorCode STRING, A1960 STRING, A1961 STRING,\n",
      "A1962 STRING, A1963 STRING, A1964 STRING, A1965 STRING, A1966 STRING, A1967 STRING, A1968 STRING, A1969 STRING,\n",
      "A1970 STRING, A1971 STRING, A1972 STRING, A1973 STRING, A1974 STRING, A1975 STRING, A1976 STRING, A1977 STRING,\n",
      "A1978 STRING, A1979 STRING, A1980 STRING, A1981 STRING, A1982 STRING, A1983 STRING, A1984 STRING, A1985 STRING,\n",
      "A1986 STRING, A1987 STRING, A1988 STRING, A1989 STRING, A1990 STRING, A1991 STRING, A1992 STRING, A1993 STRING,\n",
      "A1994 STRING, A1995 STRING, A1996 STRING, A1997 STRING, A1998 STRING, A1999 STRING, A2000 STRING, A2001 STRING,\n",
      "A2002 STRING, A2003 STRING, A2004 STRING, A2005 STRING, A2006 STRING, A2007 STRING, A2008 STRING, A2009 STRING,\n",
      "A2010 STRING, A2011 STRING, A2012 STRING, A2013 STRING, A2014 STRING, A2015 STRING, A2016 STRING, A2017 STRING,\n",
      "A2018 STRING, A2019 STRING, A2020 STRING)\n",
      "ROW FORMAT DELIMITED FIELDS TERMINATED BY ',' LOCATION '/user/cloudera/poblacionRural'\n",
      "INFO  : Starting task [Stage-0:DDL] in serial mode\n",
      "INFO  : Completed executing command(queryId=hive_20211013234646_b6d16dc7-911f-4428-82bb-ef0872777399); Time taken: 0.045 seconds\n",
      "INFO  : OK\n",
      "No rows affected (0.064 seconds)\n",
      "0: jdbc:hive2://localhost:10000/default> \n",
      "Closing: 0: jdbc:hive2://localhost:10000/default\n"
     ]
    }
   ],
   "source": [
    "! beeline -u \"jdbc:hive2://localhost:10000/default\" -f API_SP.RUR.TOTL.ZS_DS2_es_csv_v2_2601419.hql"
   ]
  },
  {
   "cell_type": "markdown",
   "metadata": {},
   "source": [
    "## 3. (2 puntos) Crea una vista sobre las tablas creadas. Esta vista tendrá para cada país, su nombre, código, porcentaje de población rural en 2018 y superficie de tierra cultivable en 2018."
   ]
  },
  {
   "cell_type": "code",
   "execution_count": 86,
   "metadata": {
    "scrolled": true
   },
   "outputs": [
    {
     "name": "stdout",
     "output_type": "stream",
     "text": [
      "scan complete in 1ms\n",
      "Connecting to jdbc:hive2://localhost:10000/default\n",
      "Connected to: Apache Hive (version 1.1.0-cdh5.12.0)\n",
      "Driver: Hive JDBC (version 1.1.0-cdh5.12.0)\n",
      "Transaction isolation: TRANSACTION_REPEATABLE_READ\n",
      "INFO  : Compiling command(queryId=hive_20211013234646_0473f22a-5187-4ef7-be0a-3b1c4f15125f): drop view if exists vista\n",
      "INFO  : Semantic Analysis Completed\n",
      "INFO  : Returning Hive schema: Schema(fieldSchemas:null, properties:null)\n",
      "INFO  : Completed compiling command(queryId=hive_20211013234646_0473f22a-5187-4ef7-be0a-3b1c4f15125f); Time taken: 0.042 seconds\n",
      "INFO  : Concurrency mode is disabled, not creating a lock manager\n",
      "INFO  : Executing command(queryId=hive_20211013234646_0473f22a-5187-4ef7-be0a-3b1c4f15125f): drop view if exists vista\n",
      "INFO  : Starting task [Stage-0:DDL] in serial mode\n",
      "INFO  : Completed executing command(queryId=hive_20211013234646_0473f22a-5187-4ef7-be0a-3b1c4f15125f); Time taken: 0.038 seconds\n",
      "INFO  : OK\n",
      "No rows affected (0.119 seconds)\n",
      "INFO  : Compiling command(queryId=hive_20211013234646_693f8bba-1bcf-47dd-87a5-c436d05f3346): create view vista as select a.countryname, a.countrycode, cast(a.a2018 as float) as tierraCultivable, cast(b.a2018 as float) as poblacionrural from tierrascultivablesTabla as a join poblacionRuralTabla as b ON a.countrycode = b.countrycode\n",
      "INFO  : Semantic Analysis Completed\n",
      "INFO  : Returning Hive schema: Schema(fieldSchemas:[FieldSchema(name:countryname, type:string, comment:null), FieldSchema(name:countrycode, type:string, comment:null), FieldSchema(name:tierracultivable, type:float, comment:null), FieldSchema(name:poblacionrural, type:float, comment:null)], properties:null)\n",
      "INFO  : Completed compiling command(queryId=hive_20211013234646_693f8bba-1bcf-47dd-87a5-c436d05f3346); Time taken: 0.056 seconds\n",
      "INFO  : Concurrency mode is disabled, not creating a lock manager\n",
      "INFO  : Executing command(queryId=hive_20211013234646_693f8bba-1bcf-47dd-87a5-c436d05f3346): create view vista as select a.countryname, a.countrycode, cast(a.a2018 as float) as tierraCultivable, cast(b.a2018 as float) as poblacionrural from tierrascultivablesTabla as a join poblacionRuralTabla as b ON a.countrycode = b.countrycode\n",
      "INFO  : Starting task [Stage-0:DDL] in serial mode\n",
      "INFO  : Completed executing command(queryId=hive_20211013234646_693f8bba-1bcf-47dd-87a5-c436d05f3346); Time taken: 0.017 seconds\n",
      "INFO  : OK\n",
      "No rows affected (0.08 seconds)\n",
      "Beeline version 1.1.0-cdh5.12.0 by Apache Hive\n",
      "Closing: 0: jdbc:hive2://localhost:10000/default\n"
     ]
    }
   ],
   "source": [
    "! beeline -u \"jdbc:hive2://localhost:10000/default\" -e \\\n",
    "\"drop view if exists vista; create view vista as select a.countryname, a.countrycode, cast(a.a2018 as float) as tierraCultivable, cast(b.a2018 as float) as poblacionrural from tierrascultivablesTabla as a join poblacionRuralTabla as b ON a.countrycode = b.countrycode;\""
   ]
  },
  {
   "cell_type": "markdown",
   "metadata": {},
   "source": [
    "## 4. (3 puntos) Crea las consultas de Hive necesarias para responder las siguientes cuestiones:\n",
    "\n",
    "### o ¿Cuál es el porcentaje de tierra cultivable de Suiza en 2018?"
   ]
  },
  {
   "cell_type": "code",
   "execution_count": 87,
   "metadata": {},
   "outputs": [
    {
     "name": "stdout",
     "output_type": "stream",
     "text": [
      "scan complete in 2ms\n",
      "Connecting to jdbc:hive2://localhost:10000/default\n",
      "Connected to: Apache Hive (version 1.1.0-cdh5.12.0)\n",
      "Driver: Hive JDBC (version 1.1.0-cdh5.12.0)\n",
      "Transaction isolation: TRANSACTION_REPEATABLE_READ\n",
      "INFO  : Compiling command(queryId=hive_20211013234646_c5465ae4-432f-4997-b37d-710dbdf0142c): select countryname, countrycode, tierracultivable from vista where countryname = 'Suiza'\n",
      "INFO  : Semantic Analysis Completed\n",
      "INFO  : Returning Hive schema: Schema(fieldSchemas:[FieldSchema(name:countryname, type:string, comment:null), FieldSchema(name:countrycode, type:string, comment:null), FieldSchema(name:tierracultivable, type:float, comment:null)], properties:null)\n",
      "INFO  : Completed compiling command(queryId=hive_20211013234646_c5465ae4-432f-4997-b37d-710dbdf0142c); Time taken: 0.087 seconds\n",
      "INFO  : Concurrency mode is disabled, not creating a lock manager\n",
      "INFO  : Executing command(queryId=hive_20211013234646_c5465ae4-432f-4997-b37d-710dbdf0142c): select countryname, countrycode, tierracultivable from vista where countryname = 'Suiza'\n",
      "INFO  : Query ID = hive_20211013234646_c5465ae4-432f-4997-b37d-710dbdf0142c\n",
      "INFO  : Total jobs = 1\n",
      "INFO  : Starting task [Stage-4:MAPREDLOCAL] in serial mode\n",
      "Execution log at: /var/log/hive/hive-server2.log\n",
      "2021-10-13 11:46:48\tStarting to launch local task to process map join;\tmaximum memory = 932184064\n",
      "2021-10-13 11:46:49\tDump the side-table for tag: 1 with group count: 266 into file: file:/tmp/hive/5e7431e1-b5c7-41ab-a442-42b800ef43a7/hive_2021-10-13_23-46-46_458_3576261143522799320-2/-local-10003/HashTable-Stage-3/MapJoin-mapfile451--.hashtable\n",
      "2021-10-13 11:46:49\tUploaded 1 File to: file:/tmp/hive/5e7431e1-b5c7-41ab-a442-42b800ef43a7/hive_2021-10-13_23-46-46_458_3576261143522799320-2/-local-10003/HashTable-Stage-3/MapJoin-mapfile451--.hashtable (6041 bytes)\n",
      "2021-10-13 11:46:49\tEnd of local task; Time Taken: 1.058 sec.\n",
      "INFO  : Execution completed successfully\n",
      "INFO  : MapredLocal task succeeded\n",
      "INFO  : Launching Job 1 out of 1\n",
      "INFO  : Starting task [Stage-3:MAPRED] in serial mode\n",
      "INFO  : Number of reduce tasks is set to 0 since there's no reduce operator\n",
      "INFO  : Starting Job = job_1633859119050_0061, Tracking URL = http://quickstart.cloudera:8088/proxy/application_1633859119050_0061/\n",
      "INFO  : Kill Command = /usr/lib/hadoop/bin/hadoop job  -kill job_1633859119050_0061\n",
      "INFO  : Hadoop job information for Stage-3: number of mappers: 1; number of reducers: 0\n",
      "INFO  : 2021-10-13 23:46:54,402 Stage-3 map = 0%,  reduce = 0%\n",
      "INFO  : 2021-10-13 23:46:59,599 Stage-3 map = 100%,  reduce = 0%, Cumulative CPU 1.49 sec\n",
      "INFO  : MapReduce Total cumulative CPU time: 1 seconds 490 msec\n",
      "INFO  : Ended Job = job_1633859119050_0061\n",
      "INFO  : MapReduce Jobs Launched: \n",
      "INFO  : Stage-Stage-3: Map: 1   Cumulative CPU: 1.49 sec   HDFS Read: 277865 HDFS Write: 22 SUCCESS\n",
      "INFO  : Total MapReduce CPU Time Spent: 1 seconds 490 msec\n",
      "INFO  : Completed executing command(queryId=hive_20211013234646_c5465ae4-432f-4997-b37d-710dbdf0142c); Time taken: 14.133 seconds\n",
      "INFO  : OK\n",
      "+--------------+--------------+----------------------+--+\n",
      "| countryname  | countrycode  |   tierracultivable   |\n",
      "+--------------+--------------+----------------------+--+\n",
      "| Suiza        | CHE          | 0.04676104336977005  |\n",
      "+--------------+--------------+----------------------+--+\n",
      "1 row selected (14.27 seconds)\n",
      "Beeline version 1.1.0-cdh5.12.0 by Apache Hive\n",
      "Closing: 0: jdbc:hive2://localhost:10000/default\n"
     ]
    }
   ],
   "source": [
    "! beeline -u \"jdbc:hive2://localhost:10000/default\" -e \\\n",
    "\"select countryname, countrycode, tierracultivable from vista where countryname = 'Suiza' ;\""
   ]
  },
  {
   "cell_type": "markdown",
   "metadata": {},
   "source": [
    "#### o ¿Cuál es el porcentaje de tierra cultivable del país que tiene menor población rural en 2010?"
   ]
  },
  {
   "cell_type": "code",
   "execution_count": 88,
   "metadata": {},
   "outputs": [
    {
     "name": "stdout",
     "output_type": "stream",
     "text": [
      "scan complete in 2ms\n",
      "Connecting to jdbc:hive2://localhost:10000/default\n",
      "Connected to: Apache Hive (version 1.1.0-cdh5.12.0)\n",
      "Driver: Hive JDBC (version 1.1.0-cdh5.12.0)\n",
      "Transaction isolation: TRANSACTION_REPEATABLE_READ\n",
      "INFO  : Compiling command(queryId=hive_20211013234747_9ef1028a-d03f-49c7-b440-f9b016a946f5): select countryname, countrycode, poblacionRural, tierracultivable from vista where poblacionRural > 0 order by poblacionRural  LIMIT 1\n",
      "INFO  : Semantic Analysis Completed\n",
      "INFO  : Returning Hive schema: Schema(fieldSchemas:[FieldSchema(name:countryname, type:string, comment:null), FieldSchema(name:countrycode, type:string, comment:null), FieldSchema(name:poblacionrural, type:float, comment:null), FieldSchema(name:tierracultivable, type:float, comment:null)], properties:null)\n",
      "INFO  : Completed compiling command(queryId=hive_20211013234747_9ef1028a-d03f-49c7-b440-f9b016a946f5); Time taken: 0.083 seconds\n",
      "INFO  : Concurrency mode is disabled, not creating a lock manager\n",
      "INFO  : Executing command(queryId=hive_20211013234747_9ef1028a-d03f-49c7-b440-f9b016a946f5): select countryname, countrycode, poblacionRural, tierracultivable from vista where poblacionRural > 0 order by poblacionRural  LIMIT 1\n",
      "INFO  : Query ID = hive_20211013234747_9ef1028a-d03f-49c7-b440-f9b016a946f5\n",
      "INFO  : Total jobs = 1\n",
      "INFO  : Starting task [Stage-5:MAPREDLOCAL] in serial mode\n",
      "Execution log at: /var/log/hive/hive-server2.log\n",
      "2021-10-13 11:47:05\tStarting to launch local task to process map join;\tmaximum memory = 932184064\n",
      "2021-10-13 11:47:07\tDump the side-table for tag: 1 with group count: 266 into file: file:/tmp/hive/766b6dc9-fb56-4222-af81-011ac7109173/hive_2021-10-13_23-47-03_748_3602516914575673927-2/-local-10004/HashTable-Stage-2/MapJoin-mapfile461--.hashtable\n",
      "2021-10-13 11:47:07\tUploaded 1 File to: file:/tmp/hive/766b6dc9-fb56-4222-af81-011ac7109173/hive_2021-10-13_23-47-03_748_3602516914575673927-2/-local-10004/HashTable-Stage-2/MapJoin-mapfile461--.hashtable (8613 bytes)\n",
      "2021-10-13 11:47:07\tEnd of local task; Time Taken: 1.194 sec.\n",
      "INFO  : Execution completed successfully\n",
      "INFO  : MapredLocal task succeeded\n",
      "INFO  : Launching Job 1 out of 1\n",
      "INFO  : Starting task [Stage-2:MAPRED] in serial mode\n",
      "INFO  : Number of reduce tasks determined at compile time: 1\n",
      "INFO  : In order to change the average load for a reducer (in bytes):\n",
      "INFO  :   set hive.exec.reducers.bytes.per.reducer=<number>\n",
      "INFO  : In order to limit the maximum number of reducers:\n",
      "INFO  :   set hive.exec.reducers.max=<number>\n",
      "INFO  : In order to set a constant number of reducers:\n",
      "INFO  :   set mapreduce.job.reduces=<number>\n",
      "INFO  : Starting Job = job_1633859119050_0062, Tracking URL = http://quickstart.cloudera:8088/proxy/application_1633859119050_0062/\n",
      "INFO  : Kill Command = /usr/lib/hadoop/bin/hadoop job  -kill job_1633859119050_0062\n",
      "INFO  : Hadoop job information for Stage-2: number of mappers: 1; number of reducers: 1\n",
      "INFO  : 2021-10-13 23:47:13,307 Stage-2 map = 0%,  reduce = 0%\n",
      "INFO  : 2021-10-13 23:47:18,510 Stage-2 map = 100%,  reduce = 0%, Cumulative CPU 1.37 sec\n",
      "INFO  : 2021-10-13 23:47:24,753 Stage-2 map = 100%,  reduce = 100%, Cumulative CPU 2.76 sec\n",
      "INFO  : MapReduce Total cumulative CPU time: 2 seconds 760 msec\n",
      "INFO  : Ended Job = job_1633859119050_0062\n",
      "INFO  : MapReduce Jobs Launched: \n",
      "INFO  : Stage-Stage-2: Map: 1  Reduce: 1   Cumulative CPU: 2.76 sec   HDFS Read: 285110 HDFS Write: 29 SUCCESS\n",
      "INFO  : Total MapReduce CPU Time Spent: 2 seconds 760 msec\n",
      "INFO  : Completed executing command(queryId=hive_20211013234747_9ef1028a-d03f-49c7-b440-f9b016a946f5); Time taken: 21.999 seconds\n",
      "INFO  : OK\n",
      "+--------------+--------------+---------------------+-----------------------+--+\n",
      "| countryname  | countrycode  |   poblacionrural    |   tierracultivable    |\n",
      "+--------------+--------------+---------------------+-----------------------+--+\n",
      "| Qatar        | QAT          | 0.8650000095367432  | 0.005032926332205534  |\n",
      "+--------------+--------------+---------------------+-----------------------+--+\n",
      "1 row selected (22.135 seconds)\n",
      "Beeline version 1.1.0-cdh5.12.0 by Apache Hive\n",
      "Closing: 0: jdbc:hive2://localhost:10000/default\n"
     ]
    }
   ],
   "source": [
    "! beeline -u \"jdbc:hive2://localhost:10000/default\" -e \\\n",
    "\"select countryname, countrycode, poblacionRural, tierracultivable from vista where poblacionRural > 0 order by poblacionRural  LIMIT 1;\""
   ]
  },
  {
   "cell_type": "markdown",
   "metadata": {},
   "source": [
    "En este caso he optado por seleccionar los paises que tubieran una poblacionRural mayor que 0 para evitar posibles valores nulos.\n",
    "\n",
    "En caso de no tener esto en cuenta tendríamos el siguiente resultado"
   ]
  },
  {
   "cell_type": "code",
   "execution_count": 89,
   "metadata": {},
   "outputs": [
    {
     "name": "stdout",
     "output_type": "stream",
     "text": [
      "scan complete in 1ms\n",
      "Connecting to jdbc:hive2://localhost:10000/default\n",
      "Connected to: Apache Hive (version 1.1.0-cdh5.12.0)\n",
      "Driver: Hive JDBC (version 1.1.0-cdh5.12.0)\n",
      "Transaction isolation: TRANSACTION_REPEATABLE_READ\n",
      "INFO  : Compiling command(queryId=hive_20211013234747_083ed047-81d9-499e-b771-6edd39cd4503): select countryname, poblacionRural, tierracultivable from vista order by poblacionRural  LIMIT 15\n",
      "INFO  : Semantic Analysis Completed\n",
      "INFO  : Returning Hive schema: Schema(fieldSchemas:[FieldSchema(name:countryname, type:string, comment:null), FieldSchema(name:poblacionrural, type:float, comment:null), FieldSchema(name:tierracultivable, type:float, comment:null)], properties:null)\n",
      "INFO  : Completed compiling command(queryId=hive_20211013234747_083ed047-81d9-499e-b771-6edd39cd4503); Time taken: 0.088 seconds\n",
      "INFO  : Concurrency mode is disabled, not creating a lock manager\n",
      "INFO  : Executing command(queryId=hive_20211013234747_083ed047-81d9-499e-b771-6edd39cd4503): select countryname, poblacionRural, tierracultivable from vista order by poblacionRural  LIMIT 15\n",
      "INFO  : Query ID = hive_20211013234747_083ed047-81d9-499e-b771-6edd39cd4503\n",
      "INFO  : Total jobs = 1\n",
      "INFO  : Starting task [Stage-5:MAPREDLOCAL] in serial mode\n",
      "Execution log at: /var/log/hive/hive-server2.log\n",
      "2021-10-13 11:47:31\tStarting to launch local task to process map join;\tmaximum memory = 932184064\n",
      "2021-10-13 11:47:32\tDump the side-table for tag: 1 with group count: 266 into file: file:/tmp/hive/607b3b43-34eb-4106-91cd-d015c035df2a/hive_2021-10-13_23-47-29_177_6663358480553022641-2/-local-10004/HashTable-Stage-2/MapJoin-mapfile471--.hashtable\n",
      "2021-10-13 11:47:32\tUploaded 1 File to: file:/tmp/hive/607b3b43-34eb-4106-91cd-d015c035df2a/hive_2021-10-13_23-47-29_177_6663358480553022641-2/-local-10004/HashTable-Stage-2/MapJoin-mapfile471--.hashtable (8613 bytes)\n",
      "2021-10-13 11:47:32\tEnd of local task; Time Taken: 1.152 sec.\n",
      "INFO  : Execution completed successfully\n",
      "INFO  : MapredLocal task succeeded\n",
      "INFO  : Launching Job 1 out of 1\n",
      "INFO  : Starting task [Stage-2:MAPRED] in serial mode\n",
      "INFO  : Number of reduce tasks determined at compile time: 1\n",
      "INFO  : In order to change the average load for a reducer (in bytes):\n",
      "INFO  :   set hive.exec.reducers.bytes.per.reducer=<number>\n",
      "INFO  : In order to limit the maximum number of reducers:\n",
      "INFO  :   set hive.exec.reducers.max=<number>\n",
      "INFO  : In order to set a constant number of reducers:\n",
      "INFO  :   set mapreduce.job.reduces=<number>\n",
      "INFO  : Starting Job = job_1633859119050_0063, Tracking URL = http://quickstart.cloudera:8088/proxy/application_1633859119050_0063/\n",
      "INFO  : Kill Command = /usr/lib/hadoop/bin/hadoop job  -kill job_1633859119050_0063\n",
      "INFO  : Hadoop job information for Stage-2: number of mappers: 1; number of reducers: 1\n",
      "INFO  : 2021-10-13 23:47:39,865 Stage-2 map = 0%,  reduce = 0%\n",
      "INFO  : 2021-10-13 23:47:45,062 Stage-2 map = 100%,  reduce = 0%, Cumulative CPU 1.32 sec\n",
      "INFO  : 2021-10-13 23:47:50,266 Stage-2 map = 100%,  reduce = 100%, Cumulative CPU 2.62 sec\n",
      "INFO  : MapReduce Total cumulative CPU time: 2 seconds 620 msec\n",
      "INFO  : Ended Job = job_1633859119050_0063\n",
      "INFO  : MapReduce Jobs Launched: \n",
      "INFO  : Stage-Stage-2: Map: 1  Reduce: 1   Cumulative CPU: 2.62 sec   HDFS Read: 283743 HDFS Write: 389 SUCCESS\n",
      "INFO  : Total MapReduce CPU Time Spent: 2 seconds 620 msec\n",
      "INFO  : Completed executing command(queryId=hive_20211013234747_083ed047-81d9-499e-b771-6edd39cd4503); Time taken: 23.083 seconds\n",
      "INFO  : OK\n",
      "+-------------------------------------------+---------------------+------------------------+--+\n",
      "|                countryname                |   poblacionrural    |    tierracultivable    |\n",
      "+-------------------------------------------+---------------------+------------------------+--+\n",
      "| Kosovo                                    | NULL                | NULL                   |\n",
      "| Isla de San Martín (parte francesa)       | NULL                | NULL                   |\n",
      "| Eritrea                                   | NULL                | 0.19983798265457153    |\n",
      "| No clasificado                            | NULL                | NULL                   |\n",
      "| Bermudas                                  | 0.0                 | 0.0046934401616454124  |\n",
      "| Islas Caimán                              | 0.0                 | 0.0031166239641606808  |\n",
      "| Nauru                                     | 0.0                 | NULL                   |\n",
      "| Gibraltar                                 | 0.0                 | NULL                   |\n",
      "| Sint Maarten (Dutch part)                 | 0.0                 | NULL                   |\n",
      "| \"Región Administrativa Especial de Macao  | 0.0                 | NULL                   |\n",
      "| Mónaco                                    | 0.0                 | NULL                   |\n",
      "| \"Hong Kong                                | 0.0                 | 4.1938931099139154E-4  |\n",
      "| Kuwait                                    | 0.0                 | 0.00193362170830369    |\n",
      "| Singapur                                  | 0.0                 | 9.931409294949844E-5   |\n",
      "| Qatar                                     | 0.8650000095367432  | 0.005032926332205534   |\n",
      "+-------------------------------------------+---------------------+------------------------+--+\n",
      "15 rows selected (23.234 seconds)\n",
      "Beeline version 1.1.0-cdh5.12.0 by Apache Hive\n",
      "Closing: 0: jdbc:hive2://localhost:10000/default\n"
     ]
    }
   ],
   "source": [
    "! beeline -u \"jdbc:hive2://localhost:10000/default\" -e \\\n",
    "\"select countryname, poblacionRural, tierracultivable from vista order by poblacionRural  LIMIT 15;\""
   ]
  },
  {
   "cell_type": "markdown",
   "metadata": {},
   "source": [
    "#### o ¿Cuáles son los cinco países con mayor población rural en 2018?"
   ]
  },
  {
   "cell_type": "code",
   "execution_count": 90,
   "metadata": {},
   "outputs": [
    {
     "name": "stdout",
     "output_type": "stream",
     "text": [
      "scan complete in 1ms\n",
      "Connecting to jdbc:hive2://localhost:10000/default\n",
      "Connected to: Apache Hive (version 1.1.0-cdh5.12.0)\n",
      "Driver: Hive JDBC (version 1.1.0-cdh5.12.0)\n",
      "Transaction isolation: TRANSACTION_REPEATABLE_READ\n",
      "INFO  : Compiling command(queryId=hive_20211013234848_39c6f815-d591-487e-aa92-2caaf349b83c): select countryname, poblacionRural from vista order by poblacionRural DESC LIMIT 5\n",
      "INFO  : Semantic Analysis Completed\n",
      "INFO  : Returning Hive schema: Schema(fieldSchemas:[FieldSchema(name:countryname, type:string, comment:null), FieldSchema(name:poblacionrural, type:float, comment:null)], properties:null)\n",
      "INFO  : Completed compiling command(queryId=hive_20211013234848_39c6f815-d591-487e-aa92-2caaf349b83c); Time taken: 0.079 seconds\n",
      "INFO  : Concurrency mode is disabled, not creating a lock manager\n",
      "INFO  : Executing command(queryId=hive_20211013234848_39c6f815-d591-487e-aa92-2caaf349b83c): select countryname, poblacionRural from vista order by poblacionRural DESC LIMIT 5\n",
      "INFO  : Query ID = hive_20211013234848_39c6f815-d591-487e-aa92-2caaf349b83c\n",
      "INFO  : Total jobs = 1\n",
      "INFO  : Starting task [Stage-5:MAPREDLOCAL] in serial mode\n",
      "Execution log at: /var/log/hive/hive-server2.log\n",
      "2021-10-13 11:48:04\tStarting to launch local task to process map join;\tmaximum memory = 932184064\n",
      "2021-10-13 11:48:05\tDump the side-table for tag: 1 with group count: 266 into file: file:/tmp/hive/7cbd6fcb-74ee-42fb-8773-acb94e791d2d/hive_2021-10-13_23-48-02_037_5667192784533415651-2/-local-10004/HashTable-Stage-2/MapJoin-mapfile481--.hashtable\n",
      "2021-10-13 11:48:05\tUploaded 1 File to: file:/tmp/hive/7cbd6fcb-74ee-42fb-8773-acb94e791d2d/hive_2021-10-13_23-48-02_037_5667192784533415651-2/-local-10004/HashTable-Stage-2/MapJoin-mapfile481--.hashtable (8613 bytes)\n",
      "2021-10-13 11:48:05\tEnd of local task; Time Taken: 1.051 sec.\n",
      "INFO  : Execution completed successfully\n",
      "INFO  : MapredLocal task succeeded\n",
      "INFO  : Launching Job 1 out of 1\n",
      "INFO  : Starting task [Stage-2:MAPRED] in serial mode\n",
      "INFO  : Number of reduce tasks determined at compile time: 1\n",
      "INFO  : In order to change the average load for a reducer (in bytes):\n",
      "INFO  :   set hive.exec.reducers.bytes.per.reducer=<number>\n",
      "INFO  : In order to limit the maximum number of reducers:\n",
      "INFO  :   set hive.exec.reducers.max=<number>\n",
      "INFO  : In order to set a constant number of reducers:\n",
      "INFO  :   set mapreduce.job.reduces=<number>\n",
      "INFO  : Starting Job = job_1633859119050_0064, Tracking URL = http://quickstart.cloudera:8088/proxy/application_1633859119050_0064/\n",
      "INFO  : Kill Command = /usr/lib/hadoop/bin/hadoop job  -kill job_1633859119050_0064\n",
      "INFO  : Hadoop job information for Stage-2: number of mappers: 1; number of reducers: 1\n",
      "INFO  : 2021-10-13 23:48:11,145 Stage-2 map = 0%,  reduce = 0%\n",
      "INFO  : 2021-10-13 23:48:16,340 Stage-2 map = 100%,  reduce = 0%, Cumulative CPU 1.25 sec\n",
      "INFO  : 2021-10-13 23:48:21,519 Stage-2 map = 100%,  reduce = 100%, Cumulative CPU 2.48 sec\n",
      "INFO  : MapReduce Total cumulative CPU time: 2 seconds 480 msec\n",
      "INFO  : Ended Job = job_1633859119050_0064\n",
      "INFO  : MapReduce Jobs Launched: \n",
      "INFO  : Stage-Stage-2: Map: 1  Reduce: 1   Cumulative CPU: 2.48 sec   HDFS Read: 283234 HDFS Write: 92 SUCCESS\n",
      "INFO  : Total MapReduce CPU Time Spent: 2 seconds 480 msec\n",
      "INFO  : Completed executing command(queryId=hive_20211013234848_39c6f815-d591-487e-aa92-2caaf349b83c); Time taken: 20.48 seconds\n",
      "INFO  : OK\n",
      "+---------------------+--------------------+--+\n",
      "|     countryname     |   poblacionrural   |\n",
      "+---------------------+--------------------+--+\n",
      "| Burundi             | 86.96800231933594  |\n",
      "| Papua Nueva Guinea  | 86.83100128173828  |\n",
      "| Liechtenstein       | 85.66200256347656  |\n",
      "| Níger               | 83.57499694824219  |\n",
      "| Malawi              | 83.06300354003906  |\n",
      "+---------------------+--------------------+--+\n",
      "5 rows selected (20.611 seconds)\n",
      "Beeline version 1.1.0-cdh5.12.0 by Apache Hive\n",
      "Closing: 0: jdbc:hive2://localhost:10000/default\n"
     ]
    }
   ],
   "source": [
    "! beeline -u \"jdbc:hive2://localhost:10000/default\" -e \\\n",
    "\"select countryname, poblacionRural from vista order by poblacionRural DESC LIMIT 5;\""
   ]
  },
  {
   "cell_type": "markdown",
   "metadata": {
    "collapsed": true
   },
   "source": [
    "## 5. (2 puntos) Desarrolla el código MapReduce en Python que implemente la primera consulta del apartado anterior."
   ]
  },
  {
   "cell_type": "markdown",
   "metadata": {},
   "source": [
    "Implementamos y ejecutamos la función map."
   ]
  },
  {
   "cell_type": "code",
   "execution_count": 91,
   "metadata": {},
   "outputs": [
    {
     "name": "stdout",
     "output_type": "stream",
     "text": [
      "Writing mapper.py\n"
     ]
    }
   ],
   "source": [
    "%%writefile mapper.py\n",
    "#!/usr/bin/env python\n",
    " \n",
    "import sys\n",
    "\n",
    "for line in sys.stdin:\n",
    "    data = line.strip().split(\",\")   \n",
    "    if len(data) == 65:\n",
    "        countryname, CountryCode, IndicatorName, IndicatorCode, a1960,a1961,a1962,a1963,a1964,a1965,a1966,a1967,a1968,\\\n",
    "        a1969,a1970,a1971,a1972,a1973,a1974,a1975,a1976,a1977,a1978,a1979,a1980,a1981,a1982,a1983,a1984,a1985,a1986,\\\n",
    "        a1987,a1988,a1989,a1990,a1991,a1992,a1993,a1994,a1995,a1996,a1997,a1998,a1999,a2000,a2001,a2002,a2003,a2004,\\\n",
    "        a2005,a2006,a2007,a2008,a2009,a2010,a2011,a2012,a2013,a2014,a2015,a2016,a2017,a2018,a2019,a2020 = data\n",
    "        if countryname == \"Suiza\":\n",
    "            print (\"%s %s\" % (countryname, a2018))"
   ]
  },
  {
   "cell_type": "markdown",
   "metadata": {},
   "source": [
    "Se habilitan los permisos de acceso en el fichero mapper.py a través de consola"
   ]
  },
  {
   "cell_type": "code",
   "execution_count": 93,
   "metadata": {},
   "outputs": [
    {
     "name": "stdout",
     "output_type": "stream",
     "text": [
      "Suiza 0.046761042473224\r\n"
     ]
    }
   ],
   "source": [
    "! cat /home/cloudera/BancoMundial/API_AG.LND.ARBL.HA.PC_DS2_es_csv_v2_2593504.csv | ./mapper.py"
   ]
  },
  {
   "cell_type": "markdown",
   "metadata": {},
   "source": [
    "Ejecutamos el código de la función Map en Hadoop"
   ]
  },
  {
   "cell_type": "code",
   "execution_count": 94,
   "metadata": {},
   "outputs": [
    {
     "name": "stdout",
     "output_type": "stream",
     "text": [
      "21/10/13 23:49:12 WARN streaming.StreamJob: -file option is deprecated, please use generic option -files instead.\n",
      "packageJobJar: [mapper.py] [/usr/lib/hadoop-mapreduce/hadoop-streaming-2.6.0-cdh5.12.0.jar] /tmp/streamjob1047081103464802413.jar tmpDir=null\n",
      "21/10/13 23:49:13 INFO client.RMProxy: Connecting to ResourceManager at /0.0.0.0:8032\n",
      "21/10/13 23:49:13 INFO client.RMProxy: Connecting to ResourceManager at /0.0.0.0:8032\n",
      "21/10/13 23:49:14 INFO mapred.FileInputFormat: Total input paths to process : 1\n",
      "21/10/13 23:49:14 INFO mapreduce.JobSubmitter: number of splits:2\n",
      "21/10/13 23:49:14 INFO mapreduce.JobSubmitter: Submitting tokens for job: job_1633859119050_0065\n",
      "21/10/13 23:49:14 INFO impl.YarnClientImpl: Submitted application application_1633859119050_0065\n",
      "21/10/13 23:49:14 INFO mapreduce.Job: The url to track the job: http://quickstart.cloudera:8088/proxy/application_1633859119050_0065/\n",
      "21/10/13 23:49:14 INFO mapreduce.Job: Running job: job_1633859119050_0065\n",
      "21/10/13 23:49:19 INFO mapreduce.Job: Job job_1633859119050_0065 running in uber mode : false\n",
      "21/10/13 23:49:19 INFO mapreduce.Job:  map 0% reduce 0%\n",
      "21/10/13 23:49:24 INFO mapreduce.Job:  map 50% reduce 0%\n",
      "21/10/13 23:49:25 INFO mapreduce.Job:  map 100% reduce 0%\n",
      "21/10/13 23:49:29 INFO mapreduce.Job:  map 100% reduce 100%\n",
      "21/10/13 23:49:29 INFO mapreduce.Job: Job job_1633859119050_0065 completed successfully\n",
      "21/10/13 23:49:29 INFO mapreduce.Job: Counters: 49\n",
      "\tFile System Counters\n",
      "\t\tFILE: Number of bytes read=33\n",
      "\t\tFILE: Number of bytes written=382916\n",
      "\t\tFILE: Number of read operations=0\n",
      "\t\tFILE: Number of large read operations=0\n",
      "\t\tFILE: Number of write operations=0\n",
      "\t\tHDFS: Number of bytes read=271776\n",
      "\t\tHDFS: Number of bytes written=25\n",
      "\t\tHDFS: Number of read operations=9\n",
      "\t\tHDFS: Number of large read operations=0\n",
      "\t\tHDFS: Number of write operations=2\n",
      "\tJob Counters \n",
      "\t\tLaunched map tasks=2\n",
      "\t\tLaunched reduce tasks=1\n",
      "\t\tData-local map tasks=2\n",
      "\t\tTotal time spent by all maps in occupied slots (ms)=5009\n",
      "\t\tTotal time spent by all reduces in occupied slots (ms)=2353\n",
      "\t\tTotal time spent by all map tasks (ms)=5009\n",
      "\t\tTotal time spent by all reduce tasks (ms)=2353\n",
      "\t\tTotal vcore-milliseconds taken by all map tasks=5009\n",
      "\t\tTotal vcore-milliseconds taken by all reduce tasks=2353\n",
      "\t\tTotal megabyte-milliseconds taken by all map tasks=5129216\n",
      "\t\tTotal megabyte-milliseconds taken by all reduce tasks=2409472\n",
      "\tMap-Reduce Framework\n",
      "\t\tMap input records=266\n",
      "\t\tMap output records=1\n",
      "\t\tMap output bytes=25\n",
      "\t\tMap output materialized bytes=39\n",
      "\t\tInput split bytes=328\n",
      "\t\tCombine input records=0\n",
      "\t\tCombine output records=0\n",
      "\t\tReduce input groups=1\n",
      "\t\tReduce shuffle bytes=39\n",
      "\t\tReduce input records=1\n",
      "\t\tReduce output records=1\n",
      "\t\tSpilled Records=2\n",
      "\t\tShuffled Maps =2\n",
      "\t\tFailed Shuffles=0\n",
      "\t\tMerged Map outputs=2\n",
      "\t\tGC time elapsed (ms)=72\n",
      "\t\tCPU time spent (ms)=1610\n",
      "\t\tPhysical memory (bytes) snapshot=780857344\n",
      "\t\tVirtual memory (bytes) snapshot=4714795008\n",
      "\t\tTotal committed heap usage (bytes)=874512384\n",
      "\tShuffle Errors\n",
      "\t\tBAD_ID=0\n",
      "\t\tCONNECTION=0\n",
      "\t\tIO_ERROR=0\n",
      "\t\tWRONG_LENGTH=0\n",
      "\t\tWRONG_MAP=0\n",
      "\t\tWRONG_REDUCE=0\n",
      "\tFile Input Format Counters \n",
      "\t\tBytes Read=271448\n",
      "\tFile Output Format Counters \n",
      "\t\tBytes Written=25\n",
      "21/10/13 23:49:29 INFO streaming.StreamJob: Output directory: /user/cloudera/tierrasCultivables/salidaConsulta1\n"
     ]
    }
   ],
   "source": [
    "! hadoop jar /usr/lib/hadoop-mapreduce/hadoop-streaming.jar -file mapper.py -mapper mapper.py \\\n",
    "-input /user/cloudera/tierrasCultivables/API_AG.LND.ARBL.HA.PC_DS2_es_csv_v2_2593504.csv \\\n",
    "-output /user/cloudera/tierrasCultivables/salidaConsulta1"
   ]
  },
  {
   "cell_type": "code",
   "execution_count": 95,
   "metadata": {},
   "outputs": [
    {
     "name": "stdout",
     "output_type": "stream",
     "text": [
      "Found 2 items\r\n",
      "-rw-r--r--   1 cloudera cloudera          0 2021-10-13 23:49 tierrasCultivables/salidaConsulta1/_SUCCESS\r\n",
      "-rw-r--r--   1 cloudera cloudera         25 2021-10-13 23:49 tierrasCultivables/salidaConsulta1/part-00000\r\n"
     ]
    }
   ],
   "source": [
    "! hadoop fs -ls tierrasCultivables/salidaConsulta1"
   ]
  },
  {
   "cell_type": "code",
   "execution_count": 96,
   "metadata": {},
   "outputs": [
    {
     "name": "stdout",
     "output_type": "stream",
     "text": [
      "Suiza 0.046761042473224\t\r\n"
     ]
    }
   ],
   "source": [
    "! hadoop fs -cat tierrasCultivables/salidaConsulta1/part-00000"
   ]
  },
  {
   "cell_type": "markdown",
   "metadata": {
    "collapsed": true
   },
   "source": [
    "## 6. (2 puntos extra) Si realizas todos los apartados anteriores, puedes sumar hasta 2 puntos extra de la siguiente forma. Encuentra uno o más ficheros de datos, impórtalos en una o más tablas de Hive, y realiza alguna consulta sobre dichos datos. Para encontrar datasets se pueden utilizar las referencias bibliográficas que se indican al final de este documento. Se valorará la originalidad y la complejidad de los datos y consultas."
   ]
  },
  {
   "cell_type": "code",
   "execution_count": 97,
   "metadata": {},
   "outputs": [],
   "source": [
    "! hadoop fs -mkdir aves"
   ]
  },
  {
   "cell_type": "code",
   "execution_count": 98,
   "metadata": {},
   "outputs": [
    {
     "name": "stdout",
     "output_type": "stream",
     "text": [
      "Found 3 items\r\n",
      "drwxr-xr-x   - cloudera cloudera          0 2021-10-13 23:49 aves\r\n",
      "drwxr-xr-x   - cloudera cloudera          0 2021-10-13 23:44 poblacionRural\r\n",
      "drwxr-xr-x   - cloudera cloudera          0 2021-10-13 23:49 tierrasCultivables\r\n"
     ]
    }
   ],
   "source": [
    "! hadoop fs -ls"
   ]
  },
  {
   "cell_type": "code",
   "execution_count": 99,
   "metadata": {},
   "outputs": [],
   "source": [
    "! hadoop fs -put /home/cloudera/BancoMundial/aveseua.csv aves"
   ]
  },
  {
   "cell_type": "code",
   "execution_count": 100,
   "metadata": {},
   "outputs": [
    {
     "name": "stdout",
     "output_type": "stream",
     "text": [
      "Found 1 items\r\n",
      "-rw-r--r--   1 cloudera cloudera     480186 2021-10-13 23:49 aves/aveseua.csv\r\n"
     ]
    }
   ],
   "source": [
    "! hadoop fs -ls aves"
   ]
  },
  {
   "cell_type": "code",
   "execution_count": 101,
   "metadata": {},
   "outputs": [
    {
     "name": "stdout",
     "output_type": "stream",
     "text": [
      "Writing aveseua.hql\n"
     ]
    }
   ],
   "source": [
    "%%writefile aveseua.hql\n",
    "\n",
    "DROP TABLE if EXISTS avesTabla;\n",
    "create external table avesTabla (\n",
    "  id STRING, nombrecomun STRING, familia STRING, genero STRING,\n",
    "    especie STRING, iucn STRING, municipio STRING, ambiente STRING,\n",
    "    procedencia STRING)\n",
    "ROW FORMAT DELIMITED FIELDS TERMINATED BY ',' LOCATION '/user/cloudera/aves';"
   ]
  },
  {
   "cell_type": "code",
   "execution_count": 102,
   "metadata": {},
   "outputs": [
    {
     "name": "stdout",
     "output_type": "stream",
     "text": [
      "scan complete in 2ms\n",
      "Connecting to jdbc:hive2://localhost:10000/default\n",
      "Connected to: Apache Hive (version 1.1.0-cdh5.12.0)\n",
      "Driver: Hive JDBC (version 1.1.0-cdh5.12.0)\n",
      "Transaction isolation: TRANSACTION_REPEATABLE_READ\n",
      "0: jdbc:hive2://localhost:10000/default> \n",
      "0: jdbc:hive2://localhost:10000/default> DROP TABLE if EXISTS avesTabla;\n",
      "INFO  : Compiling command(queryId=hive_20211013234949_fad2c373-b2f2-4fbb-9659-72dc4f707f63): DROP TABLE if EXISTS avesTabla\n",
      "INFO  : Semantic Analysis Completed\n",
      "INFO  : Returning Hive schema: Schema(fieldSchemas:null, properties:null)\n",
      "INFO  : Completed compiling command(queryId=hive_20211013234949_fad2c373-b2f2-4fbb-9659-72dc4f707f63); Time taken: 0.039 seconds\n",
      "INFO  : Concurrency mode is disabled, not creating a lock manager\n",
      "INFO  : Executing command(queryId=hive_20211013234949_fad2c373-b2f2-4fbb-9659-72dc4f707f63): DROP TABLE if EXISTS avesTabla\n",
      "INFO  : Starting task [Stage-0:DDL] in serial mode\n",
      "INFO  : Completed executing command(queryId=hive_20211013234949_fad2c373-b2f2-4fbb-9659-72dc4f707f63); Time taken: 0.04 seconds\n",
      "INFO  : OK\n",
      "No rows affected (0.12 seconds)\n",
      "0: jdbc:hive2://localhost:10000/default> create external table avesTabla (\n",
      "a STRING, genero STRING,. . . . . . . .>   id STRING, nombrecomun STRING, famili \n",
      "pio STRING, ambiente STRING,. . . . . .>     especie STRING, iucn STRING, munici \n",
      ". . . . . . . . . . . . . . . . . . . .>     procedencia STRING)\n",
      "BY ',' LOCATION '/user/cloudera . . . .> ROW FORMAT DELIMITED FIELDS TERMINATED  /aves';\n",
      "INFO  : Compiling command(queryId=hive_20211013234949_5023aa14-1a6b-4c86-8d99-8a7567683885): create external table avesTabla (\n",
      "id STRING, nombrecomun STRING, familia STRING, genero STRING,\n",
      "especie STRING, iucn STRING, municipio STRING, ambiente STRING,\n",
      "procedencia STRING)\n",
      "ROW FORMAT DELIMITED FIELDS TERMINATED BY ',' LOCATION '/user/cloudera/aves'\n",
      "INFO  : Semantic Analysis Completed\n",
      "INFO  : Returning Hive schema: Schema(fieldSchemas:null, properties:null)\n",
      "INFO  : Completed compiling command(queryId=hive_20211013234949_5023aa14-1a6b-4c86-8d99-8a7567683885); Time taken: 0.003 seconds\n",
      "INFO  : Concurrency mode is disabled, not creating a lock manager\n",
      "INFO  : Executing command(queryId=hive_20211013234949_5023aa14-1a6b-4c86-8d99-8a7567683885): create external table avesTabla (\n",
      "id STRING, nombrecomun STRING, familia STRING, genero STRING,\n",
      "especie STRING, iucn STRING, municipio STRING, ambiente STRING,\n",
      "procedencia STRING)\n",
      "ROW FORMAT DELIMITED FIELDS TERMINATED BY ',' LOCATION '/user/cloudera/aves'\n",
      "INFO  : Starting task [Stage-0:DDL] in serial mode\n",
      "INFO  : Completed executing command(queryId=hive_20211013234949_5023aa14-1a6b-4c86-8d99-8a7567683885); Time taken: 0.021 seconds\n",
      "INFO  : OK\n",
      "No rows affected (0.034 seconds)\n",
      "0: jdbc:hive2://localhost:10000/default> \n",
      "Closing: 0: jdbc:hive2://localhost:10000/default\n"
     ]
    }
   ],
   "source": [
    "! beeline -u \"jdbc:hive2://localhost:10000/default\" -f aveseua.hql"
   ]
  },
  {
   "cell_type": "code",
   "execution_count": 103,
   "metadata": {},
   "outputs": [
    {
     "name": "stdout",
     "output_type": "stream",
     "text": [
      "scan complete in 1ms\n",
      "Connecting to jdbc:hive2://localhost:10000/default\n",
      "Connected to: Apache Hive (version 1.1.0-cdh5.12.0)\n",
      "Driver: Hive JDBC (version 1.1.0-cdh5.12.0)\n",
      "Transaction isolation: TRANSACTION_REPEATABLE_READ\n",
      "INFO  : Compiling command(queryId=hive_20211013235050_ad6b868d-7a7b-4041-8bb6-9cc877a25919): drop view if exists avesVista\n",
      "INFO  : Semantic Analysis Completed\n",
      "INFO  : Returning Hive schema: Schema(fieldSchemas:null, properties:null)\n",
      "INFO  : Completed compiling command(queryId=hive_20211013235050_ad6b868d-7a7b-4041-8bb6-9cc877a25919); Time taken: 0.034 seconds\n",
      "INFO  : Concurrency mode is disabled, not creating a lock manager\n",
      "INFO  : Executing command(queryId=hive_20211013235050_ad6b868d-7a7b-4041-8bb6-9cc877a25919): drop view if exists avesVista\n",
      "INFO  : Starting task [Stage-0:DDL] in serial mode\n",
      "INFO  : Completed executing command(queryId=hive_20211013235050_ad6b868d-7a7b-4041-8bb6-9cc877a25919); Time taken: 0.03 seconds\n",
      "INFO  : OK\n",
      "No rows affected (0.102 seconds)\n",
      "INFO  : Compiling command(queryId=hive_20211013235050_b4f044a3-d79c-46ae-875c-44cb4c9ec871): create view avesVista as select id, nombrecomun, familia, genero, especie, iucn, municipio, ambiente, procedencia from avesTabla\n",
      "INFO  : Semantic Analysis Completed\n",
      "INFO  : Returning Hive schema: Schema(fieldSchemas:[FieldSchema(name:id, type:string, comment:null), FieldSchema(name:nombrecomun, type:string, comment:null), FieldSchema(name:familia, type:string, comment:null), FieldSchema(name:genero, type:string, comment:null), FieldSchema(name:especie, type:string, comment:null), FieldSchema(name:iucn, type:string, comment:null), FieldSchema(name:municipio, type:string, comment:null), FieldSchema(name:ambiente, type:string, comment:null), FieldSchema(name:procedencia, type:string, comment:null)], properties:null)\n",
      "INFO  : Completed compiling command(queryId=hive_20211013235050_b4f044a3-d79c-46ae-875c-44cb4c9ec871); Time taken: 0.026 seconds\n",
      "INFO  : Concurrency mode is disabled, not creating a lock manager\n",
      "INFO  : Executing command(queryId=hive_20211013235050_b4f044a3-d79c-46ae-875c-44cb4c9ec871): create view avesVista as select id, nombrecomun, familia, genero, especie, iucn, municipio, ambiente, procedencia from avesTabla\n",
      "INFO  : Starting task [Stage-0:DDL] in serial mode\n",
      "INFO  : Completed executing command(queryId=hive_20211013235050_b4f044a3-d79c-46ae-875c-44cb4c9ec871); Time taken: 0.02 seconds\n",
      "INFO  : OK\n",
      "No rows affected (0.054 seconds)\n",
      "Beeline version 1.1.0-cdh5.12.0 by Apache Hive\n",
      "Closing: 0: jdbc:hive2://localhost:10000/default\n"
     ]
    }
   ],
   "source": [
    "! beeline -u \"jdbc:hive2://localhost:10000/default\" -e \\\n",
    "\"drop view if exists avesVista; create view avesVista as select id, nombrecomun, familia, genero, especie, iucn, municipio, ambiente, procedencia from avesTabla;\""
   ]
  },
  {
   "cell_type": "markdown",
   "metadata": {},
   "source": [
    "### Consultas"
   ]
  },
  {
   "cell_type": "markdown",
   "metadata": {},
   "source": [
    "agrupación por situación de la especie"
   ]
  },
  {
   "cell_type": "code",
   "execution_count": 104,
   "metadata": {},
   "outputs": [
    {
     "name": "stdout",
     "output_type": "stream",
     "text": [
      "scan complete in 1ms\n",
      "Connecting to jdbc:hive2://localhost:10000/default\n",
      "Connected to: Apache Hive (version 1.1.0-cdh5.12.0)\n",
      "Driver: Hive JDBC (version 1.1.0-cdh5.12.0)\n",
      "Transaction isolation: TRANSACTION_REPEATABLE_READ\n",
      "INFO  : Compiling command(queryId=hive_20211013235050_0b9ab329-198c-4221-ab2e-ebdc6b3e8605): select iucn,count(*) from avesVista group by iucn\n",
      "INFO  : Semantic Analysis Completed\n",
      "INFO  : Returning Hive schema: Schema(fieldSchemas:[FieldSchema(name:iucn, type:string, comment:null), FieldSchema(name:_c1, type:bigint, comment:null)], properties:null)\n",
      "INFO  : Completed compiling command(queryId=hive_20211013235050_0b9ab329-198c-4221-ab2e-ebdc6b3e8605); Time taken: 0.063 seconds\n",
      "INFO  : Concurrency mode is disabled, not creating a lock manager\n",
      "INFO  : Executing command(queryId=hive_20211013235050_0b9ab329-198c-4221-ab2e-ebdc6b3e8605): select iucn,count(*) from avesVista group by iucn\n",
      "INFO  : Query ID = hive_20211013235050_0b9ab329-198c-4221-ab2e-ebdc6b3e8605\n",
      "INFO  : Total jobs = 1\n",
      "INFO  : Launching Job 1 out of 1\n",
      "INFO  : Starting task [Stage-1:MAPRED] in serial mode\n",
      "INFO  : Number of reduce tasks not specified. Estimated from input data size: 1\n",
      "INFO  : In order to change the average load for a reducer (in bytes):\n",
      "INFO  :   set hive.exec.reducers.bytes.per.reducer=<number>\n",
      "INFO  : In order to limit the maximum number of reducers:\n",
      "INFO  :   set hive.exec.reducers.max=<number>\n",
      "INFO  : In order to set a constant number of reducers:\n",
      "INFO  :   set mapreduce.job.reduces=<number>\n",
      "INFO  : Starting Job = job_1633859119050_0066, Tracking URL = http://quickstart.cloudera:8088/proxy/application_1633859119050_0066/\n",
      "INFO  : Kill Command = /usr/lib/hadoop/bin/hadoop job  -kill job_1633859119050_0066\n",
      "INFO  : Hadoop job information for Stage-1: number of mappers: 1; number of reducers: 1\n",
      "INFO  : 2021-10-13 23:50:21,830 Stage-1 map = 0%,  reduce = 0%\n",
      "INFO  : 2021-10-13 23:50:25,980 Stage-1 map = 100%,  reduce = 0%, Cumulative CPU 1.0 sec\n",
      "INFO  : 2021-10-13 23:50:31,193 Stage-1 map = 100%,  reduce = 100%, Cumulative CPU 2.24 sec\n",
      "INFO  : MapReduce Total cumulative CPU time: 2 seconds 240 msec\n",
      "INFO  : Ended Job = job_1633859119050_0066\n",
      "INFO  : MapReduce Jobs Launched: \n",
      "INFO  : Stage-Stage-1: Map: 1  Reduce: 1   Cumulative CPU: 2.24 sec   HDFS Read: 487634 HDFS Write: 153 SUCCESS\n",
      "INFO  : Total MapReduce CPU Time Spent: 2 seconds 240 msec\n",
      "INFO  : Completed executing command(queryId=hive_20211013235050_0b9ab329-198c-4221-ab2e-ebdc6b3e8605); Time taken: 15.949 seconds\n",
      "INFO  : OK\n",
      "+--------------------------------------------+-------+--+\n",
      "|                    iucn                    |  _c1  |\n",
      "+--------------------------------------------+-------+--+\n",
      "|                                            | 3     |\n",
      "| Casi amenazado (NT)                        | 34    |\n",
      "| Preocupa chipe alas azulesción menor (lc)  | 2     |\n",
      "| Preocupación menor (lc)                    | 3231  |\n",
      "| Preocupación menor (lc)                    | 1     |\n",
      "| Vulnerable (VU)                            | 8     |\n",
      "+--------------------------------------------+-------+--+\n",
      "6 rows selected (16.067 seconds)\n",
      "Beeline version 1.1.0-cdh5.12.0 by Apache Hive\n",
      "Closing: 0: jdbc:hive2://localhost:10000/default\n"
     ]
    }
   ],
   "source": [
    "! beeline -u \"jdbc:hive2://localhost:10000/default\" -e \\\n",
    "\"select iucn,count(*) from avesVista group by iucn ;\""
   ]
  },
  {
   "cell_type": "markdown",
   "metadata": {},
   "source": [
    "numero de ejemplares en situación \"Casi amenazado (NT)\" agrupados por especie"
   ]
  },
  {
   "cell_type": "code",
   "execution_count": 105,
   "metadata": {},
   "outputs": [
    {
     "name": "stdout",
     "output_type": "stream",
     "text": [
      "scan complete in 2ms\n",
      "Connecting to jdbc:hive2://localhost:10000/default\n",
      "Connected to: Apache Hive (version 1.1.0-cdh5.12.0)\n",
      "Driver: Hive JDBC (version 1.1.0-cdh5.12.0)\n",
      "Transaction isolation: TRANSACTION_REPEATABLE_READ\n",
      "INFO  : Compiling command(queryId=hive_20211013235050_56a2f4cd-0747-4307-b1a3-aa5b581876e3): select especie,count(*) as ejemplares from avesVista where iucn == 'Casi amenazado (NT)' group by especie\n",
      "INFO  : Semantic Analysis Completed\n",
      "INFO  : Returning Hive schema: Schema(fieldSchemas:[FieldSchema(name:especie, type:string, comment:null), FieldSchema(name:ejemplares, type:bigint, comment:null)], properties:null)\n",
      "INFO  : Completed compiling command(queryId=hive_20211013235050_56a2f4cd-0747-4307-b1a3-aa5b581876e3); Time taken: 0.068 seconds\n",
      "INFO  : Concurrency mode is disabled, not creating a lock manager\n",
      "INFO  : Executing command(queryId=hive_20211013235050_56a2f4cd-0747-4307-b1a3-aa5b581876e3): select especie,count(*) as ejemplares from avesVista where iucn == 'Casi amenazado (NT)' group by especie\n",
      "INFO  : Query ID = hive_20211013235050_56a2f4cd-0747-4307-b1a3-aa5b581876e3\n",
      "INFO  : Total jobs = 1\n",
      "INFO  : Launching Job 1 out of 1\n",
      "INFO  : Starting task [Stage-1:MAPRED] in serial mode\n",
      "INFO  : Number of reduce tasks not specified. Estimated from input data size: 1\n",
      "INFO  : In order to change the average load for a reducer (in bytes):\n",
      "INFO  :   set hive.exec.reducers.bytes.per.reducer=<number>\n",
      "INFO  : In order to limit the maximum number of reducers:\n",
      "INFO  :   set hive.exec.reducers.max=<number>\n",
      "INFO  : In order to set a constant number of reducers:\n",
      "INFO  :   set mapreduce.job.reduces=<number>\n",
      "INFO  : Starting Job = job_1633859119050_0067, Tracking URL = http://quickstart.cloudera:8088/proxy/application_1633859119050_0067/\n",
      "INFO  : Kill Command = /usr/lib/hadoop/bin/hadoop job  -kill job_1633859119050_0067\n",
      "INFO  : Hadoop job information for Stage-1: number of mappers: 1; number of reducers: 1\n",
      "INFO  : 2021-10-13 23:50:41,056 Stage-1 map = 0%,  reduce = 0%\n",
      "INFO  : 2021-10-13 23:50:46,390 Stage-1 map = 100%,  reduce = 0%, Cumulative CPU 1.3 sec\n",
      "INFO  : 2021-10-13 23:50:51,582 Stage-1 map = 100%,  reduce = 100%, Cumulative CPU 2.58 sec\n",
      "INFO  : MapReduce Total cumulative CPU time: 2 seconds 580 msec\n",
      "INFO  : Ended Job = job_1633859119050_0067\n",
      "INFO  : MapReduce Jobs Launched: \n",
      "INFO  : Stage-Stage-1: Map: 1  Reduce: 1   Cumulative CPU: 2.58 sec   HDFS Read: 488555 HDFS Write: 162 SUCCESS\n",
      "INFO  : Total MapReduce CPU Time Spent: 2 seconds 580 msec\n",
      "INFO  : Completed executing command(queryId=hive_20211013235050_56a2f4cd-0747-4307-b1a3-aa5b581876e3); Time taken: 17.114 seconds\n",
      "INFO  : OK\n",
      "+----------------------+-------------+--+\n",
      "|       especie        | ejemplares  |\n",
      "+----------------------+-------------+--+\n",
      "| Calidris canutus     | 1           |\n",
      "| Contopus cooperi     | 2           |\n",
      "| Egretta rufescens    | 2           |\n",
      "| Lanius ludovicianus  | 17          |\n",
      "| Quiscalus quiscula   | 4           |\n",
      "| Selasphorus rufus    | 6           |\n",
      "| Setophaga striata    | 1           |\n",
      "| Vireo atricapilla    | 1           |\n",
      "+----------------------+-------------+--+\n",
      "8 rows selected (17.238 seconds)\n",
      "Beeline version 1.1.0-cdh5.12.0 by Apache Hive\n",
      "Closing: 0: jdbc:hive2://localhost:10000/default\n"
     ]
    }
   ],
   "source": [
    "! beeline -u \"jdbc:hive2://localhost:10000/default\" -e \\\n",
    "\"select especie,count(*) as ejemplares from avesVista where iucn == 'Casi amenazado (NT)' group by especie;\""
   ]
  },
  {
   "cell_type": "markdown",
   "metadata": {},
   "source": [
    "Ejemplares en situación \"Vulnerable (VU)\" "
   ]
  },
  {
   "cell_type": "code",
   "execution_count": 106,
   "metadata": {},
   "outputs": [
    {
     "name": "stdout",
     "output_type": "stream",
     "text": [
      "scan complete in 1ms\n",
      "Connecting to jdbc:hive2://localhost:10000/default\n",
      "Connected to: Apache Hive (version 1.1.0-cdh5.12.0)\n",
      "Driver: Hive JDBC (version 1.1.0-cdh5.12.0)\n",
      "Transaction isolation: TRANSACTION_REPEATABLE_READ\n",
      "INFO  : Compiling command(queryId=hive_20211013235050_2b50839c-051b-4b95-9ff9-b9a027fc628e): select id, especie, municipio, ambiente, procedencia from avesVista where iucn == 'Vulnerable (VU)'\n",
      "INFO  : Semantic Analysis Completed\n",
      "INFO  : Returning Hive schema: Schema(fieldSchemas:[FieldSchema(name:id, type:string, comment:null), FieldSchema(name:especie, type:string, comment:null), FieldSchema(name:municipio, type:string, comment:null), FieldSchema(name:ambiente, type:string, comment:null), FieldSchema(name:procedencia, type:string, comment:null)], properties:null)\n",
      "INFO  : Completed compiling command(queryId=hive_20211013235050_2b50839c-051b-4b95-9ff9-b9a027fc628e); Time taken: 0.068 seconds\n",
      "INFO  : Concurrency mode is disabled, not creating a lock manager\n",
      "INFO  : Executing command(queryId=hive_20211013235050_2b50839c-051b-4b95-9ff9-b9a027fc628e): select id, especie, municipio, ambiente, procedencia from avesVista where iucn == 'Vulnerable (VU)'\n",
      "INFO  : Completed executing command(queryId=hive_20211013235050_2b50839c-051b-4b95-9ff9-b9a027fc628e); Time taken: 0.001 seconds\n",
      "INFO  : OK\n",
      "+-----------------------------------+---------------------+----------------+----------------+--------------+--+\n",
      "|                id                 |       especie       |   municipio    |    ambiente    | procedencia  |\n",
      "+-----------------------------------+---------------------+----------------+----------------+--------------+--+\n",
      "| 7c61e03ba1bf1d495f998f5c91684fd9  | Crax rubra          | OKLAHOMA       | Terrestre      | Colectado    |\n",
      "| 88aff865b475db6fade8c0069b6210c2  | Crax rubra          | OKLAHOMA       | Terrestre      | Colectado    |\n",
      "| 8f4af949581d71623fb1a8afecc0c22b  | Crax rubra          | OKLAHOMA       | Terrestre      | Colectado    |\n",
      "| 7a783f14e60c21fbb8b5b0533bcf5a68  | Crax rubra          | SAN FRANCISCO  | Terrestre      | Colectado    |\n",
      "| eb76d6390a04e6f4c56cebc27f03f310  | Podiceps auritus    | ORANGE         | Dulceacuícola  | Observado    |\n",
      "| f4c87c75660b16c533e87b69b84cbc69  | Podiceps auritus    | WASHOE         | Dulceacuícola  | Observado    |\n",
      "| 65894e2fa2acd80c924b4b7f5deb1a19  | Chaetura pelagica   | SAINT LOUIS    | Terrestre      | Observado    |\n",
      "| f7f4d1776c74453bb66ae971d987416c  | Euphagus carolinus  | MADISON        | Terrestre      | Observado    |\n",
      "+-----------------------------------+---------------------+----------------+----------------+--------------+--+\n",
      "8 rows selected (0.159 seconds)\n",
      "Beeline version 1.1.0-cdh5.12.0 by Apache Hive\n",
      "Closing: 0: jdbc:hive2://localhost:10000/default\n"
     ]
    }
   ],
   "source": [
    "! beeline -u \"jdbc:hive2://localhost:10000/default\" -e \\\n",
    "\"select id, especie, municipio, ambiente, procedencia from avesVista where iucn == 'Vulnerable (VU)' ;\""
   ]
  },
  {
   "cell_type": "markdown",
   "metadata": {},
   "source": [
    "Ejemplares en situación \"Casi amenazado (NT)\""
   ]
  },
  {
   "cell_type": "code",
   "execution_count": 107,
   "metadata": {},
   "outputs": [
    {
     "name": "stdout",
     "output_type": "stream",
     "text": [
      "scan complete in 2ms\n",
      "Connecting to jdbc:hive2://localhost:10000/default\n",
      "Connected to: Apache Hive (version 1.1.0-cdh5.12.0)\n",
      "Driver: Hive JDBC (version 1.1.0-cdh5.12.0)\n",
      "Transaction isolation: TRANSACTION_REPEATABLE_READ\n",
      "INFO  : Compiling command(queryId=hive_20211013235151_f3a0d154-2e00-43f4-acd4-87bece818c5f): select id, especie, municipio, ambiente, procedencia from avesVista where iucn == 'Casi amenazado (NT)'\n",
      "INFO  : Semantic Analysis Completed\n",
      "INFO  : Returning Hive schema: Schema(fieldSchemas:[FieldSchema(name:id, type:string, comment:null), FieldSchema(name:especie, type:string, comment:null), FieldSchema(name:municipio, type:string, comment:null), FieldSchema(name:ambiente, type:string, comment:null), FieldSchema(name:procedencia, type:string, comment:null)], properties:null)\n",
      "INFO  : Completed compiling command(queryId=hive_20211013235151_f3a0d154-2e00-43f4-acd4-87bece818c5f); Time taken: 0.073 seconds\n",
      "INFO  : Concurrency mode is disabled, not creating a lock manager\n",
      "INFO  : Executing command(queryId=hive_20211013235151_f3a0d154-2e00-43f4-acd4-87bece818c5f): select id, especie, municipio, ambiente, procedencia from avesVista where iucn == 'Casi amenazado (NT)'\n",
      "INFO  : Completed executing command(queryId=hive_20211013235151_f3a0d154-2e00-43f4-acd4-87bece818c5f); Time taken: 0.0 seconds\n",
      "INFO  : OK\n",
      "+-----------------------------------+----------------------+-----------------------+---------------------------------+--------------+--+\n",
      "|                id                 |       especie        |       municipio       |            ambiente             | procedencia  |\n",
      "+-----------------------------------+----------------------+-----------------------+---------------------------------+--------------+--+\n",
      "| 3a8ebd97cb8769430339ae8328e0e165  | Vireo atricapilla    | KERR                  | Terrestre                       | Colectado    |\n",
      "| 316d5462a4d721c4bbc8bd97b7466f17  | Lanius ludovicianus  | CAMERON               | Terrestre                       | Observado    |\n",
      "| 521003061afadde0656ab8445e41f3cb  | Lanius ludovicianus  | CAMERON               | Terrestre                       | Observado    |\n",
      "| 5711bee25aa31a7396a14571c9fa9638  | Lanius ludovicianus  | COCHISE               | Terrestre                       | Observado    |\n",
      "| 80173e6f60ee463a09a235c6afbe1931  | Lanius ludovicianus  | IMPERIAL              | Terrestre                       | Observado    |\n",
      "| 8b7fc9a7202b2ddf12b564aa90b1bc1d  | Lanius ludovicianus  | BREWSTER              | Terrestre                       | Observado    |\n",
      "| 8cdc58b1c1870639d65cb5e54af0256a  | Lanius ludovicianus  | SARASOTA              | Terrestre                       | Observado    |\n",
      "| 9d3b3725b7ff4d165118b9b7683133e7  | Lanius ludovicianus  | DOUGLAS               | Terrestre                       | Observado    |\n",
      "| 9e72fd8cf3de4dd4b2d359286d7cd72a  | Lanius ludovicianus  | ELLIS                 | Terrestre                       | Observado    |\n",
      "| aad72a2fd271d85c8e85eed777af7b08  | Lanius ludovicianus  | HIDALGO               | Terrestre                       | Observado    |\n",
      "| b180282f66a46e00ccdb2c3ce88443a8  | Lanius ludovicianus  | ORANGE                | Terrestre                       | Observado    |\n",
      "| c2bd7f801292e4cb650b2f41afae20d8  | Lanius ludovicianus  | COCHISE               | Terrestre                       | Observado    |\n",
      "| ccf77da6414ae4652146ee3b629363dd  | Lanius ludovicianus  | YUMA                  | Terrestre                       | Observado    |\n",
      "| cdf2aef366ac5367c1e5c030145bcc80  | Lanius ludovicianus  | CAMERON               | Terrestre                       | Observado    |\n",
      "| e75cec5530ba9560135ea9a6fe46fb4d  | Lanius ludovicianus  | BRAZORIA              | Terrestre                       | Observado    |\n",
      "| e9a5617011773a744888ce47bdb5d841  | Lanius ludovicianus  | GRAYSON               | Terrestre                       | Observado    |\n",
      "| ee4e68c5d13be274db1b7f5003d49efe  | Lanius ludovicianus  | HIDALGO               | Terrestre                       | Observado    |\n",
      "| ef18ef22669678cc4ca3f52ca10cd532  | Lanius ludovicianus  | HIDALGO               | Terrestre                       | Observado    |\n",
      "| 7b0a1aa23ab4b43c8e6438701db68035  | Selasphorus rufus    | SAN JUAN              | Terrestre                       | Observado    |\n",
      "| 98da8f7b19fe28737b724b4e7b3903fa  | Selasphorus rufus    | CLALLAM               | Terrestre                       | Observado    |\n",
      "| a4c252f44e4ad4c0983175e8a62d17c9  | Selasphorus rufus    | RIVERSIDE             | Terrestre                       | Observado    |\n",
      "| b5ddf8358e35fba8a36a7c937d8434b3  | Selasphorus rufus    | CLALLAM               | Terrestre                       | Observado    |\n",
      "| d7eec801fd137dc3d96b1b8c9d85132d  | Selasphorus rufus    | ELLIS                 | Terrestre                       | Observado    |\n",
      "| f46dc25d8c074b9c400d790ae384a39f  | Selasphorus rufus    | EL PASO               | Terrestre                       | Observado    |\n",
      "| 36e3651580a3f1d334dd00ef94724078  | Quiscalus quiscula   | LOUDOUN               | Terrestre                       | Observado    |\n",
      "| 4d599da2d302521189b5f92b0a96cca8  | Quiscalus quiscula   | SAINT LOUIS           | Terrestre                       | Observado    |\n",
      "| b311d321a4f4474135c9b76520a51759  | Quiscalus quiscula   | COOK                  | Terrestre                       | Observado    |\n",
      "| da5e2533d16cdd17fbe2985404ccb9b1  | Quiscalus quiscula   | DISTRICT OF COLUMBIA  | Terrestre                       | Observado    |\n",
      "| 4bbf854e077954d1729d07755d49e2f6  | Contopus cooperi     | MARIN                 | Terrestre                       | Observado    |\n",
      "| bef0a72fd81efb20098b8c692a337046  | Contopus cooperi     | ORANGE                | Terrestre                       | Observado    |\n",
      "| 1abfe77ba161bfede49c5f5a41da6d6b  | Egretta rufescens    | CAMERON               | Dulceacuícola                   | Observado    |\n",
      "| 8df2a78201d4b58c36d6510afa49390b  | Egretta rufescens    | PINELLAS              | Dulceacuícola                   | Observado    |\n",
      "| fac9544a09c3c14c25a7110abf911c91  | Calidris canutus     | GRAYS HARBOR          | Dulceacuícola; Marino; Salobre  | Observado    |\n",
      "| 76e697108922c8ca9c0fd81d1c44d28a  | Setophaga striata    | FAIRFIELD             | Terrestre                       | Observado    |\n",
      "+-----------------------------------+----------------------+-----------------------+---------------------------------+--------------+--+\n",
      "34 rows selected (0.161 seconds)\n",
      "Beeline version 1.1.0-cdh5.12.0 by Apache Hive\n",
      "Closing: 0: jdbc:hive2://localhost:10000/default\n"
     ]
    }
   ],
   "source": [
    "! beeline -u \"jdbc:hive2://localhost:10000/default\" -e \\\n",
    "\"select id, especie, municipio, ambiente, procedencia from avesVista where iucn == 'Casi amenazado (NT)' ;\""
   ]
  },
  {
   "cell_type": "markdown",
   "metadata": {},
   "source": [
    "numero de ejemplares ejemplares agrupados por procedencia"
   ]
  },
  {
   "cell_type": "code",
   "execution_count": 108,
   "metadata": {},
   "outputs": [
    {
     "name": "stdout",
     "output_type": "stream",
     "text": [
      "scan complete in 2ms\n",
      "Connecting to jdbc:hive2://localhost:10000/default\n",
      "Connected to: Apache Hive (version 1.1.0-cdh5.12.0)\n",
      "Driver: Hive JDBC (version 1.1.0-cdh5.12.0)\n",
      "Transaction isolation: TRANSACTION_REPEATABLE_READ\n",
      "INFO  : Compiling command(queryId=hive_20211013235252_ddae60a8-a1f5-425d-b16b-2a44e98e0935): select procedencia, count(*) as ejemplares from avesVista group by procedencia\n",
      "INFO  : Semantic Analysis Completed\n",
      "INFO  : Returning Hive schema: Schema(fieldSchemas:[FieldSchema(name:procedencia, type:string, comment:null), FieldSchema(name:ejemplares, type:bigint, comment:null)], properties:null)\n",
      "INFO  : Completed compiling command(queryId=hive_20211013235252_ddae60a8-a1f5-425d-b16b-2a44e98e0935); Time taken: 0.079 seconds\n",
      "INFO  : Concurrency mode is disabled, not creating a lock manager\n",
      "INFO  : Executing command(queryId=hive_20211013235252_ddae60a8-a1f5-425d-b16b-2a44e98e0935): select procedencia, count(*) as ejemplares from avesVista group by procedencia\n",
      "INFO  : Query ID = hive_20211013235252_ddae60a8-a1f5-425d-b16b-2a44e98e0935\n",
      "INFO  : Total jobs = 1\n",
      "INFO  : Launching Job 1 out of 1\n",
      "INFO  : Starting task [Stage-1:MAPRED] in serial mode\n",
      "INFO  : Number of reduce tasks not specified. Estimated from input data size: 1\n",
      "INFO  : In order to change the average load for a reducer (in bytes):\n",
      "INFO  :   set hive.exec.reducers.bytes.per.reducer=<number>\n",
      "INFO  : In order to limit the maximum number of reducers:\n",
      "INFO  :   set hive.exec.reducers.max=<number>\n",
      "INFO  : In order to set a constant number of reducers:\n",
      "INFO  :   set mapreduce.job.reduces=<number>\n",
      "INFO  : Starting Job = job_1633859119050_0068, Tracking URL = http://quickstart.cloudera:8088/proxy/application_1633859119050_0068/\n",
      "INFO  : Kill Command = /usr/lib/hadoop/bin/hadoop job  -kill job_1633859119050_0068\n",
      "INFO  : Hadoop job information for Stage-1: number of mappers: 1; number of reducers: 1\n",
      "INFO  : 2021-10-13 23:52:18,437 Stage-1 map = 0%,  reduce = 0%\n",
      "INFO  : 2021-10-13 23:52:22,674 Stage-1 map = 100%,  reduce = 0%, Cumulative CPU 0.99 sec\n",
      "INFO  : 2021-10-13 23:52:28,903 Stage-1 map = 100%,  reduce = 100%, Cumulative CPU 2.2 sec\n",
      "INFO  : MapReduce Total cumulative CPU time: 2 seconds 200 msec\n",
      "INFO  : Ended Job = job_1633859119050_0068\n",
      "INFO  : MapReduce Jobs Launched: \n",
      "INFO  : Stage-Stage-1: Map: 1  Reduce: 1   Cumulative CPU: 2.2 sec   HDFS Read: 487740 HDFS Write: 28 SUCCESS\n",
      "INFO  : Total MapReduce CPU Time Spent: 2 seconds 200 msec\n",
      "INFO  : Completed executing command(queryId=hive_20211013235252_ddae60a8-a1f5-425d-b16b-2a44e98e0935); Time taken: 17.531 seconds\n",
      "INFO  : OK\n",
      "+--------------+-------------+--+\n",
      "| procedencia  | ejemplares  |\n",
      "+--------------+-------------+--+\n",
      "| Colectado    | 27          |\n",
      "| Observado    | 3252        |\n",
      "+--------------+-------------+--+\n",
      "2 rows selected (17.661 seconds)\n",
      "Beeline version 1.1.0-cdh5.12.0 by Apache Hive\n",
      "Closing: 0: jdbc:hive2://localhost:10000/default\n"
     ]
    }
   ],
   "source": [
    "! beeline -u \"jdbc:hive2://localhost:10000/default\" -e \\\n",
    "\"select procedencia, count(*) as ejemplares from avesVista group by procedencia ;\""
   ]
  },
  {
   "cell_type": "code",
   "execution_count": null,
   "metadata": {
    "collapsed": true
   },
   "outputs": [],
   "source": []
  }
 ],
 "metadata": {
  "kernelspec": {
   "display_name": "Python 3",
   "language": "python",
   "name": "python3"
  },
  "language_info": {
   "codemirror_mode": {
    "name": "ipython",
    "version": 3
   },
   "file_extension": ".py",
   "mimetype": "text/x-python",
   "name": "python",
   "nbconvert_exporter": "python",
   "pygments_lexer": "ipython3",
   "version": "3.8.6"
  }
 },
 "nbformat": 4,
 "nbformat_minor": 2
}
