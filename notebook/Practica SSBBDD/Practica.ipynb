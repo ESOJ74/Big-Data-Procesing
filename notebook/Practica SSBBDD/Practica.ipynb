{
 "cells": [
  {
   "cell_type": "code",
   "execution_count": 74,
   "metadata": {},
   "outputs": [
    {
     "name": "stdout",
     "output_type": "stream",
     "text": [
      "mkdir: `tierrasCultivables': File exists\n",
      "mkdir: `poblacionRural': File exists\n"
     ]
    }
   ],
   "source": [
    "! hadoop fs -mkdir tierrasCultivables\n",
    "! hadoop fs -mkdir poblacionRural"
   ]
  },
  {
   "cell_type": "code",
   "execution_count": 75,
   "metadata": {},
   "outputs": [
    {
     "name": "stdout",
     "output_type": "stream",
     "text": [
      "Found 2 items\r\n",
      "drwxr-xr-x   - cloudera cloudera          0 2021-10-10 04:37 poblacionRural\r\n",
      "drwxr-xr-x   - cloudera cloudera          0 2021-10-13 09:54 tierrasCultivables\r\n"
     ]
    }
   ],
   "source": [
    "! hadoop fs -ls"
   ]
  },
  {
   "cell_type": "code",
   "execution_count": 76,
   "metadata": {},
   "outputs": [
    {
     "name": "stdout",
     "output_type": "stream",
     "text": [
      "put: `tierrasCultivables/API_AG.LND.ARBL.HA.PC_DS2_es_csv_v2_2593504.csv': File exists\n",
      "put: `poblacionRural/API_SP.RUR.TOTL.ZS_DS2_es_csv_v2_2601419.csv': File exists\n"
     ]
    }
   ],
   "source": [
    "! hadoop fs -put /home/cloudera/BancoMundial/API_AG.LND.ARBL.HA.PC_DS2_es_csv_v2_2593504.csv tierrasCultivables\n",
    "! hadoop fs -put /home/cloudera/BancoMundial/API_SP.RUR.TOTL.ZS_DS2_es_csv_v2_2601419.csv poblacionRural"
   ]
  },
  {
   "cell_type": "code",
   "execution_count": 79,
   "metadata": {},
   "outputs": [
    {
     "name": "stdout",
     "output_type": "stream",
     "text": [
      "Found 1 items\n",
      "-rw-r--r--   1 cloudera cloudera     267352 2021-10-10 04:37 tierrasCultivables/API_AG.LND.ARBL.HA.PC_DS2_es_csv_v2_2593504.csv\n",
      "Found 1 items\n",
      "-rw-r--r--   1 cloudera cloudera     159352 2021-10-10 04:37 poblacionRural/API_SP.RUR.TOTL.ZS_DS2_es_csv_v2_2601419.csv\n"
     ]
    }
   ],
   "source": [
    "! hadoop fs -ls tierrasCultivables\n",
    "! hadoop fs -ls poblacionRural"
   ]
  },
  {
   "cell_type": "code",
   "execution_count": 80,
   "metadata": {},
   "outputs": [
    {
     "name": "stdout",
     "output_type": "stream",
     "text": [
      "Overwriting API_SP.RUR.TOTL.ZS_DS2_es_csv_v2_2601419.hql\n"
     ]
    }
   ],
   "source": [
    "%%writefile API_SP.RUR.TOTL.ZS_DS2_es_csv_v2_2601419.hql\n",
    "\n",
    "DROP TABLE if EXISTS poblacionRuralTabla;\n",
    "create external table poblacionRuralTabla (\n",
    "  CountryName STRING, CountryCode STRING, IndicatorName STRING, IndicatorCode STRING, A1960 STRING, A1961 STRING,\n",
    "    A1962 STRING, A1963 STRING, A1964 STRING, A1965 STRING, A1966 STRING, A1967 STRING, A1968 STRING, A1969 STRING,\n",
    "    A1970 STRING, A1971 STRING, A1972 STRING, A1973 STRING, A1974 STRING, A1975 STRING, A1976 STRING, A1977 STRING,\n",
    "    A1978 STRING, A1979 STRING, A1980 STRING, A1981 STRING, A1982 STRING, A1983 STRING, A1984 STRING, A1985 STRING,\n",
    "    A1986 STRING, A1987 STRING, A1988 STRING, A1989 STRING, A1990 STRING, A1991 STRING, A1992 STRING, A1993 STRING,\n",
    "    A1994 STRING, A1995 STRING, A1996 STRING, A1997 STRING, A1998 STRING, A1999 STRING, A2000 STRING, A2001 STRING, \n",
    "    A2002 STRING, A2003 STRING, A2004 STRING, A2005 STRING, A2006 STRING, A2007 STRING, A2008 STRING, A2009 STRING,\n",
    "    A2010 STRING, A2011 STRING, A2012 STRING, A2013 STRING, A2014 STRING, A2015 STRING, A2016 STRING, A2017 STRING,\n",
    "    A2018 STRING, A2019 STRING, A2020 STRING)\n",
    "ROW FORMAT DELIMITED FIELDS TERMINATED BY ',' LOCATION '/user/cloudera/poblacionRural';"
   ]
  },
  {
   "cell_type": "code",
   "execution_count": 81,
   "metadata": {},
   "outputs": [
    {
     "name": "stdout",
     "output_type": "stream",
     "text": [
      "Overwriting API_AG.LND.ARBL.HA.PC_DS2_es_csv_v2_2593504.hql\n"
     ]
    }
   ],
   "source": [
    "%%writefile API_AG.LND.ARBL.HA.PC_DS2_es_csv_v2_2593504.hql\n",
    "\n",
    "DROP TABLE if EXISTS tierrasCultivablesTabla;\n",
    "create external table tierrasCultivablesTabla (\n",
    "  CountryName STRING, CountryCode STRING, IndicatorName STRING, IndicatorCode STRING, A1960 STRING, A1961 STRING,\n",
    "    A1962 STRING, A1963 STRING, A1964 STRING, A1965 STRING, A1966 STRING, A1967 STRING, A1968 STRING, A1969 STRING,\n",
    "    A1970 STRING, A1971 STRING, A1972 STRING, A1973 STRING, A1974 STRING, A1975 STRING, A1976 STRING, A1977 STRING,\n",
    "    A1978 STRING, A1979 STRING, A1980 STRING, A1981 STRING, A1982 STRING, A1983 STRING, A1984 STRING, A1985 STRING,\n",
    "    A1986 STRING, A1987 STRING, A1988 STRING, A1989 STRING, A1990 STRING, A1991 STRING, A1992 STRING, A1993 STRING,\n",
    "    A1994 STRING, A1995 STRING, A1996 STRING, A1997 STRING, A1998 STRING, A1999 STRING, A2000 STRING, A2001 STRING, \n",
    "    A2002 STRING, A2003 STRING, A2004 STRING, A2005 STRING, A2006 STRING, A2007 STRING, A2008 STRING, A2009 STRING,\n",
    "    A2010 STRING, A2011 STRING, A2012 STRING, A2013 STRING, A2014 STRING, A2015 STRING, A2016 STRING, A2017 STRING,\n",
    "    A2018 STRING, A2019 STRING, A2020 STRING)\n",
    "ROW FORMAT DELIMITED FIELDS TERMINATED BY ',' LOCATION '/user/cloudera/tierrasCultivables';"
   ]
  },
  {
   "cell_type": "code",
   "execution_count": 82,
   "metadata": {},
   "outputs": [
    {
     "name": "stdout",
     "output_type": "stream",
     "text": [
      "scan complete in 2ms\n",
      "Connecting to jdbc:hive2://localhost:10000/default\n",
      "Connected to: Apache Hive (version 1.1.0-cdh5.12.0)\n",
      "Driver: Hive JDBC (version 1.1.0-cdh5.12.0)\n",
      "Transaction isolation: TRANSACTION_REPEATABLE_READ\n",
      "0: jdbc:hive2://localhost:10000/default> \n",
      "Tabla;c:hive2://localhost:10000/default> DROP TABLE if EXISTS tierrasCultivables \n",
      "INFO  : Compiling command(queryId=hive_20211013095858_3950410b-e38a-4dc5-9edf-dcd20d97a613): DROP TABLE if EXISTS tierrasCultivablesTabla\n",
      "INFO  : Semantic Analysis Completed\n",
      "INFO  : Returning Hive schema: Schema(fieldSchemas:null, properties:null)\n",
      "INFO  : Completed compiling command(queryId=hive_20211013095858_3950410b-e38a-4dc5-9edf-dcd20d97a613); Time taken: 0.04 seconds\n",
      "INFO  : Concurrency mode is disabled, not creating a lock manager\n",
      "INFO  : Executing command(queryId=hive_20211013095858_3950410b-e38a-4dc5-9edf-dcd20d97a613): DROP TABLE if EXISTS tierrasCultivablesTabla\n",
      "INFO  : Starting task [Stage-0:DDL] in serial mode\n",
      "INFO  : Completed executing command(queryId=hive_20211013095858_3950410b-e38a-4dc5-9edf-dcd20d97a613); Time taken: 0.079 seconds\n",
      "INFO  : OK\n",
      "No rows affected (0.152 seconds)\n",
      "sTabla (hive2://localhost:10000/default> create external table tierrasCultivable \n",
      "G, IndicatorName STRING, IndicatorCode STRING, A1960 STRING, , CountryCode STRIN A1961 STRING,\n",
      "TRING, A1965 STRING, A1966 STRING, A1967 STRING, A1968 STRING, A1969 STRING,64 S \n",
      "TRING, A1973 STRING, A1974 STRING, A1975 STRING, A1976 STRING, A1977 STRING,72 S \n",
      "TRING, A1981 STRING, A1982 STRING, A1983 STRING, A1984 STRING, A1985 STRING,80 S \n",
      "TRING, A1989 STRING, A1990 STRING, A1991 STRING, A1992 STRING, A199RING, A1988 S 3 STRING,\n",
      "TRING, A1997 STRING, A1998 STRING, A1999 STRING, A2000 STRING, A2001 STRING, 6 S \n",
      "TRING, A2005 STRING, A2006 STRING, A2007 STRING, A2008 STRING, A2009 STRING,04 S \n",
      "TRING, A2013 STRING, A2014 STRING, A2015 STRING, A2016 STRING, A2017 STRING,12 S \n",
      "TRING). . . . . . . . . . . . . . . . .>     A2018 STRING, A2019 STRING, A2020 S \n",
      "BY ',' LOCATION '/user/cloudera/tierrasCultivables';DELIMITED FIELDS TERMINATED  \n",
      "INFO  : Compiling command(queryId=hive_20211013095858_7caf2606-0647-4cab-b968-4478cce08c3f): create external table tierrasCultivablesTabla (\n",
      "CountryName STRING, CountryCode STRING, IndicatorName STRING, IndicatorCode STRING, A1960 STRING, A1961 STRING,\n",
      "A1962 STRING, A1963 STRING, A1964 STRING, A1965 STRING, A1966 STRING, A1967 STRING, A1968 STRING, A1969 STRING,\n",
      "A1970 STRING, A1971 STRING, A1972 STRING, A1973 STRING, A1974 STRING, A1975 STRING, A1976 STRING, A1977 STRING,\n",
      "A1978 STRING, A1979 STRING, A1980 STRING, A1981 STRING, A1982 STRING, A1983 STRING, A1984 STRING, A1985 STRING,\n",
      "A1986 STRING, A1987 STRING, A1988 STRING, A1989 STRING, A1990 STRING, A1991 STRING, A1992 STRING, A1993 STRING,\n",
      "A1994 STRING, A1995 STRING, A1996 STRING, A1997 STRING, A1998 STRING, A1999 STRING, A2000 STRING, A2001 STRING,\n",
      "A2002 STRING, A2003 STRING, A2004 STRING, A2005 STRING, A2006 STRING, A2007 STRING, A2008 STRING, A2009 STRING,\n",
      "A2010 STRING, A2011 STRING, A2012 STRING, A2013 STRING, A2014 STRING, A2015 STRING, A2016 STRING, A2017 STRING,\n",
      "A2018 STRING, A2019 STRING, A2020 STRING)\n",
      "ROW FORMAT DELIMITED FIELDS TERMINATED BY ',' LOCATION '/user/cloudera/tierrasCultivables'\n",
      "INFO  : Semantic Analysis Completed\n",
      "INFO  : Returning Hive schema: Schema(fieldSchemas:null, properties:null)\n",
      "INFO  : Completed compiling command(queryId=hive_20211013095858_7caf2606-0647-4cab-b968-4478cce08c3f); Time taken: 0.007 seconds\n",
      "INFO  : Concurrency mode is disabled, not creating a lock manager\n",
      "INFO  : Executing command(queryId=hive_20211013095858_7caf2606-0647-4cab-b968-4478cce08c3f): create external table tierrasCultivablesTabla (\n",
      "CountryName STRING, CountryCode STRING, IndicatorName STRING, IndicatorCode STRING, A1960 STRING, A1961 STRING,\n",
      "A1962 STRING, A1963 STRING, A1964 STRING, A1965 STRING, A1966 STRING, A1967 STRING, A1968 STRING, A1969 STRING,\n",
      "A1970 STRING, A1971 STRING, A1972 STRING, A1973 STRING, A1974 STRING, A1975 STRING, A1976 STRING, A1977 STRING,\n",
      "A1978 STRING, A1979 STRING, A1980 STRING, A1981 STRING, A1982 STRING, A1983 STRING, A1984 STRING, A1985 STRING,\n",
      "A1986 STRING, A1987 STRING, A1988 STRING, A1989 STRING, A1990 STRING, A1991 STRING, A1992 STRING, A1993 STRING,\n",
      "A1994 STRING, A1995 STRING, A1996 STRING, A1997 STRING, A1998 STRING, A1999 STRING, A2000 STRING, A2001 STRING,\n",
      "A2002 STRING, A2003 STRING, A2004 STRING, A2005 STRING, A2006 STRING, A2007 STRING, A2008 STRING, A2009 STRING,\n",
      "A2010 STRING, A2011 STRING, A2012 STRING, A2013 STRING, A2014 STRING, A2015 STRING, A2016 STRING, A2017 STRING,\n",
      "A2018 STRING, A2019 STRING, A2020 STRING)\n",
      "ROW FORMAT DELIMITED FIELDS TERMINATED BY ',' LOCATION '/user/cloudera/tierrasCultivables'\n",
      "INFO  : Starting task [Stage-0:DDL] in serial mode\n",
      "INFO  : Completed executing command(queryId=hive_20211013095858_7caf2606-0647-4cab-b968-4478cce08c3f); Time taken: 0.032 seconds\n",
      "INFO  : OK\n",
      "No rows affected (0.048 seconds)\n",
      "0: jdbc:hive2://localhost:10000/default> \n",
      "Closing: 0: jdbc:hive2://localhost:10000/default\n"
     ]
    }
   ],
   "source": [
    "! beeline -u \"jdbc:hive2://localhost:10000/default\" -f API_AG.LND.ARBL.HA.PC_DS2_es_csv_v2_2593504.hql"
   ]
  },
  {
   "cell_type": "code",
   "execution_count": 83,
   "metadata": {},
   "outputs": [
    {
     "name": "stdout",
     "output_type": "stream",
     "text": [
      "scan complete in 1ms\n",
      "Connecting to jdbc:hive2://localhost:10000/default\n",
      "Connected to: Apache Hive (version 1.1.0-cdh5.12.0)\n",
      "Driver: Hive JDBC (version 1.1.0-cdh5.12.0)\n",
      "Transaction isolation: TRANSACTION_REPEATABLE_READ\n",
      "0: jdbc:hive2://localhost:10000/default> \n",
      "a; jdbc:hive2://localhost:10000/default> DROP TABLE if EXISTS poblacionRuralTabl \n",
      "INFO  : Compiling command(queryId=hive_20211013095858_2eed8105-e3b9-493f-ae18-451c6c6c0411): DROP TABLE if EXISTS poblacionRuralTabla\n",
      "INFO  : Semantic Analysis Completed\n",
      "INFO  : Returning Hive schema: Schema(fieldSchemas:null, properties:null)\n",
      "INFO  : Completed compiling command(queryId=hive_20211013095858_2eed8105-e3b9-493f-ae18-451c6c6c0411); Time taken: 0.041 seconds\n",
      "INFO  : Concurrency mode is disabled, not creating a lock manager\n",
      "INFO  : Executing command(queryId=hive_20211013095858_2eed8105-e3b9-493f-ae18-451c6c6c0411): DROP TABLE if EXISTS poblacionRuralTabla\n",
      "INFO  : Starting task [Stage-0:DDL] in serial mode\n",
      "INFO  : Completed executing command(queryId=hive_20211013095858_2eed8105-e3b9-493f-ae18-451c6c6c0411); Time taken: 0.041 seconds\n",
      "INFO  : OK\n",
      "No rows affected (0.121 seconds)\n",
      "la (dbc:hive2://localhost:10000/default> create external table poblacionRuralTab \n",
      "G, IndicatorName STRING, IndicatorCode STRING, AryName STRING, CountryCode STRIN 1960 STRING, A1961 STRING,\n",
      "TRING, A1965 STRING, A1966 STRING, A1967 STRING, A1968 STRING, A1969 STRING,64 S \n",
      "TRING, A1973 STRING, A1974 STRING, A1975 STRING, A1976 STRING, A1977 STRING,72 S \n",
      "TRING, A1981 STRING, A1982 STRING, A1983 STRING, A1984 STRING, A1985 STRING,80 S \n",
      "TRING, A1989 STRING, A1990 STRING, A1991 STRING, A1992 STRING, A1993 STRING,88 S \n",
      "TRING, A1997 STRING, A1998 STRING, A1999 STRING, A2000 STRING, A2001 STRING, 6 S \n",
      "TRING, A2005 STRING, A2006 STRING, A2007 STRING, A2008 STRING, A2009 STRING,04 S \n",
      "TRING, A2013 STRING, A2014 STRING, A2015 STRING, A2016 STRING, A2017 STRING,12 S \n",
      "TRING). . . . . . . . . . . . . . . . .>     A2018 STRING, A2019 STRING, A2020 S \n",
      "BY ',' LOCATION '/user/cloudera/poblacionRural';MAT DELIMITED FIELDS TERMINATED  \n",
      "INFO  : Compiling command(queryId=hive_20211013095858_8c042401-ae98-4c05-b9c6-7589929d596b): create external table poblacionRuralTabla (\n",
      "CountryName STRING, CountryCode STRING, IndicatorName STRING, IndicatorCode STRING, A1960 STRING, A1961 STRING,\n",
      "A1962 STRING, A1963 STRING, A1964 STRING, A1965 STRING, A1966 STRING, A1967 STRING, A1968 STRING, A1969 STRING,\n",
      "A1970 STRING, A1971 STRING, A1972 STRING, A1973 STRING, A1974 STRING, A1975 STRING, A1976 STRING, A1977 STRING,\n",
      "A1978 STRING, A1979 STRING, A1980 STRING, A1981 STRING, A1982 STRING, A1983 STRING, A1984 STRING, A1985 STRING,\n",
      "A1986 STRING, A1987 STRING, A1988 STRING, A1989 STRING, A1990 STRING, A1991 STRING, A1992 STRING, A1993 STRING,\n",
      "A1994 STRING, A1995 STRING, A1996 STRING, A1997 STRING, A1998 STRING, A1999 STRING, A2000 STRING, A2001 STRING,\n",
      "A2002 STRING, A2003 STRING, A2004 STRING, A2005 STRING, A2006 STRING, A2007 STRING, A2008 STRING, A2009 STRING,\n",
      "A2010 STRING, A2011 STRING, A2012 STRING, A2013 STRING, A2014 STRING, A2015 STRING, A2016 STRING, A2017 STRING,\n",
      "A2018 STRING, A2019 STRING, A2020 STRING)\n",
      "ROW FORMAT DELIMITED FIELDS TERMINATED BY ',' LOCATION '/user/cloudera/poblacionRural'\n",
      "INFO  : Semantic Analysis Completed\n",
      "INFO  : Returning Hive schema: Schema(fieldSchemas:null, properties:null)\n",
      "INFO  : Completed compiling command(queryId=hive_20211013095858_8c042401-ae98-4c05-b9c6-7589929d596b); Time taken: 0.006 seconds\n",
      "INFO  : Concurrency mode is disabled, not creating a lock manager\n",
      "INFO  : Executing command(queryId=hive_20211013095858_8c042401-ae98-4c05-b9c6-7589929d596b): create external table poblacionRuralTabla (\n",
      "CountryName STRING, CountryCode STRING, IndicatorName STRING, IndicatorCode STRING, A1960 STRING, A1961 STRING,\n",
      "A1962 STRING, A1963 STRING, A1964 STRING, A1965 STRING, A1966 STRING, A1967 STRING, A1968 STRING, A1969 STRING,\n",
      "A1970 STRING, A1971 STRING, A1972 STRING, A1973 STRING, A1974 STRING, A1975 STRING, A1976 STRING, A1977 STRING,\n",
      "A1978 STRING, A1979 STRING, A1980 STRING, A1981 STRING, A1982 STRING, A1983 STRING, A1984 STRING, A1985 STRING,\n",
      "A1986 STRING, A1987 STRING, A1988 STRING, A1989 STRING, A1990 STRING, A1991 STRING, A1992 STRING, A1993 STRING,\n",
      "A1994 STRING, A1995 STRING, A1996 STRING, A1997 STRING, A1998 STRING, A1999 STRING, A2000 STRING, A2001 STRING,\n",
      "A2002 STRING, A2003 STRING, A2004 STRING, A2005 STRING, A2006 STRING, A2007 STRING, A2008 STRING, A2009 STRING,\n",
      "A2010 STRING, A2011 STRING, A2012 STRING, A2013 STRING, A2014 STRING, A2015 STRING, A2016 STRING, A2017 STRING,\n",
      "A2018 STRING, A2019 STRING, A2020 STRING)\n",
      "ROW FORMAT DELIMITED FIELDS TERMINATED BY ',' LOCATION '/user/cloudera/poblacionRural'\n",
      "INFO  : Starting task [Stage-0:DDL] in serial mode\n",
      "INFO  : Completed executing command(queryId=hive_20211013095858_8c042401-ae98-4c05-b9c6-7589929d596b); Time taken: 0.071 seconds\n",
      "INFO  : OK\n",
      "No rows affected (0.087 seconds)\n",
      "0: jdbc:hive2://localhost:10000/default> \n",
      "Closing: 0: jdbc:hive2://localhost:10000/default\n"
     ]
    }
   ],
   "source": [
    "! beeline -u \"jdbc:hive2://localhost:10000/default\" -f API_SP.RUR.TOTL.ZS_DS2_es_csv_v2_2601419.hql"
   ]
  },
  {
   "cell_type": "markdown",
   "metadata": {},
   "source": [
    "## 3. (2 puntos) Crea una vista sobre las tablas creadas. Esta vista tendrá para cada país, su nombre, código, porcentaje de población rural en 2018 y superficie de tierra cultivable en 2018."
   ]
  },
  {
   "cell_type": "code",
   "execution_count": 84,
   "metadata": {
    "scrolled": true
   },
   "outputs": [
    {
     "name": "stdout",
     "output_type": "stream",
     "text": [
      "scan complete in 2ms\n",
      "Connecting to jdbc:hive2://localhost:10000/default\n",
      "Connected to: Apache Hive (version 1.1.0-cdh5.12.0)\n",
      "Driver: Hive JDBC (version 1.1.0-cdh5.12.0)\n",
      "Transaction isolation: TRANSACTION_REPEATABLE_READ\n",
      "INFO  : Compiling command(queryId=hive_20211013095858_48c80972-131f-4388-9ec5-c4f38ab4bbe9): drop view if exists vista\n",
      "INFO  : Semantic Analysis Completed\n",
      "INFO  : Returning Hive schema: Schema(fieldSchemas:null, properties:null)\n",
      "INFO  : Completed compiling command(queryId=hive_20211013095858_48c80972-131f-4388-9ec5-c4f38ab4bbe9); Time taken: 0.036 seconds\n",
      "INFO  : Concurrency mode is disabled, not creating a lock manager\n",
      "INFO  : Executing command(queryId=hive_20211013095858_48c80972-131f-4388-9ec5-c4f38ab4bbe9): drop view if exists vista\n",
      "INFO  : Starting task [Stage-0:DDL] in serial mode\n",
      "INFO  : Completed executing command(queryId=hive_20211013095858_48c80972-131f-4388-9ec5-c4f38ab4bbe9); Time taken: 0.033 seconds\n",
      "INFO  : OK\n",
      "No rows affected (0.107 seconds)\n",
      "INFO  : Compiling command(queryId=hive_20211013095858_59bf7c41-ff15-487a-a576-c9cbc147656b): create view vista as select a.countryname, a.countrycode, cast(a.a2018 as float) as tierraCultivable, cast(b.a2018 as float) as poblacionrural from tierrascultivablesTabla as a join poblacionRuralTabla as b ON a.countrycode = b.countrycode\n",
      "INFO  : Semantic Analysis Completed\n",
      "INFO  : Returning Hive schema: Schema(fieldSchemas:[FieldSchema(name:countryname, type:string, comment:null), FieldSchema(name:countrycode, type:string, comment:null), FieldSchema(name:tierracultivable, type:float, comment:null), FieldSchema(name:poblacionrural, type:float, comment:null)], properties:null)\n",
      "INFO  : Completed compiling command(queryId=hive_20211013095858_59bf7c41-ff15-487a-a576-c9cbc147656b); Time taken: 0.059 seconds\n",
      "INFO  : Concurrency mode is disabled, not creating a lock manager\n",
      "INFO  : Executing command(queryId=hive_20211013095858_59bf7c41-ff15-487a-a576-c9cbc147656b): create view vista as select a.countryname, a.countrycode, cast(a.a2018 as float) as tierraCultivable, cast(b.a2018 as float) as poblacionrural from tierrascultivablesTabla as a join poblacionRuralTabla as b ON a.countrycode = b.countrycode\n",
      "INFO  : Starting task [Stage-0:DDL] in serial mode\n",
      "INFO  : Completed executing command(queryId=hive_20211013095858_59bf7c41-ff15-487a-a576-c9cbc147656b); Time taken: 0.012 seconds\n",
      "INFO  : OK\n",
      "No rows affected (0.078 seconds)\n",
      "Beeline version 1.1.0-cdh5.12.0 by Apache Hive\n",
      "Closing: 0: jdbc:hive2://localhost:10000/default\n"
     ]
    }
   ],
   "source": [
    "! beeline -u \"jdbc:hive2://localhost:10000/default\" -e \\\n",
    "\"drop view if exists vista; create view vista as select a.countryname, a.countrycode, cast(a.a2018 as float) as tierraCultivable, cast(b.a2018 as float) as poblacionrural from tierrascultivablesTabla as a join poblacionRuralTabla as b ON a.countrycode = b.countrycode;\""
   ]
  },
  {
   "cell_type": "markdown",
   "metadata": {},
   "source": [
    "## 4. (3 puntos) Crea las consultas de Hive necesarias para responder las siguientes cuestiones:\n",
    "\n",
    "### o ¿Cuál es el porcentaje de tierra cultivable de Suiza en 2018?"
   ]
  },
  {
   "cell_type": "code",
   "execution_count": 85,
   "metadata": {},
   "outputs": [
    {
     "name": "stdout",
     "output_type": "stream",
     "text": [
      "scan complete in 1ms\n",
      "Connecting to jdbc:hive2://localhost:10000/default\n",
      "Connected to: Apache Hive (version 1.1.0-cdh5.12.0)\n",
      "Driver: Hive JDBC (version 1.1.0-cdh5.12.0)\n",
      "Transaction isolation: TRANSACTION_REPEATABLE_READ\n",
      "INFO  : Compiling command(queryId=hive_20211013095959_7d3e8c54-3c25-44f0-a46a-501546ce9b61): select countryname, countrycode, tierracultivable from vista where countryname = 'Suiza'\n",
      "INFO  : Semantic Analysis Completed\n",
      "INFO  : Returning Hive schema: Schema(fieldSchemas:[FieldSchema(name:countryname, type:string, comment:null), FieldSchema(name:countrycode, type:string, comment:null), FieldSchema(name:tierracultivable, type:float, comment:null)], properties:null)\n",
      "INFO  : Completed compiling command(queryId=hive_20211013095959_7d3e8c54-3c25-44f0-a46a-501546ce9b61); Time taken: 0.086 seconds\n",
      "INFO  : Concurrency mode is disabled, not creating a lock manager\n",
      "INFO  : Executing command(queryId=hive_20211013095959_7d3e8c54-3c25-44f0-a46a-501546ce9b61): select countryname, countrycode, tierracultivable from vista where countryname = 'Suiza'\n",
      "INFO  : Query ID = hive_20211013095959_7d3e8c54-3c25-44f0-a46a-501546ce9b61\n",
      "INFO  : Total jobs = 1\n",
      "INFO  : Starting task [Stage-4:MAPREDLOCAL] in serial mode\n",
      "Execution log at: /var/log/hive/hive-server2.log\n",
      "2021-10-13 09:59:15\tStarting to launch local task to process map join;\tmaximum memory = 932184064\n",
      "2021-10-13 09:59:16\tDump the side-table for tag: 1 with group count: 266 into file: file:/tmp/hive/2a6fda78-39b6-44fc-8e56-d48f527319bd/hive_2021-10-13_09-59-13_569_4554661710321609255-2/-local-10003/HashTable-Stage-3/MapJoin-mapfile411--.hashtable\n",
      "2021-10-13 09:59:16\tUploaded 1 File to: file:/tmp/hive/2a6fda78-39b6-44fc-8e56-d48f527319bd/hive_2021-10-13_09-59-13_569_4554661710321609255-2/-local-10003/HashTable-Stage-3/MapJoin-mapfile411--.hashtable (6041 bytes)\n",
      "2021-10-13 09:59:16\tEnd of local task; Time Taken: 1.021 sec.\n",
      "INFO  : Execution completed successfully\n",
      "INFO  : MapredLocal task succeeded\n",
      "INFO  : Launching Job 1 out of 1\n",
      "INFO  : Starting task [Stage-3:MAPRED] in serial mode\n",
      "INFO  : Number of reduce tasks is set to 0 since there's no reduce operator\n",
      "INFO  : Starting Job = job_1633859119050_0045, Tracking URL = http://quickstart.cloudera:8088/proxy/application_1633859119050_0045/\n",
      "INFO  : Kill Command = /usr/lib/hadoop/bin/hadoop job  -kill job_1633859119050_0045\n",
      "INFO  : Hadoop job information for Stage-3: number of mappers: 1; number of reducers: 0\n",
      "INFO  : 2021-10-13 09:59:22,472 Stage-3 map = 0%,  reduce = 0%\n",
      "INFO  : 2021-10-13 09:59:26,714 Stage-3 map = 100%,  reduce = 0%, Cumulative CPU 1.52 sec\n",
      "INFO  : MapReduce Total cumulative CPU time: 1 seconds 520 msec\n",
      "INFO  : Ended Job = job_1633859119050_0045\n",
      "INFO  : MapReduce Jobs Launched: \n",
      "INFO  : Stage-Stage-3: Map: 1   Cumulative CPU: 1.52 sec   HDFS Read: 277865 HDFS Write: 22 SUCCESS\n",
      "INFO  : Total MapReduce CPU Time Spent: 1 seconds 520 msec\n",
      "INFO  : Completed executing command(queryId=hive_20211013095959_7d3e8c54-3c25-44f0-a46a-501546ce9b61); Time taken: 15.192 seconds\n",
      "INFO  : OK\n",
      "+--------------+--------------+----------------------+--+\n",
      "| countryname  | countrycode  |   tierracultivable   |\n",
      "+--------------+--------------+----------------------+--+\n",
      "| Suiza        | CHE          | 0.04676104336977005  |\n",
      "+--------------+--------------+----------------------+--+\n",
      "1 row selected (15.338 seconds)\n",
      "Beeline version 1.1.0-cdh5.12.0 by Apache Hive\n",
      "Closing: 0: jdbc:hive2://localhost:10000/default\n"
     ]
    }
   ],
   "source": [
    "! beeline -u \"jdbc:hive2://localhost:10000/default\" -e \\\n",
    "\"select countryname, countrycode, tierracultivable from vista where countryname = 'Suiza' ;\""
   ]
  },
  {
   "cell_type": "markdown",
   "metadata": {},
   "source": [
    "#### o ¿Cuál es el porcentaje de tierra cultivable del país que tiene menor población rural en 2010?"
   ]
  },
  {
   "cell_type": "code",
   "execution_count": 86,
   "metadata": {},
   "outputs": [
    {
     "name": "stdout",
     "output_type": "stream",
     "text": [
      "scan complete in 2ms\n",
      "Connecting to jdbc:hive2://localhost:10000/default\n",
      "Connected to: Apache Hive (version 1.1.0-cdh5.12.0)\n",
      "Driver: Hive JDBC (version 1.1.0-cdh5.12.0)\n",
      "Transaction isolation: TRANSACTION_REPEATABLE_READ\n",
      "INFO  : Compiling command(queryId=hive_20211013095959_9090d657-9cfb-4c6c-826f-b3613364ed1b): select countryname, countrycode, poblacionRural, tierracultivable from vista where poblacionRural > 0 order by poblacionRural  LIMIT 1\n",
      "INFO  : Semantic Analysis Completed\n",
      "INFO  : Returning Hive schema: Schema(fieldSchemas:[FieldSchema(name:countryname, type:string, comment:null), FieldSchema(name:countrycode, type:string, comment:null), FieldSchema(name:poblacionrural, type:float, comment:null), FieldSchema(name:tierracultivable, type:float, comment:null)], properties:null)\n",
      "INFO  : Completed compiling command(queryId=hive_20211013095959_9090d657-9cfb-4c6c-826f-b3613364ed1b); Time taken: 0.104 seconds\n",
      "INFO  : Concurrency mode is disabled, not creating a lock manager\n",
      "INFO  : Executing command(queryId=hive_20211013095959_9090d657-9cfb-4c6c-826f-b3613364ed1b): select countryname, countrycode, poblacionRural, tierracultivable from vista where poblacionRural > 0 order by poblacionRural  LIMIT 1\n",
      "INFO  : Query ID = hive_20211013095959_9090d657-9cfb-4c6c-826f-b3613364ed1b\n",
      "INFO  : Total jobs = 1\n",
      "INFO  : Starting task [Stage-5:MAPREDLOCAL] in serial mode\n",
      "Execution log at: /var/log/hive/hive-server2.log\n",
      "2021-10-13 09:59:43\tStarting to launch local task to process map join;\tmaximum memory = 932184064\n",
      "2021-10-13 09:59:44\tDump the side-table for tag: 1 with group count: 266 into file: file:/tmp/hive/4c5f0ad3-6f12-4295-bcdd-34537ec60b09/hive_2021-10-13_09-59-41_632_1183233412232651234-2/-local-10004/HashTable-Stage-2/MapJoin-mapfile421--.hashtable\n",
      "2021-10-13 09:59:44\tUploaded 1 File to: file:/tmp/hive/4c5f0ad3-6f12-4295-bcdd-34537ec60b09/hive_2021-10-13_09-59-41_632_1183233412232651234-2/-local-10004/HashTable-Stage-2/MapJoin-mapfile421--.hashtable (8613 bytes)\n",
      "2021-10-13 09:59:44\tEnd of local task; Time Taken: 1.104 sec.\n",
      "INFO  : Execution completed successfully\n",
      "INFO  : MapredLocal task succeeded\n",
      "INFO  : Launching Job 1 out of 1\n",
      "INFO  : Starting task [Stage-2:MAPRED] in serial mode\n",
      "INFO  : Number of reduce tasks determined at compile time: 1\n",
      "INFO  : In order to change the average load for a reducer (in bytes):\n",
      "INFO  :   set hive.exec.reducers.bytes.per.reducer=<number>\n",
      "INFO  : In order to limit the maximum number of reducers:\n",
      "INFO  :   set hive.exec.reducers.max=<number>\n",
      "INFO  : In order to set a constant number of reducers:\n",
      "INFO  :   set mapreduce.job.reduces=<number>\n",
      "INFO  : Starting Job = job_1633859119050_0046, Tracking URL = http://quickstart.cloudera:8088/proxy/application_1633859119050_0046/\n",
      "INFO  : Kill Command = /usr/lib/hadoop/bin/hadoop job  -kill job_1633859119050_0046\n",
      "INFO  : Hadoop job information for Stage-2: number of mappers: 1; number of reducers: 1\n",
      "INFO  : 2021-10-13 09:59:51,407 Stage-2 map = 0%,  reduce = 0%\n",
      "INFO  : 2021-10-13 09:59:56,604 Stage-2 map = 100%,  reduce = 0%, Cumulative CPU 1.4 sec\n",
      "INFO  : 2021-10-13 10:00:01,836 Stage-2 map = 100%,  reduce = 100%, Cumulative CPU 2.72 sec\n",
      "INFO  : MapReduce Total cumulative CPU time: 2 seconds 720 msec\n",
      "INFO  : Ended Job = job_1633859119050_0046\n",
      "INFO  : MapReduce Jobs Launched: \n",
      "INFO  : Stage-Stage-2: Map: 1  Reduce: 1   Cumulative CPU: 2.72 sec   HDFS Read: 285110 HDFS Write: 29 SUCCESS\n",
      "INFO  : Total MapReduce CPU Time Spent: 2 seconds 720 msec\n",
      "INFO  : Completed executing command(queryId=hive_20211013095959_9090d657-9cfb-4c6c-826f-b3613364ed1b); Time taken: 21.183 seconds\n",
      "INFO  : OK\n",
      "+--------------+--------------+---------------------+-----------------------+--+\n",
      "| countryname  | countrycode  |   poblacionrural    |   tierracultivable    |\n",
      "+--------------+--------------+---------------------+-----------------------+--+\n",
      "| Qatar        | QAT          | 0.8650000095367432  | 0.005032926332205534  |\n",
      "+--------------+--------------+---------------------+-----------------------+--+\n",
      "1 row selected (21.345 seconds)\n",
      "Beeline version 1.1.0-cdh5.12.0 by Apache Hive\n",
      "Closing: 0: jdbc:hive2://localhost:10000/default\n"
     ]
    }
   ],
   "source": [
    "! beeline -u \"jdbc:hive2://localhost:10000/default\" -e \\\n",
    "\"select countryname, countrycode, poblacionRural, tierracultivable from vista where poblacionRural > 0 order by poblacionRural  LIMIT 1;\""
   ]
  },
  {
   "cell_type": "markdown",
   "metadata": {},
   "source": [
    "En este caso he optado por seleccionar los paises que tubieran una poblacionRural mayor que 0 para evitar posibles valores nulos.\n",
    "\n",
    "En caso de no tener esto en cuenta tendríamos el siguiente resultado"
   ]
  },
  {
   "cell_type": "code",
   "execution_count": 87,
   "metadata": {},
   "outputs": [
    {
     "name": "stdout",
     "output_type": "stream",
     "text": [
      "scan complete in 1ms\n",
      "Connecting to jdbc:hive2://localhost:10000/default\n",
      "Connected to: Apache Hive (version 1.1.0-cdh5.12.0)\n",
      "Driver: Hive JDBC (version 1.1.0-cdh5.12.0)\n",
      "Transaction isolation: TRANSACTION_REPEATABLE_READ\n",
      "INFO  : Compiling command(queryId=hive_20211013100000_e1d4da28-ecfd-40b7-97c3-3c766b9d8195): select countryname, poblacionRural, tierracultivable from vista order by poblacionRural  LIMIT 15\n",
      "INFO  : Semantic Analysis Completed\n",
      "INFO  : Returning Hive schema: Schema(fieldSchemas:[FieldSchema(name:countryname, type:string, comment:null), FieldSchema(name:poblacionrural, type:float, comment:null), FieldSchema(name:tierracultivable, type:float, comment:null)], properties:null)\n",
      "INFO  : Completed compiling command(queryId=hive_20211013100000_e1d4da28-ecfd-40b7-97c3-3c766b9d8195); Time taken: 0.081 seconds\n",
      "INFO  : Concurrency mode is disabled, not creating a lock manager\n",
      "INFO  : Executing command(queryId=hive_20211013100000_e1d4da28-ecfd-40b7-97c3-3c766b9d8195): select countryname, poblacionRural, tierracultivable from vista order by poblacionRural  LIMIT 15\n",
      "INFO  : Query ID = hive_20211013100000_e1d4da28-ecfd-40b7-97c3-3c766b9d8195\n",
      "INFO  : Total jobs = 1\n",
      "INFO  : Starting task [Stage-5:MAPREDLOCAL] in serial mode\n",
      "Execution log at: /var/log/hive/hive-server2.log\n",
      "2021-10-13 10:00:29\tStarting to launch local task to process map join;\tmaximum memory = 932184064\n",
      "2021-10-13 10:00:30\tDump the side-table for tag: 1 with group count: 266 into file: file:/tmp/hive/51ccdd71-42a1-4c99-878f-a7a23257fe44/hive_2021-10-13_10-00-27_701_663241072335821414-2/-local-10004/HashTable-Stage-2/MapJoin-mapfile431--.hashtable\n",
      "2021-10-13 10:00:30\tUploaded 1 File to: file:/tmp/hive/51ccdd71-42a1-4c99-878f-a7a23257fe44/hive_2021-10-13_10-00-27_701_663241072335821414-2/-local-10004/HashTable-Stage-2/MapJoin-mapfile431--.hashtable (8613 bytes)\n",
      "2021-10-13 10:00:30\tEnd of local task; Time Taken: 1.056 sec.\n",
      "INFO  : Execution completed successfully\n",
      "INFO  : MapredLocal task succeeded\n",
      "INFO  : Launching Job 1 out of 1\n",
      "INFO  : Starting task [Stage-2:MAPRED] in serial mode\n",
      "INFO  : Number of reduce tasks determined at compile time: 1\n",
      "INFO  : In order to change the average load for a reducer (in bytes):\n",
      "INFO  :   set hive.exec.reducers.bytes.per.reducer=<number>\n",
      "INFO  : In order to limit the maximum number of reducers:\n",
      "INFO  :   set hive.exec.reducers.max=<number>\n",
      "INFO  : In order to set a constant number of reducers:\n",
      "INFO  :   set mapreduce.job.reduces=<number>\n",
      "INFO  : Starting Job = job_1633859119050_0047, Tracking URL = http://quickstart.cloudera:8088/proxy/application_1633859119050_0047/\n",
      "INFO  : Kill Command = /usr/lib/hadoop/bin/hadoop job  -kill job_1633859119050_0047\n",
      "INFO  : Hadoop job information for Stage-2: number of mappers: 1; number of reducers: 1\n",
      "INFO  : 2021-10-13 10:00:36,315 Stage-2 map = 0%,  reduce = 0%\n",
      "INFO  : 2021-10-13 10:00:41,538 Stage-2 map = 100%,  reduce = 0%, Cumulative CPU 1.28 sec\n",
      "INFO  : 2021-10-13 10:00:46,728 Stage-2 map = 100%,  reduce = 100%, Cumulative CPU 2.59 sec\n",
      "INFO  : MapReduce Total cumulative CPU time: 2 seconds 590 msec\n",
      "INFO  : Ended Job = job_1633859119050_0047\n",
      "INFO  : MapReduce Jobs Launched: \n",
      "INFO  : Stage-Stage-2: Map: 1  Reduce: 1   Cumulative CPU: 2.59 sec   HDFS Read: 283734 HDFS Write: 389 SUCCESS\n",
      "INFO  : Total MapReduce CPU Time Spent: 2 seconds 590 msec\n",
      "INFO  : Completed executing command(queryId=hive_20211013100000_e1d4da28-ecfd-40b7-97c3-3c766b9d8195); Time taken: 21.063 seconds\n",
      "INFO  : OK\n",
      "+-------------------------------------------+---------------------+------------------------+--+\n",
      "|                countryname                |   poblacionrural    |    tierracultivable    |\n",
      "+-------------------------------------------+---------------------+------------------------+--+\n",
      "| Kosovo                                    | NULL                | NULL                   |\n",
      "| Isla de San Martín (parte francesa)       | NULL                | NULL                   |\n",
      "| Eritrea                                   | NULL                | 0.19983798265457153    |\n",
      "| No clasificado                            | NULL                | NULL                   |\n",
      "| Bermudas                                  | 0.0                 | 0.0046934401616454124  |\n",
      "| Islas Caimán                              | 0.0                 | 0.0031166239641606808  |\n",
      "| Nauru                                     | 0.0                 | NULL                   |\n",
      "| Gibraltar                                 | 0.0                 | NULL                   |\n",
      "| Sint Maarten (Dutch part)                 | 0.0                 | NULL                   |\n",
      "| \"Región Administrativa Especial de Macao  | 0.0                 | NULL                   |\n",
      "| Mónaco                                    | 0.0                 | NULL                   |\n",
      "| \"Hong Kong                                | 0.0                 | 4.1938931099139154E-4  |\n",
      "| Kuwait                                    | 0.0                 | 0.00193362170830369    |\n",
      "| Singapur                                  | 0.0                 | 9.931409294949844E-5   |\n",
      "| Qatar                                     | 0.8650000095367432  | 0.005032926332205534   |\n",
      "+-------------------------------------------+---------------------+------------------------+--+\n",
      "15 rows selected (21.201 seconds)\n",
      "Beeline version 1.1.0-cdh5.12.0 by Apache Hive\n",
      "Closing: 0: jdbc:hive2://localhost:10000/default\n"
     ]
    }
   ],
   "source": [
    "! beeline -u \"jdbc:hive2://localhost:10000/default\" -e \\\n",
    "\"select countryname, poblacionRural, tierracultivable from vista order by poblacionRural  LIMIT 15;\""
   ]
  },
  {
   "cell_type": "markdown",
   "metadata": {},
   "source": [
    "#### o ¿Cuáles son los cinco países con mayor población rural en 2018?"
   ]
  },
  {
   "cell_type": "code",
   "execution_count": 88,
   "metadata": {},
   "outputs": [
    {
     "name": "stdout",
     "output_type": "stream",
     "text": [
      "scan complete in 2ms\n",
      "Connecting to jdbc:hive2://localhost:10000/default\n",
      "Connected to: Apache Hive (version 1.1.0-cdh5.12.0)\n",
      "Driver: Hive JDBC (version 1.1.0-cdh5.12.0)\n",
      "Transaction isolation: TRANSACTION_REPEATABLE_READ\n",
      "INFO  : Compiling command(queryId=hive_20211013100101_386b22a7-37ac-4ea2-b855-31a5af29e73e): select countryname, poblacionRural from vista order by poblacionRural DESC LIMIT 5\n",
      "INFO  : Semantic Analysis Completed\n",
      "INFO  : Returning Hive schema: Schema(fieldSchemas:[FieldSchema(name:countryname, type:string, comment:null), FieldSchema(name:poblacionrural, type:float, comment:null)], properties:null)\n",
      "INFO  : Completed compiling command(queryId=hive_20211013100101_386b22a7-37ac-4ea2-b855-31a5af29e73e); Time taken: 0.08 seconds\n",
      "INFO  : Concurrency mode is disabled, not creating a lock manager\n",
      "INFO  : Executing command(queryId=hive_20211013100101_386b22a7-37ac-4ea2-b855-31a5af29e73e): select countryname, poblacionRural from vista order by poblacionRural DESC LIMIT 5\n",
      "INFO  : Query ID = hive_20211013100101_386b22a7-37ac-4ea2-b855-31a5af29e73e\n",
      "INFO  : Total jobs = 1\n",
      "INFO  : Starting task [Stage-5:MAPREDLOCAL] in serial mode\n",
      "Execution log at: /var/log/hive/hive-server2.log\n",
      "2021-10-13 10:01:28\tStarting to launch local task to process map join;\tmaximum memory = 932184064\n",
      "2021-10-13 10:01:29\tDump the side-table for tag: 1 with group count: 266 into file: file:/tmp/hive/af377274-7edc-4205-b88b-ea86074a00b8/hive_2021-10-13_10-01-26_172_7043849287153974136-2/-local-10004/HashTable-Stage-2/MapJoin-mapfile441--.hashtable\n",
      "2021-10-13 10:01:29\tUploaded 1 File to: file:/tmp/hive/af377274-7edc-4205-b88b-ea86074a00b8/hive_2021-10-13_10-01-26_172_7043849287153974136-2/-local-10004/HashTable-Stage-2/MapJoin-mapfile441--.hashtable (8613 bytes)\n",
      "2021-10-13 10:01:29\tEnd of local task; Time Taken: 1.01 sec.\n",
      "INFO  : Execution completed successfully\n",
      "INFO  : MapredLocal task succeeded\n",
      "INFO  : Launching Job 1 out of 1\n",
      "INFO  : Starting task [Stage-2:MAPRED] in serial mode\n",
      "INFO  : Number of reduce tasks determined at compile time: 1\n",
      "INFO  : In order to change the average load for a reducer (in bytes):\n",
      "INFO  :   set hive.exec.reducers.bytes.per.reducer=<number>\n",
      "INFO  : In order to limit the maximum number of reducers:\n",
      "INFO  :   set hive.exec.reducers.max=<number>\n",
      "INFO  : In order to set a constant number of reducers:\n",
      "INFO  :   set mapreduce.job.reduces=<number>\n",
      "INFO  : Starting Job = job_1633859119050_0048, Tracking URL = http://quickstart.cloudera:8088/proxy/application_1633859119050_0048/\n",
      "INFO  : Kill Command = /usr/lib/hadoop/bin/hadoop job  -kill job_1633859119050_0048\n",
      "INFO  : Hadoop job information for Stage-2: number of mappers: 1; number of reducers: 1\n",
      "INFO  : 2021-10-13 10:01:34,108 Stage-2 map = 0%,  reduce = 0%\n",
      "INFO  : 2021-10-13 10:01:39,305 Stage-2 map = 100%,  reduce = 0%, Cumulative CPU 1.26 sec\n",
      "INFO  : 2021-10-13 10:01:45,571 Stage-2 map = 100%,  reduce = 100%, Cumulative CPU 2.47 sec\n",
      "INFO  : MapReduce Total cumulative CPU time: 2 seconds 470 msec\n",
      "INFO  : Ended Job = job_1633859119050_0048\n",
      "INFO  : MapReduce Jobs Launched: \n",
      "INFO  : Stage-Stage-2: Map: 1  Reduce: 1   Cumulative CPU: 2.47 sec   HDFS Read: 283234 HDFS Write: 92 SUCCESS\n",
      "INFO  : Total MapReduce CPU Time Spent: 2 seconds 470 msec\n",
      "INFO  : Completed executing command(queryId=hive_20211013100101_386b22a7-37ac-4ea2-b855-31a5af29e73e); Time taken: 20.402 seconds\n",
      "INFO  : OK\n",
      "+---------------------+--------------------+--+\n",
      "|     countryname     |   poblacionrural   |\n",
      "+---------------------+--------------------+--+\n",
      "| Burundi             | 86.96800231933594  |\n",
      "| Papua Nueva Guinea  | 86.83100128173828  |\n",
      "| Liechtenstein       | 85.66200256347656  |\n",
      "| Níger               | 83.57499694824219  |\n",
      "| Malawi              | 83.06300354003906  |\n",
      "+---------------------+--------------------+--+\n",
      "5 rows selected (20.535 seconds)\n",
      "Beeline version 1.1.0-cdh5.12.0 by Apache Hive\n",
      "Closing: 0: jdbc:hive2://localhost:10000/default\n"
     ]
    }
   ],
   "source": [
    "! beeline -u \"jdbc:hive2://localhost:10000/default\" -e \\\n",
    "\"select countryname, poblacionRural from vista order by poblacionRural DESC LIMIT 5;\""
   ]
  },
  {
   "cell_type": "markdown",
   "metadata": {
    "collapsed": true
   },
   "source": [
    "## 5. (2 puntos) Desarrolla el código MapReduce en Python que implemente la primera consulta del apartado anterior."
   ]
  },
  {
   "cell_type": "markdown",
   "metadata": {},
   "source": [
    "Implementamos y ejecutamos la función map."
   ]
  },
  {
   "cell_type": "code",
   "execution_count": 89,
   "metadata": {},
   "outputs": [
    {
     "name": "stdout",
     "output_type": "stream",
     "text": [
      "Overwriting mapper.py\n"
     ]
    }
   ],
   "source": [
    "%%writefile mapper.py\n",
    "#!/usr/bin/env python\n",
    " \n",
    "import sys\n",
    "\n",
    "for line in sys.stdin:\n",
    "    data = line.strip().split(\",\")   \n",
    "    if len(data) == 65:\n",
    "        countryname, CountryCode, IndicatorName, IndicatorCode, a1960,a1961,a1962,a1963,a1964,a1965,a1966,a1967,a1968,\\\n",
    "        a1969,a1970,a1971,a1972,a1973,a1974,a1975,a1976,a1977,a1978,a1979,a1980,a1981,a1982,a1983,a1984,a1985,a1986,\\\n",
    "        a1987,a1988,a1989,a1990,a1991,a1992,a1993,a1994,a1995,a1996,a1997,a1998,a1999,a2000,a2001,a2002,a2003,a2004,\\\n",
    "        a2005,a2006,a2007,a2008,a2009,a2010,a2011,a2012,a2013,a2014,a2015,a2016,a2017,a2018,a2019,a2020 = data\n",
    "        if countryname == \"Suiza\":\n",
    "            print (\"%s %s\" % (countryname, a2018))"
   ]
  },
  {
   "cell_type": "markdown",
   "metadata": {},
   "source": [
    "Se habilitan los permisos de acceso en el fichero mapper.py a través de consola"
   ]
  },
  {
   "cell_type": "code",
   "execution_count": 90,
   "metadata": {},
   "outputs": [
    {
     "name": "stdout",
     "output_type": "stream",
     "text": [
      "Suiza 0.046761042473224\r\n"
     ]
    }
   ],
   "source": [
    "! cat /home/cloudera/BancoMundial/API_AG.LND.ARBL.HA.PC_DS2_es_csv_v2_2593504.csv | ./mapper.py"
   ]
  },
  {
   "cell_type": "markdown",
   "metadata": {},
   "source": [
    "Ejecutamos el código de la función Map en Hadoop"
   ]
  },
  {
   "cell_type": "code",
   "execution_count": 91,
   "metadata": {},
   "outputs": [
    {
     "name": "stdout",
     "output_type": "stream",
     "text": [
      "21/10/13 10:04:30 WARN streaming.StreamJob: -file option is deprecated, please use generic option -files instead.\n",
      "packageJobJar: [mapper.py] [/usr/lib/hadoop-mapreduce/hadoop-streaming-2.6.0-cdh5.12.0.jar] /tmp/streamjob3055076334595305312.jar tmpDir=null\n",
      "21/10/13 10:04:31 INFO client.RMProxy: Connecting to ResourceManager at /0.0.0.0:8032\n",
      "21/10/13 10:04:31 INFO client.RMProxy: Connecting to ResourceManager at /0.0.0.0:8032\n",
      "21/10/13 10:04:31 INFO mapred.FileInputFormat: Total input paths to process : 1\n",
      "21/10/13 10:04:31 INFO mapreduce.JobSubmitter: number of splits:2\n",
      "21/10/13 10:04:32 INFO mapreduce.JobSubmitter: Submitting tokens for job: job_1633859119050_0049\n",
      "21/10/13 10:04:32 INFO impl.YarnClientImpl: Submitted application application_1633859119050_0049\n",
      "21/10/13 10:04:32 INFO mapreduce.Job: The url to track the job: http://quickstart.cloudera:8088/proxy/application_1633859119050_0049/\n",
      "21/10/13 10:04:32 INFO mapreduce.Job: Running job: job_1633859119050_0049\n",
      "21/10/13 10:04:37 INFO mapreduce.Job: Job job_1633859119050_0049 running in uber mode : false\n",
      "21/10/13 10:04:37 INFO mapreduce.Job:  map 0% reduce 0%\n",
      "21/10/13 10:04:42 INFO mapreduce.Job:  map 50% reduce 0%\n",
      "21/10/13 10:04:43 INFO mapreduce.Job:  map 100% reduce 0%\n",
      "21/10/13 10:04:47 INFO mapreduce.Job:  map 100% reduce 100%\n",
      "21/10/13 10:04:47 INFO mapreduce.Job: Job job_1633859119050_0049 completed successfully\n",
      "21/10/13 10:04:47 INFO mapreduce.Job: Counters: 49\n",
      "\tFile System Counters\n",
      "\t\tFILE: Number of bytes read=33\n",
      "\t\tFILE: Number of bytes written=382916\n",
      "\t\tFILE: Number of read operations=0\n",
      "\t\tFILE: Number of large read operations=0\n",
      "\t\tFILE: Number of write operations=0\n",
      "\t\tHDFS: Number of bytes read=271776\n",
      "\t\tHDFS: Number of bytes written=25\n",
      "\t\tHDFS: Number of read operations=9\n",
      "\t\tHDFS: Number of large read operations=0\n",
      "\t\tHDFS: Number of write operations=2\n",
      "\tJob Counters \n",
      "\t\tLaunched map tasks=2\n",
      "\t\tLaunched reduce tasks=1\n",
      "\t\tData-local map tasks=2\n",
      "\t\tTotal time spent by all maps in occupied slots (ms)=4984\n",
      "\t\tTotal time spent by all reduces in occupied slots (ms)=2359\n",
      "\t\tTotal time spent by all map tasks (ms)=4984\n",
      "\t\tTotal time spent by all reduce tasks (ms)=2359\n",
      "\t\tTotal vcore-milliseconds taken by all map tasks=4984\n",
      "\t\tTotal vcore-milliseconds taken by all reduce tasks=2359\n",
      "\t\tTotal megabyte-milliseconds taken by all map tasks=5103616\n",
      "\t\tTotal megabyte-milliseconds taken by all reduce tasks=2415616\n",
      "\tMap-Reduce Framework\n",
      "\t\tMap input records=266\n",
      "\t\tMap output records=1\n",
      "\t\tMap output bytes=25\n",
      "\t\tMap output materialized bytes=39\n",
      "\t\tInput split bytes=328\n",
      "\t\tCombine input records=0\n",
      "\t\tCombine output records=0\n",
      "\t\tReduce input groups=1\n",
      "\t\tReduce shuffle bytes=39\n",
      "\t\tReduce input records=1\n",
      "\t\tReduce output records=1\n",
      "\t\tSpilled Records=2\n",
      "\t\tShuffled Maps =2\n",
      "\t\tFailed Shuffles=0\n",
      "\t\tMerged Map outputs=2\n",
      "\t\tGC time elapsed (ms)=65\n",
      "\t\tCPU time spent (ms)=1670\n",
      "\t\tPhysical memory (bytes) snapshot=790564864\n",
      "\t\tVirtual memory (bytes) snapshot=4727496704\n",
      "\t\tTotal committed heap usage (bytes)=874512384\n",
      "\tShuffle Errors\n",
      "\t\tBAD_ID=0\n",
      "\t\tCONNECTION=0\n",
      "\t\tIO_ERROR=0\n",
      "\t\tWRONG_LENGTH=0\n",
      "\t\tWRONG_MAP=0\n",
      "\t\tWRONG_REDUCE=0\n",
      "\tFile Input Format Counters \n",
      "\t\tBytes Read=271448\n",
      "\tFile Output Format Counters \n",
      "\t\tBytes Written=25\n",
      "21/10/13 10:04:47 INFO streaming.StreamJob: Output directory: /user/cloudera/tierrasCultivables/salidaConsulta1\n"
     ]
    }
   ],
   "source": [
    "! hadoop jar /usr/lib/hadoop-mapreduce/hadoop-streaming.jar -file mapper.py -mapper mapper.py \\\n",
    "-input /user/cloudera/tierrasCultivables/API_AG.LND.ARBL.HA.PC_DS2_es_csv_v2_2593504.csv \\\n",
    "-output /user/cloudera/tierrasCultivables/salidaConsulta1"
   ]
  },
  {
   "cell_type": "code",
   "execution_count": 92,
   "metadata": {},
   "outputs": [
    {
     "name": "stdout",
     "output_type": "stream",
     "text": [
      "Found 2 items\r\n",
      "-rw-r--r--   1 cloudera cloudera          0 2021-10-13 10:04 tierrasCultivables/salidaConsulta1/_SUCCESS\r\n",
      "-rw-r--r--   1 cloudera cloudera         25 2021-10-13 10:04 tierrasCultivables/salidaConsulta1/part-00000\r\n"
     ]
    }
   ],
   "source": [
    "! hadoop fs -ls tierrasCultivables/salidaConsulta1"
   ]
  },
  {
   "cell_type": "code",
   "execution_count": 93,
   "metadata": {},
   "outputs": [
    {
     "name": "stdout",
     "output_type": "stream",
     "text": [
      "Suiza 0.046761042473224\t\r\n"
     ]
    }
   ],
   "source": [
    "! hadoop fs -cat tierrasCultivables/salidaConsulta1/part-00000"
   ]
  },
  {
   "cell_type": "code",
   "execution_count": null,
   "metadata": {
    "collapsed": true
   },
   "outputs": [],
   "source": []
  }
 ],
 "metadata": {
  "kernelspec": {
   "display_name": "Python 3",
   "language": "python",
   "name": "python3"
  },
  "language_info": {
   "codemirror_mode": {
    "name": "ipython",
    "version": 3
   },
   "file_extension": ".py",
   "mimetype": "text/x-python",
   "name": "python",
   "nbconvert_exporter": "python",
   "pygments_lexer": "ipython3",
   "version": "3.8.6"
  }
 },
 "nbformat": 4,
 "nbformat_minor": 2
}
