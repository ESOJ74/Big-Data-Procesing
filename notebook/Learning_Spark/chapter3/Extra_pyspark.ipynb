{
 "cells": [
  {
   "cell_type": "code",
   "execution_count": 8,
   "id": "d2739931",
   "metadata": {},
   "outputs": [],
   "source": [
    "import sys\n",
    "from pyspark.sql import SparkSession\n",
    "from pyspark.sql.functions import count"
   ]
  },
  {
   "cell_type": "code",
   "execution_count": 9,
   "id": "d6fe8d3b",
   "metadata": {},
   "outputs": [],
   "source": [
    "spark = (SparkSession\n",
    " .builder\n",
    " .appName(\"Extra\")\n",
    " .config(\"spark.jars.packages\", \"org.apache.spark:spark-avro_2.12:3.1.2\")\n",
    " .getOrCreate())"
   ]
  },
  {
   "cell_type": "markdown",
   "id": "eacee067",
   "metadata": {},
   "source": [
    "# Leer el CSV del ejemplo del cap2 y obtener la estructura del schema dado por defecto"
   ]
  },
  {
   "cell_type": "code",
   "execution_count": 10,
   "id": "5c38b466",
   "metadata": {},
   "outputs": [],
   "source": [
    "mnm_file = \"../chapter2/mnm_dataset.csv\"\n",
    "mnm_df = (spark.read.format(\"csv\")\n",
    " .option(\"header\", \"true\")\n",
    " .option(\"inferSchema\", \"true\")\n",
    " .load(mnm_file))"
   ]
  },
  {
   "cell_type": "code",
   "execution_count": 11,
   "id": "6e2481e0",
   "metadata": {},
   "outputs": [
    {
     "name": "stdout",
     "output_type": "stream",
     "text": [
      "root\n",
      " |-- State: string (nullable = true)\n",
      " |-- Color: string (nullable = true)\n",
      " |-- Count: integer (nullable = true)\n",
      "\n"
     ]
    }
   ],
   "source": [
    "mnm_df.printSchema()"
   ]
  },
  {
   "cell_type": "code",
   "execution_count": 12,
   "id": "893fba19",
   "metadata": {},
   "outputs": [
    {
     "data": {
      "text/plain": [
       "StructType(List(StructField(State,StringType,true),StructField(Color,StringType,true),StructField(Count,IntegerType,true)))"
      ]
     },
     "execution_count": 12,
     "metadata": {},
     "output_type": "execute_result"
    }
   ],
   "source": [
    "mnm_df.schema"
   ]
  },
  {
   "cell_type": "markdown",
   "id": "d3e08541",
   "metadata": {},
   "source": [
    "# Cuando se define un schema al definir un campo por ejemplo\n",
    "StructField('Delay', FloatType(), True) ¿qué significa el último\n",
    "parámetro Boolean?"
   ]
  },
  {
   "cell_type": "markdown",
   "id": "0f78ef01",
   "metadata": {},
   "source": [
    "Si acepta o no valores nulos"
   ]
  },
  {
   "cell_type": "markdown",
   "id": "5cf73275",
   "metadata": {},
   "source": [
    "# Utilizando el mismo ejemplo utilizado en el capítulo para guardar en parquet y guardar los datos en los formatos:\n",
    "* i. JSON\n",
    "* ii. CSV (dándole otro nombre para evitar sobrescribir el fichero origen)\n",
    "* iii. AVRO"
   ]
  },
  {
   "cell_type": "code",
   "execution_count": 14,
   "id": "ecd3bde4",
   "metadata": {},
   "outputs": [],
   "source": [
    "jsonPath = \"json_pyspark\"\n",
    "csvPath = \"csv_pyspark\"\n",
    "avroPath = \"avro_pyspark\"\n",
    "mnm_df.write.format(\"json\").save(jsonPath)\n",
    "mnm_df.write.format(\"csv\").save(csvPath)\n",
    "mnm_df.write.format(\"avro\").save(avroPath)"
   ]
  },
  {
   "cell_type": "code",
   "execution_count": 18,
   "id": "6eccacb6",
   "metadata": {},
   "outputs": [],
   "source": [
    "mnm_file = \"avro_pyspark\"\n",
    "mnm_df2 = (spark.read.format(\"avro\")\n",
    " .option(\"header\", \"true\")\n",
    " .option(\"inferSchema\", \"true\")\n",
    " .load(mnm_file))"
   ]
  },
  {
   "cell_type": "code",
   "execution_count": 19,
   "id": "7349810a",
   "metadata": {},
   "outputs": [
    {
     "data": {
      "text/plain": [
       "[Row(State='TX', Color='Red', Count=20),\n",
       " Row(State='NV', Color='Blue', Count=66),\n",
       " Row(State='CO', Color='Blue', Count=79),\n",
       " Row(State='OR', Color='Blue', Count=71),\n",
       " Row(State='WA', Color='Yellow', Count=93)]"
      ]
     },
     "execution_count": 19,
     "metadata": {},
     "output_type": "execute_result"
    }
   ],
   "source": [
    "mnm_df2.take(5)"
   ]
  },
  {
   "cell_type": "code",
   "execution_count": null,
   "id": "85904714",
   "metadata": {},
   "outputs": [],
   "source": []
  }
 ],
 "metadata": {
  "kernelspec": {
   "display_name": "Python 3",
   "language": "python",
   "name": "python3"
  },
  "language_info": {
   "codemirror_mode": {
    "name": "ipython",
    "version": 3
   },
   "file_extension": ".py",
   "mimetype": "text/x-python",
   "name": "python",
   "nbconvert_exporter": "python",
   "pygments_lexer": "ipython3",
   "version": "3.8.6"
  }
 },
 "nbformat": 4,
 "nbformat_minor": 5
}
