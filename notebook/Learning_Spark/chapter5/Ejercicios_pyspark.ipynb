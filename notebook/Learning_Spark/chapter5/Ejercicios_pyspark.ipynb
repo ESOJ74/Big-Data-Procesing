{
 "cells": [
  {
   "cell_type": "markdown",
   "id": "80060f1d",
   "metadata": {},
   "source": [
    "Instalar MySQL, descargar driver y cargar datos de BBDD de empleados\n",
    "https://dev.mysql.com/doc/employee/en/\n",
    "\n",
    "i. Cargar con spark datos de empleados y departamentos\n",
    "\n",
    "ii. Mediante Joins mostrar toda la información de los empleados además de su\n",
    "título y salario"
   ]
  },
  {
   "cell_type": "code",
   "execution_count": 1,
   "id": "659b66d0",
   "metadata": {},
   "outputs": [],
   "source": [
    "from pyspark.sql import SparkSession\n",
    "#create a SparkSession\\n\"\n",
    "spark = (SparkSession\n",
    "        .builder\n",
    "        .config(\"spark.sql.catalogImplementation\",\"hive\")\n",
    "        .config(\"spark.jars\", \"/media/jose/Repositorio/spark3/jars/mysql-connector-java-8.0.26.jar\")\n",
    "        .master(\"local\")\n",
    "        .appName(\"Example-3_6\")\n",
    "        .getOrCreate())"
   ]
  },
  {
   "cell_type": "code",
   "execution_count": 2,
   "id": "3f0ee023",
   "metadata": {},
   "outputs": [],
   "source": [
    "current_dept_emp = spark.read.format(\"jdbc\").option(\"url\", \"jdbc:mysql://localhost:3306/employees\") \\\n",
    "    .option(\"driver\", \"com.mysql.jdbc.Driver\").option(\"dbtable\", \"current_dept_emp\") \\\n",
    "    .option(\"user\", \"root\").option(\"password\", \"$Iruelas2010\").load()"
   ]
  },
  {
   "cell_type": "code",
   "execution_count": 3,
   "id": "a4921b4f",
   "metadata": {},
   "outputs": [
    {
     "name": "stdout",
     "output_type": "stream",
     "text": [
      "+------+-------+----------+----------+\n",
      "|emp_no|dept_no| from_date|   to_date|\n",
      "+------+-------+----------+----------+\n",
      "| 10001|   d005|1986-06-26|9999-01-01|\n",
      "| 10002|   d007|1996-08-03|9999-01-01|\n",
      "| 10003|   d004|1995-12-03|9999-01-01|\n",
      "| 10004|   d004|1986-12-01|9999-01-01|\n",
      "| 10005|   d003|1989-09-12|9999-01-01|\n",
      "+------+-------+----------+----------+\n",
      "only showing top 5 rows\n",
      "\n"
     ]
    }
   ],
   "source": [
    "current_dept_emp.show(5)"
   ]
  },
  {
   "cell_type": "code",
   "execution_count": 4,
   "id": "35ea8f31",
   "metadata": {},
   "outputs": [],
   "source": [
    "departments = spark.read.format(\"jdbc\").option(\"url\", \"jdbc:mysql://localhost:3306/employees\") \\\n",
    "    .option(\"driver\", \"com.mysql.jdbc.Driver\").option(\"dbtable\", \"departments\") \\\n",
    "    .option(\"user\", \"root\").option(\"password\", \"$Iruelas2010\").load()"
   ]
  },
  {
   "cell_type": "code",
   "execution_count": 5,
   "id": "304a2c49",
   "metadata": {},
   "outputs": [
    {
     "name": "stdout",
     "output_type": "stream",
     "text": [
      "+-------+----------------+\n",
      "|dept_no|       dept_name|\n",
      "+-------+----------------+\n",
      "|   d009|Customer Service|\n",
      "|   d005|     Development|\n",
      "|   d002|         Finance|\n",
      "|   d003| Human Resources|\n",
      "|   d001|       Marketing|\n",
      "+-------+----------------+\n",
      "only showing top 5 rows\n",
      "\n"
     ]
    }
   ],
   "source": [
    "departments.show(5)"
   ]
  },
  {
   "cell_type": "code",
   "execution_count": 6,
   "id": "b445fbf5",
   "metadata": {},
   "outputs": [],
   "source": [
    "dept_emp = spark.read.format(\"jdbc\").option(\"url\", \"jdbc:mysql://localhost:3306/employees\") \\\n",
    "    .option(\"driver\", \"com.mysql.jdbc.Driver\").option(\"dbtable\", \"dept_emp\") \\\n",
    "    .option(\"user\", \"root\").option(\"password\", \"$Iruelas2010\").load()"
   ]
  },
  {
   "cell_type": "code",
   "execution_count": 7,
   "id": "3f50bd54",
   "metadata": {},
   "outputs": [
    {
     "name": "stdout",
     "output_type": "stream",
     "text": [
      "+------+-------+----------+----------+\n",
      "|emp_no|dept_no| from_date|   to_date|\n",
      "+------+-------+----------+----------+\n",
      "| 10001|   d005|1986-06-26|9999-01-01|\n",
      "| 10002|   d007|1996-08-03|9999-01-01|\n",
      "| 10003|   d004|1995-12-03|9999-01-01|\n",
      "| 10004|   d004|1986-12-01|9999-01-01|\n",
      "| 10005|   d003|1989-09-12|9999-01-01|\n",
      "+------+-------+----------+----------+\n",
      "only showing top 5 rows\n",
      "\n"
     ]
    }
   ],
   "source": [
    "dept_emp.show(5)"
   ]
  },
  {
   "cell_type": "code",
   "execution_count": 8,
   "id": "760fd3b7",
   "metadata": {},
   "outputs": [],
   "source": [
    "dept_emp_latest_date = spark.read.format(\"jdbc\").option(\"url\", \"jdbc:mysql://localhost:3306/employees\") \\\n",
    "    .option(\"driver\", \"com.mysql.jdbc.Driver\").option(\"dbtable\", \"dept_emp_latest_date\") \\\n",
    "    .option(\"user\", \"root\").option(\"password\", \"$Iruelas2010\").load()"
   ]
  },
  {
   "cell_type": "code",
   "execution_count": 9,
   "id": "a151d5d7",
   "metadata": {},
   "outputs": [
    {
     "name": "stdout",
     "output_type": "stream",
     "text": [
      "+------+----------+----------+\n",
      "|emp_no| from_date|   to_date|\n",
      "+------+----------+----------+\n",
      "| 10001|1986-06-26|9999-01-01|\n",
      "| 10002|1996-08-03|9999-01-01|\n",
      "| 10003|1995-12-03|9999-01-01|\n",
      "| 10004|1986-12-01|9999-01-01|\n",
      "| 10005|1989-09-12|9999-01-01|\n",
      "+------+----------+----------+\n",
      "only showing top 5 rows\n",
      "\n"
     ]
    }
   ],
   "source": [
    "dept_emp_latest_date.show(5)"
   ]
  },
  {
   "cell_type": "code",
   "execution_count": 10,
   "id": "745b3c4b",
   "metadata": {},
   "outputs": [],
   "source": [
    "dept_manager = spark.read.format(\"jdbc\").option(\"url\", \"jdbc:mysql://localhost:3306/employees\") \\\n",
    "    .option(\"driver\", \"com.mysql.jdbc.Driver\").option(\"dbtable\", \"dept_manager\") \\\n",
    "    .option(\"user\", \"root\").option(\"password\", \"$Iruelas2010\").load()"
   ]
  },
  {
   "cell_type": "code",
   "execution_count": 11,
   "id": "c5a12083",
   "metadata": {},
   "outputs": [
    {
     "name": "stdout",
     "output_type": "stream",
     "text": [
      "+------+-------+----------+----------+\n",
      "|emp_no|dept_no| from_date|   to_date|\n",
      "+------+-------+----------+----------+\n",
      "|110022|   d001|1985-01-01|1991-10-01|\n",
      "|110039|   d001|1991-10-01|9999-01-01|\n",
      "|110085|   d002|1985-01-01|1989-12-17|\n",
      "|110114|   d002|1989-12-17|9999-01-01|\n",
      "|110183|   d003|1985-01-01|1992-03-21|\n",
      "+------+-------+----------+----------+\n",
      "only showing top 5 rows\n",
      "\n"
     ]
    }
   ],
   "source": [
    "dept_manager.show(5)"
   ]
  },
  {
   "cell_type": "code",
   "execution_count": 12,
   "id": "a227d177",
   "metadata": {},
   "outputs": [],
   "source": [
    "employees = spark.read.format(\"jdbc\").option(\"url\", \"jdbc:mysql://localhost:3306/employees\") \\\n",
    "    .option(\"driver\", \"com.mysql.jdbc.Driver\").option(\"dbtable\", \"employees\") \\\n",
    "    .option(\"user\", \"root\").option(\"password\", \"$Iruelas2010\").load()"
   ]
  },
  {
   "cell_type": "code",
   "execution_count": 13,
   "id": "0e5a4d00",
   "metadata": {},
   "outputs": [
    {
     "name": "stdout",
     "output_type": "stream",
     "text": [
      "+------+----------+----------+---------+------+----------+\n",
      "|emp_no|birth_date|first_name|last_name|gender| hire_date|\n",
      "+------+----------+----------+---------+------+----------+\n",
      "| 10001|1953-09-02|    Georgi|  Facello|     M|1986-06-26|\n",
      "| 10002|1964-06-02|   Bezalel|   Simmel|     F|1985-11-21|\n",
      "| 10003|1959-12-03|     Parto|  Bamford|     M|1986-08-28|\n",
      "| 10004|1954-05-01| Chirstian|  Koblick|     M|1986-12-01|\n",
      "| 10005|1955-01-21|   Kyoichi| Maliniak|     M|1989-09-12|\n",
      "+------+----------+----------+---------+------+----------+\n",
      "only showing top 5 rows\n",
      "\n"
     ]
    }
   ],
   "source": [
    "employees.cache()\n",
    "employees.show(5)"
   ]
  },
  {
   "cell_type": "code",
   "execution_count": 14,
   "id": "e5ad2b87",
   "metadata": {},
   "outputs": [],
   "source": [
    "salaries = spark.read.format(\"jdbc\").option(\"url\", \"jdbc:mysql://localhost:3306/employees\") \\\n",
    "    .option(\"driver\", \"com.mysql.jdbc.Driver\").option(\"dbtable\", \"salaries\") \\\n",
    "    .option(\"user\", \"root\").option(\"password\", \"$Iruelas2010\").load()"
   ]
  },
  {
   "cell_type": "code",
   "execution_count": 15,
   "id": "6a95a422",
   "metadata": {},
   "outputs": [
    {
     "name": "stdout",
     "output_type": "stream",
     "text": [
      "+------+------+----------+----------+\n",
      "|emp_no|salary| from_date|   to_date|\n",
      "+------+------+----------+----------+\n",
      "| 10001| 60117|1986-06-26|1987-06-26|\n",
      "| 10001| 62102|1987-06-26|1988-06-25|\n",
      "| 10001| 66074|1988-06-25|1989-06-25|\n",
      "| 10001| 66596|1989-06-25|1990-06-25|\n",
      "| 10001| 66961|1990-06-25|1991-06-25|\n",
      "+------+------+----------+----------+\n",
      "only showing top 5 rows\n",
      "\n"
     ]
    }
   ],
   "source": [
    "salaries.cache()\n",
    "salaries.show(5)"
   ]
  },
  {
   "cell_type": "code",
   "execution_count": 16,
   "id": "b00ab87c",
   "metadata": {},
   "outputs": [],
   "source": [
    "titles = spark.read.format(\"jdbc\").option(\"url\", \"jdbc:mysql://localhost:3306/employees\") \\\n",
    "    .option(\"driver\", \"com.mysql.jdbc.Driver\").option(\"dbtable\", \"titles\") \\\n",
    "    .option(\"user\", \"root\").option(\"password\", \"$Iruelas2010\").load()"
   ]
  },
  {
   "cell_type": "code",
   "execution_count": 17,
   "id": "38798dd6",
   "metadata": {},
   "outputs": [
    {
     "name": "stdout",
     "output_type": "stream",
     "text": [
      "+------+---------------+----------+----------+\n",
      "|emp_no|          title| from_date|   to_date|\n",
      "+------+---------------+----------+----------+\n",
      "| 10001|Senior Engineer|1986-06-26|9999-01-01|\n",
      "| 10002|          Staff|1996-08-03|9999-01-01|\n",
      "| 10003|Senior Engineer|1995-12-03|9999-01-01|\n",
      "| 10004|       Engineer|1986-12-01|1995-12-01|\n",
      "| 10004|Senior Engineer|1995-12-01|9999-01-01|\n",
      "+------+---------------+----------+----------+\n",
      "only showing top 5 rows\n",
      "\n"
     ]
    }
   ],
   "source": [
    "titles.cache()\n",
    "titles.show(5)"
   ]
  },
  {
   "cell_type": "markdown",
   "id": "4aec4ffd",
   "metadata": {},
   "source": [
    "### Salario actual"
   ]
  },
  {
   "cell_type": "code",
   "execution_count": 18,
   "id": "0d08393d",
   "metadata": {},
   "outputs": [
    {
     "data": {
      "text/plain": [
       "DataFrame[emp_no: int, salary: int, from_date: date, to_date: date]"
      ]
     },
     "execution_count": 18,
     "metadata": {},
     "output_type": "execute_result"
    }
   ],
   "source": [
    "import pyspark.sql.functions as F\n",
    "\n",
    "salario = salaries\\\n",
    "                    .select(\"emp_no\", \"salary\",\"from_date\")\\\n",
    "                    .groupby(\"emp_no\")\\\n",
    "                    .max(\"salary\").alias(\"Salario\")                    \n",
    "\n",
    "salario = salario.select(\"emp_no\",F.col(\"max(salary)\").alias(\"Salario\"))  \n",
    "\n",
    "salaries.unpersist()"
   ]
  },
  {
   "cell_type": "code",
   "execution_count": 19,
   "id": "869ca1bd",
   "metadata": {},
   "outputs": [
    {
     "name": "stdout",
     "output_type": "stream",
     "text": [
      "+------+-------+\n",
      "|emp_no|Salario|\n",
      "+------+-------+\n",
      "| 10206|  71052|\n",
      "| 10362|  54987|\n",
      "| 10623|  86399|\n",
      "| 10817|  78202|\n",
      "| 11033|  75271|\n",
      "+------+-------+\n",
      "only showing top 5 rows\n",
      "\n"
     ]
    },
    {
     "data": {
      "text/plain": [
       "300024"
      ]
     },
     "execution_count": 19,
     "metadata": {},
     "output_type": "execute_result"
    }
   ],
   "source": [
    "salario.cache()\n",
    "salario.show(5)\n",
    "salario.count()"
   ]
  },
  {
   "cell_type": "markdown",
   "id": "d1d366e2",
   "metadata": {},
   "source": [
    "### Categoria actual"
   ]
  },
  {
   "cell_type": "code",
   "execution_count": 20,
   "id": "5b89dae5",
   "metadata": {},
   "outputs": [],
   "source": [
    "cat = titles\\\n",
    "            .select(\"emp_no\",\n",
    "                    \"title\",\n",
    "                    \"from_date\",\n",
    "                   )\\\n",
    "            .groupBy(\"emp_no\")\\\n",
    "            .agg(F.max(F.to_timestamp(\"from_date\").cast(\"long\")).alias(\"date_long\"))"
   ]
  },
  {
   "cell_type": "code",
   "execution_count": 21,
   "id": "4b62d900",
   "metadata": {},
   "outputs": [
    {
     "name": "stdout",
     "output_type": "stream",
     "text": [
      "+------+---------+\n",
      "|emp_no|date_long|\n",
      "+------+---------+\n",
      "| 10206|577404000|\n",
      "| 10362|657500400|\n",
      "| 10623|916354800|\n",
      "| 10817|914626800|\n",
      "| 11033|889830000|\n",
      "+------+---------+\n",
      "only showing top 5 rows\n",
      "\n"
     ]
    },
    {
     "data": {
      "text/plain": [
       "300024"
      ]
     },
     "execution_count": 21,
     "metadata": {},
     "output_type": "execute_result"
    }
   ],
   "source": [
    "cat.cache()\n",
    "cat.show(5) \n",
    "cat.count()"
   ]
  },
  {
   "cell_type": "code",
   "execution_count": 22,
   "id": "14f0786a",
   "metadata": {},
   "outputs": [
    {
     "data": {
      "text/plain": [
       "DataFrame[emp_no: int, date_long: bigint]"
      ]
     },
     "execution_count": 22,
     "metadata": {},
     "output_type": "execute_result"
    }
   ],
   "source": [
    "categoria = cat\\\n",
    "        .join(titles, cat.emp_no == titles.emp_no)\\\n",
    "        .select(cat.emp_no,\"title\")\\\n",
    "        .where(F.col(\"date_long\") == F.to_timestamp(\"from_date\").cast(\"long\"))\n",
    "\n",
    "titles.unpersist()\n",
    "cat.unpersist()"
   ]
  },
  {
   "cell_type": "code",
   "execution_count": 23,
   "id": "e8758859",
   "metadata": {},
   "outputs": [
    {
     "name": "stdout",
     "output_type": "stream",
     "text": [
      "+------+----------------+\n",
      "|emp_no|           title|\n",
      "+------+----------------+\n",
      "| 68924|           Staff|\n",
      "|202465|           Staff|\n",
      "| 37629|Technique Leader|\n",
      "| 75332|    Senior Staff|\n",
      "| 79479| Senior Engineer|\n",
      "+------+----------------+\n",
      "only showing top 5 rows\n",
      "\n"
     ]
    },
    {
     "data": {
      "text/plain": [
       "300024"
      ]
     },
     "execution_count": 23,
     "metadata": {},
     "output_type": "execute_result"
    }
   ],
   "source": [
    "categoria.cache()\n",
    "categoria.show(5)\n",
    "categoria.count()"
   ]
  },
  {
   "cell_type": "markdown",
   "id": "99570191",
   "metadata": {},
   "source": [
    "### Join employes-salario"
   ]
  },
  {
   "cell_type": "code",
   "execution_count": 24,
   "id": "fe809a11",
   "metadata": {},
   "outputs": [
    {
     "data": {
      "text/plain": [
       "DataFrame[emp_no: int, Salario: int]"
      ]
     },
     "execution_count": 24,
     "metadata": {},
     "output_type": "execute_result"
    }
   ],
   "source": [
    "employees_salaries = salario\\\n",
    "                        .join(employees,employees.emp_no == salario.emp_no)\\\n",
    "                        .select(salario.emp_no, \n",
    "                                employees.first_name, \n",
    "                                employees.last_name, \n",
    "                                employees.birth_date,\n",
    "                                employees.gender,\n",
    "                                salario.Salario)\n",
    "\n",
    "employees.unpersist()\n",
    "salario.unpersist()"
   ]
  },
  {
   "cell_type": "code",
   "execution_count": 25,
   "id": "29b7ad61",
   "metadata": {},
   "outputs": [
    {
     "name": "stdout",
     "output_type": "stream",
     "text": [
      "+------+----------+---------+----------+------+-------+\n",
      "|emp_no|first_name|last_name|birth_date|gender|Salario|\n",
      "+------+----------+---------+----------+------+-------+\n",
      "| 10206|  Alassane|  Iwayama|1960-09-19|     F|  71052|\n",
      "| 10362|   Shalesh|  dAstous|1963-09-16|     M|  54987|\n",
      "| 10623|Aleksander|   Danlos|1953-07-11|     F|  86399|\n",
      "| 10817|       Uri|  Rullman|1958-10-02|     F|  78202|\n",
      "| 11033|   Shushma|     Bahk|1957-03-01|     F|  75271|\n",
      "+------+----------+---------+----------+------+-------+\n",
      "only showing top 5 rows\n",
      "\n"
     ]
    },
    {
     "data": {
      "text/plain": [
       "300024"
      ]
     },
     "execution_count": 25,
     "metadata": {},
     "output_type": "execute_result"
    }
   ],
   "source": [
    "employees_salaries.cache().show(5)\n",
    "employees_salaries.count()"
   ]
  },
  {
   "cell_type": "code",
   "execution_count": 26,
   "id": "fe05c3ae",
   "metadata": {},
   "outputs": [
    {
     "data": {
      "text/plain": [
       "DataFrame[emp_no: int, first_name: string, last_name: string, birth_date: date, gender: string, Salario: int]"
      ]
     },
     "execution_count": 26,
     "metadata": {},
     "output_type": "execute_result"
    }
   ],
   "source": [
    "employees_salaries_tittle = employees_salaries\\\n",
    "                                        .join(categoria, employees_salaries.emp_no == categoria.emp_no)\\\n",
    "                                        .select(employees_salaries.emp_no.alias(\"ID\"),\n",
    "                                                F.concat_ws(\",\",employees_salaries.last_name,\n",
    "                                                       employees_salaries.first_name\n",
    "                                                      ).alias(\"Apellido,Nombre\"), \n",
    "                                                employees.birth_date,\n",
    "                                                employees.gender,                                                \n",
    "                                                categoria.title.alias(\"Categoría\"),\n",
    "                                                employees_salaries.Salario)\n",
    "employees_salaries.unpersist()"
   ]
  },
  {
   "cell_type": "code",
   "execution_count": 27,
   "id": "9eba20aa",
   "metadata": {},
   "outputs": [
    {
     "name": "stdout",
     "output_type": "stream",
     "text": [
      "+------+----------+---------+----------+------+-------+\n",
      "|emp_no|first_name|last_name|birth_date|gender|Salario|\n",
      "+------+----------+---------+----------+------+-------+\n",
      "| 10206|  Alassane|  Iwayama|1960-09-19|     F|  71052|\n",
      "| 10362|   Shalesh|  dAstous|1963-09-16|     M|  54987|\n",
      "| 10623|Aleksander|   Danlos|1953-07-11|     F|  86399|\n",
      "| 10817|       Uri|  Rullman|1958-10-02|     F|  78202|\n",
      "| 11033|   Shushma|     Bahk|1957-03-01|     F|  75271|\n",
      "+------+----------+---------+----------+------+-------+\n",
      "only showing top 5 rows\n",
      "\n"
     ]
    },
    {
     "data": {
      "text/plain": [
       "300024"
      ]
     },
     "execution_count": 27,
     "metadata": {},
     "output_type": "execute_result"
    }
   ],
   "source": [
    "employees_salaries_tittle.cache()  \n",
    "employees_salaries.show(5)\n",
    "employees_salaries_tittle.count()"
   ]
  },
  {
   "cell_type": "code",
   "execution_count": 28,
   "id": "c50bedfa",
   "metadata": {},
   "outputs": [
    {
     "name": "stdout",
     "output_type": "stream",
     "text": [
      "+-----+-----------------+----------+------+---------------+-------+\n",
      "|   ID|  Apellido,Nombre|birth_date|gender|      Categoría|Salario|\n",
      "+-----+-----------------+----------+------+---------------+-------+\n",
      "|10001|   Facello,Georgi|1953-09-02|     M|Senior Engineer|  88958|\n",
      "|10002|   Simmel,Bezalel|1964-06-02|     F|          Staff|  72527|\n",
      "|10003|    Bamford,Parto|1959-12-03|     M|Senior Engineer|  43699|\n",
      "|10004|Koblick,Chirstian|1954-05-01|     M|Senior Engineer|  74057|\n",
      "|10005| Maliniak,Kyoichi|1955-01-21|     M|   Senior Staff|  94692|\n",
      "+-----+-----------------+----------+------+---------------+-------+\n",
      "only showing top 5 rows\n",
      "\n"
     ]
    }
   ],
   "source": [
    "employees_salaries_tittle.orderBy(\"ID\").show(5)"
   ]
  },
  {
   "cell_type": "code",
   "execution_count": 29,
   "id": "5ab25804",
   "metadata": {},
   "outputs": [
    {
     "name": "stdout",
     "output_type": "stream",
     "text": [
      "+-----+-----------------+----------+------+----------------+-------+\n",
      "|   ID|  Apellido,Nombre|birth_date|gender|       Categoría|Salario|\n",
      "+-----+-----------------+----------+------+----------------+-------+\n",
      "|69048|  Matheson,Masoud|1952-05-26|     F|        Engineer|  40000|\n",
      "|39285|   Pauthner,Marlo|1958-06-15|     M|Technique Leader|  40000|\n",
      "|77422|Schiper,Mitsuyuki|1956-09-17|     F|        Engineer|  40000|\n",
      "|63964| Gips,Przemyslawa|1963-12-31|     M|Technique Leader|  40000|\n",
      "|94851|    Kusalik,Tonny|1961-07-11|     M|Technique Leader|  40000|\n",
      "+-----+-----------------+----------+------+----------------+-------+\n",
      "only showing top 5 rows\n",
      "\n"
     ]
    }
   ],
   "source": [
    "employees_salaries_tittle.orderBy(F.col(\"Salario\").asc()).show(5)"
   ]
  },
  {
   "cell_type": "code",
   "execution_count": 30,
   "id": "67844394",
   "metadata": {},
   "outputs": [
    {
     "name": "stdout",
     "output_type": "stream",
     "text": [
      "+------+-----------------+----------+------+------------+-------+\n",
      "|    ID|  Apellido,Nombre|birth_date|gender|   Categoría|Salario|\n",
      "+------+-----------------+----------+------+------------+-------+\n",
      "| 43624|   Pesch,Tokuyasu|1953-11-14|     M|Senior Staff| 158220|\n",
      "|254466|Mukaidono,Honesty|1963-05-27|     M|Senior Staff| 156286|\n",
      "| 47978|  Whitcomb,Xiahua|1956-03-24|     M|Senior Staff| 155709|\n",
      "|253939|    Luders,Sanjai|1957-12-03|     M|Senior Staff| 155513|\n",
      "|109334|Alameldin,Tsutomu|1955-08-02|     M|Senior Staff| 155377|\n",
      "+------+-----------------+----------+------+------------+-------+\n",
      "only showing top 5 rows\n",
      "\n"
     ]
    }
   ],
   "source": [
    "employees_salaries_tittle.orderBy(F.col(\"Salario\").desc()).show(5)"
   ]
  },
  {
   "cell_type": "code",
   "execution_count": 31,
   "id": "5bbb4849",
   "metadata": {},
   "outputs": [
    {
     "name": "stdout",
     "output_type": "stream",
     "text": [
      "+------+-----------------+----------+------+---------------+-------+\n",
      "|    ID|  Apellido,Nombre|birth_date|gender|      Categoría|Salario|\n",
      "+------+-----------------+----------+------+---------------+-------+\n",
      "|258641|Aamodt,Abdelkader|1961-05-23|     M|Senior Engineer|  49813|\n",
      "|258005|   Aamodt,Adhemar|1953-02-17|     F|       Engineer|  53566|\n",
      "|455773|  Aamodt,Aemilian|1960-05-04|     M|   Senior Staff| 112566|\n",
      "|436560|     Aamodt,Alagu|1959-03-16|     F|       Engineer|  62759|\n",
      "|266651|Aamodt,Aleksander|1959-05-28|     F|Senior Engineer|  80318|\n",
      "+------+-----------------+----------+------+---------------+-------+\n",
      "only showing top 5 rows\n",
      "\n"
     ]
    }
   ],
   "source": [
    "employees_salaries_tittle.orderBy(\"Apellido,Nombre\").show(5)"
   ]
  },
  {
   "cell_type": "code",
   "execution_count": 32,
   "id": "dd429ec9",
   "metadata": {},
   "outputs": [
    {
     "name": "stdout",
     "output_type": "stream",
     "text": [
      "+------+----------------+----------+------+----------------+-------+\n",
      "|    ID| Apellido,Nombre|birth_date|gender|       Categoría|Salario|\n",
      "+------+----------------+----------+------+----------------+-------+\n",
      "| 50521|    dAstous,Zito|1962-12-05|     F|    Senior Staff|  88807|\n",
      "| 99107|dAstous,Zhonghui|1957-10-13|     M|    Senior Staff|  68777|\n",
      "| 30234|   dAstous,Yurii|1960-02-07|     F| Senior Engineer|  68818|\n",
      "| 94784|   dAstous,Yucai|1952-04-13|     F|Technique Leader|  40000|\n",
      "|273557| dAstous,Younwoo|1962-05-19|     F|    Senior Staff|  73492|\n",
      "+------+----------------+----------+------+----------------+-------+\n",
      "only showing top 5 rows\n",
      "\n"
     ]
    }
   ],
   "source": [
    "employees_salaries_tittle.orderBy(F.col(\"Apellido,Nombre\").desc()).show(5)"
   ]
  },
  {
   "cell_type": "code",
   "execution_count": 33,
   "id": "13b7fde1",
   "metadata": {},
   "outputs": [
    {
     "name": "stdout",
     "output_type": "stream",
     "text": [
      "+------+-----------------+----------+------+---------------+-------+\n",
      "|    ID|  Apellido,Nombre|birth_date|gender|      Categoría|Salario|\n",
      "+------+-----------------+----------+------+---------------+-------+\n",
      "|207658|Whitcomb,Kiyokazu|1952-02-01|     M|Senior Engineer|  89770|\n",
      "|237571|   Schaad,Ronghao|1952-02-01|     M|   Senior Staff|  59355|\n",
      "| 87461|Decaestecker,Moni|1952-02-01|     M|Senior Engineer|  67914|\n",
      "|406121|    Remmele,Supot|1952-02-01|     M|   Senior Staff|  76470|\n",
      "| 65308|  Pocchiola,Jouni|1952-02-01|     M|   Senior Staff|  65562|\n",
      "+------+-----------------+----------+------+---------------+-------+\n",
      "only showing top 5 rows\n",
      "\n"
     ]
    }
   ],
   "source": [
    "employees_salaries_tittle.orderBy(\"birth_date\").show(5)"
   ]
  },
  {
   "cell_type": "code",
   "execution_count": 34,
   "id": "7679bc8a",
   "metadata": {},
   "outputs": [
    {
     "name": "stdout",
     "output_type": "stream",
     "text": [
      "+------+------------------+----------+------+---------------+-------+\n",
      "|    ID|   Apellido,Nombre|birth_date|gender|      Categoría|Salario|\n",
      "+------+------------------+----------+------+---------------+-------+\n",
      "|470472|Staudhammer,Zhiguo|1965-02-01|     F|Senior Engineer|  62226|\n",
      "|270792|  Wendorf,Domenico|1965-02-01|     M|       Engineer|  44388|\n",
      "|457832| Zielinski,Jackson|1965-02-01|     F|Senior Engineer|  44526|\n",
      "|449984|     Perin,Hinrich|1965-02-01|     F|Senior Engineer|  69425|\n",
      "|287323|       Dengi,Steve|1965-02-01|     M|          Staff|  78448|\n",
      "+------+------------------+----------+------+---------------+-------+\n",
      "only showing top 5 rows\n",
      "\n"
     ]
    }
   ],
   "source": [
    "employees_salaries_tittle.orderBy(F.col(\"birth_date\").desc()).show(5)"
   ]
  },
  {
   "cell_type": "markdown",
   "id": "20a38fd0",
   "metadata": {},
   "source": [
    "### Media de sueldos por genero"
   ]
  },
  {
   "cell_type": "code",
   "execution_count": 35,
   "id": "215c9009",
   "metadata": {},
   "outputs": [
    {
     "name": "stdout",
     "output_type": "stream",
     "text": [
      "+------+-----------------+\n",
      "|gender|     avg(Salario)|\n",
      "+------+-----------------+\n",
      "|     F|69940.39245820526|\n",
      "|     M|69967.90245759086|\n",
      "+------+-----------------+\n",
      "\n"
     ]
    }
   ],
   "source": [
    "employees_salaries_tittle.groupBy(\"gender\").agg(F.avg(\"Salario\")).show()"
   ]
  },
  {
   "cell_type": "markdown",
   "id": "50a270e9",
   "metadata": {},
   "source": [
    "### numero de trabajadores por genero"
   ]
  },
  {
   "cell_type": "code",
   "execution_count": 36,
   "id": "61e88b09",
   "metadata": {},
   "outputs": [
    {
     "name": "stdout",
     "output_type": "stream",
     "text": [
      "+------+------+\n",
      "|gender| count|\n",
      "+------+------+\n",
      "|     F|120051|\n",
      "|     M|179973|\n",
      "+------+------+\n",
      "\n"
     ]
    }
   ],
   "source": [
    "employees_salaries_tittle.groupBy(\"gender\").count().show()"
   ]
  },
  {
   "cell_type": "markdown",
   "id": "f5b4cca3",
   "metadata": {},
   "source": [
    "### numero de empleados con sueldo superior o igual a 100000"
   ]
  },
  {
   "cell_type": "code",
   "execution_count": 37,
   "id": "5ba42a9e",
   "metadata": {},
   "outputs": [
    {
     "data": {
      "text/plain": [
       "19021"
      ]
     },
     "execution_count": 37,
     "metadata": {},
     "output_type": "execute_result"
    }
   ],
   "source": [
    "employees_salaries_tittle\\\n",
    "            .select(\"*\")\\\n",
    "            .where(F.col(\"Salario\") >= 100000)\\\n",
    "            .count()"
   ]
  },
  {
   "cell_type": "markdown",
   "id": "55b057ac",
   "metadata": {},
   "source": [
    "### numero de empleados con sueldo superior o igual a 500000 e inferior a 100000"
   ]
  },
  {
   "cell_type": "code",
   "execution_count": 38,
   "id": "ebd7eec3",
   "metadata": {},
   "outputs": [
    {
     "data": {
      "text/plain": [
       "243359"
      ]
     },
     "execution_count": 38,
     "metadata": {},
     "output_type": "execute_result"
    }
   ],
   "source": [
    "employees_salaries_tittle\\\n",
    "            .select(\"*\")\\\n",
    "            .where((F.col(\"Salario\") < 100000) & (F.col(\"Salario\") >= 50000))\\\n",
    "            .count()"
   ]
  },
  {
   "cell_type": "markdown",
   "id": "491646f7",
   "metadata": {},
   "source": [
    "### por debajo de 50000"
   ]
  },
  {
   "cell_type": "code",
   "execution_count": 39,
   "id": "f63fa77b",
   "metadata": {},
   "outputs": [
    {
     "data": {
      "text/plain": [
       "37644"
      ]
     },
     "execution_count": 39,
     "metadata": {},
     "output_type": "execute_result"
    }
   ],
   "source": [
    "employees_salaries_tittle\\\n",
    "            .select(\"*\")\\\n",
    "            .where(F.col(\"Salario\") < 50000)\\\n",
    "            .count()"
   ]
  },
  {
   "cell_type": "markdown",
   "id": "9b181acd",
   "metadata": {},
   "source": [
    "### Mayores de 65"
   ]
  },
  {
   "cell_type": "code",
   "execution_count": 40,
   "id": "a08abaf4",
   "metadata": {},
   "outputs": [
    {
     "data": {
      "text/plain": [
       "108170"
      ]
     },
     "execution_count": 40,
     "metadata": {},
     "output_type": "execute_result"
    }
   ],
   "source": [
    "employees_salaries_tittle\\\n",
    "            .select(\"*\")\\\n",
    "            .where(F.col(\"birth_date\") <= \"1956-10-08\").count()"
   ]
  },
  {
   "cell_type": "markdown",
   "id": "1c4483d9",
   "metadata": {},
   "source": [
    "### Entre 60 y 65"
   ]
  },
  {
   "cell_type": "code",
   "execution_count": 41,
   "id": "9b2dc2f2",
   "metadata": {},
   "outputs": [
    {
     "data": {
      "text/plain": [
       "115594"
      ]
     },
     "execution_count": 41,
     "metadata": {},
     "output_type": "execute_result"
    }
   ],
   "source": [
    "employees_salaries_tittle\\\n",
    "            .select(\"*\")\\\n",
    "            .where((F.col(\"birth_date\") > \"1956-10-08\") & (F.col(\"birth_date\") <= \"1961-10-08\"))\\\n",
    "            .count()"
   ]
  },
  {
   "cell_type": "markdown",
   "id": "73068363",
   "metadata": {},
   "source": [
    "### Entre 56 y 60"
   ]
  },
  {
   "cell_type": "code",
   "execution_count": 42,
   "id": "8197d52e",
   "metadata": {},
   "outputs": [
    {
     "data": {
      "text/plain": [
       "76260"
      ]
     },
     "execution_count": 42,
     "metadata": {},
     "output_type": "execute_result"
    }
   ],
   "source": [
    "employees_salaries_tittle\\\n",
    "            .select(\"*\")\\\n",
    "            .where((F.col(\"birth_date\") > \"1961-10-08\") & (F.col(\"birth_date\") <= \"1965-02-01\"))\\\n",
    "            .count()"
   ]
  },
  {
   "cell_type": "markdown",
   "id": "ef6adb87",
   "metadata": {},
   "source": [
    "### Menos de 55"
   ]
  },
  {
   "cell_type": "code",
   "execution_count": 43,
   "id": "0a7536db",
   "metadata": {},
   "outputs": [
    {
     "data": {
      "text/plain": [
       "0"
      ]
     },
     "execution_count": 43,
     "metadata": {},
     "output_type": "execute_result"
    }
   ],
   "source": [
    "employees_salaries_tittle\\\n",
    "            .select(\"*\")\\\n",
    "            .where((F.col(\"birth_date\") > \"1966-10-08\"))\\\n",
    "            .count()"
   ]
  },
  {
   "cell_type": "code",
   "execution_count": 76,
   "id": "99b95934",
   "metadata": {},
   "outputs": [
    {
     "data": {
      "text/plain": [
       "DataFrame[ID: int, Apellido,Nombre: string, birth_date: date, gender: string, Categoría: string, Salario: int]"
      ]
     },
     "execution_count": 76,
     "metadata": {},
     "output_type": "execute_result"
    }
   ],
   "source": [
    "employees_salaries_tittle.unpersist()"
   ]
  },
  {
   "cell_type": "code",
   "execution_count": null,
   "id": "eb63eb42",
   "metadata": {},
   "outputs": [],
   "source": []
  }
 ],
 "metadata": {
  "kernelspec": {
   "display_name": "Python 3",
   "language": "python",
   "name": "python3"
  },
  "language_info": {
   "codemirror_mode": {
    "name": "ipython",
    "version": 3
   },
   "file_extension": ".py",
   "mimetype": "text/x-python",
   "name": "python",
   "nbconvert_exporter": "python",
   "pygments_lexer": "ipython3",
   "version": "3.8.6"
  }
 },
 "nbformat": 4,
 "nbformat_minor": 5
}
