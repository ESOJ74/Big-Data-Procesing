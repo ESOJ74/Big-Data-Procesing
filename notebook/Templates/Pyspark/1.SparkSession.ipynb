{
 "cells": [
  {
   "cell_type": "markdown",
   "id": "146a7cb4",
   "metadata": {},
   "source": [
    "### General"
   ]
  },
  {
   "cell_type": "code",
   "execution_count": null,
   "id": "773f2c12",
   "metadata": {},
   "outputs": [],
   "source": [
    "from pyspark.sql import SparkSession\n",
    "\n",
    "spark = (SparkSession\n",
    " .builder\n",
    " .appName(\"Nombre_App\") \n",
    " .getOrCreate())"
   ]
  },
  {
   "cell_type": "markdown",
   "id": "180c9fa8",
   "metadata": {},
   "source": [
    "### Usando Avro"
   ]
  },
  {
   "cell_type": "code",
   "execution_count": null,
   "id": "759948d4",
   "metadata": {},
   "outputs": [],
   "source": [
    "from pyspark.sql import SparkSession\n",
    "\n",
    "spark = (SparkSession\n",
    " .builder\n",
    " .appName(\"Avro\") \n",
    " .config(\"spark.jars.packages\", \"org.apache.spark:spark-avro_2.12:3.1.2\")\n",
    " .getOrCreate())"
   ]
  }
 ],
 "metadata": {
  "kernelspec": {
   "display_name": "Python 3",
   "language": "python",
   "name": "python3"
  },
  "language_info": {
   "codemirror_mode": {
    "name": "ipython",
    "version": 3
   },
   "file_extension": ".py",
   "mimetype": "text/x-python",
   "name": "python",
   "nbconvert_exporter": "python",
   "pygments_lexer": "ipython3",
   "version": "3.8.6"
  }
 },
 "nbformat": 4,
 "nbformat_minor": 5
}
