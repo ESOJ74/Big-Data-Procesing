{
 "cells": [
  {
   "cell_type": "markdown",
   "metadata": {
    "collapsed": true
   },
   "source": [
    "# Árboles de Clasificación"
   ]
  },
  {
   "cell_type": "code",
   "execution_count": 1,
   "metadata": {
    "collapsed": true
   },
   "outputs": [],
   "source": [
    "#from pyspark import SparkContext\n",
    "#sc = SparkContext()\n",
    "#from pyspark.sql import SQLContext\n",
    "#sqlContext=SQLContext(sc)"
   ]
  },
  {
   "cell_type": "code",
   "execution_count": 2,
   "metadata": {
    "collapsed": true
   },
   "outputs": [],
   "source": [
    "bd5 = sqlContext.read.format(\n",
    "    \"com.databricks.spark.csv\"\n",
    ").option(\"header\", \"true\").load(\"file:/home/cloudera/Documents/Ficheros de trabajo/bd5.csv\", inferSchema=True)\n",
    "sqlContext.registerDataFrameAsTable(bd5, \"bd5\")"
   ]
  },
  {
   "cell_type": "code",
   "execution_count": 3,
   "metadata": {
    "collapsed": false
   },
   "outputs": [
    {
     "name": "stdout",
     "output_type": "stream",
     "text": [
      "+-------------+------------------+-----+\n",
      "|UniqueCarrier|IndexUniqueCarrier|count|\n",
      "+-------------+------------------+-----+\n",
      "|           AA|               0.0| 8853|\n",
      "|           UA|               1.0| 6112|\n",
      "|           WN|               2.0| 5395|\n",
      "|           DL|               3.0| 4239|\n",
      "|           VX|               4.0| 1703|\n",
      "|           NK|               5.0| 1581|\n",
      "|           F9|               6.0| 1295|\n",
      "|           OO|               7.0| 1166|\n",
      "|           B6|               8.0|  121|\n",
      "|           EV|               9.0|    1|\n",
      "+-------------+------------------+-----+\n",
      "\n"
     ]
    }
   ],
   "source": [
    "from pyspark.ml.feature import StringIndexer\n",
    "\n",
    "indexer = StringIndexer(inputCol='UniqueCarrier',outputCol='IndexUniqueCarrier') #el índice empieza en el 0!\n",
    "bd6=indexer.fit(bd5).transform(bd5)\n",
    "\n",
    "bd6.groupBy('UniqueCarrier','IndexUniqueCarrier').count().sort('IndexUniqueCarrier').show()\n"
   ]
  },
  {
   "cell_type": "markdown",
   "metadata": {},
   "source": [
    "## Ajuste del modelo"
   ]
  },
  {
   "cell_type": "code",
   "execution_count": 4,
   "metadata": {
    "collapsed": true
   },
   "outputs": [],
   "source": [
    "from pyspark.ml.feature import VectorAssembler, StringIndexer\n",
    "from pyspark.sql.functions import col\n",
    "\n",
    "a1  = VectorAssembler(\n",
    "    inputCols=['DepDelay','Distance','DayOfWeek',\n",
    "               'CRSDepTime','IndexUniqueCarrier'],\n",
    "    outputCol='features')\n",
    "\n",
    "bd7 = a1.transform(bd6).select(col(\"Retraso\").cast('double').alias(\"label\"),'features')\n",
    "\n",
    "stringIndexer = StringIndexer(inputCol = 'label', outputCol = 'label2')\n",
    "sI = stringIndexer.fit(bd7)\n",
    "bd7 = sI.transform(bd7)\n",
    "\n"
   ]
  },
  {
   "cell_type": "markdown",
   "metadata": {},
   "source": [
    "### Partición Test - Train"
   ]
  },
  {
   "cell_type": "code",
   "execution_count": 5,
   "metadata": {
    "collapsed": false
   },
   "outputs": [
    {
     "name": "stdout",
     "output_type": "stream",
     "text": [
      "21353\n",
      "9113\n"
     ]
    }
   ],
   "source": [
    "(bd_train, bd_test) = bd7.randomSplit([0.7, 0.3],seed=123)\n",
    "print(bd_train.count())\n",
    "print(bd_test.count())"
   ]
  },
  {
   "cell_type": "code",
   "execution_count": 6,
   "metadata": {
    "collapsed": true
   },
   "outputs": [],
   "source": [
    "from pyspark.ml.classification import DecisionTreeClassifier as DTC\n",
    "\n",
    "rt = DTC(maxDepth=5, labelCol = 'label2')\n",
    "\n",
    "model = rt.fit(bd_train)\n",
    "pred = model.transform(bd_train)"
   ]
  },
  {
   "cell_type": "code",
   "execution_count": 7,
   "metadata": {
    "collapsed": false
   },
   "outputs": [
    {
     "name": "stdout",
     "output_type": "stream",
     "text": [
      "+-----+--------------------+------+--------------+--------------------+----------+\n",
      "|label|            features|label2| rawPrediction|         probability|prediction|\n",
      "+-----+--------------------+------+--------------+--------------------+----------+\n",
      "|  0.0|[-15.0,1464.0,6.0...|   0.0|[2243.0,143.0]|[0.94006705783738...|       0.0|\n",
      "|  0.0|[-11.0,236.0,2.0,...|   0.0|[5552.0,223.0]|[0.96138528138528...|       0.0|\n",
      "|  0.0|[-11.0,651.0,5.0,...|   0.0|[5552.0,223.0]|[0.96138528138528...|       0.0|\n",
      "|  0.0|[-10.0,255.0,5.0,...|   0.0|[5552.0,223.0]|[0.96138528138528...|       0.0|\n",
      "|  0.0|[-10.0,414.0,6.0,...|   0.0|[5552.0,223.0]|[0.96138528138528...|       0.0|\n",
      "|  0.0|[-10.0,862.0,2.0,...|   0.0|[5552.0,223.0]|[0.96138528138528...|       0.0|\n",
      "|  0.0|[-10.0,1846.0,5.0...|   0.0|[2243.0,143.0]|[0.94006705783738...|       0.0|\n",
      "|  0.0|[-9.0,236.0,3.0,7...|   0.0|[5552.0,223.0]|[0.96138528138528...|       0.0|\n",
      "|  0.0|[-9.0,255.0,2.0,2...|   0.0|[5552.0,223.0]|[0.96138528138528...|       0.0|\n",
      "|  0.0|[-9.0,255.0,6.0,8...|   0.0|[5552.0,223.0]|[0.96138528138528...|       0.0|\n",
      "|  0.0|[-9.0,602.0,5.0,1...|   0.0|[5552.0,223.0]|[0.96138528138528...|       0.0|\n",
      "|  0.0|[-9.0,628.0,6.0,9...|   0.0|[5552.0,223.0]|[0.96138528138528...|       0.0|\n",
      "|  0.0|[-9.0,651.0,1.0,2...|   0.0|[5552.0,223.0]|[0.96138528138528...|       0.0|\n",
      "|  0.0|[-9.0,651.0,3.0,2...|   0.0|[5552.0,223.0]|[0.96138528138528...|       0.0|\n",
      "|  0.0|[-9.0,967.0,2.0,5...|   0.0|[5552.0,223.0]|[0.96138528138528...|       0.0|\n",
      "|  0.0|[-9.0,1514.0,2.0,...|   0.0|[2243.0,143.0]|[0.94006705783738...|       0.0|\n",
      "|  0.0|[-8.0,236.0,5.0,5...|   0.0|[5552.0,223.0]|[0.96138528138528...|       0.0|\n",
      "|  0.0|[-8.0,255.0,1.0,1...|   0.0|[5552.0,223.0]|[0.96138528138528...|       0.0|\n",
      "|  0.0|[-8.0,337.0,2.0,8...|   0.0|[5552.0,223.0]|[0.96138528138528...|       0.0|\n",
      "|  0.0|[-8.0,370.0,3.0,1...|   0.0|[5552.0,223.0]|[0.96138528138528...|       0.0|\n",
      "+-----+--------------------+------+--------------+--------------------+----------+\n",
      "only showing top 20 rows\n",
      "\n"
     ]
    }
   ],
   "source": [
    "pred.show()"
   ]
  },
  {
   "cell_type": "code",
   "execution_count": 8,
   "metadata": {
    "collapsed": false
   },
   "outputs": [
    {
     "name": "stdout",
     "output_type": "stream",
     "text": [
      "+--------------------+-----+\n",
      "|         probability|count|\n",
      "+--------------------+-----+\n",
      "|[0.78490566037735...|  265|\n",
      "|[0.82188295165394...|  393|\n",
      "|[0.93495674463313...| 3121|\n",
      "|[0.16049382716049...|   81|\n",
      "|[0.05263157894736...|  285|\n",
      "|[0.35483870967741...|  155|\n",
      "|           [0.0,1.0]| 2491|\n",
      "|[0.44148936170212...|  188|\n",
      "|           [0.5,0.5]|    4|\n",
      "|[0.00468384074941...|  427|\n",
      "|           [1.0,0.0]|    7|\n",
      "|[0.96138528138528...| 5775|\n",
      "|[0.60777385159010...|  566|\n",
      "|     [0.3125,0.6875]|  128|\n",
      "|[0.45454545454545...|   33|\n",
      "|[0.53103448275862...|  145|\n",
      "|[0.72670807453416...|  161|\n",
      "|[0.31282051282051...|  195|\n",
      "|[0.88073394495412...|  763|\n",
      "|[0.88635210553018...| 1971|\n",
      "|[0.94006705783738...| 2386|\n",
      "|[0.48148148148148...|   27|\n",
      "|[0.68315018315018...|  546|\n",
      "|[0.06338028169014...|  142|\n",
      "|         [0.08,0.92]|   25|\n",
      "|[0.19078947368421...|  152|\n",
      "|[0.35294117647058...|   17|\n",
      "|[0.72602739726027...|   73|\n",
      "|[0.02173913043478...|  138|\n",
      "|[0.80984340044742...|  447|\n",
      "|[0.97560975609756...|   41|\n",
      "|[0.13170731707317...|  205|\n",
      "+--------------------+-----+\n",
      "\n"
     ]
    }
   ],
   "source": [
    "pred.groupBy('probability').count().show(50)\n"
   ]
  },
  {
   "cell_type": "code",
   "execution_count": 9,
   "metadata": {
    "collapsed": false
   },
   "outputs": [
    {
     "name": "stdout",
     "output_type": "stream",
     "text": [
      "+-----+----------+-----+\n",
      "|label|prediction|count|\n",
      "+-----+----------+-----+\n",
      "|  1.0|       1.0| 4316|\n",
      "|  0.0|       0.0|15038|\n",
      "|  0.0|       1.0|  373|\n",
      "|  1.0|       0.0| 1626|\n",
      "+-----+----------+-----+\n",
      "\n"
     ]
    }
   ],
   "source": [
    "pred.groupBy('label','prediction').count().show()\n",
    "#threshold = 0.5"
   ]
  },
  {
   "cell_type": "markdown",
   "metadata": {},
   "source": [
    "### Curva ROC"
   ]
  },
  {
   "cell_type": "code",
   "execution_count": 10,
   "metadata": {
    "collapsed": false
   },
   "outputs": [
    {
     "name": "stdout",
     "output_type": "stream",
     "text": [
      "+-----+--------------------+------+--------------+--------------------+----------+-----------+\n",
      "|label|            features|label2| rawPrediction|         probability|prediction|      probs|\n",
      "+-----+--------------------+------+--------------+--------------------+----------+-----------+\n",
      "|  0.0|[-15.0,1464.0,6.0...|   0.0|[2243.0,143.0]|[0.94006705783738...|       0.0|0.059932943|\n",
      "|  0.0|[-11.0,236.0,2.0,...|   0.0|[5552.0,223.0]|[0.96138528138528...|       0.0| 0.03861472|\n",
      "|  0.0|[-11.0,651.0,5.0,...|   0.0|[5552.0,223.0]|[0.96138528138528...|       0.0| 0.03861472|\n",
      "|  0.0|[-10.0,255.0,5.0,...|   0.0|[5552.0,223.0]|[0.96138528138528...|       0.0| 0.03861472|\n",
      "|  0.0|[-10.0,414.0,6.0,...|   0.0|[5552.0,223.0]|[0.96138528138528...|       0.0| 0.03861472|\n",
      "|  0.0|[-10.0,862.0,2.0,...|   0.0|[5552.0,223.0]|[0.96138528138528...|       0.0| 0.03861472|\n",
      "|  0.0|[-10.0,1846.0,5.0...|   0.0|[2243.0,143.0]|[0.94006705783738...|       0.0|0.059932943|\n",
      "|  0.0|[-9.0,236.0,3.0,7...|   0.0|[5552.0,223.0]|[0.96138528138528...|       0.0| 0.03861472|\n",
      "|  0.0|[-9.0,255.0,2.0,2...|   0.0|[5552.0,223.0]|[0.96138528138528...|       0.0| 0.03861472|\n",
      "|  0.0|[-9.0,255.0,6.0,8...|   0.0|[5552.0,223.0]|[0.96138528138528...|       0.0| 0.03861472|\n",
      "+-----+--------------------+------+--------------+--------------------+----------+-----------+\n",
      "only showing top 10 rows\n",
      "\n"
     ]
    }
   ],
   "source": [
    "from pyspark.sql.functions import udf\n",
    "from pyspark.sql.types import FloatType\n",
    "\n",
    "secondelement=udf(lambda v:float(v[1]),FloatType())\n",
    "pred2=pred.withColumn('probs',secondelement('probability'))\n",
    "\n",
    "pred2.show(10)"
   ]
  },
  {
   "cell_type": "code",
   "execution_count": 11,
   "metadata": {
    "collapsed": false
   },
   "outputs": [
    {
     "data": {
      "image/png": "[encoded data removed]",
      "text/plain": [
       "<matplotlib.figure.Figure at 0x7f2bf54cf0f0>"
      ]
     },
     "metadata": {},
     "output_type": "display_data"
    }
   ],
   "source": [
    "import matplotlib.pyplot as plt\n",
    "from sklearn.metrics import roc_curve\n",
    "import seaborn as sns\n",
    "\n",
    "pd5 = pred2.sample(False,0.1).select('label','probs').toPandas()\n",
    "\n",
    "fpr, tpr, _ = roc_curve( pd5['label'], pd5['probs'])\n",
    "\n",
    "plt.plot(fpr, tpr)\n",
    "plt.plot([0, 1], [0, 1], color='navy', linestyle='--')\n",
    "plt.xlabel('1 - Esp (FPR)')\n",
    "plt.ylabel('Sens (TPR)')\n",
    "plt.title('Curva ROC')\n",
    "plt.show()"
   ]
  },
  {
   "cell_type": "code",
   "execution_count": 12,
   "metadata": {
    "collapsed": false
   },
   "outputs": [
    {
     "name": "stdout",
     "output_type": "stream",
     "text": [
      "AUC= 0.9201656831035615\n"
     ]
    }
   ],
   "source": [
    "from pyspark.ml.evaluation import BinaryClassificationEvaluator as BCE\n",
    "\n",
    "print('AUC=',BCE(metricName=\"areaUnderROC\",rawPredictionCol = 'probability').evaluate(pred))\n"
   ]
  },
  {
   "cell_type": "code",
   "execution_count": 13,
   "metadata": {
    "collapsed": true
   },
   "outputs": [],
   "source": [
    "# DecisionTreeClassifier(featuresCol=\"features\",\n",
    "#    labelCol=\"label\",\n",
    "#    predictionCol=\"prediction\",\n",
    "#    probabilityCol=\"probability\",\n",
    "#    rawPredictionCol=\"rawPrediction\",\n",
    "#    maxDepth=5,\n",
    "#    maxBins=32,\n",
    "#    minInstancesPerNode=1,\n",
    "#    minInfoGain=0.0,\n",
    "#    maxMemoryInMB=256,\n",
    "#    impurity=\"gini\"  / impurity=\"entropy\" )"
   ]
  },
  {
   "cell_type": "code",
   "execution_count": 14,
   "metadata": {
    "collapsed": false
   },
   "outputs": [
    {
     "name": "stdout",
     "output_type": "stream",
     "text": [
      "AUC= 0.9995937684642632\n"
     ]
    }
   ],
   "source": [
    "rt = DTC(maxDepth=20, labelCol = 'label2')\n",
    "model = rt.fit(bd_train)\n",
    "pred = model.transform(bd_train)\n",
    "\n",
    "print('AUC=',BCE(metricName=\"areaUnderROC\", rawPredictionCol = 'probability').evaluate(pred))"
   ]
  },
  {
   "cell_type": "markdown",
   "metadata": {},
   "source": [
    "### Validación externa"
   ]
  },
  {
   "cell_type": "code",
   "execution_count": 15,
   "metadata": {
    "collapsed": false
   },
   "outputs": [
    {
     "name": "stdout",
     "output_type": "stream",
     "text": [
      "AUC= 0.8258884845826836\n"
     ]
    }
   ],
   "source": [
    "predtest = model.transform(bd_test)\n",
    "\n",
    "print('AUC=',BCE(metricName=\"areaUnderROC\",rawPredictionCol = 'probability').evaluate(predtest))"
   ]
  }
 ],
 "metadata": {
  "anaconda-cloud": {},
  "kernelspec": {
   "display_name": "Python [default]",
   "language": "python",
   "name": "python3"
  },
  "language_info": {
   "codemirror_mode": {
    "name": "ipython",
    "version": 3
   },
   "file_extension": ".py",
   "mimetype": "text/x-python",
   "name": "python",
   "nbconvert_exporter": "python",
   "pygments_lexer": "ipython3",
   "version": "3.5.2"
  }
 },
 "nbformat": 4,
 "nbformat_minor": 2
}
