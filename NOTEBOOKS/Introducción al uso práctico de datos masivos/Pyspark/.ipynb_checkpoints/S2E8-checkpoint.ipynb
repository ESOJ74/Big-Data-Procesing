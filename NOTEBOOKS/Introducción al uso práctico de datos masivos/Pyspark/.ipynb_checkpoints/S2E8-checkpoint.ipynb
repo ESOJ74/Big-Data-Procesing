{
 "cells": [
  {
   "cell_type": "markdown",
   "metadata": {
    "collapsed": true
   },
   "source": [
    "# Modelo de Regresión Logística"
   ]
  },
  {
   "cell_type": "code",
   "execution_count": 1,
   "metadata": {
    "collapsed": true
   },
   "outputs": [],
   "source": [
    "#from pyspark import SparkContext\n",
    "#sc = SparkContext()\n",
    "#from pyspark.sql import SQLContext\n",
    "#sqlContext=SQLContext(sc)"
   ]
  },
  {
   "cell_type": "code",
   "execution_count": 2,
   "metadata": {
    "collapsed": true
   },
   "outputs": [],
   "source": [
    "bd5 = sqlContext.read.format(\n",
    "    \"com.databricks.spark.csv\"\n",
    ").option(\"header\", \"true\").load(\"file:/home/cloudera/Documents/Ficheros de trabajo/bd5.csv\", inferSchema=True)\n",
    "sqlContext.registerDataFrameAsTable(bd5, \"bd5\")"
   ]
  },
  {
   "cell_type": "code",
   "execution_count": 3,
   "metadata": {
    "collapsed": true
   },
   "outputs": [],
   "source": [
    "from pyspark.ml.feature import VectorAssembler\n",
    "\n",
    "bd5 = bd5.withColumn('Horario1',(bd5.Horario==1) \n",
    ").withColumn('Horario2',(bd5.Horario==2) \n",
    ").withColumn('Horario3',(bd5.Horario==3))\n",
    "\n",
    "# Términos cuadráticos añadidos manualmente\n",
    "bd5 = bd5.withColumn('DepDelay2',(bd5.DepDelay**2)\n",
    ").withColumn('DepD_Distance',(bd5.DepDelay * bd5.Distance)) "
   ]
  },
  {
   "cell_type": "markdown",
   "metadata": {},
   "source": [
    "## Descripción Previa de la Base de Datos"
   ]
  },
  {
   "cell_type": "markdown",
   "metadata": {},
   "source": [
    "Resumen Numérico"
   ]
  },
  {
   "cell_type": "code",
   "execution_count": 4,
   "metadata": {},
   "outputs": [
    {
     "name": "stdout",
     "output_type": "stream",
     "text": [
      "+-------+------------------+\n",
      "|summary|           Retraso|\n",
      "+-------+------------------+\n",
      "|  count|             30466|\n",
      "|   mean|0.2757500164117377|\n",
      "| stddev|0.4468987584631851|\n",
      "|    min|                 0|\n",
      "|    max|                 1|\n",
      "+-------+------------------+\n",
      "\n"
     ]
    }
   ],
   "source": [
    "bd5.select('Retraso').describe().show()"
   ]
  },
  {
   "cell_type": "code",
   "execution_count": 5,
   "metadata": {},
   "outputs": [
    {
     "data": {
      "text/html": [
       "<div>\n",
       "<table border=\"1\" class=\"dataframe\">\n",
       "  <thead>\n",
       "    <tr style=\"text-align: right;\">\n",
       "      <th></th>\n",
       "      <th>Retraso</th>\n",
       "      <th>ArrDelay</th>\n",
       "      <th>DepDelay</th>\n",
       "      <th>DayOfWeek</th>\n",
       "      <th>CRSDepTime</th>\n",
       "    </tr>\n",
       "  </thead>\n",
       "  <tbody>\n",
       "    <tr>\n",
       "      <th>Retraso</th>\n",
       "      <td>1.000000</td>\n",
       "      <td>0.561705</td>\n",
       "      <td>0.482921</td>\n",
       "      <td>0.045193</td>\n",
       "      <td>0.129493</td>\n",
       "    </tr>\n",
       "    <tr>\n",
       "      <th>ArrDelay</th>\n",
       "      <td>0.561705</td>\n",
       "      <td>1.000000</td>\n",
       "      <td>0.959840</td>\n",
       "      <td>0.054927</td>\n",
       "      <td>0.121811</td>\n",
       "    </tr>\n",
       "    <tr>\n",
       "      <th>DepDelay</th>\n",
       "      <td>0.482921</td>\n",
       "      <td>0.959840</td>\n",
       "      <td>1.000000</td>\n",
       "      <td>0.051572</td>\n",
       "      <td>0.115697</td>\n",
       "    </tr>\n",
       "    <tr>\n",
       "      <th>DayOfWeek</th>\n",
       "      <td>0.045193</td>\n",
       "      <td>0.054927</td>\n",
       "      <td>0.051572</td>\n",
       "      <td>1.000000</td>\n",
       "      <td>-0.037421</td>\n",
       "    </tr>\n",
       "    <tr>\n",
       "      <th>CRSDepTime</th>\n",
       "      <td>0.129493</td>\n",
       "      <td>0.121811</td>\n",
       "      <td>0.115697</td>\n",
       "      <td>-0.037421</td>\n",
       "      <td>1.000000</td>\n",
       "    </tr>\n",
       "  </tbody>\n",
       "</table>\n",
       "</div>"
      ],
      "text/plain": [
       "             Retraso  ArrDelay  DepDelay  DayOfWeek  CRSDepTime\n",
       "Retraso     1.000000  0.561705  0.482921   0.045193    0.129493\n",
       "ArrDelay    0.561705  1.000000  0.959840   0.054927    0.121811\n",
       "DepDelay    0.482921  0.959840  1.000000   0.051572    0.115697\n",
       "DayOfWeek   0.045193  0.054927  0.051572   1.000000   -0.037421\n",
       "CRSDepTime  0.129493  0.121811  0.115697  -0.037421    1.000000"
      ]
     },
     "execution_count": 5,
     "metadata": {},
     "output_type": "execute_result"
    }
   ],
   "source": [
    "pdf5 = bd5.sample(False, 0.1, 0).select('Retraso','ArrDelay','DepDelay','DayOfWeek','CRSDepTime').toPandas()\n",
    "pdf5.corr()"
   ]
  },
  {
   "cell_type": "code",
   "execution_count": 6,
   "metadata": {},
   "outputs": [
    {
     "data": {
      "text/plain": [
       "<matplotlib.axes._subplots.AxesSubplot at 0x7f08db267d30>"
      ]
     },
     "execution_count": 6,
     "metadata": {},
     "output_type": "execute_result"
    },
    {
     "data": {
      "image/png": "[encoded data removed]",
      "text/plain": [
       "<matplotlib.figure.Figure at 0x7f08dd0e4208>"
      ]
     },
     "metadata": {},
     "output_type": "display_data"
    }
   ],
   "source": [
    "import seaborn as sns\n",
    "%matplotlib inline\n",
    "\n",
    "sns.boxplot(x='Retraso',y='DepDelay',data=pdf5)"
   ]
  },
  {
   "cell_type": "markdown",
   "metadata": {},
   "source": [
    "Configuración de la Base de Datos"
   ]
  },
  {
   "cell_type": "code",
   "execution_count": 7,
   "metadata": {
    "collapsed": true
   },
   "outputs": [],
   "source": [
    "from pyspark.sql.functions import col\n",
    "\n",
    "a1  = VectorAssembler(\n",
    "    inputCols=['DepDelay','Distance','DayOfWeek',\n",
    "               'CRSDepTime','Horario1','Horario2',\n",
    "               'Horario3','DepDelay2','DepD_Distance'],\n",
    "    outputCol='features')\n",
    "\n",
    "bd6 = a1.transform(bd5).select(col(\"Retraso\").cast('double').alias(\"label\"),'features')"
   ]
  },
  {
   "cell_type": "code",
   "execution_count": 8,
   "metadata": {},
   "outputs": [
    {
     "name": "stdout",
     "output_type": "stream",
     "text": [
      "+-----+--------------------+\n",
      "|label|            features|\n",
      "+-----+--------------------+\n",
      "|  0.0|(9,[1,2,3,5],[174...|\n",
      "|  0.0|(9,[1,2,3,6],[174...|\n",
      "|  0.0|[-2.0,1747.0,5.0,...|\n",
      "|  1.0|[130.0,628.0,5.0,...|\n",
      "|  0.0|[-8.0,628.0,5.0,2...|\n",
      "|  0.0|[2.0,628.0,5.0,73...|\n",
      "|  0.0|[11.0,628.0,5.0,1...|\n",
      "|  0.0|[-2.0,1199.0,6.0,...|\n",
      "|  0.0|[-3.0,1199.0,6.0,...|\n",
      "|  0.0|[-3.0,1747.0,6.0,...|\n",
      "|  0.0|[2.0,1747.0,6.0,9...|\n",
      "|  0.0|[-4.0,1946.0,6.0,...|\n",
      "|  0.0|[1.0,1946.0,6.0,1...|\n",
      "|  0.0|[6.0,1587.0,6.0,1...|\n",
      "|  0.0|[-4.0,1587.0,6.0,...|\n",
      "|  0.0|[18.0,1199.0,6.0,...|\n",
      "|  0.0|(9,[1,2,3,5],[119...|\n",
      "|  0.0|(9,[1,2,3],[628.0...|\n",
      "|  0.0|[7.0,628.0,6.0,83...|\n",
      "|  0.0|[-3.0,628.0,6.0,6...|\n",
      "+-----+--------------------+\n",
      "only showing top 20 rows\n",
      "\n"
     ]
    }
   ],
   "source": [
    "bd6.show()"
   ]
  },
  {
   "cell_type": "markdown",
   "metadata": {},
   "source": [
    "## Ajuste del modelo"
   ]
  },
  {
   "cell_type": "code",
   "execution_count": 9,
   "metadata": {
    "collapsed": true
   },
   "outputs": [],
   "source": [
    "from pyspark.ml.classification import LogisticRegression\n",
    "\n",
    "lgr = LogisticRegression(maxIter=10, \n",
    "     labelCol=\"label\", \n",
    "     featuresCol=\"features\",\n",
    "     threshold=0.5)\n",
    "                        \n",
    "model = lgr.fit(bd6)"
   ]
  },
  {
   "cell_type": "code",
   "execution_count": 10,
   "metadata": {},
   "outputs": [
    {
     "name": "stdout",
     "output_type": "stream",
     "text": [
      "-1.6228762950366553 [0.0174818630425,-0.000153907645432,0.00622037724017,0.000243814478493,-0.18527035429,0.0280656797875,0.0553254124157,1.4042617353e-06,9.64852764749e-06]\n"
     ]
    }
   ],
   "source": [
    "print(model.intercept,model.coefficients)"
   ]
  },
  {
   "cell_type": "markdown",
   "metadata": {},
   "source": [
    "Los valores predichos se obtienen de:\n",
    "\n",
    "$p_i = \\frac{e^{X_i\\beta}}{1+e^{X_i\\beta}}$\n",
    "\n",
    "Siendo $X_i\\beta  = \\beta_0 + \\beta_1 X_{1i} + ... \\beta_p X_{pi}$ los valores de raw_prediction.\n",
    "\n",
    "Los valores de raw_prediction se obtienen a partir de los coeficientes del modelo y las correspondientes variables explicativas"
   ]
  },
  {
   "cell_type": "code",
   "execution_count": 11,
   "metadata": {},
   "outputs": [
    {
     "name": "stderr",
     "output_type": "stream",
     "text": [
      "/usr/lib/spark/python/pyspark/ml/classification.py:207: UserWarning: weights is deprecated. Use coefficients instead.\n",
      "  warnings.warn(\"weights is deprecated. Use coefficients instead.\")\n"
     ]
    },
    {
     "name": "stdout",
     "output_type": "stream",
     "text": [
      "+--------------------+--------------------+\n",
      "|       rawPrediction|         probability|\n",
      "+--------------------+--------------------+\n",
      "|[1.63387658564688...|[0.83670000031722...|\n",
      "|[1.50177662726689...|[0.81783930435840...|\n",
      "|[1.65378375458687...|[0.83940178015387...|\n",
      "|[-1.7492112490094...|[0.14814671020271...|\n",
      "|[1.36465723982317...|[0.79651557867777...|\n",
      "|[1.64862630130079...|[0.83870530467922...|\n",
      "|[1.03554558927491...|[0.73798961054676...|\n",
      "|[1.86107088203821...|[0.86542171924507...|\n",
      "|[1.40982843515502...|[0.80373888194406...|\n",
      "|[1.51200299433439...|[0.81935786081648...|\n",
      "|[1.53459346182509...|[0.82267739869837...|\n",
      "|[1.78013057758142...|[0.85571298884636...|\n",
      "|[1.45747676951978...|[0.81114644986903...|\n",
      "|[1.18756187495556...|[0.76630472394658...|\n",
      "|[1.97068323216095...|[0.87768448010773...|\n",
      "|[0.82492721142047...|[0.69528124819733...|\n",
      "|[1.46651325798474...|[0.81252683984426...|\n",
      "|[1.25797084035000...|[0.77867660147956...|\n",
      "|[1.28570048593706...|[0.78341856277870...|\n",
      "|[1.78204789784211...|[0.85594955564640...|\n",
      "+--------------------+--------------------+\n",
      "only showing top 20 rows\n",
      "\n"
     ]
    }
   ],
   "source": [
    "pred = model.transform(bd6)\n",
    "pred.select('rawPrediction','probability').show(20)\n"
   ]
  },
  {
   "cell_type": "markdown",
   "metadata": {},
   "source": [
    "Los valores de *probability* son transformados a *prediction* empleando un punto de corte. \n",
    "\n",
    "Por defecto: 0.5"
   ]
  },
  {
   "cell_type": "code",
   "execution_count": 12,
   "metadata": {},
   "outputs": [
    {
     "name": "stdout",
     "output_type": "stream",
     "text": [
      "+-----+----------+--------------------+\n",
      "|label|prediction|         probability|\n",
      "+-----+----------+--------------------+\n",
      "|  0.0|       0.0|[0.83670000031722...|\n",
      "|  0.0|       0.0|[0.81783930435840...|\n",
      "|  0.0|       0.0|[0.83940178015387...|\n",
      "|  1.0|       1.0|[0.14814671020271...|\n",
      "|  0.0|       0.0|[0.79651557867777...|\n",
      "|  0.0|       0.0|[0.83870530467922...|\n",
      "|  0.0|       0.0|[0.73798961054676...|\n",
      "|  0.0|       0.0|[0.86542171924507...|\n",
      "|  0.0|       0.0|[0.80373888194406...|\n",
      "|  0.0|       0.0|[0.81935786081648...|\n",
      "|  0.0|       0.0|[0.82267739869837...|\n",
      "|  0.0|       0.0|[0.85571298884636...|\n",
      "|  0.0|       0.0|[0.81114644986903...|\n",
      "|  0.0|       0.0|[0.76630472394658...|\n",
      "|  0.0|       0.0|[0.87768448010773...|\n",
      "|  0.0|       0.0|[0.69528124819733...|\n",
      "|  0.0|       0.0|[0.81252683984426...|\n",
      "|  0.0|       0.0|[0.77867660147956...|\n",
      "|  0.0|       0.0|[0.78341856277870...|\n",
      "|  0.0|       0.0|[0.85594955564640...|\n",
      "+-----+----------+--------------------+\n",
      "only showing top 20 rows\n",
      "\n"
     ]
    }
   ],
   "source": [
    "pred.select('label','prediction','probability').show(20)"
   ]
  },
  {
   "cell_type": "code",
   "execution_count": 13,
   "metadata": {},
   "outputs": [
    {
     "name": "stdout",
     "output_type": "stream",
     "text": [
      "+-------+------------------+-------------------+\n",
      "|summary|             label|         prediction|\n",
      "+-------+------------------+-------------------+\n",
      "|  count|             30466|              30466|\n",
      "|   mean|0.2757500164117377|0.10802205737543491|\n",
      "| stddev|0.4468987584631851|0.31041336190561586|\n",
      "|    min|               0.0|                0.0|\n",
      "|    max|               1.0|                1.0|\n",
      "+-------+------------------+-------------------+\n",
      "\n"
     ]
    }
   ],
   "source": [
    "pred.describe().show()"
   ]
  },
  {
   "cell_type": "markdown",
   "metadata": {},
   "source": [
    "### Ajuste"
   ]
  },
  {
   "cell_type": "code",
   "execution_count": 14,
   "metadata": {},
   "outputs": [
    {
     "data": {
      "text/plain": [
       "0.9053308831809818"
      ]
     },
     "execution_count": 14,
     "metadata": {},
     "output_type": "execute_result"
    }
   ],
   "source": [
    "from pyspark.ml.evaluation import BinaryClassificationEvaluator as BCE\n",
    "\n",
    "evaluator=BCE(rawPredictionCol='rawPrediction',labelCol='label',\n",
    "              metricName = \"areaUnderROC\")\n",
    "#areaUnderPR\n",
    "evaluator.evaluate(pred)"
   ]
  },
  {
   "cell_type": "markdown",
   "metadata": {},
   "source": [
    "## Regularización y Selección de Variables"
   ]
  },
  {
   "cell_type": "markdown",
   "metadata": {},
   "source": [
    "regParam=0, sin penalización (OLS).\n",
    "\n",
    "elasticNetParam = 0, penalización L2 (Ridge). \n",
    "\n",
    "elasticNetParam = 1, penalización L1 (Lasso)."
   ]
  },
  {
   "cell_type": "markdown",
   "metadata": {},
   "source": [
    "Ridge Regression"
   ]
  },
  {
   "cell_type": "code",
   "execution_count": 15,
   "metadata": {},
   "outputs": [
    {
     "name": "stderr",
     "output_type": "stream",
     "text": [
      "/usr/lib/spark/python/pyspark/ml/classification.py:207: UserWarning: weights is deprecated. Use coefficients instead.\n",
      "  warnings.warn(\"weights is deprecated. Use coefficients instead.\")\n"
     ]
    },
    {
     "name": "stdout",
     "output_type": "stream",
     "text": [
      "-1.3010322347928516 [0.00626416445529,-4.69845926539e-05,0.00776377758017,0.000137146605245,-0.108290451465,-0.00892144636168,0.0343034531299,9.52349580712e-07,3.75833657102e-06]\n"
     ]
    }
   ],
   "source": [
    "lgr = LogisticRegression(maxIter=10, \n",
    "     labelCol=\"label\", \n",
    "     featuresCol=\"features\",\n",
    "     regParam=0.5,\n",
    "     elasticNetParam=0.0)\n",
    "                        \n",
    "model = lgr.fit(bd6)\n",
    "pred = model.transform(bd6)\n",
    "print(model.intercept,model.coefficients)"
   ]
  },
  {
   "cell_type": "markdown",
   "metadata": {},
   "source": [
    "Lasso Regression"
   ]
  },
  {
   "cell_type": "code",
   "execution_count": 16,
   "metadata": {},
   "outputs": [
    {
     "name": "stdout",
     "output_type": "stream",
     "text": [
      "-1.640299241889073 (9,[0,1,2,8],[0.070204446606,-0.000311812101592,-0.014813395958,7.53966187493e-06])\n"
     ]
    },
    {
     "name": "stderr",
     "output_type": "stream",
     "text": [
      "/usr/lib/spark/python/pyspark/ml/classification.py:207: UserWarning: weights is deprecated. Use coefficients instead.\n",
      "  warnings.warn(\"weights is deprecated. Use coefficients instead.\")\n"
     ]
    }
   ],
   "source": [
    "lgr = LogisticRegression(maxIter=10, \n",
    "     labelCol=\"label\", \n",
    "     featuresCol=\"features\",\n",
    "     regParam=0.02,\n",
    "     elasticNetParam=1.0)\n",
    "                        \n",
    "model = lgr.fit(bd6)\n",
    "pred = model.transform(bd6)\n",
    "print(model.intercept,model.coefficients)"
   ]
  }
 ],
 "metadata": {
  "anaconda-cloud": {},
  "kernelspec": {
   "display_name": "Python 3",
   "language": "python",
   "name": "python3"
  },
  "language_info": {
   "codemirror_mode": {
    "name": "ipython",
    "version": 3
   },
   "file_extension": ".py",
   "mimetype": "text/x-python",
   "name": "python",
   "nbconvert_exporter": "python",
   "pygments_lexer": "ipython3",
   "version": "3.8.6"
  }
 },
 "nbformat": 4,
 "nbformat_minor": 2
}
