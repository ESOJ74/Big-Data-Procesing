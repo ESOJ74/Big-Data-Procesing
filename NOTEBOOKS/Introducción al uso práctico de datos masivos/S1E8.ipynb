{
 "cells": [
  {
   "cell_type": "markdown",
   "metadata": {
    "collapsed": true
   },
   "source": [
    "# Pre-Proceso (2)\n",
    "\n",
    "Creación de nuevas variables"
   ]
  },
  {
   "cell_type": "markdown",
   "metadata": {},
   "source": [
    "Definir SparkContext y SQLContext"
   ]
  },
  {
   "cell_type": "code",
   "execution_count": 1,
   "metadata": {},
   "outputs": [],
   "source": [
    "import pyspark\n",
    "from pyspark import SparkContext\n",
    "sc = SparkContext()\n",
    "from pyspark.sql import SQLContext\n",
    "sqlContext=SQLContext(sc)"
   ]
  },
  {
   "cell_type": "code",
   "execution_count": 2,
   "metadata": {},
   "outputs": [],
   "source": [
    "bd = sqlContext.read.format(\"com.databricks.spark.csv\"\n",
    ").option(\"header\", \"true\"\n",
    ").load(\"On_Time_On_Time_Performance_2016_12.csv\", \n",
    "       inferSchema=True)"
   ]
  },
  {
   "cell_type": "code",
   "execution_count": 3,
   "metadata": {},
   "outputs": [],
   "source": [
    "bd=bd.select('Year','Month','DayofMonth','DayOfWeek','CRSDepTime','UniqueCarrier', 'TailNum', 'ArrDelay','DepDelay','Origin','Dest','Distance','Cancelled', 'Diverted','CarrierDelay','WeatherDelay','NASDelay','SecurityDelay','LateAircraftDelay') "
   ]
  },
  {
   "cell_type": "code",
   "execution_count": 4,
   "metadata": {},
   "outputs": [],
   "source": [
    "bd2 = bd.filter( bd.Origin.isin('ATL','ORD','DEN','LAX','DFW','SFO','PHX','LAS') & bd.Dest.isin(\n",
    "    'ATL','ORD','DEN','LAX','DFW','SFO','PHX','LAS') )\n",
    "\n",
    "sqlContext.registerDataFrameAsTable(bd2, \"bd2\")"
   ]
  },
  {
   "cell_type": "code",
   "execution_count": 5,
   "metadata": {},
   "outputs": [],
   "source": [
    "bd3 = bd2.filter(bd2.Cancelled==0\n",
    ").filter(bd2.Diverted==0)"
   ]
  },
  {
   "cell_type": "code",
   "execution_count": 6,
   "metadata": {},
   "outputs": [],
   "source": [
    "bd4 = bd3.na.fill({'CarrierDelay':0, 'WeatherDelay':0,'NASDelay':0,'SecurityDelay':0, 'LateAircraftDelay':0})\n",
    "#bd4 = bd3.na.fill(0)\n",
    "#bd4 = bd3.na.drop()"
   ]
  },
  {
   "cell_type": "markdown",
   "metadata": {},
   "source": [
    "## Transformación y Creación de nuevas variables"
   ]
  },
  {
   "cell_type": "code",
   "execution_count": 7,
   "metadata": {},
   "outputs": [],
   "source": [
    "from pyspark.sql.functions import log\n",
    "\n",
    "bd4 = bd4.withColumn('LogD', log(10.0, 'Distance'))"
   ]
  },
  {
   "cell_type": "code",
   "execution_count": 8,
   "metadata": {},
   "outputs": [],
   "source": [
    "bd4 = bd4.withColumn('Retraso', (bd4.ArrDelay >=15).cast('int'))"
   ]
  },
  {
   "cell_type": "code",
   "execution_count": 9,
   "metadata": {},
   "outputs": [],
   "source": [
    "bd4 = bd4.withColumn('RetrasoNeto', bd4.ArrDelay-bd4.DepDelay)"
   ]
  },
  {
   "cell_type": "code",
   "execution_count": 10,
   "metadata": {},
   "outputs": [
    {
     "data": {
      "text/plain": [
       "[('Year', 'int'),\n",
       " ('Month', 'int'),\n",
       " ('DayofMonth', 'int'),\n",
       " ('DayOfWeek', 'int'),\n",
       " ('CRSDepTime', 'int'),\n",
       " ('UniqueCarrier', 'string'),\n",
       " ('TailNum', 'string'),\n",
       " ('ArrDelay', 'double'),\n",
       " ('DepDelay', 'double'),\n",
       " ('Origin', 'string'),\n",
       " ('Dest', 'string'),\n",
       " ('Distance', 'double'),\n",
       " ('Cancelled', 'double'),\n",
       " ('Diverted', 'double'),\n",
       " ('CarrierDelay', 'double'),\n",
       " ('WeatherDelay', 'double'),\n",
       " ('NASDelay', 'double'),\n",
       " ('SecurityDelay', 'double'),\n",
       " ('LateAircraftDelay', 'double'),\n",
       " ('LogD', 'double'),\n",
       " ('Retraso', 'int'),\n",
       " ('RetrasoNeto', 'double')]"
      ]
     },
     "execution_count": 10,
     "metadata": {},
     "output_type": "execute_result"
    }
   ],
   "source": [
    "bd4.dtypes"
   ]
  },
  {
   "cell_type": "code",
   "execution_count": 11,
   "metadata": {},
   "outputs": [
    {
     "name": "stdout",
     "output_type": "stream",
     "text": [
      "+-------+------------------+-------------------+------------------+------------------+\n",
      "|summary|          ArrDelay|               LogD|           Retraso|       RetrasoNeto|\n",
      "+-------+------------------+-------------------+------------------+------------------+\n",
      "|  count|             30466|              30466|             30466|             30466|\n",
      "|   mean|13.300695857677411|  2.886007454172114|0.2757500164117377|-3.919680955819602|\n",
      "| stddev| 53.50946738163752|0.28179267734674995| 0.446898758463185|15.560721063721338|\n",
      "|    min|             -53.0| 2.3729120029701067|                 0|             -48.0|\n",
      "|    max|            2028.0|  3.330210784571528|                 1|             229.0|\n",
      "+-------+------------------+-------------------+------------------+------------------+\n",
      "\n"
     ]
    }
   ],
   "source": [
    "bd4.describe('ArrDelay','LogD','Retraso','RetrasoNeto').show()"
   ]
  },
  {
   "cell_type": "code",
   "execution_count": 12,
   "metadata": {},
   "outputs": [
    {
     "data": {
      "text/html": [
       "<div>\n",
       "<style scoped>\n",
       "    .dataframe tbody tr th:only-of-type {\n",
       "        vertical-align: middle;\n",
       "    }\n",
       "\n",
       "    .dataframe tbody tr th {\n",
       "        vertical-align: top;\n",
       "    }\n",
       "\n",
       "    .dataframe thead th {\n",
       "        text-align: right;\n",
       "    }\n",
       "</style>\n",
       "<table border=\"1\" class=\"dataframe\">\n",
       "  <thead>\n",
       "    <tr style=\"text-align: right;\">\n",
       "      <th></th>\n",
       "      <th>summary</th>\n",
       "      <th>ArrDelay</th>\n",
       "      <th>LogD</th>\n",
       "      <th>Retraso</th>\n",
       "      <th>RetrasoNeto</th>\n",
       "    </tr>\n",
       "  </thead>\n",
       "  <tbody>\n",
       "    <tr>\n",
       "      <th>0</th>\n",
       "      <td>count</td>\n",
       "      <td>30466</td>\n",
       "      <td>30466</td>\n",
       "      <td>30466</td>\n",
       "      <td>30466</td>\n",
       "    </tr>\n",
       "    <tr>\n",
       "      <th>1</th>\n",
       "      <td>mean</td>\n",
       "      <td>13.300695857677411</td>\n",
       "      <td>2.886007454172114</td>\n",
       "      <td>0.2757500164117377</td>\n",
       "      <td>-3.919680955819602</td>\n",
       "    </tr>\n",
       "    <tr>\n",
       "      <th>2</th>\n",
       "      <td>stddev</td>\n",
       "      <td>53.50946738163752</td>\n",
       "      <td>0.28179267734674995</td>\n",
       "      <td>0.446898758463185</td>\n",
       "      <td>15.560721063721338</td>\n",
       "    </tr>\n",
       "    <tr>\n",
       "      <th>3</th>\n",
       "      <td>min</td>\n",
       "      <td>-53.0</td>\n",
       "      <td>2.3729120029701067</td>\n",
       "      <td>0</td>\n",
       "      <td>-48.0</td>\n",
       "    </tr>\n",
       "    <tr>\n",
       "      <th>4</th>\n",
       "      <td>max</td>\n",
       "      <td>2028.0</td>\n",
       "      <td>3.330210784571528</td>\n",
       "      <td>1</td>\n",
       "      <td>229.0</td>\n",
       "    </tr>\n",
       "  </tbody>\n",
       "</table>\n",
       "</div>"
      ],
      "text/plain": [
       "  summary            ArrDelay                 LogD             Retraso  \\\n",
       "0   count               30466                30466               30466   \n",
       "1    mean  13.300695857677411    2.886007454172114  0.2757500164117377   \n",
       "2  stddev   53.50946738163752  0.28179267734674995   0.446898758463185   \n",
       "3     min               -53.0   2.3729120029701067                   0   \n",
       "4     max              2028.0    3.330210784571528                   1   \n",
       "\n",
       "          RetrasoNeto  \n",
       "0               30466  \n",
       "1  -3.919680955819602  \n",
       "2  15.560721063721338  \n",
       "3               -48.0  \n",
       "4               229.0  "
      ]
     },
     "execution_count": 12,
     "metadata": {},
     "output_type": "execute_result"
    }
   ],
   "source": [
    "bd4.describe('ArrDelay','LogD','Retraso','RetrasoNeto').toPandas()"
   ]
  },
  {
   "cell_type": "code",
   "execution_count": 13,
   "metadata": {},
   "outputs": [],
   "source": [
    "sqlContext.registerDataFrameAsTable(bd4, \"bd4\")\n",
    "\n",
    "bd5 = sqlContext.sql(\"select *, case \\\n",
    "               when CRSDepTime <= 800 then 1 \\\n",
    "               when 800 < CRSDepTime and CRSDepTime <= 1200 then 2 \\\n",
    "               when 1200 < CRSDepTime and CRSDepTime <= 1600 then 3 \\\n",
    "               when 1600 < CRSDepTime and CRSDepTime <= 2100 then 4 \\\n",
    "               else 1 end as Horario \\\n",
    "               from bd4\")"
   ]
  },
  {
   "cell_type": "code",
   "execution_count": 15,
   "metadata": {},
   "outputs": [
    {
     "name": "stdout",
     "output_type": "stream",
     "text": [
      "+-------+------------------+\n",
      "|summary|           Horario|\n",
      "+-------+------------------+\n",
      "|  count|             30466|\n",
      "|   mean| 2.539322523468785|\n",
      "| stddev|1.1369016091531152|\n",
      "|    min|                 1|\n",
      "|    max|                 4|\n",
      "+-------+------------------+\n",
      "\n"
     ]
    }
   ],
   "source": [
    "bd5.select('Horario').describe().show()"
   ]
  },
  {
   "cell_type": "code",
   "execution_count": 16,
   "metadata": {},
   "outputs": [
    {
     "name": "stdout",
     "output_type": "stream",
     "text": [
      "+-------+-----+\n",
      "|Horario|count|\n",
      "+-------+-----+\n",
      "|      1| 7519|\n",
      "|      3| 7180|\n",
      "|      4| 8385|\n",
      "|      2| 7382|\n",
      "+-------+-----+\n",
      "\n"
     ]
    }
   ],
   "source": [
    "bd5.select('Horario').groupBy('Horario').count().show()"
   ]
  },
  {
   "cell_type": "markdown",
   "metadata": {},
   "source": [
    "## Exportar la base de datos  a HDFS"
   ]
  },
  {
   "cell_type": "code",
   "execution_count": 21,
   "metadata": {},
   "outputs": [],
   "source": [
    "bd5.write.format(\n",
    "    \"com.databricks.spark.csv\"\n",
    ").option(\n",
    "    \"header\", \"true\"\n",
    ").mode('overwrite').save('bd5.csv') \n"
   ]
  }
 ],
 "metadata": {
  "anaconda-cloud": {},
  "kernelspec": {
   "display_name": "Python 3",
   "language": "python",
   "name": "python3"
  },
  "language_info": {
   "codemirror_mode": {
    "name": "ipython",
    "version": 3
   },
   "file_extension": ".py",
   "mimetype": "text/x-python",
   "name": "python",
   "nbconvert_exporter": "python",
   "pygments_lexer": "ipython3",
   "version": "3.8.11"
  }
 },
 "nbformat": 4,
 "nbformat_minor": 2
}
