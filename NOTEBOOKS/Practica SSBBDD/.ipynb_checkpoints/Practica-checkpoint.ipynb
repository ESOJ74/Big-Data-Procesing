{
 "cells": [
  {
   "cell_type": "code",
   "execution_count": 89,
   "metadata": {},
   "outputs": [
    {
     "name": "stdout",
     "output_type": "stream",
     "text": [
      "mkdir: `tierrasCultivables': File exists\n",
      "mkdir: `poblacionRural': File exists\n"
     ]
    }
   ],
   "source": [
    "! hadoop fs -mkdir tierrasCultivables\n",
    "! hadoop fs -mkdir poblacionRural"
   ]
  },
  {
   "cell_type": "code",
   "execution_count": 88,
   "metadata": {},
   "outputs": [
    {
     "name": "stdout",
     "output_type": "stream",
     "text": [
      "Found 2 items\r\n",
      "drwxr-xr-x   - cloudera cloudera          0 2021-10-10 04:37 poblacionRural\r\n",
      "drwxr-xr-x   - cloudera cloudera          0 2021-10-10 04:37 tierrasCultivables\r\n"
     ]
    }
   ],
   "source": [
    "! hadoop fs -ls"
   ]
  },
  {
   "cell_type": "code",
   "execution_count": 90,
   "metadata": {},
   "outputs": [
    {
     "name": "stdout",
     "output_type": "stream",
     "text": [
      "put: `tierrasCultivables/API_AG.LND.ARBL.HA.PC_DS2_es_csv_v2_2593504.csv': File exists\n",
      "put: `poblacionRural/API_SP.RUR.TOTL.ZS_DS2_es_csv_v2_2601419.csv': File exists\n"
     ]
    }
   ],
   "source": [
    "! hadoop fs -put /home/cloudera/BancoMundial/API_AG.LND.ARBL.HA.PC_DS2_es_csv_v2_2593504.csv tierrasCultivables\n",
    "! hadoop fs -put /home/cloudera/BancoMundial/API_SP.RUR.TOTL.ZS_DS2_es_csv_v2_2601419.csv poblacionRural"
   ]
  },
  {
   "cell_type": "code",
   "execution_count": 91,
   "metadata": {},
   "outputs": [
    {
     "name": "stdout",
     "output_type": "stream",
     "text": [
      "Found 1 items\n",
      "-rw-r--r--   1 cloudera cloudera     267352 2021-10-10 04:37 tierrasCultivables/API_AG.LND.ARBL.HA.PC_DS2_es_csv_v2_2593504.csv\n",
      "Found 1 items\n",
      "-rw-r--r--   1 cloudera cloudera     159352 2021-10-10 04:37 poblacionRural/API_SP.RUR.TOTL.ZS_DS2_es_csv_v2_2601419.csv\n"
     ]
    }
   ],
   "source": [
    "! hadoop fs -ls tierrasCultivables\n",
    "! hadoop fs -ls poblacionRural"
   ]
  },
  {
   "cell_type": "code",
   "execution_count": 92,
   "metadata": {},
   "outputs": [
    {
     "name": "stdout",
     "output_type": "stream",
     "text": [
      "Overwriting API_SP.RUR.TOTL.ZS_DS2_es_csv_v2_2601419.hql\n"
     ]
    }
   ],
   "source": [
    "%%writefile API_SP.RUR.TOTL.ZS_DS2_es_csv_v2_2601419.hql\n",
    "\n",
    "DROP TABLE if EXISTS poblacionRuralTabla;\n",
    "create external table poblacionRuralTabla (\n",
    "  CountryName STRING, CountryCode STRING, IndicatorName STRING, IndicatorCode STRING, A1960 STRING, A1961 STRING,\n",
    "    A1962 STRING, A1963 STRING, A1964 STRING, A1965 STRING, A1966 STRING, A1967 STRING, A1968 STRING, A1969 STRING,\n",
    "    A1970 STRING, A1971 STRING, A1972 STRING, A1973 STRING, A1974 STRING, A1975 STRING, A1976 STRING, A1977 STRING,\n",
    "    A1978 STRING, A1979 STRING, A1980 STRING, A1981 STRING, A1982 STRING, A1983 STRING, A1984 STRING, A1985 STRING,\n",
    "    A1986 STRING, A1987 STRING, A1988 STRING, A1989 STRING, A1990 STRING, A1991 STRING, A1992 STRING, A1993 STRING,\n",
    "    A1994 STRING, A1995 STRING, A1996 STRING, A1997 STRING, A1998 STRING, A1999 STRING, A2000 STRING, A2001 STRING, \n",
    "    A2002 STRING, A2003 STRING, A2004 STRING, A2005 STRING, A2006 STRING, A2007 STRING, A2008 STRING, A2009 STRING,\n",
    "    A2010 STRING, A2011 STRING, A2012 STRING, A2013 STRING, A2014 STRING, A2015 STRING, A2016 STRING, A2017 STRING,\n",
    "    A2018 STRING, A2019 STRING, A2020 STRING)\n",
    "ROW FORMAT DELIMITED FIELDS TERMINATED BY ',' LOCATION '/user/cloudera/poblacionRural';"
   ]
  },
  {
   "cell_type": "code",
   "execution_count": 93,
   "metadata": {},
   "outputs": [
    {
     "name": "stdout",
     "output_type": "stream",
     "text": [
      "Overwriting API_AG.LND.ARBL.HA.PC_DS2_es_csv_v2_2593504.hql\n"
     ]
    }
   ],
   "source": [
    "%%writefile API_AG.LND.ARBL.HA.PC_DS2_es_csv_v2_2593504.hql\n",
    "\n",
    "DROP TABLE if EXISTS tierrasCultivablesTabla;\n",
    "create external table tierrasCultivablesTabla (\n",
    "  CountryName STRING, CountryCode STRING, IndicatorName STRING, IndicatorCode STRING, A1960 STRING, A1961 STRING,\n",
    "    A1962 STRING, A1963 STRING, A1964 STRING, A1965 STRING, A1966 STRING, A1967 STRING, A1968 STRING, A1969 STRING,\n",
    "    A1970 STRING, A1971 STRING, A1972 STRING, A1973 STRING, A1974 STRING, A1975 STRING, A1976 STRING, A1977 STRING,\n",
    "    A1978 STRING, A1979 STRING, A1980 STRING, A1981 STRING, A1982 STRING, A1983 STRING, A1984 STRING, A1985 STRING,\n",
    "    A1986 STRING, A1987 STRING, A1988 STRING, A1989 STRING, A1990 STRING, A1991 STRING, A1992 STRING, A1993 STRING,\n",
    "    A1994 STRING, A1995 STRING, A1996 STRING, A1997 STRING, A1998 STRING, A1999 STRING, A2000 STRING, A2001 STRING, \n",
    "    A2002 STRING, A2003 STRING, A2004 STRING, A2005 STRING, A2006 STRING, A2007 STRING, A2008 STRING, A2009 STRING,\n",
    "    A2010 STRING, A2011 STRING, A2012 STRING, A2013 STRING, A2014 STRING, A2015 STRING, A2016 STRING, A2017 STRING,\n",
    "    A2018 STRING, A2019 STRING, A2020 STRING)\n",
    "ROW FORMAT DELIMITED FIELDS TERMINATED BY ',' LOCATION '/user/cloudera/tierrasCultivables';"
   ]
  },
  {
   "cell_type": "code",
   "execution_count": 94,
   "metadata": {},
   "outputs": [
    {
     "name": "stdout",
     "output_type": "stream",
     "text": [
      "scan complete in 1ms\n",
      "Connecting to jdbc:hive2://localhost:10000/default\n",
      "Connected to: Apache Hive (version 1.1.0-cdh5.12.0)\n",
      "Driver: Hive JDBC (version 1.1.0-cdh5.12.0)\n",
      "Transaction isolation: TRANSACTION_REPEATABLE_READ\n",
      "0: jdbc:hive2://localhost:10000/default> \n",
      "Tabla;c:hive2://localhost:10000/default> DROP TABLE if EXISTS tierrasCultivables \n",
      "INFO  : Compiling command(queryId=hive_20211010054646_72bde17a-9b61-415b-90e0-ba3e6f027c68): DROP TABLE if EXISTS tierrasCultivablesTabla\n",
      "INFO  : Semantic Analysis Completed\n",
      "INFO  : Returning Hive schema: Schema(fieldSchemas:null, properties:null)\n",
      "INFO  : Completed compiling command(queryId=hive_20211010054646_72bde17a-9b61-415b-90e0-ba3e6f027c68); Time taken: 0.044 seconds\n",
      "INFO  : Concurrency mode is disabled, not creating a lock manager\n",
      "INFO  : Executing command(queryId=hive_20211010054646_72bde17a-9b61-415b-90e0-ba3e6f027c68): DROP TABLE if EXISTS tierrasCultivablesTabla\n",
      "INFO  : Starting task [Stage-0:DDL] in serial mode\n",
      "INFO  : Completed executing command(queryId=hive_20211010054646_72bde17a-9b61-415b-90e0-ba3e6f027c68); Time taken: 0.042 seconds\n",
      "INFO  : OK\n",
      "No rows affected (0.128 seconds)\n",
      "sTabla (hive2://localhost:10000/default> create external table tierrasCultivable \n",
      "G, IndicatorName STRING, IndicatorCode STRING, A1960 STRING, A1961 STRING, STRIN \n",
      "TRING,  . . . . . . . . . . . . . . . .>     A1962 STRING, A1963 STRING, A1964 S A1965 STRING, A1966 STRING, A1967 STRING, A1968 STRING, A1969 STRING,\n",
      "TRING, A1973 STRING, A1974 STRING, A1975 STRING, A1976 STRING, A1977 STRING,72 S \n",
      "TRING, A1981 STRING, A1982 STRING, A1983 STRING, A1984 STRING, A1985 STRING,80 S \n",
      "TRING, A1989 STRING, A1990 STRING, A1991 STRING, A1992 STRING, A1993 STRING,88 S \n",
      "TRING, A1997 STRING, A1998 ST . . . . .>     A1994 STRING, A1995 STRING, A1996 S RING, A1999 STRING, A2000 STRING, A2001 STRING, \n",
      "TRING, A2005 STRING, A2006 STRING, A2007 STRING, A2008 STRING, A2009 STRING,04 S \n",
      "TRING, A2013 STRING, A2014 STRING, A2015 STRING, A2016 STRING, A2017 STRING,12 S \n",
      "TRING). . . . . . . . . . . . . . . . .>     A2018 STRING, A2019 STRING, A2020 S \n",
      "BY ',' LOCATION '/user/cloudera/tierrasCultivables';DELIMITED FIELDS TERMINATED  \n",
      "INFO  : Compiling command(queryId=hive_20211010054646_b935cc98-b70b-4528-968b-9bb769369df2): create external table tierrasCultivablesTabla (\n",
      "CountryName STRING, CountryCode STRING, IndicatorName STRING, IndicatorCode STRING, A1960 STRING, A1961 STRING,\n",
      "A1962 STRING, A1963 STRING, A1964 STRING, A1965 STRING, A1966 STRING, A1967 STRING, A1968 STRING, A1969 STRING,\n",
      "A1970 STRING, A1971 STRING, A1972 STRING, A1973 STRING, A1974 STRING, A1975 STRING, A1976 STRING, A1977 STRING,\n",
      "A1978 STRING, A1979 STRING, A1980 STRING, A1981 STRING, A1982 STRING, A1983 STRING, A1984 STRING, A1985 STRING,\n",
      "A1986 STRING, A1987 STRING, A1988 STRING, A1989 STRING, A1990 STRING, A1991 STRING, A1992 STRING, A1993 STRING,\n",
      "A1994 STRING, A1995 STRING, A1996 STRING, A1997 STRING, A1998 STRING, A1999 STRING, A2000 STRING, A2001 STRING,\n",
      "A2002 STRING, A2003 STRING, A2004 STRING, A2005 STRING, A2006 STRING, A2007 STRING, A2008 STRING, A2009 STRING,\n",
      "A2010 STRING, A2011 STRING, A2012 STRING, A2013 STRING, A2014 STRING, A2015 STRING, A2016 STRING, A2017 STRING,\n",
      "A2018 STRING, A2019 STRING, A2020 STRING)\n",
      "ROW FORMAT DELIMITED FIELDS TERMINATED BY ',' LOCATION '/user/cloudera/tierrasCultivables'\n",
      "INFO  : Semantic Analysis Completed\n",
      "INFO  : Returning Hive schema: Schema(fieldSchemas:null, properties:null)\n",
      "INFO  : Completed compiling command(queryId=hive_20211010054646_b935cc98-b70b-4528-968b-9bb769369df2); Time taken: 0.005 seconds\n",
      "INFO  : Concurrency mode is disabled, not creating a lock manager\n",
      "INFO  : Executing command(queryId=hive_20211010054646_b935cc98-b70b-4528-968b-9bb769369df2): create external table tierrasCultivablesTabla (\n",
      "CountryName STRING, CountryCode STRING, IndicatorName STRING, IndicatorCode STRING, A1960 STRING, A1961 STRING,\n",
      "A1962 STRING, A1963 STRING, A1964 STRING, A1965 STRING, A1966 STRING, A1967 STRING, A1968 STRING, A1969 STRING,\n",
      "A1970 STRING, A1971 STRING, A1972 STRING, A1973 STRING, A1974 STRING, A1975 STRING, A1976 STRING, A1977 STRING,\n",
      "A1978 STRING, A1979 STRING, A1980 STRING, A1981 STRING, A1982 STRING, A1983 STRING, A1984 STRING, A1985 STRING,\n",
      "A1986 STRING, A1987 STRING, A1988 STRING, A1989 STRING, A1990 STRING, A1991 STRING, A1992 STRING, A1993 STRING,\n",
      "A1994 STRING, A1995 STRING, A1996 STRING, A1997 STRING, A1998 STRING, A1999 STRING, A2000 STRING, A2001 STRING,\n",
      "A2002 STRING, A2003 STRING, A2004 STRING, A2005 STRING, A2006 STRING, A2007 STRING, A2008 STRING, A2009 STRING,\n",
      "A2010 STRING, A2011 STRING, A2012 STRING, A2013 STRING, A2014 STRING, A2015 STRING, A2016 STRING, A2017 STRING,\n",
      "A2018 STRING, A2019 STRING, A2020 STRING)\n",
      "ROW FORMAT DELIMITED FIELDS TERMINATED BY ',' LOCATION '/user/cloudera/tierrasCultivables'\n",
      "INFO  : Starting task [Stage-0:DDL] in serial mode\n",
      "INFO  : Completed executing command(queryId=hive_20211010054646_b935cc98-b70b-4528-968b-9bb769369df2); Time taken: 0.033 seconds\n",
      "INFO  : OK\n",
      "No rows affected (0.046 seconds)\n",
      "0: jdbc:hive2://localhost:10000/default> \n",
      "Closing: 0: jdbc:hive2://localhost:10000/default\n"
     ]
    }
   ],
   "source": [
    "! beeline -u \"jdbc:hive2://localhost:10000/default\" -f API_AG.LND.ARBL.HA.PC_DS2_es_csv_v2_2593504.hql"
   ]
  },
  {
   "cell_type": "code",
   "execution_count": 95,
   "metadata": {},
   "outputs": [
    {
     "name": "stdout",
     "output_type": "stream",
     "text": [
      "scan complete in 2ms\n",
      "Connecting to jdbc:hive2://localhost:10000/default\n",
      "Connected to: Apache Hive (version 1.1.0-cdh5.12.0)\n",
      "Driver: Hive JDBC (version 1.1.0-cdh5.12.0)\n",
      "Transaction isolation: TRANSACTION_REPEATABLE_READ\n",
      "0: jdbc:hive2://localhost:10000/default> \n",
      "a; jdbc:hive2://localhost:10000/default> DROP TABLE if EXISTS poblacionRuralTabl \n",
      "INFO  : Compiling command(queryId=hive_20211010054646_7c6b9669-19c0-42a6-9a9f-1f5029f8bb25): DROP TABLE if EXISTS poblacionRuralTabla\n",
      "INFO  : Semantic Analysis Completed\n",
      "INFO  : Returning Hive schema: Schema(fieldSchemas:null, properties:null)\n",
      "INFO  : Completed compiling command(queryId=hive_20211010054646_7c6b9669-19c0-42a6-9a9f-1f5029f8bb25); Time taken: 0.036 seconds\n",
      "INFO  : Concurrency mode is disabled, not creating a lock manager\n",
      "INFO  : Executing command(queryId=hive_20211010054646_7c6b9669-19c0-42a6-9a9f-1f5029f8bb25): DROP TABLE if EXISTS poblacionRuralTabla\n",
      "INFO  : Starting task [Stage-0:DDL] in serial mode\n",
      "INFO  : Completed executing command(queryId=hive_20211010054646_7c6b9669-19c0-42a6-9a9f-1f5029f8bb25); Time taken: 0.036 seconds\n",
      "INFO  : OK\n",
      "No rows affected (0.112 seconds)\n",
      "la (dbc:hive2://localhost:10000/default> create external table poblacionRuralTab \n",
      "G, IndicatorName STRING, IndicatorCode STRING, A1960 STRING, A1961 STRING, STRIN \n",
      "TRING, A1965 STRING, A1966 STRING, A1967 STRING, A1968 STRING, A1969ING, A1964 S  STRING,\n",
      "TRING, A1973 STRING, A1974 STRING, A1975 STRING, A1976 STRING, A1977 STRING,72 S \n",
      "TRING, A1981 STRING, A1982 STRING, A1983 STRING, A1984 STRING, A1985 STRING,80 S \n",
      "TRING, A1989 STRING, A1990 STRING, A1991 STRING, A1992 STRING, A1993 STRING,88 S \n",
      "TRING, A1997 STRING, A1998 STRI . . . .>     A1994 STRING, A1995 STRING, A1996 S NG, A1999 STRING, A2000 STRING, A2001 STRING, \n",
      "TRING, A2005 STRING, A2006 STRING, A2007 STRING, A2008 STRING, A2009 STRING,04 S \n",
      "TRING, A2013 STRING, A2014 STRING, A2015 STRING, A2016 STRING, A2017 STRING,12 S \n",
      "TRING). . . . . . . . . . . . . . . . .>     A2018 STRING, A2019 STRING, A2020 S \n",
      "BY ',' LOCATION '/user/cloudera/poblacionRural';MAT DELIMITED FIELDS TERMINATED  \n",
      "INFO  : Compiling command(queryId=hive_20211010054646_68a9fd8e-7d3b-429f-931a-f4912722d9b0): create external table poblacionRuralTabla (\n",
      "CountryName STRING, CountryCode STRING, IndicatorName STRING, IndicatorCode STRING, A1960 STRING, A1961 STRING,\n",
      "A1962 STRING, A1963 STRING, A1964 STRING, A1965 STRING, A1966 STRING, A1967 STRING, A1968 STRING, A1969 STRING,\n",
      "A1970 STRING, A1971 STRING, A1972 STRING, A1973 STRING, A1974 STRING, A1975 STRING, A1976 STRING, A1977 STRING,\n",
      "A1978 STRING, A1979 STRING, A1980 STRING, A1981 STRING, A1982 STRING, A1983 STRING, A1984 STRING, A1985 STRING,\n",
      "A1986 STRING, A1987 STRING, A1988 STRING, A1989 STRING, A1990 STRING, A1991 STRING, A1992 STRING, A1993 STRING,\n",
      "A1994 STRING, A1995 STRING, A1996 STRING, A1997 STRING, A1998 STRING, A1999 STRING, A2000 STRING, A2001 STRING,\n",
      "A2002 STRING, A2003 STRING, A2004 STRING, A2005 STRING, A2006 STRING, A2007 STRING, A2008 STRING, A2009 STRING,\n",
      "A2010 STRING, A2011 STRING, A2012 STRING, A2013 STRING, A2014 STRING, A2015 STRING, A2016 STRING, A2017 STRING,\n",
      "A2018 STRING, A2019 STRING, A2020 STRING)\n",
      "ROW FORMAT DELIMITED FIELDS TERMINATED BY ',' LOCATION '/user/cloudera/poblacionRural'\n",
      "INFO  : Semantic Analysis Completed\n",
      "INFO  : Returning Hive schema: Schema(fieldSchemas:null, properties:null)\n",
      "INFO  : Completed compiling command(queryId=hive_20211010054646_68a9fd8e-7d3b-429f-931a-f4912722d9b0); Time taken: 0.009 seconds\n",
      "INFO  : Concurrency mode is disabled, not creating a lock manager\n",
      "INFO  : Executing command(queryId=hive_20211010054646_68a9fd8e-7d3b-429f-931a-f4912722d9b0): create external table poblacionRuralTabla (\n",
      "CountryName STRING, CountryCode STRING, IndicatorName STRING, IndicatorCode STRING, A1960 STRING, A1961 STRING,\n",
      "A1962 STRING, A1963 STRING, A1964 STRING, A1965 STRING, A1966 STRING, A1967 STRING, A1968 STRING, A1969 STRING,\n",
      "A1970 STRING, A1971 STRING, A1972 STRING, A1973 STRING, A1974 STRING, A1975 STRING, A1976 STRING, A1977 STRING,\n",
      "A1978 STRING, A1979 STRING, A1980 STRING, A1981 STRING, A1982 STRING, A1983 STRING, A1984 STRING, A1985 STRING,\n",
      "A1986 STRING, A1987 STRING, A1988 STRING, A1989 STRING, A1990 STRING, A1991 STRING, A1992 STRING, A1993 STRING,\n",
      "A1994 STRING, A1995 STRING, A1996 STRING, A1997 STRING, A1998 STRING, A1999 STRING, A2000 STRING, A2001 STRING,\n",
      "A2002 STRING, A2003 STRING, A2004 STRING, A2005 STRING, A2006 STRING, A2007 STRING, A2008 STRING, A2009 STRING,\n",
      "A2010 STRING, A2011 STRING, A2012 STRING, A2013 STRING, A2014 STRING, A2015 STRING, A2016 STRING, A2017 STRING,\n",
      "A2018 STRING, A2019 STRING, A2020 STRING)\n",
      "ROW FORMAT DELIMITED FIELDS TERMINATED BY ',' LOCATION '/user/cloudera/poblacionRural'\n",
      "INFO  : Starting task [Stage-0:DDL] in serial mode\n",
      "INFO  : Completed executing command(queryId=hive_20211010054646_68a9fd8e-7d3b-429f-931a-f4912722d9b0); Time taken: 0.041 seconds\n",
      "INFO  : OK\n",
      "No rows affected (0.059 seconds)\n",
      "0: jdbc:hive2://localhost:10000/default> \n",
      "Closing: 0: jdbc:hive2://localhost:10000/default\n"
     ]
    }
   ],
   "source": [
    "! beeline -u \"jdbc:hive2://localhost:10000/default\" -f API_SP.RUR.TOTL.ZS_DS2_es_csv_v2_2601419.hql"
   ]
  },
  {
   "cell_type": "markdown",
   "metadata": {},
   "source": [
    "## 3. (2 puntos) Crea una vista sobre las tablas creadas. Esta vista tendrá para cada país, su nombre, código, porcentaje de población rural en 2018 y superficie de tierra cultivable en 2018."
   ]
  },
  {
   "cell_type": "code",
   "execution_count": 99,
   "metadata": {
    "scrolled": true
   },
   "outputs": [
    {
     "name": "stdout",
     "output_type": "stream",
     "text": [
      "scan complete in 1ms\n",
      "Connecting to jdbc:hive2://localhost:10000/default\n",
      "Connected to: Apache Hive (version 1.1.0-cdh5.12.0)\n",
      "Driver: Hive JDBC (version 1.1.0-cdh5.12.0)\n",
      "Transaction isolation: TRANSACTION_REPEATABLE_READ\n",
      "INFO  : Compiling command(queryId=hive_20211010054848_086282af-7e3d-4cdd-a56b-6477f667b63e): drop view if exists vista\n",
      "INFO  : Semantic Analysis Completed\n",
      "INFO  : Returning Hive schema: Schema(fieldSchemas:null, properties:null)\n",
      "INFO  : Completed compiling command(queryId=hive_20211010054848_086282af-7e3d-4cdd-a56b-6477f667b63e); Time taken: 0.043 seconds\n",
      "INFO  : Concurrency mode is disabled, not creating a lock manager\n",
      "INFO  : Executing command(queryId=hive_20211010054848_086282af-7e3d-4cdd-a56b-6477f667b63e): drop view if exists vista\n",
      "INFO  : Starting task [Stage-0:DDL] in serial mode\n",
      "INFO  : Completed executing command(queryId=hive_20211010054848_086282af-7e3d-4cdd-a56b-6477f667b63e); Time taken: 0.036 seconds\n",
      "INFO  : OK\n",
      "No rows affected (0.114 seconds)\n",
      "INFO  : Compiling command(queryId=hive_20211010054848_fe4d37e7-5f90-41bb-a991-1780128f6672): create view vista as select a.countryname, a.countrycode, cast(a.a2018 as float) as tierraCultivable, cast(b.a2018 as float) as poblacionrural from tierrascultivablesTabla as a join poblacionRuralTabla as b ON a.countrycode = b.countrycode\n",
      "INFO  : Semantic Analysis Completed\n",
      "INFO  : Returning Hive schema: Schema(fieldSchemas:[FieldSchema(name:countryname, type:string, comment:null), FieldSchema(name:countrycode, type:string, comment:null), FieldSchema(name:tierracultivable, type:float, comment:null), FieldSchema(name:poblacionrural, type:float, comment:null)], properties:null)\n",
      "INFO  : Completed compiling command(queryId=hive_20211010054848_fe4d37e7-5f90-41bb-a991-1780128f6672); Time taken: 0.059 seconds\n",
      "INFO  : Concurrency mode is disabled, not creating a lock manager\n",
      "INFO  : Executing command(queryId=hive_20211010054848_fe4d37e7-5f90-41bb-a991-1780128f6672): create view vista as select a.countryname, a.countrycode, cast(a.a2018 as float) as tierraCultivable, cast(b.a2018 as float) as poblacionrural from tierrascultivablesTabla as a join poblacionRuralTabla as b ON a.countrycode = b.countrycode\n",
      "INFO  : Starting task [Stage-0:DDL] in serial mode\n",
      "INFO  : Completed executing command(queryId=hive_20211010054848_fe4d37e7-5f90-41bb-a991-1780128f6672); Time taken: 0.022 seconds\n",
      "INFO  : OK\n",
      "No rows affected (0.087 seconds)\n",
      "Beeline version 1.1.0-cdh5.12.0 by Apache Hive\n",
      "Closing: 0: jdbc:hive2://localhost:10000/default\n"
     ]
    }
   ],
   "source": [
    "! beeline -u \"jdbc:hive2://localhost:10000/default\" -e \\\n",
    "\"drop view if exists vista; create view vista as select a.countryname, a.countrycode, cast(a.a2018 as float) as tierraCultivable, cast(b.a2018 as float) as poblacionrural from tierrascultivablesTabla as a join poblacionRuralTabla as b ON a.countrycode = b.countrycode;\""
   ]
  },
  {
   "cell_type": "code",
   "execution_count": 107,
   "metadata": {},
   "outputs": [
    {
     "name": "stdout",
     "output_type": "stream",
     "text": [
      "scan complete in 2ms\n",
      "Connecting to jdbc:hive2://localhost:10000/default\n",
      "Connected to: Apache Hive (version 1.1.0-cdh5.12.0)\n",
      "Driver: Hive JDBC (version 1.1.0-cdh5.12.0)\n",
      "Transaction isolation: TRANSACTION_REPEATABLE_READ\n",
      "INFO  : Compiling command(queryId=hive_20211010055959_d1164379-22c8-4d3b-bf56-6e4786985d92): select * from vista LIMIT 2\n",
      "INFO  : Semantic Analysis Completed\n",
      "INFO  : Returning Hive schema: Schema(fieldSchemas:[FieldSchema(name:vista.countryname, type:string, comment:null), FieldSchema(name:vista.countrycode, type:string, comment:null), FieldSchema(name:vista.tierracultivable, type:float, comment:null), FieldSchema(name:vista.poblacionrural, type:float, comment:null)], properties:null)\n",
      "INFO  : Completed compiling command(queryId=hive_20211010055959_d1164379-22c8-4d3b-bf56-6e4786985d92); Time taken: 0.087 seconds\n",
      "INFO  : Concurrency mode is disabled, not creating a lock manager\n",
      "INFO  : Executing command(queryId=hive_20211010055959_d1164379-22c8-4d3b-bf56-6e4786985d92): select * from vista LIMIT 2\n",
      "INFO  : Query ID = hive_20211010055959_d1164379-22c8-4d3b-bf56-6e4786985d92\n",
      "INFO  : Total jobs = 1\n",
      "INFO  : Starting task [Stage-4:MAPREDLOCAL] in serial mode\n",
      "Execution log at: /var/log/hive/hive-server2.log\n",
      "2021-10-10 05:59:31\tStarting to launch local task to process map join;\tmaximum memory = 932184064\n",
      "2021-10-10 05:59:32\tDump the side-table for tag: 1 with group count: 266 into file: file:/tmp/hive/90565e4b-26e1-44c2-9bb8-afa7c5b30316/hive_2021-10-10_05-59-28_924_4674812067022451203-2/-local-10003/HashTable-Stage-3/MapJoin-mapfile371--.hashtable\n",
      "2021-10-10 05:59:32\tUploaded 1 File to: file:/tmp/hive/90565e4b-26e1-44c2-9bb8-afa7c5b30316/hive_2021-10-10_05-59-28_924_4674812067022451203-2/-local-10003/HashTable-Stage-3/MapJoin-mapfile371--.hashtable (8613 bytes)\n",
      "2021-10-10 05:59:32\tEnd of local task; Time Taken: 1.094 sec.\n",
      "INFO  : Execution completed successfully\n",
      "INFO  : MapredLocal task succeeded\n",
      "INFO  : Launching Job 1 out of 1\n",
      "INFO  : Starting task [Stage-3:MAPRED] in serial mode\n",
      "INFO  : Number of reduce tasks is set to 0 since there's no reduce operator\n",
      "INFO  : Starting Job = job_1633859119050_0038, Tracking URL = http://quickstart.cloudera:8088/proxy/application_1633859119050_0038/\n",
      "INFO  : Kill Command = /usr/lib/hadoop/bin/hadoop job  -kill job_1633859119050_0038\n",
      "INFO  : Hadoop job information for Stage-3: number of mappers: 1; number of reducers: 0\n",
      "INFO  : 2021-10-10 05:59:38,221 Stage-3 map = 0%,  reduce = 0%\n",
      "INFO  : 2021-10-10 05:59:43,434 Stage-3 map = 100%,  reduce = 0%, Cumulative CPU 1.57 sec\n",
      "INFO  : MapReduce Total cumulative CPU time: 1 seconds 570 msec\n",
      "INFO  : Ended Job = job_1633859119050_0038\n",
      "INFO  : MapReduce Jobs Launched: \n",
      "INFO  : Stage-Stage-3: Map: 1   Cumulative CPU: 1.57 sec   HDFS Read: 23218 HDFS Write: 53 SUCCESS\n",
      "INFO  : Total MapReduce CPU Time Spent: 1 seconds 570 msec\n",
      "INFO  : Completed executing command(queryId=hive_20211010055959_d1164379-22c8-4d3b-bf56-6e4786985d92); Time taken: 15.477 seconds\n",
      "INFO  : OK\n",
      "+--------------------+--------------------+-------------------------+-----------------------+--+\n",
      "| vista.countryname  | vista.countrycode  | vista.tierracultivable  | vista.poblacionrural  |\n",
      "+--------------------+--------------------+-------------------------+-----------------------+--+\n",
      "| Aruba              | ABW                | 0.018895376473665237    | 56.5890007019043      |\n",
      "|                    | AFE                | 0.18495219945907593     | 64.19223022460938     |\n",
      "+--------------------+--------------------+-------------------------+-----------------------+--+\n",
      "2 rows selected (15.617 seconds)\n",
      "Beeline version 1.1.0-cdh5.12.0 by Apache Hive\n",
      "Closing: 0: jdbc:hive2://localhost:10000/default\n"
     ]
    }
   ],
   "source": [
    "! beeline -u \"jdbc:hive2://localhost:10000/default\" -e \\\n",
    "\"select * from vista LIMIT 2;\""
   ]
  },
  {
   "cell_type": "code",
   "execution_count": 109,
   "metadata": {},
   "outputs": [
    {
     "name": "stdout",
     "output_type": "stream",
     "text": [
      "scan complete in 2ms\n",
      "Connecting to jdbc:hive2://localhost:10000/default\n",
      "Connected to: Apache Hive (version 1.1.0-cdh5.12.0)\n",
      "Driver: Hive JDBC (version 1.1.0-cdh5.12.0)\n",
      "Transaction isolation: TRANSACTION_REPEATABLE_READ\n",
      "INFO  : Compiling command(queryId=hive_20211010060000_b2fa6cbc-4788-4c9a-9a7b-91bf8314d188): use default\n",
      "INFO  : Semantic Analysis Completed\n",
      "INFO  : Returning Hive schema: Schema(fieldSchemas:null, properties:null)\n",
      "INFO  : Completed compiling command(queryId=hive_20211010060000_b2fa6cbc-4788-4c9a-9a7b-91bf8314d188); Time taken: 0.029 seconds\n",
      "INFO  : Concurrency mode is disabled, not creating a lock manager\n",
      "INFO  : Executing command(queryId=hive_20211010060000_b2fa6cbc-4788-4c9a-9a7b-91bf8314d188): use default\n",
      "INFO  : Starting task [Stage-0:DDL] in serial mode\n",
      "INFO  : Completed executing command(queryId=hive_20211010060000_b2fa6cbc-4788-4c9a-9a7b-91bf8314d188); Time taken: 0.005 seconds\n",
      "INFO  : OK\n",
      "No rows affected (0.072 seconds)\n",
      "INFO  : Compiling command(queryId=hive_20211010060000_152d6b26-5003-4277-96c8-dd06ea624771): show tables\n",
      "INFO  : Semantic Analysis Completed\n",
      "INFO  : Returning Hive schema: Schema(fieldSchemas:[FieldSchema(name:tab_name, type:string, comment:from deserializer)], properties:null)\n",
      "INFO  : Completed compiling command(queryId=hive_20211010060000_152d6b26-5003-4277-96c8-dd06ea624771); Time taken: 0.001 seconds\n",
      "INFO  : Concurrency mode is disabled, not creating a lock manager\n",
      "INFO  : Executing command(queryId=hive_20211010060000_152d6b26-5003-4277-96c8-dd06ea624771): show tables\n",
      "INFO  : Starting task [Stage-0:DDL] in serial mode\n",
      "INFO  : Completed executing command(queryId=hive_20211010060000_152d6b26-5003-4277-96c8-dd06ea624771); Time taken: 0.005 seconds\n",
      "INFO  : OK\n",
      "+--------------------------+--+\n",
      "|         tab_name         |\n",
      "+--------------------------+--+\n",
      "| poblacionruraltabla      |\n",
      "| tierrascultivablestabla  |\n",
      "| vista                    |\n",
      "+--------------------------+--+\n",
      "3 rows selected (0.042 seconds)\n",
      "Beeline version 1.1.0-cdh5.12.0 by Apache Hive\n",
      "Closing: 0: jdbc:hive2://localhost:10000/default\n"
     ]
    }
   ],
   "source": [
    "! beeline -u \"jdbc:hive2://localhost:10000/default\" -e \"use default; show tables;\""
   ]
  },
  {
   "cell_type": "markdown",
   "metadata": {},
   "source": [
    "## 4. (3 puntos) Crea las consultas de Hive necesarias para responder las siguientes cuestiones:\n",
    "\n",
    "### o ¿Cuál es el porcentaje de tierra cultivable de Suiza en 2018?"
   ]
  },
  {
   "cell_type": "code",
   "execution_count": 110,
   "metadata": {},
   "outputs": [
    {
     "name": "stdout",
     "output_type": "stream",
     "text": [
      "scan complete in 2ms\n",
      "Connecting to jdbc:hive2://localhost:10000/default\n",
      "Connected to: Apache Hive (version 1.1.0-cdh5.12.0)\n",
      "Driver: Hive JDBC (version 1.1.0-cdh5.12.0)\n",
      "Transaction isolation: TRANSACTION_REPEATABLE_READ\n",
      "INFO  : Compiling command(queryId=hive_20211010060202_69600994-8759-4113-a39f-0670bb165fef): select countryname, countrycode, tierracultivable from vista where countryname = 'Suiza'\n",
      "INFO  : Semantic Analysis Completed\n",
      "INFO  : Returning Hive schema: Schema(fieldSchemas:[FieldSchema(name:countryname, type:string, comment:null), FieldSchema(name:countrycode, type:string, comment:null), FieldSchema(name:tierracultivable, type:float, comment:null)], properties:null)\n",
      "INFO  : Completed compiling command(queryId=hive_20211010060202_69600994-8759-4113-a39f-0670bb165fef); Time taken: 0.082 seconds\n",
      "INFO  : Concurrency mode is disabled, not creating a lock manager\n",
      "INFO  : Executing command(queryId=hive_20211010060202_69600994-8759-4113-a39f-0670bb165fef): select countryname, countrycode, tierracultivable from vista where countryname = 'Suiza'\n",
      "INFO  : Query ID = hive_20211010060202_69600994-8759-4113-a39f-0670bb165fef\n",
      "INFO  : Total jobs = 1\n",
      "INFO  : Starting task [Stage-4:MAPREDLOCAL] in serial mode\n",
      "Execution log at: /var/log/hive/hive-server2.log\n",
      "2021-10-10 06:02:45\tStarting to launch local task to process map join;\tmaximum memory = 932184064\n",
      "2021-10-10 06:02:46\tDump the side-table for tag: 1 with group count: 266 into file: file:/tmp/hive/03bdff00-4c12-439c-b835-10ba74972a49/hive_2021-10-10_06-02-43_244_5249818529368395578-2/-local-10003/HashTable-Stage-3/MapJoin-mapfile381--.hashtable\n",
      "2021-10-10 06:02:46\tUploaded 1 File to: file:/tmp/hive/03bdff00-4c12-439c-b835-10ba74972a49/hive_2021-10-10_06-02-43_244_5249818529368395578-2/-local-10003/HashTable-Stage-3/MapJoin-mapfile381--.hashtable (6041 bytes)\n",
      "2021-10-10 06:02:46\tEnd of local task; Time Taken: 1.104 sec.\n",
      "INFO  : Execution completed successfully\n",
      "INFO  : MapredLocal task succeeded\n",
      "INFO  : Launching Job 1 out of 1\n",
      "INFO  : Starting task [Stage-3:MAPRED] in serial mode\n",
      "INFO  : Number of reduce tasks is set to 0 since there's no reduce operator\n",
      "INFO  : Starting Job = job_1633859119050_0039, Tracking URL = http://quickstart.cloudera:8088/proxy/application_1633859119050_0039/\n",
      "INFO  : Kill Command = /usr/lib/hadoop/bin/hadoop job  -kill job_1633859119050_0039\n",
      "INFO  : Hadoop job information for Stage-3: number of mappers: 1; number of reducers: 0\n",
      "INFO  : 2021-10-10 06:02:52,392 Stage-3 map = 0%,  reduce = 0%\n",
      "INFO  : 2021-10-10 06:02:57,683 Stage-3 map = 100%,  reduce = 0%, Cumulative CPU 1.55 sec\n",
      "INFO  : MapReduce Total cumulative CPU time: 1 seconds 550 msec\n",
      "INFO  : Ended Job = job_1633859119050_0039\n",
      "INFO  : MapReduce Jobs Launched: \n",
      "INFO  : Stage-Stage-3: Map: 1   Cumulative CPU: 1.55 sec   HDFS Read: 278049 HDFS Write: 22 SUCCESS\n",
      "INFO  : Total MapReduce CPU Time Spent: 1 seconds 550 msec\n",
      "INFO  : Completed executing command(queryId=hive_20211010060202_69600994-8759-4113-a39f-0670bb165fef); Time taken: 15.419 seconds\n",
      "INFO  : OK\n",
      "+--------------+--------------+----------------------+--+\n",
      "| countryname  | countrycode  |   tierracultivable   |\n",
      "+--------------+--------------+----------------------+--+\n",
      "| Suiza        | CHE          | 0.04676104336977005  |\n",
      "+--------------+--------------+----------------------+--+\n",
      "1 row selected (15.555 seconds)\n",
      "Beeline version 1.1.0-cdh5.12.0 by Apache Hive\n",
      "Closing: 0: jdbc:hive2://localhost:10000/default\n"
     ]
    }
   ],
   "source": [
    "! beeline -u \"jdbc:hive2://localhost:10000/default\" -e \\\n",
    "\"select countryname, countrycode, tierracultivable from vista where countryname = 'Suiza' ;\""
   ]
  },
  {
   "cell_type": "markdown",
   "metadata": {},
   "source": [
    "#### o ¿Cuál es el porcentaje de tierra cultivable del país que tiene menor población rural en 2010?"
   ]
  },
  {
   "cell_type": "code",
   "execution_count": 111,
   "metadata": {},
   "outputs": [
    {
     "name": "stdout",
     "output_type": "stream",
     "text": [
      "scan complete in 1ms\n",
      "Connecting to jdbc:hive2://localhost:10000/default\n",
      "Connected to: Apache Hive (version 1.1.0-cdh5.12.0)\n",
      "Driver: Hive JDBC (version 1.1.0-cdh5.12.0)\n",
      "Transaction isolation: TRANSACTION_REPEATABLE_READ\n",
      "INFO  : Compiling command(queryId=hive_20211010060303_0e930999-6dee-4a76-9b23-fec1f5bf4e36): select countryname, countrycode, poblacionRural, tierracultivable from vista where poblacionRural > 0 order by poblacionRural  LIMIT 1\n",
      "INFO  : Semantic Analysis Completed\n",
      "INFO  : Returning Hive schema: Schema(fieldSchemas:[FieldSchema(name:countryname, type:string, comment:null), FieldSchema(name:countrycode, type:string, comment:null), FieldSchema(name:poblacionrural, type:float, comment:null), FieldSchema(name:tierracultivable, type:float, comment:null)], properties:null)\n",
      "INFO  : Completed compiling command(queryId=hive_20211010060303_0e930999-6dee-4a76-9b23-fec1f5bf4e36); Time taken: 0.087 seconds\n",
      "INFO  : Concurrency mode is disabled, not creating a lock manager\n",
      "INFO  : Executing command(queryId=hive_20211010060303_0e930999-6dee-4a76-9b23-fec1f5bf4e36): select countryname, countrycode, poblacionRural, tierracultivable from vista where poblacionRural > 0 order by poblacionRural  LIMIT 1\n",
      "INFO  : Query ID = hive_20211010060303_0e930999-6dee-4a76-9b23-fec1f5bf4e36\n",
      "INFO  : Total jobs = 1\n",
      "INFO  : Starting task [Stage-5:MAPREDLOCAL] in serial mode\n",
      "Execution log at: /var/log/hive/hive-server2.log\n",
      "2021-10-10 06:03:32\tStarting to launch local task to process map join;\tmaximum memory = 932184064\n",
      "2021-10-10 06:03:33\tDump the side-table for tag: 1 with group count: 266 into file: file:/tmp/hive/178be8de-0c97-4ece-adc4-de8f6c84bff0/hive_2021-10-10_06-03-30_244_3613276114674848529-2/-local-10004/HashTable-Stage-2/MapJoin-mapfile391--.hashtable\n",
      "2021-10-10 06:03:33\tUploaded 1 File to: file:/tmp/hive/178be8de-0c97-4ece-adc4-de8f6c84bff0/hive_2021-10-10_06-03-30_244_3613276114674848529-2/-local-10004/HashTable-Stage-2/MapJoin-mapfile391--.hashtable (8613 bytes)\n",
      "2021-10-10 06:03:33\tEnd of local task; Time Taken: 1.276 sec.\n",
      "INFO  : Execution completed successfully\n",
      "INFO  : MapredLocal task succeeded\n",
      "INFO  : Launching Job 1 out of 1\n",
      "INFO  : Starting task [Stage-2:MAPRED] in serial mode\n",
      "INFO  : Number of reduce tasks determined at compile time: 1\n",
      "INFO  : In order to change the average load for a reducer (in bytes):\n",
      "INFO  :   set hive.exec.reducers.bytes.per.reducer=<number>\n",
      "INFO  : In order to limit the maximum number of reducers:\n",
      "INFO  :   set hive.exec.reducers.max=<number>\n",
      "INFO  : In order to set a constant number of reducers:\n",
      "INFO  :   set mapreduce.job.reduces=<number>\n",
      "INFO  : Starting Job = job_1633859119050_0040, Tracking URL = http://quickstart.cloudera:8088/proxy/application_1633859119050_0040/\n",
      "INFO  : Kill Command = /usr/lib/hadoop/bin/hadoop job  -kill job_1633859119050_0040\n",
      "INFO  : Hadoop job information for Stage-2: number of mappers: 1; number of reducers: 1\n",
      "INFO  : 2021-10-10 06:03:39,369 Stage-2 map = 0%,  reduce = 0%\n",
      "INFO  : 2021-10-10 06:03:44,618 Stage-2 map = 100%,  reduce = 0%, Cumulative CPU 1.41 sec\n",
      "INFO  : 2021-10-10 06:03:50,873 Stage-2 map = 100%,  reduce = 100%, Cumulative CPU 2.71 sec\n",
      "INFO  : MapReduce Total cumulative CPU time: 2 seconds 710 msec\n",
      "INFO  : Ended Job = job_1633859119050_0040\n",
      "INFO  : MapReduce Jobs Launched: \n",
      "INFO  : Stage-Stage-2: Map: 1  Reduce: 1   Cumulative CPU: 2.71 sec   HDFS Read: 285110 HDFS Write: 29 SUCCESS\n",
      "INFO  : Total MapReduce CPU Time Spent: 2 seconds 710 msec\n",
      "INFO  : Completed executing command(queryId=hive_20211010060303_0e930999-6dee-4a76-9b23-fec1f5bf4e36); Time taken: 21.621 seconds\n",
      "INFO  : OK\n",
      "+--------------+--------------+---------------------+-----------------------+--+\n",
      "| countryname  | countrycode  |   poblacionrural    |   tierracultivable    |\n",
      "+--------------+--------------+---------------------+-----------------------+--+\n",
      "| Qatar        | QAT          | 0.8650000095367432  | 0.005032926332205534  |\n",
      "+--------------+--------------+---------------------+-----------------------+--+\n",
      "1 row selected (21.768 seconds)\n",
      "Beeline version 1.1.0-cdh5.12.0 by Apache Hive\n",
      "Closing: 0: jdbc:hive2://localhost:10000/default\n"
     ]
    }
   ],
   "source": [
    "! beeline -u \"jdbc:hive2://localhost:10000/default\" -e \\\n",
    "\"select countryname, countrycode, poblacionRural, tierracultivable from vista where poblacionRural > 0 order by poblacionRural  LIMIT 1;\""
   ]
  },
  {
   "cell_type": "markdown",
   "metadata": {},
   "source": [
    "En este caso he optado por seleccionar los paises que tubieran una poblacionRural mayor que 0 para evitar posibles valores nulos.\n",
    "\n",
    "En caso de no tener esto en cuenta tendríamos el siguiente resultado"
   ]
  },
  {
   "cell_type": "code",
   "execution_count": 105,
   "metadata": {},
   "outputs": [
    {
     "name": "stdout",
     "output_type": "stream",
     "text": [
      "scan complete in 1ms\n",
      "Connecting to jdbc:hive2://localhost:10000/default\n",
      "Connected to: Apache Hive (version 1.1.0-cdh5.12.0)\n",
      "Driver: Hive JDBC (version 1.1.0-cdh5.12.0)\n",
      "Transaction isolation: TRANSACTION_REPEATABLE_READ\n",
      "INFO  : Compiling command(queryId=hive_20211010055252_a2ac61d8-4da4-42af-8397-472ec0ccabbe): select countryname, poblacionRural, tierracultivable from vista order by poblacionRural  LIMIT 15\n",
      "INFO  : Semantic Analysis Completed\n",
      "INFO  : Returning Hive schema: Schema(fieldSchemas:[FieldSchema(name:countryname, type:string, comment:null), FieldSchema(name:poblacionrural, type:float, comment:null), FieldSchema(name:tierracultivable, type:float, comment:null)], properties:null)\n",
      "INFO  : Completed compiling command(queryId=hive_20211010055252_a2ac61d8-4da4-42af-8397-472ec0ccabbe); Time taken: 0.086 seconds\n",
      "INFO  : Concurrency mode is disabled, not creating a lock manager\n",
      "INFO  : Executing command(queryId=hive_20211010055252_a2ac61d8-4da4-42af-8397-472ec0ccabbe): select countryname, poblacionRural, tierracultivable from vista order by poblacionRural  LIMIT 15\n",
      "INFO  : Query ID = hive_20211010055252_a2ac61d8-4da4-42af-8397-472ec0ccabbe\n",
      "INFO  : Total jobs = 1\n",
      "INFO  : Starting task [Stage-5:MAPREDLOCAL] in serial mode\n",
      "Execution log at: /var/log/hive/hive-server2.log\n",
      "2021-10-10 05:52:35\tStarting to launch local task to process map join;\tmaximum memory = 932184064\n",
      "2021-10-10 05:52:37\tDump the side-table for tag: 1 with group count: 266 into file: file:/tmp/hive/d95d94db-91cf-4482-bb4c-723cd217de35/hive_2021-10-10_05-52-33_883_2356194181121885568-2/-local-10004/HashTable-Stage-2/MapJoin-mapfile351--.hashtable\n",
      "2021-10-10 05:52:37\tUploaded 1 File to: file:/tmp/hive/d95d94db-91cf-4482-bb4c-723cd217de35/hive_2021-10-10_05-52-33_883_2356194181121885568-2/-local-10004/HashTable-Stage-2/MapJoin-mapfile351--.hashtable (8613 bytes)\n",
      "2021-10-10 05:52:37\tEnd of local task; Time Taken: 1.122 sec.\n",
      "INFO  : Execution completed successfully\n",
      "INFO  : MapredLocal task succeeded\n",
      "INFO  : Launching Job 1 out of 1\n",
      "INFO  : Starting task [Stage-2:MAPRED] in serial mode\n",
      "INFO  : Number of reduce tasks determined at compile time: 1\n",
      "INFO  : In order to change the average load for a reducer (in bytes):\n",
      "INFO  :   set hive.exec.reducers.bytes.per.reducer=<number>\n",
      "INFO  : In order to limit the maximum number of reducers:\n",
      "INFO  :   set hive.exec.reducers.max=<number>\n",
      "INFO  : In order to set a constant number of reducers:\n",
      "INFO  :   set mapreduce.job.reduces=<number>\n",
      "INFO  : Starting Job = job_1633859119050_0036, Tracking URL = http://quickstart.cloudera:8088/proxy/application_1633859119050_0036/\n",
      "INFO  : Kill Command = /usr/lib/hadoop/bin/hadoop job  -kill job_1633859119050_0036\n",
      "INFO  : Hadoop job information for Stage-2: number of mappers: 1; number of reducers: 1\n",
      "INFO  : 2021-10-10 05:52:43,028 Stage-2 map = 0%,  reduce = 0%\n",
      "INFO  : 2021-10-10 05:52:48,232 Stage-2 map = 100%,  reduce = 0%, Cumulative CPU 1.3 sec\n",
      "INFO  : 2021-10-10 05:52:54,507 Stage-2 map = 100%,  reduce = 100%, Cumulative CPU 2.6 sec\n",
      "INFO  : MapReduce Total cumulative CPU time: 2 seconds 600 msec\n",
      "INFO  : Ended Job = job_1633859119050_0036\n",
      "INFO  : MapReduce Jobs Launched: \n",
      "INFO  : Stage-Stage-2: Map: 1  Reduce: 1   Cumulative CPU: 2.6 sec   HDFS Read: 283743 HDFS Write: 389 SUCCESS\n",
      "INFO  : Total MapReduce CPU Time Spent: 2 seconds 600 msec\n",
      "INFO  : Completed executing command(queryId=hive_20211010055252_a2ac61d8-4da4-42af-8397-472ec0ccabbe); Time taken: 21.635 seconds\n",
      "INFO  : OK\n",
      "+-------------------------------------------+---------------------+------------------------+--+\n",
      "|                countryname                |   poblacionrural    |    tierracultivable    |\n",
      "+-------------------------------------------+---------------------+------------------------+--+\n",
      "| Kosovo                                    | NULL                | NULL                   |\n",
      "| Isla de San Martín (parte francesa)       | NULL                | NULL                   |\n",
      "| Eritrea                                   | NULL                | 0.19983798265457153    |\n",
      "| No clasificado                            | NULL                | NULL                   |\n",
      "| Bermudas                                  | 0.0                 | 0.0046934401616454124  |\n",
      "| Islas Caimán                              | 0.0                 | 0.0031166239641606808  |\n",
      "| Nauru                                     | 0.0                 | NULL                   |\n",
      "| Gibraltar                                 | 0.0                 | NULL                   |\n",
      "| Sint Maarten (Dutch part)                 | 0.0                 | NULL                   |\n",
      "| \"Región Administrativa Especial de Macao  | 0.0                 | NULL                   |\n",
      "| Mónaco                                    | 0.0                 | NULL                   |\n",
      "| \"Hong Kong                                | 0.0                 | 4.1938931099139154E-4  |\n",
      "| Kuwait                                    | 0.0                 | 0.00193362170830369    |\n",
      "| Singapur                                  | 0.0                 | 9.931409294949844E-5   |\n",
      "| Qatar                                     | 0.8650000095367432  | 0.005032926332205534   |\n",
      "+-------------------------------------------+---------------------+------------------------+--+\n",
      "15 rows selected (21.777 seconds)\n",
      "Beeline version 1.1.0-cdh5.12.0 by Apache Hive\n",
      "Closing: 0: jdbc:hive2://localhost:10000/default\n"
     ]
    }
   ],
   "source": [
    "! beeline -u \"jdbc:hive2://localhost:10000/default\" -e \\\n",
    "\"select countryname, poblacionRural, tierracultivable from vista order by poblacionRural  LIMIT 15;\""
   ]
  },
  {
   "cell_type": "markdown",
   "metadata": {},
   "source": [
    "#### o ¿Cuáles son los cinco países con mayor población rural en 2018?"
   ]
  },
  {
   "cell_type": "code",
   "execution_count": 106,
   "metadata": {},
   "outputs": [
    {
     "name": "stdout",
     "output_type": "stream",
     "text": [
      "scan complete in 1ms\n",
      "Connecting to jdbc:hive2://localhost:10000/default\n",
      "Connected to: Apache Hive (version 1.1.0-cdh5.12.0)\n",
      "Driver: Hive JDBC (version 1.1.0-cdh5.12.0)\n",
      "Transaction isolation: TRANSACTION_REPEATABLE_READ\n",
      "INFO  : Compiling command(queryId=hive_20211010055454_8ac36706-9970-4d6d-ad02-43574ed60d04): select countryname, poblacionRural from vista order by poblacionRural DESC LIMIT 5\n",
      "INFO  : Semantic Analysis Completed\n",
      "INFO  : Returning Hive schema: Schema(fieldSchemas:[FieldSchema(name:countryname, type:string, comment:null), FieldSchema(name:poblacionrural, type:float, comment:null)], properties:null)\n",
      "INFO  : Completed compiling command(queryId=hive_20211010055454_8ac36706-9970-4d6d-ad02-43574ed60d04); Time taken: 0.087 seconds\n",
      "INFO  : Concurrency mode is disabled, not creating a lock manager\n",
      "INFO  : Executing command(queryId=hive_20211010055454_8ac36706-9970-4d6d-ad02-43574ed60d04): select countryname, poblacionRural from vista order by poblacionRural DESC LIMIT 5\n",
      "INFO  : Query ID = hive_20211010055454_8ac36706-9970-4d6d-ad02-43574ed60d04\n",
      "INFO  : Total jobs = 1\n",
      "INFO  : Starting task [Stage-5:MAPREDLOCAL] in serial mode\n",
      "Execution log at: /var/log/hive/hive-server2.log\n",
      "2021-10-10 05:54:34\tStarting to launch local task to process map join;\tmaximum memory = 932184064\n",
      "2021-10-10 05:54:35\tDump the side-table for tag: 1 with group count: 266 into file: file:/tmp/hive/40193e9a-4f2b-4ac8-8709-45d53c5cc87f/hive_2021-10-10_05-54-32_028_3558597316176943942-2/-local-10004/HashTable-Stage-2/MapJoin-mapfile361--.hashtable\n",
      "2021-10-10 05:54:35\tUploaded 1 File to: file:/tmp/hive/40193e9a-4f2b-4ac8-8709-45d53c5cc87f/hive_2021-10-10_05-54-32_028_3558597316176943942-2/-local-10004/HashTable-Stage-2/MapJoin-mapfile361--.hashtable (8613 bytes)\n",
      "2021-10-10 05:54:35\tEnd of local task; Time Taken: 1.106 sec.\n",
      "INFO  : Execution completed successfully\n",
      "INFO  : MapredLocal task succeeded\n",
      "INFO  : Launching Job 1 out of 1\n",
      "INFO  : Starting task [Stage-2:MAPRED] in serial mode\n",
      "INFO  : Number of reduce tasks determined at compile time: 1\n",
      "INFO  : In order to change the average load for a reducer (in bytes):\n",
      "INFO  :   set hive.exec.reducers.bytes.per.reducer=<number>\n",
      "INFO  : In order to limit the maximum number of reducers:\n",
      "INFO  :   set hive.exec.reducers.max=<number>\n",
      "INFO  : In order to set a constant number of reducers:\n",
      "INFO  :   set mapreduce.job.reduces=<number>\n",
      "INFO  : Starting Job = job_1633859119050_0037, Tracking URL = http://quickstart.cloudera:8088/proxy/application_1633859119050_0037/\n",
      "INFO  : Kill Command = /usr/lib/hadoop/bin/hadoop job  -kill job_1633859119050_0037\n",
      "INFO  : Hadoop job information for Stage-2: number of mappers: 1; number of reducers: 1\n",
      "INFO  : 2021-10-10 05:54:41,191 Stage-2 map = 0%,  reduce = 0%\n",
      "INFO  : 2021-10-10 05:54:46,448 Stage-2 map = 100%,  reduce = 0%, Cumulative CPU 1.41 sec\n",
      "INFO  : 2021-10-10 05:54:52,716 Stage-2 map = 100%,  reduce = 100%, Cumulative CPU 2.71 sec\n",
      "INFO  : MapReduce Total cumulative CPU time: 2 seconds 710 msec\n",
      "INFO  : Ended Job = job_1633859119050_0037\n",
      "INFO  : MapReduce Jobs Launched: \n",
      "INFO  : Stage-Stage-2: Map: 1  Reduce: 1   Cumulative CPU: 2.71 sec   HDFS Read: 283234 HDFS Write: 92 SUCCESS\n",
      "INFO  : Total MapReduce CPU Time Spent: 2 seconds 710 msec\n",
      "INFO  : Completed executing command(queryId=hive_20211010055454_8ac36706-9970-4d6d-ad02-43574ed60d04); Time taken: 21.654 seconds\n",
      "INFO  : OK\n",
      "+---------------------+--------------------+--+\n",
      "|     countryname     |   poblacionrural   |\n",
      "+---------------------+--------------------+--+\n",
      "| Burundi             | 86.96800231933594  |\n",
      "| Papua Nueva Guinea  | 86.83100128173828  |\n",
      "| Liechtenstein       | 85.66200256347656  |\n",
      "| Níger               | 83.57499694824219  |\n",
      "| Malawi              | 83.06300354003906  |\n",
      "+---------------------+--------------------+--+\n",
      "5 rows selected (21.796 seconds)\n",
      "Beeline version 1.1.0-cdh5.12.0 by Apache Hive\n",
      "Closing: 0: jdbc:hive2://localhost:10000/default\n"
     ]
    }
   ],
   "source": [
    "! beeline -u \"jdbc:hive2://localhost:10000/default\" -e \\\n",
    "\"select countryname, poblacionRural from vista order by poblacionRural DESC LIMIT 5;\""
   ]
  },
  {
   "cell_type": "code",
   "execution_count": null,
   "metadata": {
    "collapsed": true
   },
   "outputs": [],
   "source": []
  }
 ],
 "metadata": {
  "kernelspec": {
   "display_name": "Python 3",
   "language": "python",
   "name": "python3"
  },
  "language_info": {
   "codemirror_mode": {
    "name": "ipython",
    "version": 3
   },
   "file_extension": ".py",
   "mimetype": "text/x-python",
   "name": "python",
   "nbconvert_exporter": "python",
   "pygments_lexer": "ipython3",
   "version": "3.8.6"
  }
 },
 "nbformat": 4,
 "nbformat_minor": 2
}
