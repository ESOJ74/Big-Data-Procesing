{
 "cells": [
  {
   "cell_type": "markdown",
   "id": "1321f369",
   "metadata": {},
   "source": [
    "# **Reto I**"
   ]
  },
  {
   "cell_type": "markdown",
   "id": "0c30f4ad",
   "metadata": {},
   "source": [
    "### 1. Datasets\n",
    "\n",
    "Los datos de origen constan de dos archivos csv con la misma estructura y tipo de columnas.\n",
    "\n",
    "* trade_details: dataset original con datos reales de operaciones financieras.\n",
    "* trade_details_snapshot: copia de seguridad por posibles perdidas de datos.\n",
    "\n",
    "### 2. Columnas y significado:\n",
    "\n",
    "* mfamily: indica la familia de operaciones a la que pertenece.\n",
    "* mgroup: indica el grupo de operaciones dentro de la familia.\n",
    "* mtype: indica el tipo de operación dentro del grupo.\n",
    "* origin_trade_number: indica el número de la operación de trading (la misma operación puede tener varios números de trading).\n",
    "* origin_contract_number: indica el número de contrato de la operación (igual para todas las operaciones que pertenecen al mismo contrato).\n",
    "* maturity: fecha de finalización del contrato de cada operación.\n",
    "\n",
    "### 3. Descripción del problema:\n",
    "\n",
    "En estos datasets se encuentran varias operaciones financieras de distinto tipo, que diferenciaremos mediante los distintos valores de las columnas mfamily, mgroup y mtype.\n",
    "\n",
    "Existe un cierto tipo de operaciones especiales, llamadas FXSwaps. Estas pueden ser diferenciadas por medio de los siguientes valores:\n",
    "\n",
    "**mfamily = CURR** \\\n",
    "**mgroup = FXD** \\\n",
    "**mtype = SWLEG**\n",
    "\n",
    "Podemos ver en nuestro dataset que estas operaciones aparecen duplicadas, es decir, con el mismo **origin_contract_number** aunque distinto **origin_trade_number**. De estas operaciones duplicadas en origen, queremos obtener solo una de ellas.\n",
    "\n",
    "La forma para decidir cuál de las operaciones nos interesa obtener es mediante la columna *maturity*. De ambas operaciones de trading (distinto origin_trade_number) para un mismo contrato (origin_contract_number), queremos obtener solo la *long leg*, es decir, la que tiene una mayor fecha de vencimiento (fecha más actual de la columna maturity).\n",
    "\n",
    "Existe un cierto problema en nuestro dataset trade_details que tendremos que solucionar. Podemos ver que para algunas operaciones el campo maturity vendrá como *null*, es decir, sin informar. En estos casos, deberemos buscar esa operacion en el dataset trade_details_snapshot y el respectivo campo maturity para poder saber cuál de las dos operaciones es la *long leg* y filtrar la *short leg* \n",
    "\n",
    "**NOTA: Si se quiere conocer más el significado de estas operaciones financieras: https://es.wikipedia.org/wiki/Swap_(finanzas)**\n",
    "\n",
    "### 4. Reto:\n",
    "\n",
    "* Obtener un dataframe final donde tengamos todas las operaciones originales excepto los short leg de los contratos tipo FXSwap.\n",
    "* Aunque usemos el valor de la columna maturity del dataset trade_details_snapshot en los casos que venga en la trade_details a *null*, en el dataframe final deberá venir con el valor original de trade_details.\n",
    "* Hacerlo de la manera más eficiente posible a nivel computacional."
   ]
  },
  {
   "cell_type": "markdown",
   "id": "5a2b23f0",
   "metadata": {},
   "source": [
    "### Inicialización de SparkSession:"
   ]
  },
  {
   "cell_type": "code",
   "execution_count": 1,
   "id": "d3ba2b3f",
   "metadata": {},
   "outputs": [],
   "source": [
    "from pyspark.sql import SparkSession\n",
    "import pyspark.sql.functions as F\n",
    "\n",
    "spark = (SparkSession\n",
    " .builder\n",
    " .appName(\"Reto 1\")\n",
    " .master(\"local\")\n",
    " .getOrCreate())"
   ]
  },
  {
   "cell_type": "markdown",
   "id": "da4f6cf6",
   "metadata": {},
   "source": [
    "### Carga de CSV"
   ]
  },
  {
   "cell_type": "code",
   "execution_count": 2,
   "id": "0f61f928",
   "metadata": {},
   "outputs": [],
   "source": [
    "trade_details = (spark\n",
    "                 .read\n",
    "                 .format(\"csv\")\n",
    "                 .option(\"header\", \"true\")\n",
    "                 .option(\"delimiter\", \";\")\n",
    "                 .load(\"./data/trade_details.csv\")\n",
    "                 .cache()\n",
    "                )\n",
    "\n",
    "trade_details_snapshot = (spark\n",
    "                          .read\n",
    "                          .format(\"csv\")\n",
    "                          .option(\"header\", \"true\")\n",
    "                          .option(\"delimiter\", \";\")\n",
    "                          .load(\"./data/trade_details_snapshot.csv\")\n",
    "                          .cache()\n",
    "                         )"
   ]
  },
  {
   "cell_type": "code",
   "execution_count": 6,
   "id": "d0c96bf9",
   "metadata": {},
   "outputs": [
    {
     "name": "stdout",
     "output_type": "stream",
     "text": [
      "+----------------------+-------------------+----------+\n",
      "|origin_contract_number|origin_trade_number|  maturity|\n",
      "+----------------------+-------------------+----------+\n",
      "|              18622136|           19665185|2020-04-29|\n",
      "|              18622136|           19665186|2020-12-30|\n",
      "|              18724280|           19772399|2020-11-05|\n",
      "|              18724280|           19772400|2021-11-05|\n",
      "|              19883451|           20980932|2020-02-02|\n",
      "|              19883451|           20980933|2020-01-19|\n",
      "|              21622649|           22798004|2021-05-04|\n",
      "|              21622649|           22798005|2021-05-11|\n",
      "|              19622128|           20665177|2020-04-29|\n",
      "|              19622128|           20665178|2020-12-30|\n",
      "+----------------------+-------------------+----------+\n",
      "\n"
     ]
    }
   ],
   "source": [
    "trade_details_snapshot1 = (trade_details_snapshot\n",
    "                           .join(trade_details,\"origin_trade_number\")\n",
    "                           .select(trade_details_snapshot[\"origin_contract_number\"],\n",
    "                                   trade_details_snapshot[\"origin_trade_number\"],\n",
    "                                   trade_details_snapshot[\"maturity\"]\n",
    "                                  )     \n",
    "                          )\n",
    "\n",
    "trade_details_snapshot.unpersist()\n",
    "trade_details_snapshot1.cache().show()"
   ]
  },
  {
   "cell_type": "code",
   "execution_count": 12,
   "id": "e56f9b8d",
   "metadata": {},
   "outputs": [
    {
     "name": "stdout",
     "output_type": "stream",
     "text": [
      "+------------+\n",
      "|trade_number|\n",
      "+------------+\n",
      "|    20665178|\n",
      "|    22798005|\n",
      "|    20980932|\n",
      "|    19665186|\n",
      "|    19772400|\n",
      "+------------+\n",
      "\n"
     ]
    }
   ],
   "source": [
    "from pyspark.sql.window import Window\n",
    "\n",
    "w = Window.partitionBy(\"origin_contract_number\").orderBy(\"maturity\")\n",
    "diff = F.col(\"maturity\").cast(\"long\") - F.lag(\"maturity\", 1).over(w).cast(\"long\")\n",
    "\n",
    "trade_details_snapshot2 = (trade_details_snapshot1\n",
    "                           .select(   \n",
    "                               F.col(\"origin_contract_number\"),\n",
    "                               F.col(\"origin_trade_number\"),\n",
    "                               F.to_timestamp(F.col(\"maturity\")).alias(\"maturity\"))\n",
    "                           .withColumn(\"diff\", diff)\n",
    "                           .where(F.col(\"diff\") > 0)\n",
    "                           .select(F.col(\"origin_trade_number\").alias(\"trade_number\"))\n",
    "                          )\n",
    "\n",
    "trade_details_snapshot1.unpersist()\n",
    "trade_details_snapshot2.cache().show()     "
   ]
  },
  {
   "cell_type": "markdown",
   "id": "837c3065",
   "metadata": {},
   "source": [
    "### Resultado:"
   ]
  },
  {
   "cell_type": "code",
   "execution_count": 28,
   "id": "49782a7c",
   "metadata": {},
   "outputs": [
    {
     "data": {
      "text/plain": [
       "DataFrame[trade_number: string]"
      ]
     },
     "execution_count": 28,
     "metadata": {},
     "output_type": "execute_result"
    }
   ],
   "source": [
    "resultado = (trade_details\n",
    "             .join(trade_details_snapshot2, \n",
    "                   F.col(\"origin_trade_number\") == F.col(\"trade_number\"),\n",
    "                   \"left\"\n",
    "                  )    \n",
    "             .where(~( (F.col(\"mfamily\") == \"CURR\") & \n",
    "                     (F.col(\"mgroup\") == \"FXD\") & \n",
    "                     (F.col(\"mtype\") == \"SWLEG\")\n",
    "                    )\n",
    "                    | (F.col(\"mtype\") == \"SWLEG\") \n",
    "                     & (F.col(\"trade_number\") > 0) \n",
    "                   )                    \n",
    "             .drop(F.col(\"trade_number\") )\n",
    "            )\n",
    "                        \n",
    "\n",
    "trade_details.unpersist()\n",
    "trade_details_snapshot2.cache().unpersist()\n",
    "\n"
   ]
  },
  {
   "cell_type": "code",
   "execution_count": 34,
   "id": "8aa56e64",
   "metadata": {},
   "outputs": [],
   "source": [
    "assert(resultado.count() == 26)\n",
    "assert(resultado.orderBy(\"origin_contract_number\").collect()[24][4] == \"564367838\")\n",
    "assert(resultado.orderBy(\"origin_contract_number\").collect()[19][5] == \"NULL\")\n",
    "assert(resultado.orderBy(\"origin_trade_number\").collect()[16][5] == \"NULL\")"
   ]
  },
  {
   "cell_type": "code",
   "execution_count": 35,
   "id": "49b907f7",
   "metadata": {},
   "outputs": [
    {
     "name": "stdout",
     "output_type": "stream",
     "text": [
      "+-------+------+-----+-------------------+----------------------+----------+\n",
      "|mfamily|mgroup|mtype|origin_trade_number|origin_contract_number|  maturity|\n",
      "+-------+------+-----+-------------------+----------------------+----------+\n",
      "|    IRD|  BOND| null|          316391872|             678876251|2021-09-22|\n",
      "|   CURR|   FXD|  FXD|           32734782|              54853428|2021-09-22|\n",
      "|    IRD| LN_BR| null|               1111|                  2222|2022-10-06|\n",
      "|    IRD|   IRS| null|            2222222|               2222222|2024-10-15|\n",
      "|    SCF|   SCF|  SCF|            3815982|               3672136|      NULL|\n",
      "|    IRD| LN_BR| null|           14596583|              13774383|2020-12-29|\n",
      "|    IRD|   IRS| null|           18343978|              17356077|2024-10-15|\n",
      "|    IRD| LN_BR| null|           19203839|              18176215|2022-10-06|\n",
      "|    IRD|    CF| null|           20513130|              19433281|2021-07-06|\n",
      "|    IRD|    CF| null|           20533916|              19453781|2023-07-06|\n",
      "|    IRD|   IRS| null|           21183317|              20077630|2040-07-13|\n",
      "|    IRD|   IRS| null|           33333333|              33333333|2024-10-15|\n",
      "|    IRD|   IRS| null|          111222333|             111222333|2024-10-15|\n",
      "|    IRD|   IRS| null|          222333111|             222333111|2020-12-30|\n",
      "|    IRD|   IRS| null|          333111222|             333111222|2020-12-12|\n",
      "|    IRD|   IRS| null|          444111222|             444111222|      NULL|\n",
      "|    IRD|   IRS| null|          555111222|             555111222|      NULL|\n",
      "|    IRD|   IRS| null|          564367838|             564367838|2024-10-15|\n",
      "|    IRD|   IRS| null|          556111214|             556111214|      NULL|\n",
      "|    EQD| EQUIT|  FWD|           10000001|              10000001|2019-07-02|\n",
      "|    IRD|  BOND|  FWD|           10000009|              10000009|2021-06-12|\n",
      "|   CURR|   FXD|SWLEG|           19665186|              18622136|2020-12-30|\n",
      "|   CURR|   FXD|SWLEG|           19772400|              18724280|2021-11-05|\n",
      "|   CURR|   FXD|SWLEG|           20980932|              19883451|      NULL|\n",
      "|   CURR|   FXD|SWLEG|           22798005|              21622649|      NULL|\n",
      "|   CURR|   FXD|SWLEG|           20665178|              19622128|2020-12-30|\n",
      "+-------+------+-----+-------------------+----------------------+----------+\n",
      "\n"
     ]
    }
   ],
   "source": [
    "resultado.show(33)"
   ]
  },
  {
   "cell_type": "code",
   "execution_count": 36,
   "id": "810a6302",
   "metadata": {},
   "outputs": [
    {
     "data": {
      "text/plain": [
       "DataFrame[mfamily: string, mgroup: string, mtype: string, origin_trade_number: string, origin_contract_number: string, maturity: string]"
      ]
     },
     "execution_count": 36,
     "metadata": {},
     "output_type": "execute_result"
    }
   ],
   "source": [
    "resultado.unpersist()"
   ]
  },
  {
   "cell_type": "code",
   "execution_count": null,
   "id": "3adbf730",
   "metadata": {},
   "outputs": [],
   "source": []
  }
 ],
 "metadata": {
  "kernelspec": {
   "display_name": "Python 3",
   "language": "python",
   "name": "python3"
  },
  "language_info": {
   "codemirror_mode": {
    "name": "ipython",
    "version": 3
   },
   "file_extension": ".py",
   "mimetype": "text/x-python",
   "name": "python",
   "nbconvert_exporter": "python",
   "pygments_lexer": "ipython3",
   "version": "3.8.6"
  }
 },
 "nbformat": 4,
 "nbformat_minor": 5
}
