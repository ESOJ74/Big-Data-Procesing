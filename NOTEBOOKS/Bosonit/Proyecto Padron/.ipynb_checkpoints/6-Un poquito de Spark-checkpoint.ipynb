{
 "cells": [
  {
   "cell_type": "code",
   "execution_count": null,
   "id": "8eb56c2a",
   "metadata": {},
   "outputs": [],
   "source": [
    "from pyspark.sql import SparkSession\n",
    "#create a SparkSession\n",
    "spark = (SparkSession\n",
    "    .builder\n",
    "    .appName(\"Un poquito de Spark\")\n",
    "    .getOrCreate())"
   ]
  },
  {
   "cell_type": "markdown",
   "id": "85500c8d",
   "metadata": {},
   "source": [
    "## La siguiente sección de la práctica se abordará si ya se tienen suficientes conocimientos de Spark, en concreto de el manejo de DataFrames, y el manejo de tablas de Hive a través de Spark.sql."
   ]
  },
  {
   "cell_type": "markdown",
   "id": "7e19e1eb",
   "metadata": {},
   "source": [
    "#### • 6.1) Comenzamos realizando la misma práctica que hicimos en Hive en Spark, importando el csv. Sería recomendable intentarlo con opciones que quiten las \"\" de los campos, que ignoren los espacios innecesarios en los campos, que sustituyan los valores vacíos por 0 y que infiera el esquema.\n",
    "\n",
    "#### •6.2) De manera alternativa también se puede importar el csv con menos tratamiento en la importación y hacer todas las modificaciones para alcanzar el mismo estado de limpieza de los datos con funciones de Spark."
   ]
  },
  {
   "cell_type": "code",
   "execution_count": null,
   "id": "c144e401",
   "metadata": {},
   "outputs": [],
   "source": [
    "from pyspark.sql.types import *\n",
    "from pyspark.sql.functions import *\n",
    "\n",
    "df = (spark.read.csv(\"Rango_Edades_Seccion_202110.csv\",\n",
    "                    inferSchema = True,\n",
    "                    header = True, \n",
    "                    sep = ';',\n",
    "                    nanValue = 0)\n",
    "      .cache()\n",
    "     )"
   ]
  },
  {
   "cell_type": "code",
   "execution_count": null,
   "id": "4c2dba7f",
   "metadata": {},
   "outputs": [],
   "source": [
    "df = (df.select(\"COD_DISTRITO\",\n",
    "                 trim(\"DESC_DISTRITO\").alias(\"DESC_DISTRITO\"),\n",
    "                 \"COD_DIST_BARRIO\",\n",
    "                 trim(\"DESC_BARRIO\").alias(\"DESC_BARRIO\"),\n",
    "                 \"COD_BARRIO\",\n",
    "                 \"COD_DIST_SECCION\",\n",
    "                 \"COD_SECCION\",\n",
    "                 \"COD_EDAD_INT\",\n",
    "                 \"EspanolesHombres\",\n",
    "                 \"EspanolesMujeres\",\n",
    "                 \"ExtranjerosHombres\",\n",
    "                 \"ExtranjerosMujeres\"                 \n",
    "        )\n",
    "       .withColumn(\"EspanolesHombres\",when(col(\"EspanolesHombres\").isNull(), 0 )\n",
    "                   .otherwise(col(\"EspanolesHombres\")                             )\n",
    "                  )\n",
    "       .withColumn(\"EspanolesMujeres\",when(col(\"EspanolesMujeres\").isNull(), 0)\n",
    "                   .otherwise(col(\"EspanolesMujeres\")                             )\n",
    "                  )\n",
    "       .withColumn(\"ExtranjerosHombres\",when(col(\"ExtranjerosHombres\").isNull(), 0)\n",
    "                   .otherwise(col(\"ExtranjerosHombres\")                             )\n",
    "                  )\n",
    "       .withColumn(\"ExtranjerosMujeres\",when(col(\"ExtranjerosMujeres\").isNull(), 0)\n",
    "                   .otherwise(col(\"ExtranjerosMujeres\")                             )\n",
    "                  )\n",
    "     )"
   ]
  },
  {
   "cell_type": "code",
   "execution_count": null,
   "id": "4cd4e56e",
   "metadata": {},
   "outputs": [],
   "source": [
    "df.toPandas()"
   ]
  },
  {
   "cell_type": "markdown",
   "id": "b3fe5167",
   "metadata": {},
   "source": [
    "#### • 6.3) Enumera todos los barrios diferentes."
   ]
  },
  {
   "cell_type": "code",
   "execution_count": null,
   "id": "023fba7f",
   "metadata": {},
   "outputs": [],
   "source": [
    "df.select(\"DESC_BARRIO\").distinct().show(10)"
   ]
  },
  {
   "cell_type": "markdown",
   "id": "fa321058",
   "metadata": {},
   "source": [
    "#### • 6.4) Crea una vista temporal de nombre \"padron\" y a través de ella cuenta el número de barrios\n",
    "diferentes que hay."
   ]
  },
  {
   "cell_type": "code",
   "execution_count": null,
   "id": "1e7fb60d",
   "metadata": {},
   "outputs": [],
   "source": [
    "df.createOrReplaceTempView(\"Padron\");"
   ]
  },
  {
   "cell_type": "code",
   "execution_count": null,
   "id": "cb525113",
   "metadata": {},
   "outputs": [],
   "source": [
    "spark.sql(\"\"\"SELECT COUNT(DISTINCT DESC_BARRIO) FROM Padron\"\"\").show()"
   ]
  },
  {
   "cell_type": "markdown",
   "id": "7100f8be",
   "metadata": {},
   "source": [
    "#### 6.5) Crea una nueva columna que muestre la longitud de los campos de la columna DESC_DISTRITO y que se llame \"longitud\"."
   ]
  },
  {
   "cell_type": "code",
   "execution_count": null,
   "id": "c7c12d3b",
   "metadata": {},
   "outputs": [],
   "source": [
    "df1 = (df  \n",
    "       .withColumn(\"longitud\", length(col(\"DESC_DISTRITO\")))\n",
    "     )"
   ]
  },
  {
   "cell_type": "code",
   "execution_count": null,
   "id": "c4505ffd",
   "metadata": {},
   "outputs": [],
   "source": [
    "df1.toPandas()"
   ]
  },
  {
   "cell_type": "markdown",
   "id": "3d25b5a9",
   "metadata": {},
   "source": [
    "#### • 6.6) Crea una nueva columna que muestre el valor 5 para cada uno de los registros de la tabla."
   ]
  },
  {
   "cell_type": "code",
   "execution_count": null,
   "id": "d75575cc",
   "metadata": {},
   "outputs": [],
   "source": [
    "df2 = (df  \n",
    "       .withColumn(\"cinco\", lit(5))\n",
    "     )"
   ]
  },
  {
   "cell_type": "code",
   "execution_count": null,
   "id": "05e67e2a",
   "metadata": {},
   "outputs": [],
   "source": [
    "df2.toPandas().head(1)"
   ]
  },
  {
   "cell_type": "markdown",
   "id": "5d5fa141",
   "metadata": {},
   "source": [
    "#### • 6.7) Borra esta columna."
   ]
  },
  {
   "cell_type": "code",
   "execution_count": null,
   "id": "a44d5d54",
   "metadata": {},
   "outputs": [],
   "source": [
    "df2 = df2.drop(\"cinco\")"
   ]
  },
  {
   "cell_type": "code",
   "execution_count": null,
   "id": "a779655b",
   "metadata": {},
   "outputs": [],
   "source": [
    "df2.toPandas().head(1)"
   ]
  },
  {
   "cell_type": "markdown",
   "id": "6917277a",
   "metadata": {},
   "source": [
    "#### • 6.8) Particiona el DataFrame por las variables DESC_DISTRITO y DESC_BARRIO."
   ]
  },
  {
   "cell_type": "code",
   "execution_count": null,
   "id": "b8ebb2e6",
   "metadata": {},
   "outputs": [],
   "source": [
    "from pyspark.sql import Window\n",
    "column_list = [\"DESC_DISTRITO\",\"DESC_BARRIO\"]\n",
    "\n",
    "win_spec = Window.partitionBy(*column_list)"
   ]
  },
  {
   "cell_type": "markdown",
   "id": "980c5ead",
   "metadata": {},
   "source": [
    "#### • 6.9) Almacénalo en caché. Consulta en el puerto 4040 (UI de Spark) de tu usuario local el estado de los rdds almacenados."
   ]
  },
  {
   "cell_type": "code",
   "execution_count": null,
   "id": "b7d031dd",
   "metadata": {},
   "outputs": [],
   "source": []
  },
  {
   "cell_type": "markdown",
   "id": "cec41211",
   "metadata": {},
   "source": [
    "#### • 6.10) Lanza una consulta contra el DF resultante en la que muestre el número total de \"espanoleshombres\", \"espanolesmujeres\", extranjeroshombres\" y \"extranjerosmujeres\" para cada barrio de cada distrito. Las columnas distrito y barrio deben ser las primeras en aparecer en el show. Los resultados deben estar ordenados en orden de más a menos según la columna \"extranjerosmujeres\" y desempatarán por la columna \"extranjeroshombres\"."
   ]
  },
  {
   "cell_type": "code",
   "execution_count": null,
   "id": "80f96ced",
   "metadata": {},
   "outputs": [],
   "source": [
    "spark.sql(\"\"\"select DESC_DISTRITO,\n",
    "       DESC_BARRIO,\n",
    "       sum(cast(EspanolesHombres as int)) as EspanolesHombres, \n",
    "       sum(cast(espanolesMujeres as int)) as espanolesMujeres,\n",
    "       sum(cast(ExtranjerosHombres as int)) as ExtranjerosHombres,\n",
    "       sum(cast(ExtranjerosMujeres as int)) as ExtranjerosMujeres\n",
    "from Padron\n",
    "group by DESC_DISTRITO,DESC_BARRIO\n",
    "order by ExtranjerosMujeres DESC, ExtranjerosHombres DESC;\"\"\").toPandas()"
   ]
  },
  {
   "cell_type": "code",
   "execution_count": null,
   "id": "a3060da1",
   "metadata": {},
   "outputs": [],
   "source": [
    "(df\n",
    " .select(\"DESC_DISTRITO\",\n",
    "         \"DESC_BARRIO\",\n",
    "         \"EspanolesHombres\",\n",
    "         \"EspanolesMujeres\",\n",
    "         \"ExtranjerosHombres\",\n",
    "         \"ExtranjerosMujeres\"\n",
    "        )\n",
    " .groupBy (\"DESC_DISTRITO\",\"DESC_BARRIO\")\n",
    " .agg(sum(\"EspanolesHombres\").alias(\"EspanolesHombres\"),\n",
    "      sum(\"EspanolesMujeres\").alias(\"EspanolesMujeres\"),\n",
    "      sum(\"ExtranjerosHombres\").alias(\"ExtranjerosHombres\"),\n",
    "      sum(\"ExtranjerosMujeres\").alias(\"ExtranjerosMujeres\"))\n",
    " .orderBy(col(\"ExtranjerosMujeres\").desc(),col(\"ExtranjerosHombres\").desc())\n",
    " ).toPandas()"
   ]
  },
  {
   "cell_type": "markdown",
   "id": "7efc303b",
   "metadata": {},
   "source": [
    "#### • 6.11) Elimina el registro en caché."
   ]
  },
  {
   "cell_type": "code",
   "execution_count": null,
   "id": "14205786",
   "metadata": {},
   "outputs": [],
   "source": []
  },
  {
   "cell_type": "markdown",
   "id": "43d9155b",
   "metadata": {},
   "source": [
    "#### • 6.12) Crea un nuevo DataFrame a partir del original que muestre únicamente una columna con DESC_BARRIO, otra con DESC_DISTRITO y otra con el número total de \"espanoleshombres\" residentes en cada distrito de cada barrio. Únelo (con un join) con el DataFrame original a través de las columnas en común."
   ]
  },
  {
   "cell_type": "code",
   "execution_count": null,
   "id": "ee2c616b",
   "metadata": {},
   "outputs": [],
   "source": [
    "df.toPandas()"
   ]
  },
  {
   "cell_type": "markdown",
   "id": "a3f12e1c",
   "metadata": {},
   "source": [
    "#### • 6.13) Repite la función anterior utilizando funciones de ventana. (over(Window.partitionBy.....))."
   ]
  },
  {
   "cell_type": "markdown",
   "id": "22d21c4a",
   "metadata": {},
   "source": []
  },
  {
   "attachments": {
    "image.png": {
     "image/png": "[encoded data removed]"
    }
   },
   "cell_type": "markdown",
   "id": "3bbf472d",
   "metadata": {},
   "source": [
    "#### • 6.14) Mediante una función Pivot muestra una tabla (que va a ser una tabla de contingencia) que contenga los valores totales ()la suma de valores) de espanolesmujeres para cada distrito y en cada rango de edad (COD_EDAD_INT). Los distritos incluidos deben ser únicamente CENTRO, BARAJAS y RETIRO y deben figurar como columnas . El aspecto debe ser similar a este:\n",
    "![image.png](attachment:image.png)"
   ]
  },
  {
   "cell_type": "code",
   "execution_count": null,
   "id": "cb65a9f3",
   "metadata": {},
   "outputs": [],
   "source": []
  },
  {
   "cell_type": "markdown",
   "id": "20504047",
   "metadata": {},
   "source": [
    "#### • 6.15) Utilizando este nuevo DF, crea 3 columnas nuevas que hagan referencia a qué porcentaje de la suma de \"espanolesmujeres\" en los tres distritos para cada rango de edad representa cada uno de los tres distritos. Debe estar redondeada a 2 decimales. Puedes imponerte la condición extra de no apoyarte en ninguna columna auxiliar creada para el caso. "
   ]
  },
  {
   "cell_type": "code",
   "execution_count": null,
   "id": "b19956d0",
   "metadata": {},
   "outputs": [],
   "source": []
  },
  {
   "cell_type": "markdown",
   "id": "4001adb4",
   "metadata": {},
   "source": [
    "#### •  6.16) Guarda el archivo csv original particionado por distrito y por barrio (en ese orden) en un directorio local. Consulta el directorio para ver la estructura de los ficheros y comprueba que es la esperada."
   ]
  },
  {
   "cell_type": "code",
   "execution_count": null,
   "id": "e66f5b2c",
   "metadata": {},
   "outputs": [],
   "source": []
  },
  {
   "cell_type": "markdown",
   "id": "b6e41697",
   "metadata": {},
   "source": [
    "#### • 6.17) Haz el mismo guardado pero en formato parquet. Compara el peso del archivo con el resultado anterior."
   ]
  },
  {
   "cell_type": "code",
   "execution_count": null,
   "id": "ed73ad6e",
   "metadata": {},
   "outputs": [],
   "source": []
  }
 ],
 "metadata": {
  "kernelspec": {
   "display_name": "Python 3",
   "language": "python",
   "name": "python3"
  },
  "language_info": {
   "codemirror_mode": {
    "name": "ipython",
    "version": 3
   },
   "file_extension": ".py",
   "mimetype": "text/x-python",
   "name": "python",
   "nbconvert_exporter": "python",
   "pygments_lexer": "ipython3",
   "version": "3.8.6"
  }
 },
 "nbformat": 4,
 "nbformat_minor": 5
}
