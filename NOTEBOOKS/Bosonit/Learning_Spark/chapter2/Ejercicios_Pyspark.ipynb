{
 "cells": [
  {
   "cell_type": "code",
   "execution_count": 1,
   "id": "ddad58aa",
   "metadata": {},
   "outputs": [],
   "source": [
    "from pyspark.sql import SparkSession\n",
    "import pyspark.sql.functions as F"
   ]
  },
  {
   "cell_type": "code",
   "execution_count": 2,
   "id": "db217644",
   "metadata": {},
   "outputs": [],
   "source": [
    "spark = (SparkSession\n",
    " .builder\n",
    " .appName(\"Don Quijote\")\n",
    " .getOrCreate())"
   ]
  },
  {
   "cell_type": "markdown",
   "id": "b9a5ff72",
   "metadata": {},
   "source": [
    "#### a. Descargar el Quijote\n",
    "https://gist.github.com/jsdario/6d6c69398cb0c73111e49f1218960f79\n"
   ]
  },
  {
   "cell_type": "code",
   "execution_count": 12,
   "id": "d06bda35",
   "metadata": {},
   "outputs": [],
   "source": [
    "# !wget \"https://gist.githubusercontent.com/jsdario/6d6c69398cb0c73111e49f1218960f79/raw/8d4fc4548d437e2a7203a5aeeace5477f598827d/el_quijote.txt\"\n",
    "df = spark.read.option(\"header\", \"false\").csv(\"el_quijote.txt\")"
   ]
  },
  {
   "cell_type": "markdown",
   "id": "e5f1847d",
   "metadata": {},
   "source": [
    "Aplicar no solo count (para obtener el número de líneas) y show sino probar distintas\n",
    "sobrecargas del método show (con/sin truncate, indicando/sin indicar num de filas,\n",
    "etc) así como también los métodos, head, take, first (diferencias entre estos 3?)"
   ]
  },
  {
   "cell_type": "code",
   "execution_count": 13,
   "id": "bbe8ac74",
   "metadata": {},
   "outputs": [
    {
     "data": {
      "text/plain": [
       "2185"
      ]
     },
     "execution_count": 13,
     "metadata": {},
     "output_type": "execute_result"
    }
   ],
   "source": [
    "df.count()"
   ]
  },
  {
   "cell_type": "code",
   "execution_count": 25,
   "id": "0c8931da",
   "metadata": {},
   "outputs": [
    {
     "name": "stdout",
     "output_type": "stream",
     "text": [
      "+----------------------------+\n",
      "|_c0                         |\n",
      "+----------------------------+\n",
      "|DON QUIJOTE DE LA MANCHA    |\n",
      "|Miguel de Cervantes Saavedra|\n",
      "|PRIMERA PARTE               |\n",
      "+----------------------------+\n",
      "only showing top 3 rows\n",
      "\n"
     ]
    }
   ],
   "source": [
    "df.show(3,truncate = False)"
   ]
  },
  {
   "cell_type": "code",
   "execution_count": 18,
   "id": "827dc938",
   "metadata": {},
   "outputs": [
    {
     "data": {
      "text/plain": [
       "[Row(_c0='DON QUIJOTE DE LA MANCHA'),\n",
       " Row(_c0='Miguel de Cervantes Saavedra'),\n",
       " Row(_c0='PRIMERA PARTE')]"
      ]
     },
     "execution_count": 18,
     "metadata": {},
     "output_type": "execute_result"
    }
   ],
   "source": [
    "df.head(3)"
   ]
  },
  {
   "cell_type": "code",
   "execution_count": 19,
   "id": "9fd1bbd1",
   "metadata": {},
   "outputs": [
    {
     "data": {
      "text/plain": [
       "[Row(_c0='DON QUIJOTE DE LA MANCHA'),\n",
       " Row(_c0='Miguel de Cervantes Saavedra'),\n",
       " Row(_c0='PRIMERA PARTE')]"
      ]
     },
     "execution_count": 19,
     "metadata": {},
     "output_type": "execute_result"
    }
   ],
   "source": [
    "df.take(3)"
   ]
  },
  {
   "cell_type": "code",
   "execution_count": 22,
   "id": "7b4337ca",
   "metadata": {},
   "outputs": [
    {
     "data": {
      "text/plain": [
       "Row(_c0='DON QUIJOTE DE LA MANCHA')"
      ]
     },
     "execution_count": 22,
     "metadata": {},
     "output_type": "execute_result"
    }
   ],
   "source": [
    "df.first()"
   ]
  },
  {
   "cell_type": "markdown",
   "id": "2d2efb94",
   "metadata": {},
   "source": [
    "#### b. Del ejercicio de M&M aplicar:"
   ]
  },
  {
   "cell_type": "code",
   "execution_count": 3,
   "id": "75e775c1",
   "metadata": {},
   "outputs": [
    {
     "name": "stdout",
     "output_type": "stream",
     "text": [
      "+-----+------+-----+\n",
      "|State| Color|Count|\n",
      "+-----+------+-----+\n",
      "|   TX|   Red|   10|\n",
      "|   NV|  Blue|   66|\n",
      "|   CO|  Blue|   79|\n",
      "|   OR|  Blue|   71|\n",
      "|   WA|Yellow|   93|\n",
      "+-----+------+-----+\n",
      "only showing top 5 rows\n",
      "\n"
     ]
    }
   ],
   "source": [
    "mnm_file = \"mnm_dataset.csv\"\n",
    "mnm_df = spark\\\n",
    "            .read\\\n",
    "            .option(\"header\", \"true\")\\\n",
    "            .option(\"inferSchema\", \"true\")\\\n",
    "            .csv(mnm_file)\n",
    "mnm_df.show(5)"
   ]
  },
  {
   "cell_type": "markdown",
   "id": "8f6b9ad5",
   "metadata": {},
   "source": [
    "i. Otras operaciones de agregación como el Max con otro tipo de ordenamiento\n",
    "(descendiente)."
   ]
  },
  {
   "cell_type": "code",
   "execution_count": 4,
   "id": "97d629a4",
   "metadata": {},
   "outputs": [
    {
     "name": "stdout",
     "output_type": "stream",
     "text": [
      "+-----+------+------+\n",
      "|State| Color|Maximo|\n",
      "+-----+------+------+\n",
      "|   AZ| Green|   100|\n",
      "|   CA|   Red|   100|\n",
      "|   WY| Green|   100|\n",
      "|   NM| Green|   100|\n",
      "|   WA|Orange|   100|\n",
      "+-----+------+------+\n",
      "only showing top 5 rows\n",
      "\n"
     ]
    }
   ],
   "source": [
    "max_mnm_df = (mnm_df\n",
    " .select(\"State\", \"Color\", \"Count\")\n",
    " .groupBy(\"State\", \"Color\")\n",
    " .agg(F.max(\"Count\").alias(\"Maximo\"))\n",
    " .orderBy(\"Maximo\", ascending=False))\n",
    "max_mnm_df.show(5)"
   ]
  },
  {
   "cell_type": "markdown",
   "id": "15a7872a",
   "metadata": {},
   "source": [
    "ii. hacer un ejercicio como el “where” de CA que aparece en el libro pero\n",
    "indicando más opciones de estados (p.e. NV, TX, CA, CO)."
   ]
  },
  {
   "cell_type": "code",
   "execution_count": 18,
   "id": "2f06e564",
   "metadata": {},
   "outputs": [
    {
     "data": {
      "text/html": [
       "<div>\n",
       "<style scoped>\n",
       "    .dataframe tbody tr th:only-of-type {\n",
       "        vertical-align: middle;\n",
       "    }\n",
       "\n",
       "    .dataframe tbody tr th {\n",
       "        vertical-align: top;\n",
       "    }\n",
       "\n",
       "    .dataframe thead th {\n",
       "        text-align: right;\n",
       "    }\n",
       "</style>\n",
       "<table border=\"1\" class=\"dataframe\">\n",
       "  <thead>\n",
       "    <tr style=\"text-align: right;\">\n",
       "      <th></th>\n",
       "      <th>State</th>\n",
       "      <th>Color</th>\n",
       "      <th>Total</th>\n",
       "    </tr>\n",
       "  </thead>\n",
       "  <tbody>\n",
       "    <tr>\n",
       "      <th>0</th>\n",
       "      <td>CO</td>\n",
       "      <td>Yellow</td>\n",
       "      <td>1721</td>\n",
       "    </tr>\n",
       "    <tr>\n",
       "      <th>1</th>\n",
       "      <td>CO</td>\n",
       "      <td>Green</td>\n",
       "      <td>1713</td>\n",
       "    </tr>\n",
       "    <tr>\n",
       "      <th>2</th>\n",
       "      <td>NV</td>\n",
       "      <td>Orange</td>\n",
       "      <td>1712</td>\n",
       "    </tr>\n",
       "    <tr>\n",
       "      <th>3</th>\n",
       "      <td>NV</td>\n",
       "      <td>Green</td>\n",
       "      <td>1698</td>\n",
       "    </tr>\n",
       "    <tr>\n",
       "      <th>4</th>\n",
       "      <td>CO</td>\n",
       "      <td>Blue</td>\n",
       "      <td>1695</td>\n",
       "    </tr>\n",
       "    <tr>\n",
       "      <th>5</th>\n",
       "      <td>NV</td>\n",
       "      <td>Yellow</td>\n",
       "      <td>1675</td>\n",
       "    </tr>\n",
       "    <tr>\n",
       "      <th>6</th>\n",
       "      <td>NV</td>\n",
       "      <td>Blue</td>\n",
       "      <td>1673</td>\n",
       "    </tr>\n",
       "    <tr>\n",
       "      <th>7</th>\n",
       "      <td>NV</td>\n",
       "      <td>Brown</td>\n",
       "      <td>1657</td>\n",
       "    </tr>\n",
       "    <tr>\n",
       "      <th>8</th>\n",
       "      <td>CO</td>\n",
       "      <td>Brown</td>\n",
       "      <td>1656</td>\n",
       "    </tr>\n",
       "    <tr>\n",
       "      <th>9</th>\n",
       "      <td>CO</td>\n",
       "      <td>Orange</td>\n",
       "      <td>1642</td>\n",
       "    </tr>\n",
       "    <tr>\n",
       "      <th>10</th>\n",
       "      <td>CO</td>\n",
       "      <td>Red</td>\n",
       "      <td>1624</td>\n",
       "    </tr>\n",
       "    <tr>\n",
       "      <th>11</th>\n",
       "      <td>NV</td>\n",
       "      <td>Red</td>\n",
       "      <td>1610</td>\n",
       "    </tr>\n",
       "  </tbody>\n",
       "</table>\n",
       "</div>"
      ],
      "text/plain": [
       "   State   Color  Total\n",
       "0     CO  Yellow   1721\n",
       "1     CO   Green   1713\n",
       "2     NV  Orange   1712\n",
       "3     NV   Green   1698\n",
       "4     CO    Blue   1695\n",
       "5     NV  Yellow   1675\n",
       "6     NV    Blue   1673\n",
       "7     NV   Brown   1657\n",
       "8     CO   Brown   1656\n",
       "9     CO  Orange   1642\n",
       "10    CO     Red   1624\n",
       "11    NV     Red   1610"
      ]
     },
     "execution_count": 18,
     "metadata": {},
     "output_type": "execute_result"
    }
   ],
   "source": [
    "nv_co_count_mnm_df = (mnm_df\n",
    " .select(\"State\", \"Color\", \"Count\")\n",
    " .where((F.col(\"State\") == \"NV\") | (F.col(\"State\") == \"CO\"))\n",
    " .groupBy(\"State\", \"Color\")\n",
    " .agg(F.count(\"Count\").alias(\"Total\"))\n",
    " .orderBy(\"Total\", ascending=False))\n",
    "nv_co_count_mnm_df.toPandas()"
   ]
  },
  {
   "cell_type": "code",
   "execution_count": 17,
   "id": "20671ebd",
   "metadata": {},
   "outputs": [
    {
     "data": {
      "text/html": [
       "<div>\n",
       "<style scoped>\n",
       "    .dataframe tbody tr th:only-of-type {\n",
       "        vertical-align: middle;\n",
       "    }\n",
       "\n",
       "    .dataframe tbody tr th {\n",
       "        vertical-align: top;\n",
       "    }\n",
       "\n",
       "    .dataframe thead th {\n",
       "        text-align: right;\n",
       "    }\n",
       "</style>\n",
       "<table border=\"1\" class=\"dataframe\">\n",
       "  <thead>\n",
       "    <tr style=\"text-align: right;\">\n",
       "      <th></th>\n",
       "      <th>State</th>\n",
       "      <th>Blue</th>\n",
       "      <th>Brown</th>\n",
       "      <th>Green</th>\n",
       "      <th>Orange</th>\n",
       "      <th>Red</th>\n",
       "      <th>Yellow</th>\n",
       "    </tr>\n",
       "  </thead>\n",
       "  <tbody>\n",
       "    <tr>\n",
       "      <th>0</th>\n",
       "      <td>NV</td>\n",
       "      <td>1673</td>\n",
       "      <td>1657</td>\n",
       "      <td>1698</td>\n",
       "      <td>1712</td>\n",
       "      <td>1610</td>\n",
       "      <td>1675</td>\n",
       "    </tr>\n",
       "    <tr>\n",
       "      <th>1</th>\n",
       "      <td>CO</td>\n",
       "      <td>1695</td>\n",
       "      <td>1656</td>\n",
       "      <td>1713</td>\n",
       "      <td>1642</td>\n",
       "      <td>1624</td>\n",
       "      <td>1721</td>\n",
       "    </tr>\n",
       "  </tbody>\n",
       "</table>\n",
       "</div>"
      ],
      "text/plain": [
       "  State  Blue  Brown  Green  Orange   Red  Yellow\n",
       "0    NV  1673   1657   1698    1712  1610    1675\n",
       "1    CO  1695   1656   1713    1642  1624    1721"
      ]
     },
     "execution_count": 17,
     "metadata": {},
     "output_type": "execute_result"
    }
   ],
   "source": [
    "nv_co_count_mnm_df = mnm_df\\\n",
    "                         .select(\"State\", \"Color\")\\\n",
    "                         .where(\n",
    "                            (F.col(\"State\") == \"NV\") | (F.col(\"State\") == \"CO\")\n",
    "                         )\\\n",
    "                         .groupBy(\"State\")\\\n",
    "                         .pivot(\"Color\")\\\n",
    "                         .count()\n",
    "\n",
    "nv_co_count_mnm_df.toPandas()"
   ]
  },
  {
   "cell_type": "markdown",
   "id": "839b2623",
   "metadata": {},
   "source": [
    "iii. Hacer un ejercicio donde se calculen en una misma operación el Max, Min,\n",
    "Avg, Count. Revisar el API (documentación) donde encontrarán este ejemplo:\n",
    "ds.agg(max($\"age\"), avg($\"salary\"))\n",
    "ds.groupBy().agg(max($\"age\"), avg($\"salary\"))\n",
    "NOTA: $ es un alias de col()"
   ]
  },
  {
   "cell_type": "code",
   "execution_count": 21,
   "id": "2671df67",
   "metadata": {},
   "outputs": [
    {
     "data": {
      "text/html": [
       "<div>\n",
       "<style scoped>\n",
       "    .dataframe tbody tr th:only-of-type {\n",
       "        vertical-align: middle;\n",
       "    }\n",
       "\n",
       "    .dataframe tbody tr th {\n",
       "        vertical-align: top;\n",
       "    }\n",
       "\n",
       "    .dataframe thead th {\n",
       "        text-align: right;\n",
       "    }\n",
       "</style>\n",
       "<table border=\"1\" class=\"dataframe\">\n",
       "  <thead>\n",
       "    <tr style=\"text-align: right;\">\n",
       "      <th></th>\n",
       "      <th>State</th>\n",
       "      <th>Color</th>\n",
       "      <th>Total</th>\n",
       "      <th>Max</th>\n",
       "      <th>Min</th>\n",
       "      <th>Avg</th>\n",
       "    </tr>\n",
       "  </thead>\n",
       "  <tbody>\n",
       "    <tr>\n",
       "      <th>0</th>\n",
       "      <td>WY</td>\n",
       "      <td>Green</td>\n",
       "      <td>1695</td>\n",
       "      <td>100</td>\n",
       "      <td>10</td>\n",
       "      <td>55.657</td>\n",
       "    </tr>\n",
       "    <tr>\n",
       "      <th>1</th>\n",
       "      <td>NV</td>\n",
       "      <td>Red</td>\n",
       "      <td>1610</td>\n",
       "      <td>100</td>\n",
       "      <td>10</td>\n",
       "      <td>55.494</td>\n",
       "    </tr>\n",
       "    <tr>\n",
       "      <th>2</th>\n",
       "      <td>UT</td>\n",
       "      <td>Blue</td>\n",
       "      <td>1655</td>\n",
       "      <td>100</td>\n",
       "      <td>10</td>\n",
       "      <td>54.367</td>\n",
       "    </tr>\n",
       "    <tr>\n",
       "      <th>3</th>\n",
       "      <td>WA</td>\n",
       "      <td>Orange</td>\n",
       "      <td>1658</td>\n",
       "      <td>100</td>\n",
       "      <td>10</td>\n",
       "      <td>55.200</td>\n",
       "    </tr>\n",
       "    <tr>\n",
       "      <th>4</th>\n",
       "      <td>NM</td>\n",
       "      <td>Green</td>\n",
       "      <td>1682</td>\n",
       "      <td>100</td>\n",
       "      <td>10</td>\n",
       "      <td>54.197</td>\n",
       "    </tr>\n",
       "  </tbody>\n",
       "</table>\n",
       "</div>"
      ],
      "text/plain": [
       "  State   Color  Total  Max  Min     Avg\n",
       "0    WY   Green   1695  100   10  55.657\n",
       "1    NV     Red   1610  100   10  55.494\n",
       "2    UT    Blue   1655  100   10  54.367\n",
       "3    WA  Orange   1658  100   10  55.200\n",
       "4    NM   Green   1682  100   10  54.197"
      ]
     },
     "execution_count": 21,
     "metadata": {},
     "output_type": "execute_result"
    }
   ],
   "source": [
    "op_mnm_df = (mnm_df\n",
    "                   .select(\"State\", \"Color\", \"Count\")\n",
    "                   .groupBy(\"State\", \"Color\")\n",
    "                   .agg(\n",
    "                         F.count(\"Count\").alias(\"Total\"),\n",
    "                         F.max(\"Count\").alias(\"Max\"),\n",
    "                         F.min(\"Count\").alias(\"Min\"),\n",
    "                         F.round(F.avg(\"Count\"),3).alias(\"Avg\")\n",
    "                       )\n",
    "                )\n",
    "# .orderBy(\"Total\", ascending=False))\n",
    "op_mnm_df.toPandas().head()"
   ]
  },
  {
   "cell_type": "markdown",
   "id": "6c8b1f03",
   "metadata": {},
   "source": [
    "iv. Hacer también ejercicios en SQL creando tmpView"
   ]
  },
  {
   "cell_type": "code",
   "execution_count": 24,
   "id": "fcbe574b",
   "metadata": {},
   "outputs": [
    {
     "name": "stdout",
     "output_type": "stream",
     "text": [
      "+-----+------+-----+\n",
      "|State| Color|Count|\n",
      "+-----+------+-----+\n",
      "|   TX|   Red|   10|\n",
      "|   NV|  Blue|   66|\n",
      "|   CO|  Blue|   79|\n",
      "|   OR|  Blue|   71|\n",
      "|   WA|Yellow|   93|\n",
      "+-----+------+-----+\n",
      "only showing top 5 rows\n",
      "\n"
     ]
    }
   ],
   "source": [
    "mnm_df.createOrReplaceTempView(\"mnm\")\n",
    "spark.sql(\"\"\"SELECT * FROM mnm\"\"\").show(5)"
   ]
  },
  {
   "cell_type": "code",
   "execution_count": 181,
   "id": "dc592e45",
   "metadata": {},
   "outputs": [
    {
     "name": "stdout",
     "output_type": "stream",
     "text": [
      "+-----+------+-----+------+------+------+\n",
      "|State| Color|Total|Maximo|Minimo|   Avg|\n",
      "+-----+------+-----+------+------+------+\n",
      "|   WY| Green| 1695|   100|    10|55.657|\n",
      "|   NV|   Red| 1610|   100|    10|55.494|\n",
      "|   UT|  Blue| 1655|   100|    10|54.367|\n",
      "|   WA|Orange| 1658|   100|    10|  55.2|\n",
      "|   NM| Green| 1682|   100|    10|54.197|\n",
      "|   CA|  Blue| 1603|   100|    10|55.598|\n",
      "|   WA|   Red| 1671|   100|    10|55.854|\n",
      "|   NV| Brown| 1657|   100|    10|55.811|\n",
      "|   AZ| Green| 1676|   100|    10|54.822|\n",
      "|   CA|   Red| 1656|   100|    10| 55.27|\n",
      "|   AZ|Orange| 1689|   100|    10|54.283|\n",
      "|   CO|  Blue| 1695|   100|    10| 55.11|\n",
      "|   NM|Orange| 1665|   100|    10|54.805|\n",
      "|   NM|Yellow| 1688|   100|    10|54.945|\n",
      "|   WY|Orange| 1595|   100|    10|55.145|\n",
      "|   UT|Yellow| 1645|   100|    10|54.264|\n",
      "|   WY|   Red| 1670|   100|    10|54.951|\n",
      "|   OR|  Blue| 1646|   100|    10|54.998|\n",
      "|   NV|Orange| 1712|   100|    10|54.865|\n",
      "|   AZ|Yellow| 1654|   100|    10|54.985|\n",
      "+-----+------+-----+------+------+------+\n",
      "only showing top 20 rows\n",
      "\n"
     ]
    }
   ],
   "source": [
    "spark.sql(\"\"\"SELECT State,\n",
    "                    Color,\n",
    "                    count(Count) as Total,\n",
    "                    max(Count) as Maximo,\n",
    "                    min(Count) as Minimo,\n",
    "                    round(avg(Count),3) as Avg\n",
    "             FROM mnm\n",
    "             GROUP BY State,Color\n",
    "              \"\"\").show()"
   ]
  },
  {
   "cell_type": "code",
   "execution_count": 177,
   "id": "596b209d",
   "metadata": {},
   "outputs": [
    {
     "name": "stdout",
     "output_type": "stream",
     "text": [
      "+-----+------+--------+\n",
      "|State| Color|Cantidad|\n",
      "+-----+------+--------+\n",
      "|   TX| Green|    1737|\n",
      "|   TX|   Red|    1725|\n",
      "|   TX|Yellow|    1703|\n",
      "|   TX|Orange|    1652|\n",
      "|   TX| Brown|    1641|\n",
      "|   TX|  Blue|    1614|\n",
      "+-----+------+--------+\n",
      "\n"
     ]
    }
   ],
   "source": [
    "spark.sql(\"\"\"SELECT State,Color,COUNT(*) as Cantidad\n",
    "             FROM mnm  \n",
    "             WHERE State = \"TX\" \n",
    "             GROUP BY State,Color\n",
    "             ORDER BY Cantidad DESC\n",
    "             \"\"\").show()"
   ]
  },
  {
   "cell_type": "code",
   "execution_count": null,
   "id": "78133b83",
   "metadata": {},
   "outputs": [],
   "source": []
  }
 ],
 "metadata": {
  "kernelspec": {
   "display_name": "Python 3",
   "language": "python",
   "name": "python3"
  },
  "language_info": {
   "codemirror_mode": {
    "name": "ipython",
    "version": 3
   },
   "file_extension": ".py",
   "mimetype": "text/x-python",
   "name": "python",
   "nbconvert_exporter": "python",
   "pygments_lexer": "ipython3",
   "version": "3.8.6"
  }
 },
 "nbformat": 4,
 "nbformat_minor": 5
}
