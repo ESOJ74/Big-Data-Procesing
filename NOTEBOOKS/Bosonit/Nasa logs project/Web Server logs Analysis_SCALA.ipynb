{
 "cells": [
  {
   "cell_type": "code",
   "execution_count": 54,
   "id": "f021417b",
   "metadata": {},
   "outputs": [
    {
     "data": {
      "text/plain": [
       "import org.apache.spark.sql._\n",
       "import org.apache.spark.sql.types.{StructType, StructField, StringType, IntegerType}\n",
       "parseApacheLogLine: (logline: String)org.apache.spark.sql.Row\n"
      ]
     },
     "execution_count": 54,
     "metadata": {},
     "output_type": "execute_result"
    }
   ],
   "source": [
    "import org.apache.spark.sql._\n",
    "import org.apache.spark.sql.types.{StructType, StructField, StringType, IntegerType};\n",
    "\n",
    "def parseApacheLogLine(logline: String): Row = {\n",
    "\n",
    "    val pattern = raw\"\"\"^(\\S+) (\\S+) (\\S+) \\[([\\w:/]+\\s[+\\-]\\d{4})\\] \"(\\S+) (\\S+)\\s*(\\S*)\" (\\d{3}) (\\d+|-)\"\"\".r\n",
    "        \n",
    "    logline match {\n",
    "      case pattern(first, second, third, fourth, fith, sixed, seventh, eigth, nined) => \n",
    "            var size = 0\n",
    "            if (nined == \"-\") {size = 0} else {size = nined.toInt}\n",
    "            return(Row(first, second, third, fourth, fith, sixed, seventh, eigth.toInt, size))\n",
    "      case _ => return(Row())\n",
    "    }\n",
    "}"
   ]
  },
  {
   "cell_type": "code",
   "execution_count": 55,
   "id": "b8a475ef",
   "metadata": {},
   "outputs": [
    {
     "data": {
      "text/plain": [
       "logs: org.apache.spark.rdd.RDD[org.apache.spark.sql.Row] = MapPartitionsRDD[93] at filter at <console>:68\n"
      ]
     },
     "execution_count": 55,
     "metadata": {},
     "output_type": "execute_result"
    }
   ],
   "source": [
    "var logs = sc.textFile(\"access_log_Aug95\")\n",
    "                .map(parseApacheLogLine).filter(_ .length > 0).cache()                  "
   ]
  },
  {
   "cell_type": "code",
   "execution_count": 58,
   "id": "f6baa004",
   "metadata": {},
   "outputs": [
    {
     "name": "stdout",
     "output_type": "stream",
     "text": [
      "root\n",
      " |-- ip: string (nullable = false)\n",
      " |-- cliente: string (nullable = false)\n",
      " |-- id_usuario: string (nullable = false)\n",
      " |-- fecha_hora: string (nullable = false)\n",
      " |-- metodo: string (nullable = false)\n",
      " |-- url: string (nullable = false)\n",
      " |-- protocolo: string (nullable = false)\n",
      " |-- cod_respuesta: integer (nullable = false)\n",
      " |-- tamano_contenido: integer (nullable = false)\n",
      "\n",
      "+-----------------+-------+----------+--------------------+------+--------------------+---------+-------------+----------------+\n",
      "|               ip|cliente|id_usuario|          fecha_hora|metodo|                 url|protocolo|cod_respuesta|tamano_contenido|\n",
      "+-----------------+-------+----------+--------------------+------+--------------------+---------+-------------+----------------+\n",
      "|in24.inetnebr.com|      -|         -|01/Aug/1995:00:00...|   GET|/shuttle/missions...| HTTP/1.0|          200|            1839|\n",
      "|  uplherc.upl.com|      -|         -|01/Aug/1995:00:00...|   GET|                   /| HTTP/1.0|          304|               0|\n",
      "+-----------------+-------+----------+--------------------+------+--------------------+---------+-------------+----------------+\n",
      "only showing top 2 rows\n",
      "\n"
     ]
    },
    {
     "data": {
      "text/plain": [
       "schema: org.apache.spark.sql.types.StructType = StructType(StructField(ip,StringType,false), StructField(cliente,StringType,false), StructField(id_usuario,StringType,false), StructField(fecha_hora,StringType,false), StructField(metodo,StringType,false), StructField(url,StringType,false), StructField(protocolo,StringType,false), StructField(cod_respuesta,IntegerType,false), StructField(tamano_contenido,IntegerType,false))\n",
       "df: org.apache.spark.sql.DataFrame = [ip: string, cliente: string ... 7 more fields]\n"
      ]
     },
     "execution_count": 58,
     "metadata": {},
     "output_type": "execute_result"
    }
   ],
   "source": [
    "val schema = StructType(\n",
    "  List(\n",
    "    StructField(\"ip\", StringType, nullable=false),\n",
    "    StructField(\"cliente\", StringType, nullable=false),\n",
    "    StructField(\"id_usuario\", StringType, nullable=false),\n",
    "    StructField(\"fecha_hora\", StringType, nullable=false),\n",
    "    StructField(\"metodo\", StringType, nullable=false),\n",
    "    StructField(\"url\", StringType, nullable=false),\n",
    "    StructField(\"protocolo\", StringType, nullable=false),\n",
    "    StructField(\"cod_respuesta\", IntegerType, nullable=false),\n",
    "    StructField(\"tamano_contenido\", IntegerType, nullable=false)      \n",
    "  )\n",
    ")\n",
    "\n",
    "val df = spark.createDataFrame(logs,schema)\n",
    "\n",
    "df.printSchema()\n",
    "\n",
    "df.show(2)"
   ]
  },
  {
   "cell_type": "markdown",
   "id": "d4a1da8a",
   "metadata": {},
   "source": [
    "#### Guardaremos nuestro nuevo DataFrame ya estructurado en formato parquet. Y de este leeremos para realizar nuestro análisis."
   ]
  },
  {
   "cell_type": "code",
   "execution_count": 69,
   "id": "62ae1d09",
   "metadata": {},
   "outputs": [],
   "source": [
    "df.write.parquet(\"Resultados_Scala/df_parquet\")"
   ]
  },
  {
   "cell_type": "code",
   "execution_count": 70,
   "id": "59708429",
   "metadata": {},
   "outputs": [
    {
     "data": {
      "text/plain": [
       "sqlContext: org.apache.spark.sql.SQLContext = org.apache.spark.sql.SQLContext@7f3f119\n",
       "import sqlContext.implicits._\n"
      ]
     },
     "execution_count": 70,
     "metadata": {},
     "output_type": "execute_result"
    }
   ],
   "source": [
    "val sqlContext = new org.apache.spark.sql.SQLContext(sc)\n",
    "import sqlContext.implicits._\n",
    "\n",
    "sqlContext.read.parquet(\"Resultados_Scala/df_parquet\").createOrReplaceTempView(\"A\")"
   ]
  },
  {
   "cell_type": "code",
   "execution_count": 72,
   "id": "0e124bfb",
   "metadata": {},
   "outputs": [
    {
     "name": "stdout",
     "output_type": "stream",
     "text": [
      "+--------------------+-------+----------+--------------------+------+--------------------+---------+-------------+----------------+\n",
      "|                  ip|cliente|id_usuario|          fecha_hora|metodo|                 url|protocolo|cod_respuesta|tamano_contenido|\n",
      "+--------------------+-------+----------+--------------------+------+--------------------+---------+-------------+----------------+\n",
      "|www-c2.proxy.aol.com|      -|         -|14/Aug/1995:21:51...|   GET|/images/lc39a-log...| HTTP/1.0|          200|           13116|\n",
      "|  rbroome.pr.mcs.net|      -|         -|14/Aug/1995:21:51...|   GET|/images/NASA-logo...| HTTP/1.0|          304|               0|\n",
      "+--------------------+-------+----------+--------------------+------+--------------------+---------+-------------+----------------+\n",
      "\n"
     ]
    }
   ],
   "source": [
    "sqlContext.sql(\"\"\"select * from A limit 2\"\"\").show()"
   ]
  },
  {
   "cell_type": "markdown",
   "id": "5d3769a9",
   "metadata": {},
   "source": [
    "# Analisis"
   ]
  },
  {
   "cell_type": "markdown",
   "id": "a53c4d86",
   "metadata": {},
   "source": [
    "### ¿Cuáles son los distintos protocolos web utilizados? Agrúpalos."
   ]
  },
  {
   "cell_type": "markdown",
   "id": "02c237db",
   "metadata": {},
   "source": [
    "#### Scala"
   ]
  },
  {
   "cell_type": "code",
   "execution_count": 80,
   "id": "b8ec030c",
   "metadata": {},
   "outputs": [
    {
     "name": "stdout",
     "output_type": "stream",
     "text": [
      "+---------+-------+\n",
      "|protocolo|  count|\n",
      "+---------+-------+\n",
      "| HTTP/1.0|1566967|\n",
      "|HTTP/V1.0|    163|\n",
      "|        a|      1|\n",
      "+---------+-------+\n",
      "\n"
     ]
    }
   ],
   "source": [
    "df\n",
    " .groupBy(\"protocolo\")\n",
    " .count().sql(\"\"\"select protocolo,\n",
    "                    count(protocolo) as n_registros\n",
    "             from A \n",
    "             where protocolo != ''\n",
    "             group by protocolo\n",
    "             order by n_registros desc\n",
    "             \n",
    "             \"\"\").show()\n",
    " .orderBy(desc(\"count\"))\n",
    " .where($\"protocolo\" !== \"\")\n",
    " .show()"
   ]
  },
  {
   "cell_type": "markdown",
   "id": "f6cc9a38",
   "metadata": {},
   "source": [
    "#### SQL"
   ]
  },
  {
   "cell_type": "code",
   "execution_count": 81,
   "id": "255e55a4",
   "metadata": {},
   "outputs": [
    {
     "name": "stdout",
     "output_type": "stream",
     "text": [
      "+---------+-----------+\n",
      "|protocolo|n_registros|\n",
      "+---------+-----------+\n",
      "| HTTP/1.0|    1566967|\n",
      "|HTTP/V1.0|        163|\n",
      "|        a|          1|\n",
      "+---------+-----------+\n",
      "\n"
     ]
    }
   ],
   "source": [
    "sqlContext.sql(\"\"\"select protocolo,\n",
    "                    count(protocolo) as n_registros\n",
    "             from A \n",
    "             where protocolo != ''\n",
    "             group by protocolo\n",
    "             order by n_registros desc\n",
    "             \n",
    "             \"\"\").show()"
   ]
  },
  {
   "cell_type": "markdown",
   "id": "521e7beb",
   "metadata": {},
   "source": [
    "### ¿Cuáles son los códigos de estado más comunes en la web? Agrúpalos y ordénalos para ver cuál es el más común."
   ]
  },
  {
   "cell_type": "code",
   "execution_count": 85,
   "id": "fcd48190",
   "metadata": {},
   "outputs": [
    {
     "name": "stdout",
     "output_type": "stream",
     "text": [
      "+-------------+-------+\n",
      "|cod_respuesta|  count|\n",
      "+-------------+-------+\n",
      "|          200|1398198|\n",
      "|          304| 134138|\n",
      "|          302|  26437|\n",
      "|          404|  10020|\n",
      "|          403|    171|\n",
      "|          501|     27|\n",
      "|          500|      3|\n",
      "+-------------+-------+\n",
      "\n"
     ]
    }
   ],
   "source": [
    "df\n",
    " .groupBy(\"cod_respuesta\")\n",
    " .count()\n",
    " .orderBy(desc(\"count\"))\n",
    " .show()"
   ]
  },
  {
   "cell_type": "markdown",
   "id": "c300ad2d",
   "metadata": {},
   "source": [
    "### ¿Y los métodos de petición (verbos) más utilizados?"
   ]
  },
  {
   "cell_type": "code",
   "execution_count": 114,
   "id": "4c352e8f",
   "metadata": {},
   "outputs": [
    {
     "name": "stdout",
     "output_type": "stream",
     "text": [
      "+------+-------+\n",
      "|metodo|  count|\n",
      "+------+-------+\n",
      "|   GET|1564918|\n",
      "|  HEAD|   3965|\n",
      "|  POST|    111|\n",
      "+------+-------+\n",
      "\n"
     ]
    }
   ],
   "source": [
    "df\n",
    " .groupBy(\"metodo\")\n",
    " .count()\n",
    " .orderBy(\"metodo\")\n",
    " .show()"
   ]
  },
  {
   "cell_type": "markdown",
   "id": "a10d2ba6",
   "metadata": {},
   "source": [
    "### ¿Qué recurso tuvo la mayor transferencia de bytes de la página web?"
   ]
  },
  {
   "cell_type": "code",
   "execution_count": 133,
   "id": "e2f0a5e9",
   "metadata": {},
   "outputs": [
    {
     "name": "stdout",
     "output_type": "stream",
     "text": [
      "+-------------------------------------------------+-----------+-------------------+\n",
      "|url                                              |n_registros|total_transferencia|\n",
      "+-------------------------------------------------+-----------+-------------------+\n",
      "|/shuttle/missions/sts-71/movies/sts-71-launch.mpg|2158       |1639380464         |\n",
      "|/shuttle/missions/sts-69/count69.gif             |24381      |1005927794         |\n",
      "+-------------------------------------------------+-----------+-------------------+\n",
      "only showing top 2 rows\n",
      "\n"
     ]
    }
   ],
   "source": [
    "df\n",
    " .groupBy(\"url\")\n",
    " .agg(count(\"url\").alias(\"n_registros\"),\n",
    "      sum(\"tamano_contenido\").alias(\"total_transferencia\"))\n",
    " .orderBy(desc(\"total_transferencia\"))\n",
    " .select(\"url\",\n",
    "         \"n_registros\",\n",
    "         \"total_transferencia\")\n",
    " .show(2,truncate = false)\n",
    " "
   ]
  },
  {
   "cell_type": "markdown",
   "id": "5644686e",
   "metadata": {},
   "source": [
    "### Además, queremos saber que recurso de nuestra web es el que más tráfico recibe. Es decir, el recurso con más registros en nuestro log."
   ]
  },
  {
   "cell_type": "code",
   "execution_count": 159,
   "id": "033e7116",
   "metadata": {},
   "outputs": [
    {
     "name": "stdout",
     "output_type": "stream",
     "text": [
      "+--------------------------+-----+\n",
      "|url                       |count|\n",
      "+--------------------------+-----+\n",
      "|/images/NASA-logosmall.gif|97383|\n",
      "+--------------------------+-----+\n",
      "only showing top 1 row\n",
      "\n"
     ]
    }
   ],
   "source": [
    "df\n",
    " .groupBy(\"url\")\n",
    " .count()\n",
    " .orderBy(desc(\"count\"))\n",
    " .select(\"url\",\"count\")\n",
    " .show(1,truncate = false)"
   ]
  },
  {
   "cell_type": "markdown",
   "id": "8e6727fb",
   "metadata": {},
   "source": [
    "### ¿Qué días la web recibió más tráfico?"
   ]
  },
  {
   "cell_type": "code",
   "execution_count": 156,
   "id": "35ced7c5",
   "metadata": {},
   "outputs": [
    {
     "name": "stdout",
     "output_type": "stream",
     "text": [
      "+-----------------+-------+----------+--------------------+------+--------------------+---------+-------------+----------------+-----+--------+\n",
      "|               ip|cliente|id_usuario|          fecha_hora|metodo|                 url|protocolo|cod_respuesta|tamano_contenido|fecha|    Hora|\n",
      "+-----------------+-------+----------+--------------------+------+--------------------+---------+-------------+----------------+-----+--------+\n",
      "|in24.inetnebr.com|      -|         -|01/Aug/1995:00:00...|   GET|/shuttle/missions...| HTTP/1.0|          200|            1839| null|00:00:01|\n",
      "|  uplherc.upl.com|      -|         -|01/Aug/1995:00:00...|   GET|                   /| HTTP/1.0|          304|               0| null|00:00:07|\n",
      "|  uplherc.upl.com|      -|         -|01/Aug/1995:00:00...|   GET|/images/ksclogo-m...| HTTP/1.0|          304|               0| null|00:00:08|\n",
      "|  uplherc.upl.com|      -|         -|01/Aug/1995:00:00...|   GET|/images/MOSAIC-lo...| HTTP/1.0|          304|               0| null|00:00:08|\n",
      "|  uplherc.upl.com|      -|         -|01/Aug/1995:00:00...|   GET|/images/USA-logos...| HTTP/1.0|          304|               0| null|00:00:08|\n",
      "+-----------------+-------+----------+--------------------+------+--------------------+---------+-------------+----------------+-----+--------+\n",
      "only showing top 5 rows\n",
      "\n"
     ]
    },
    {
     "data": {
      "text/plain": [
       "df1: org.apache.spark.sql.DataFrame = [ip: string, cliente: string ... 9 more fields]\n"
      ]
     },
     "execution_count": 156,
     "metadata": {},
     "output_type": "execute_result"
    }
   ],
   "source": [
    "val df1 = df\n",
    "            .withColumn(\"fecha\",to_date($\"fecha_hora\",\"MM-dd-yyyy\"))\n",
    "            .withColumn(\"Hora\",substring($\"fecha_hora\",13,8))\n",
    "df1.cache().show(5)"
   ]
  },
  {
   "cell_type": "code",
   "execution_count": null,
   "id": "f91ec9d7",
   "metadata": {},
   "outputs": [],
   "source": []
  },
  {
   "cell_type": "code",
   "execution_count": null,
   "id": "f012d3ac",
   "metadata": {},
   "outputs": [],
   "source": []
  },
  {
   "cell_type": "markdown",
   "id": "d19f9e11",
   "metadata": {},
   "source": [
    "### ¿Cuáles son los hosts son los más frecuentes?"
   ]
  },
  {
   "cell_type": "code",
   "execution_count": 160,
   "id": "45af6676",
   "metadata": {},
   "outputs": [
    {
     "name": "stdout",
     "output_type": "stream",
     "text": [
      "+--------------------+-----+\n",
      "|                  ip|count|\n",
      "+--------------------+-----+\n",
      "|  edams.ksc.nasa.gov| 6530|\n",
      "|piweba4y.prodigy.com| 4846|\n",
      "|        163.206.89.4| 4791|\n",
      "|piweba5y.prodigy.com| 4607|\n",
      "|piweba3y.prodigy.com| 4416|\n",
      "+--------------------+-----+\n",
      "only showing top 5 rows\n",
      "\n"
     ]
    }
   ],
   "source": [
    "df\n",
    " .groupBy(\"ip\")\n",
    " .count()\n",
    " .orderBy(desc(\"count\"))\n",
    " .show(5)"
   ]
  },
  {
   "cell_type": "markdown",
   "id": "77f2a93c",
   "metadata": {},
   "source": [
    "### ¿A qué horas se produce el mayor número de tráfico en la web?"
   ]
  },
  {
   "cell_type": "code",
   "execution_count": 162,
   "id": "dc024bef",
   "metadata": {},
   "outputs": [
    {
     "name": "stdout",
     "output_type": "stream",
     "text": [
      "+--------+-----+\n",
      "|    Hora|count|\n",
      "+--------+-----+\n",
      "|14:28:00|   63|\n",
      "|13:34:33|   60|\n",
      "|15:30:46|   59|\n",
      "|15:26:48|   57|\n",
      "|15:48:25|   56|\n",
      "+--------+-----+\n",
      "only showing top 5 rows\n",
      "\n"
     ]
    }
   ],
   "source": [
    "df1.groupBy(\"Hora\").count().orderBy(desc(\"count\")).show(5)"
   ]
  },
  {
   "cell_type": "markdown",
   "id": "614e7ed3",
   "metadata": {},
   "source": [
    "### ¿Cuál es el número de errores 404 que ha habido cada día?"
   ]
  },
  {
   "cell_type": "code",
   "execution_count": 165,
   "id": "08147faf",
   "metadata": {},
   "outputs": [
    {
     "name": "stdout",
     "output_type": "stream",
     "text": [
      "+-----+-----+\n",
      "|fecha|count|\n",
      "+-----+-----+\n",
      "| null|10020|\n",
      "+-----+-----+\n",
      "\n"
     ]
    }
   ],
   "source": [
    "df1.where($\"cod_respuesta\" === \"404\")\n",
    " .groupBy(\"fecha\")\n",
    " .count()\n",
    " .orderBy(desc(\"count\"))\n",
    " .show(5)"
   ]
  },
  {
   "cell_type": "code",
   "execution_count": 167,
   "id": "e5702434",
   "metadata": {},
   "outputs": [
    {
     "data": {
      "text/plain": [
       "res127: Long = 10020\n"
      ]
     },
     "execution_count": 167,
     "metadata": {},
     "output_type": "execute_result"
    }
   ],
   "source": [
    "df1.where($\"cod_respuesta\" === \"404\").count()"
   ]
  },
  {
   "cell_type": "code",
   "execution_count": null,
   "id": "a00a4f5a",
   "metadata": {},
   "outputs": [],
   "source": []
  }
 ],
 "metadata": {
  "kernelspec": {
   "display_name": "spylon-kernel",
   "language": "scala",
   "name": "spylon-kernel"
  },
  "language_info": {
   "codemirror_mode": "text/x-scala",
   "file_extension": ".scala",
   "help_links": [
    {
     "text": "MetaKernel Magics",
     "url": "https://metakernel.readthedocs.io/en/latest/source/README.html"
    }
   ],
   "mimetype": "text/x-scala",
   "name": "scala",
   "pygments_lexer": "scala",
   "version": "0.4.1"
  }
 },
 "nbformat": 4,
 "nbformat_minor": 5
}
