{
 "cells": [
  {
   "cell_type": "code",
   "execution_count": 1,
   "id": "c623d3cf",
   "metadata": {},
   "outputs": [],
   "source": [
    "from pyspark.sql import Row\n",
    "import datetime\n",
    "import re\n",
    "\n",
    "month_map = {'Jan': 1, 'Feb': 2, 'Mar':3, 'Apr':4, 'May':5, 'Jun':6, 'Jul':7,\n",
    "    'Aug':8,  'Sep': 9, 'Oct':10, 'Nov': 11, 'Dec': 12}\n",
    "\n",
    "def parse_apache_time(s):\n",
    "    return datetime.datetime(int(s[7:11]),\n",
    "                             month_map[s[3:6]],\n",
    "                             int(s[0:2]),\n",
    "                             int(s[12:14]),\n",
    "                             int(s[15:17]),\n",
    "                             int(s[18:20]))"
   ]
  },
  {
   "cell_type": "code",
   "execution_count": 2,
   "id": "df292f68",
   "metadata": {},
   "outputs": [],
   "source": [
    "APACHE_ACCESS_LOG_PATTERN =\\\n",
    "    '^(\\S+) (\\S+) (\\S+) \\[([\\w:/]+\\s[+\\-]\\d{4})\\] \"(\\S+) (\\S+)\\s*(\\S*)\" (\\d{3}) (\\d+|-)'\n",
    "\n",
    "def parseApacheLogLine(logline):\n",
    "    \n",
    "    match = re.search(APACHE_ACCESS_LOG_PATTERN, logline)\n",
    "    if match is None:\n",
    "        return (logline, 0)\n",
    "    size_field = match.group(9)\n",
    "    if size_field == '-':\n",
    "        size = int(0)\n",
    "    else:\n",
    "        size = int(match.group(9))\n",
    "    return (Row(\n",
    "        ip                = match.group(1),\n",
    "        cliente           = match.group(2),\n",
    "        id_usuario        = match.group(3),\n",
    "        fecha_hora        = parse_apache_time(match.group(4)),\n",
    "        metodo            = match.group(5),\n",
    "        url               = match.group(6),\n",
    "        protocolo         = match.group(7),\n",
    "        cod_respuesta     = int(match.group(8)),\n",
    "        tamano_contenido  = size\n",
    "    ), 1)"
   ]
  },
  {
   "cell_type": "code",
   "execution_count": 3,
   "id": "e7602fc2",
   "metadata": {},
   "outputs": [],
   "source": [
    "from pyspark import SparkContext\n",
    "sc = SparkContext()"
   ]
  },
  {
   "cell_type": "code",
   "execution_count": 4,
   "id": "7e9fa6c3",
   "metadata": {},
   "outputs": [],
   "source": [
    "def parseLogs():\n",
    "    \"\"\" Read and parse log file \"\"\"\n",
    "    parsed_logs = (sc\n",
    "                   .textFile('access_log_Aug95')\n",
    "                   .map(parseApacheLogLine)\n",
    "                   .cache())\n",
    "\n",
    "    access_logs = (parsed_logs\n",
    "                   .filter(lambda s: s[1] == 1)\n",
    "                   .map(lambda s: s[0])\n",
    "                   .cache())\n",
    "\n",
    "    failed_logs = (parsed_logs\n",
    "                   .filter(lambda s: s[1] == 0)\n",
    "                   .map(lambda s: s[0])\n",
    "                   .cache())  \n",
    "    \n",
    "    failed_logs_count = failed_logs.count()\n",
    "\n",
    "    print ('Read %d lines, successfully parsed %d lines, failed to parse %d lines' % \n",
    "           (parsed_logs.count(), access_logs.count(), failed_logs.count()))\n",
    "    \n",
    "    parsed_logs.unpersist()\n",
    "    failed_logs.unpersist()\n",
    "    \n",
    "    return access_logs"
   ]
  },
  {
   "cell_type": "code",
   "execution_count": 5,
   "id": "08fe4fbf",
   "metadata": {},
   "outputs": [],
   "source": [
    "from pyspark.sql import SparkSession\n",
    "#create a SparkSession\n",
    "spark = (SparkSession\n",
    "    .builder\n",
    "    .appName(\"Un poquito de Spark\")\n",
    "    .getOrCreate())"
   ]
  },
  {
   "cell_type": "code",
   "execution_count": 6,
   "id": "57dd23a2",
   "metadata": {},
   "outputs": [
    {
     "name": "stdout",
     "output_type": "stream",
     "text": [
      "Read 1569898 lines, successfully parsed 1569003 lines, failed to parse 895 lines\n"
     ]
    },
    {
     "data": {
      "text/plain": [
       "PythonRDD[3] at RDD at PythonRDD.scala:53"
      ]
     },
     "execution_count": 6,
     "metadata": {},
     "output_type": "execute_result"
    }
   ],
   "source": [
    "acces_log = parseLogs()\n",
    "\n",
    "df = spark.createDataFrame(acces_log).cache()\n",
    "\n",
    "acces_log.unpersist()"
   ]
  },
  {
   "cell_type": "code",
   "execution_count": 7,
   "id": "e71b75e1",
   "metadata": {},
   "outputs": [
    {
     "name": "stdout",
     "output_type": "stream",
     "text": [
      "root\n",
      " |-- ip: string (nullable = true)\n",
      " |-- cliente: string (nullable = true)\n",
      " |-- id_usuario: string (nullable = true)\n",
      " |-- fecha_hora: timestamp (nullable = true)\n",
      " |-- metodo: string (nullable = true)\n",
      " |-- url: string (nullable = true)\n",
      " |-- protocolo: string (nullable = true)\n",
      " |-- cod_respuesta: long (nullable = true)\n",
      " |-- tamano_contenido: long (nullable = true)\n",
      "\n"
     ]
    }
   ],
   "source": [
    "df.printSchema()"
   ]
  },
  {
   "cell_type": "markdown",
   "id": "e51982f8",
   "metadata": {},
   "source": [
    "#### Guardaremos nuestro nuevo DataFrame ya estructurado en formato parquet. Y de este leeremos para realizar nuestro análisis."
   ]
  },
  {
   "cell_type": "code",
   "execution_count": 8,
   "id": "99de1349",
   "metadata": {},
   "outputs": [],
   "source": [
    "(df.write\n",
    "  .mode('overwrite') # or append  \n",
    "  .format('parquet') # this is optional, parquet is default\n",
    "  .option('path', \"Resultados/df_parquet\")\n",
    "  .save())"
   ]
  },
  {
   "cell_type": "code",
   "execution_count": 9,
   "id": "281759df",
   "metadata": {},
   "outputs": [],
   "source": [
    "(spark\n",
    "   .read.parquet(\"Resultados/df_parquet\")\n",
    "   .createOrReplaceTempView(\"A\"))"
   ]
  },
  {
   "cell_type": "markdown",
   "id": "9034db0f",
   "metadata": {},
   "source": [
    "# Analisis"
   ]
  },
  {
   "cell_type": "markdown",
   "id": "a8ca8e02",
   "metadata": {},
   "source": [
    "### ¿Cuáles son los distintos protocolos web utilizados? Agrúpalos."
   ]
  },
  {
   "cell_type": "markdown",
   "id": "00c2a716",
   "metadata": {},
   "source": [
    "#### PySpark"
   ]
  },
  {
   "cell_type": "code",
   "execution_count": 10,
   "id": "f08044cd",
   "metadata": {},
   "outputs": [
    {
     "name": "stdout",
     "output_type": "stream",
     "text": [
      "+---------+-------+\n",
      "|protocolo|  count|\n",
      "+---------+-------+\n",
      "| HTTP/1.0|1566969|\n",
      "|HTTP/V1.0|    163|\n",
      "|        a|      1|\n",
      "+---------+-------+\n",
      "\n"
     ]
    }
   ],
   "source": [
    "from pyspark.sql import functions as F\n",
    "\n",
    "(df\n",
    " .groupBy(\"protocolo\")\n",
    " .count()\n",
    " .orderBy(\"count\",ascending = False)\n",
    " .where(F.col(\"protocolo\") != \"\")\n",
    " .show())"
   ]
  },
  {
   "cell_type": "code",
   "execution_count": 11,
   "id": "caa52b02",
   "metadata": {},
   "outputs": [
    {
     "data": {
      "text/html": [
       "<div>\n",
       "<style scoped>\n",
       "    .dataframe tbody tr th:only-of-type {\n",
       "        vertical-align: middle;\n",
       "    }\n",
       "\n",
       "    .dataframe tbody tr th {\n",
       "        vertical-align: top;\n",
       "    }\n",
       "\n",
       "    .dataframe thead th {\n",
       "        text-align: right;\n",
       "    }\n",
       "</style>\n",
       "<table border=\"1\" class=\"dataframe\">\n",
       "  <thead>\n",
       "    <tr style=\"text-align: right;\">\n",
       "      <th></th>\n",
       "      <th>ip</th>\n",
       "      <th>cliente</th>\n",
       "      <th>id_usuario</th>\n",
       "      <th>fecha_hora</th>\n",
       "      <th>metodo</th>\n",
       "      <th>url</th>\n",
       "      <th>protocolo</th>\n",
       "      <th>cod_respuesta</th>\n",
       "      <th>tamano_contenido</th>\n",
       "    </tr>\n",
       "  </thead>\n",
       "  <tbody>\n",
       "    <tr>\n",
       "      <th>0</th>\n",
       "      <td>dsl.rhilinet.gov</td>\n",
       "      <td>-</td>\n",
       "      <td>-</td>\n",
       "      <td>1995-08-16 11:17:54</td>\n",
       "      <td>GET</td>\n",
       "      <td>/software/winvn/winvn.html&gt;WinVN&lt;/a&gt;,</td>\n",
       "      <td>a</td>\n",
       "      <td>404</td>\n",
       "      <td>0</td>\n",
       "    </tr>\n",
       "  </tbody>\n",
       "</table>\n",
       "</div>"
      ],
      "text/plain": [
       "                 ip cliente id_usuario          fecha_hora metodo  \\\n",
       "0  dsl.rhilinet.gov       -          - 1995-08-16 11:17:54    GET   \n",
       "\n",
       "                                     url protocolo  cod_respuesta  \\\n",
       "0  /software/winvn/winvn.html>WinVN</a>,         a            404   \n",
       "\n",
       "   tamano_contenido  \n",
       "0                 0  "
      ]
     },
     "execution_count": 11,
     "metadata": {},
     "output_type": "execute_result"
    }
   ],
   "source": [
    "df.where(F.col(\"protocolo\") == \"a\").toPandas()"
   ]
  },
  {
   "cell_type": "markdown",
   "id": "4fbf55ab",
   "metadata": {},
   "source": [
    "#### SQL"
   ]
  },
  {
   "cell_type": "code",
   "execution_count": 12,
   "id": "8e07950b",
   "metadata": {},
   "outputs": [
    {
     "name": "stdout",
     "output_type": "stream",
     "text": [
      "+---------+-----------+\n",
      "|protocolo|n_registros|\n",
      "+---------+-----------+\n",
      "| HTTP/1.0|    1566969|\n",
      "|HTTP/V1.0|        163|\n",
      "|        a|          1|\n",
      "+---------+-----------+\n",
      "\n"
     ]
    }
   ],
   "source": [
    "spark.sql(\"\"\"select protocolo,\n",
    "                    count(protocolo) as n_registros\n",
    "             from A \n",
    "             where protocolo != ''\n",
    "             group by protocolo\n",
    "             order by n_registros desc\n",
    "             \n",
    "             \"\"\").show()"
   ]
  },
  {
   "cell_type": "code",
   "execution_count": 13,
   "id": "f05b1c07",
   "metadata": {},
   "outputs": [
    {
     "name": "stdout",
     "output_type": "stream",
     "text": [
      "+----------------+-------+----------+-------------------+------+--------------------+---------+-------------+----------------+\n",
      "|              ip|cliente|id_usuario|         fecha_hora|metodo|                 url|protocolo|cod_respuesta|tamano_contenido|\n",
      "+----------------+-------+----------+-------------------+------+--------------------+---------+-------------+----------------+\n",
      "|dsl.rhilinet.gov|      -|         -|1995-08-16 11:17:54|   GET|/software/winvn/w...|        a|          404|               0|\n",
      "+----------------+-------+----------+-------------------+------+--------------------+---------+-------------+----------------+\n",
      "\n"
     ]
    }
   ],
   "source": [
    "spark.sql(\"\"\"select * \n",
    "             from A \n",
    "             where protocolo == 'a' \n",
    "             \"\"\").show()"
   ]
  },
  {
   "cell_type": "markdown",
   "id": "7a5ee9a3",
   "metadata": {},
   "source": [
    "### ¿Cuáles son los códigos de estado más comunes en la web? Agrúpalos y ordénalos para ver cuál es el más común."
   ]
  },
  {
   "cell_type": "markdown",
   "id": "5b9524e7",
   "metadata": {},
   "source": [
    "#### PySpark"
   ]
  },
  {
   "cell_type": "code",
   "execution_count": 14,
   "id": "033cf435",
   "metadata": {},
   "outputs": [
    {
     "data": {
      "text/html": [
       "<div>\n",
       "<style scoped>\n",
       "    .dataframe tbody tr th:only-of-type {\n",
       "        vertical-align: middle;\n",
       "    }\n",
       "\n",
       "    .dataframe tbody tr th {\n",
       "        vertical-align: top;\n",
       "    }\n",
       "\n",
       "    .dataframe thead th {\n",
       "        text-align: right;\n",
       "    }\n",
       "</style>\n",
       "<table border=\"1\" class=\"dataframe\">\n",
       "  <thead>\n",
       "    <tr style=\"text-align: right;\">\n",
       "      <th></th>\n",
       "      <th>cod_respuesta</th>\n",
       "      <th>count</th>\n",
       "    </tr>\n",
       "  </thead>\n",
       "  <tbody>\n",
       "    <tr>\n",
       "      <th>0</th>\n",
       "      <td>200</td>\n",
       "      <td>1398207</td>\n",
       "    </tr>\n",
       "    <tr>\n",
       "      <th>1</th>\n",
       "      <td>304</td>\n",
       "      <td>134138</td>\n",
       "    </tr>\n",
       "    <tr>\n",
       "      <th>2</th>\n",
       "      <td>302</td>\n",
       "      <td>26437</td>\n",
       "    </tr>\n",
       "    <tr>\n",
       "      <th>3</th>\n",
       "      <td>404</td>\n",
       "      <td>10020</td>\n",
       "    </tr>\n",
       "    <tr>\n",
       "      <th>4</th>\n",
       "      <td>403</td>\n",
       "      <td>171</td>\n",
       "    </tr>\n",
       "    <tr>\n",
       "      <th>5</th>\n",
       "      <td>501</td>\n",
       "      <td>27</td>\n",
       "    </tr>\n",
       "    <tr>\n",
       "      <th>6</th>\n",
       "      <td>500</td>\n",
       "      <td>3</td>\n",
       "    </tr>\n",
       "  </tbody>\n",
       "</table>\n",
       "</div>"
      ],
      "text/plain": [
       "   cod_respuesta    count\n",
       "0            200  1398207\n",
       "1            304   134138\n",
       "2            302    26437\n",
       "3            404    10020\n",
       "4            403      171\n",
       "5            501       27\n",
       "6            500        3"
      ]
     },
     "execution_count": 14,
     "metadata": {},
     "output_type": "execute_result"
    }
   ],
   "source": [
    "(df\n",
    " .groupBy(\"cod_respuesta\")\n",
    " .count()\n",
    " .orderBy(\"count\",ascending = False)\n",
    " .toPandas()\n",
    ")"
   ]
  },
  {
   "cell_type": "markdown",
   "id": "7b62c345",
   "metadata": {},
   "source": [
    "#### SQL"
   ]
  },
  {
   "cell_type": "code",
   "execution_count": 15,
   "id": "c93b4b93",
   "metadata": {},
   "outputs": [
    {
     "name": "stdout",
     "output_type": "stream",
     "text": [
      "+-------------+-----------+\n",
      "|cod_respuesta|n_registros|\n",
      "+-------------+-----------+\n",
      "|          200|    1398207|\n",
      "|          304|     134138|\n",
      "|          302|      26437|\n",
      "|          404|      10020|\n",
      "|          403|        171|\n",
      "|          501|         27|\n",
      "|          500|          3|\n",
      "+-------------+-----------+\n",
      "\n"
     ]
    }
   ],
   "source": [
    "spark.sql(\"\"\"select cod_respuesta,\n",
    "                    count(cod_respuesta) as n_registros\n",
    "             from A\n",
    "             group by cod_respuesta\n",
    "             order By n_registros desc\"\"\").show()"
   ]
  },
  {
   "cell_type": "markdown",
   "id": "17429842",
   "metadata": {},
   "source": [
    "### ¿Y los métodos de petición (verbos) más utilizados?"
   ]
  },
  {
   "cell_type": "markdown",
   "id": "ad9dade8",
   "metadata": {},
   "source": [
    "#### PySpark"
   ]
  },
  {
   "cell_type": "code",
   "execution_count": 16,
   "id": "afb4a080",
   "metadata": {},
   "outputs": [
    {
     "data": {
      "text/html": [
       "<div>\n",
       "<style scoped>\n",
       "    .dataframe tbody tr th:only-of-type {\n",
       "        vertical-align: middle;\n",
       "    }\n",
       "\n",
       "    .dataframe tbody tr th {\n",
       "        vertical-align: top;\n",
       "    }\n",
       "\n",
       "    .dataframe thead th {\n",
       "        text-align: right;\n",
       "    }\n",
       "</style>\n",
       "<table border=\"1\" class=\"dataframe\">\n",
       "  <thead>\n",
       "    <tr style=\"text-align: right;\">\n",
       "      <th></th>\n",
       "      <th>metodo</th>\n",
       "      <th>count</th>\n",
       "    </tr>\n",
       "  </thead>\n",
       "  <tbody>\n",
       "    <tr>\n",
       "      <th>0</th>\n",
       "      <td>GET</td>\n",
       "      <td>1564927</td>\n",
       "    </tr>\n",
       "    <tr>\n",
       "      <th>1</th>\n",
       "      <td>HEAD</td>\n",
       "      <td>3965</td>\n",
       "    </tr>\n",
       "    <tr>\n",
       "      <th>2</th>\n",
       "      <td>POST</td>\n",
       "      <td>111</td>\n",
       "    </tr>\n",
       "  </tbody>\n",
       "</table>\n",
       "</div>"
      ],
      "text/plain": [
       "  metodo    count\n",
       "0    GET  1564927\n",
       "1   HEAD     3965\n",
       "2   POST      111"
      ]
     },
     "execution_count": 16,
     "metadata": {},
     "output_type": "execute_result"
    }
   ],
   "source": [
    "(df\n",
    " .groupBy(\"metodo\")\n",
    " .count()\n",
    " .orderBy(\"metodo\")\n",
    " .toPandas()\n",
    ")"
   ]
  },
  {
   "cell_type": "markdown",
   "id": "3b50c560",
   "metadata": {},
   "source": [
    "#### SQL"
   ]
  },
  {
   "cell_type": "code",
   "execution_count": 17,
   "id": "648d3e63",
   "metadata": {},
   "outputs": [
    {
     "name": "stdout",
     "output_type": "stream",
     "text": [
      "+------+-----------+\n",
      "|metodo|n_registros|\n",
      "+------+-----------+\n",
      "|   GET|    1564927|\n",
      "|  HEAD|       3965|\n",
      "|  POST|        111|\n",
      "+------+-----------+\n",
      "\n"
     ]
    }
   ],
   "source": [
    "spark.sql(\"\"\"select metodo,\n",
    "                    count(metodo) as n_registros\n",
    "             from A\n",
    "             group by metodo\n",
    "             order By n_registros desc\"\"\").show()"
   ]
  },
  {
   "cell_type": "markdown",
   "id": "b48c8136",
   "metadata": {},
   "source": [
    "### ¿Qué recurso tuvo la mayor transferencia de bytes de la página web?"
   ]
  },
  {
   "cell_type": "markdown",
   "id": "267aece2",
   "metadata": {},
   "source": [
    "#### PySpark"
   ]
  },
  {
   "cell_type": "code",
   "execution_count": 18,
   "id": "fafc150c",
   "metadata": {},
   "outputs": [
    {
     "data": {
      "text/html": [
       "<div>\n",
       "<style scoped>\n",
       "    .dataframe tbody tr th:only-of-type {\n",
       "        vertical-align: middle;\n",
       "    }\n",
       "\n",
       "    .dataframe tbody tr th {\n",
       "        vertical-align: top;\n",
       "    }\n",
       "\n",
       "    .dataframe thead th {\n",
       "        text-align: right;\n",
       "    }\n",
       "</style>\n",
       "<table border=\"1\" class=\"dataframe\">\n",
       "  <thead>\n",
       "    <tr style=\"text-align: right;\">\n",
       "      <th></th>\n",
       "      <th>url</th>\n",
       "      <th>n_registros</th>\n",
       "      <th>total_transferencia</th>\n",
       "    </tr>\n",
       "  </thead>\n",
       "  <tbody>\n",
       "    <tr>\n",
       "      <th>0</th>\n",
       "      <td>/shuttle/missions/sts-71/movies/sts-71-launch.mpg</td>\n",
       "      <td>2158</td>\n",
       "      <td>1639380464</td>\n",
       "    </tr>\n",
       "    <tr>\n",
       "      <th>1</th>\n",
       "      <td>/shuttle/missions/sts-69/count69.gif</td>\n",
       "      <td>24381</td>\n",
       "      <td>1005927794</td>\n",
       "    </tr>\n",
       "    <tr>\n",
       "      <th>2</th>\n",
       "      <td>/shuttle/missions/sts-69/movies/sts-69-rollbac...</td>\n",
       "      <td>729</td>\n",
       "      <td>512058235</td>\n",
       "    </tr>\n",
       "    <tr>\n",
       "      <th>3</th>\n",
       "      <td>/shuttle/technology/sts-newsref/stsref-toc.html</td>\n",
       "      <td>6516</td>\n",
       "      <td>493211198</td>\n",
       "    </tr>\n",
       "    <tr>\n",
       "      <th>4</th>\n",
       "      <td>/shuttle/missions/sts-69/movies/ws-animation-d...</td>\n",
       "      <td>1392</td>\n",
       "      <td>464050354</td>\n",
       "    </tr>\n",
       "    <tr>\n",
       "      <th>...</th>\n",
       "      <td>...</td>\n",
       "      <td>...</td>\n",
       "      <td>...</td>\n",
       "    </tr>\n",
       "    <tr>\n",
       "      <th>15332</th>\n",
       "      <td>/shuttle/resources/orbiters/mpta-098-logo.gif</td>\n",
       "      <td>1</td>\n",
       "      <td>0</td>\n",
       "    </tr>\n",
       "    <tr>\n",
       "      <th>15333</th>\n",
       "      <td>/history/apollo/sa-6/docs/</td>\n",
       "      <td>3</td>\n",
       "      <td>0</td>\n",
       "    </tr>\n",
       "    <tr>\n",
       "      <th>15334</th>\n",
       "      <td>/apollo13</td>\n",
       "      <td>1</td>\n",
       "      <td>0</td>\n",
       "    </tr>\n",
       "    <tr>\n",
       "      <th>15335</th>\n",
       "      <td>/history/apollo-13/docs/</td>\n",
       "      <td>1</td>\n",
       "      <td>0</td>\n",
       "    </tr>\n",
       "    <tr>\n",
       "      <th>15336</th>\n",
       "      <td>/rmplc.co.uk/eduweb/sites/senacre/texan.gif</td>\n",
       "      <td>3</td>\n",
       "      <td>0</td>\n",
       "    </tr>\n",
       "  </tbody>\n",
       "</table>\n",
       "<p>15337 rows × 3 columns</p>\n",
       "</div>"
      ],
      "text/plain": [
       "                                                     url  n_registros  \\\n",
       "0      /shuttle/missions/sts-71/movies/sts-71-launch.mpg         2158   \n",
       "1                   /shuttle/missions/sts-69/count69.gif        24381   \n",
       "2      /shuttle/missions/sts-69/movies/sts-69-rollbac...          729   \n",
       "3        /shuttle/technology/sts-newsref/stsref-toc.html         6516   \n",
       "4      /shuttle/missions/sts-69/movies/ws-animation-d...         1392   \n",
       "...                                                  ...          ...   \n",
       "15332      /shuttle/resources/orbiters/mpta-098-logo.gif            1   \n",
       "15333                         /history/apollo/sa-6/docs/            3   \n",
       "15334                                          /apollo13            1   \n",
       "15335                           /history/apollo-13/docs/            1   \n",
       "15336        /rmplc.co.uk/eduweb/sites/senacre/texan.gif            3   \n",
       "\n",
       "       total_transferencia  \n",
       "0               1639380464  \n",
       "1               1005927794  \n",
       "2                512058235  \n",
       "3                493211198  \n",
       "4                464050354  \n",
       "...                    ...  \n",
       "15332                    0  \n",
       "15333                    0  \n",
       "15334                    0  \n",
       "15335                    0  \n",
       "15336                    0  \n",
       "\n",
       "[15337 rows x 3 columns]"
      ]
     },
     "execution_count": 18,
     "metadata": {},
     "output_type": "execute_result"
    }
   ],
   "source": [
    "(df\n",
    " .groupBy(\"url\")\n",
    " .agg({'url': 'count',\n",
    "      'tamano_contenido': 'sum'})\n",
    " .orderBy(\"sum(tamano_contenido)\"\n",
    "                  ,ascending = False)\n",
    " .select(\"url\",\n",
    "         F.col(\"count(url)\").alias(\"n_registros\"),\n",
    "         F.col(\"sum(tamano_contenido)\").alias(\"total_transferencia\"))\n",
    " .toPandas()\n",
    ")"
   ]
  },
  {
   "cell_type": "markdown",
   "id": "385a1964",
   "metadata": {},
   "source": [
    "#### SQL"
   ]
  },
  {
   "cell_type": "code",
   "execution_count": 19,
   "id": "24f38b7f",
   "metadata": {},
   "outputs": [
    {
     "data": {
      "text/html": [
       "<div>\n",
       "<style scoped>\n",
       "    .dataframe tbody tr th:only-of-type {\n",
       "        vertical-align: middle;\n",
       "    }\n",
       "\n",
       "    .dataframe tbody tr th {\n",
       "        vertical-align: top;\n",
       "    }\n",
       "\n",
       "    .dataframe thead th {\n",
       "        text-align: right;\n",
       "    }\n",
       "</style>\n",
       "<table border=\"1\" class=\"dataframe\">\n",
       "  <thead>\n",
       "    <tr style=\"text-align: right;\">\n",
       "      <th></th>\n",
       "      <th>url</th>\n",
       "      <th>n_registros</th>\n",
       "      <th>total_transferencia</th>\n",
       "    </tr>\n",
       "  </thead>\n",
       "  <tbody>\n",
       "    <tr>\n",
       "      <th>0</th>\n",
       "      <td>/shuttle/missions/sts-71/movies/sts-71-launch.mpg</td>\n",
       "      <td>2158</td>\n",
       "      <td>1639380464</td>\n",
       "    </tr>\n",
       "    <tr>\n",
       "      <th>1</th>\n",
       "      <td>/shuttle/missions/sts-69/count69.gif</td>\n",
       "      <td>24381</td>\n",
       "      <td>1005927794</td>\n",
       "    </tr>\n",
       "    <tr>\n",
       "      <th>2</th>\n",
       "      <td>/shuttle/missions/sts-69/movies/sts-69-rollbac...</td>\n",
       "      <td>729</td>\n",
       "      <td>512058235</td>\n",
       "    </tr>\n",
       "    <tr>\n",
       "      <th>3</th>\n",
       "      <td>/shuttle/technology/sts-newsref/stsref-toc.html</td>\n",
       "      <td>6516</td>\n",
       "      <td>493211198</td>\n",
       "    </tr>\n",
       "    <tr>\n",
       "      <th>4</th>\n",
       "      <td>/shuttle/missions/sts-69/movies/ws-animation-d...</td>\n",
       "      <td>1392</td>\n",
       "      <td>464050354</td>\n",
       "    </tr>\n",
       "    <tr>\n",
       "      <th>...</th>\n",
       "      <td>...</td>\n",
       "      <td>...</td>\n",
       "      <td>...</td>\n",
       "    </tr>\n",
       "    <tr>\n",
       "      <th>15332</th>\n",
       "      <td>/shuttle/technology/images/apu_mods-small.gif</td>\n",
       "      <td>3</td>\n",
       "      <td>0</td>\n",
       "    </tr>\n",
       "    <tr>\n",
       "      <th>15333</th>\n",
       "      <td>/SIUE/at_work.gif</td>\n",
       "      <td>1</td>\n",
       "      <td>0</td>\n",
       "    </tr>\n",
       "    <tr>\n",
       "      <th>15334</th>\n",
       "      <td>/apollo13</td>\n",
       "      <td>1</td>\n",
       "      <td>0</td>\n",
       "    </tr>\n",
       "    <tr>\n",
       "      <th>15335</th>\n",
       "      <td>/history/apollo-13/docs/</td>\n",
       "      <td>1</td>\n",
       "      <td>0</td>\n",
       "    </tr>\n",
       "    <tr>\n",
       "      <th>15336</th>\n",
       "      <td>/rmplc.co.uk/eduweb/sites/senacre/texan.gif</td>\n",
       "      <td>3</td>\n",
       "      <td>0</td>\n",
       "    </tr>\n",
       "  </tbody>\n",
       "</table>\n",
       "<p>15337 rows × 3 columns</p>\n",
       "</div>"
      ],
      "text/plain": [
       "                                                     url  n_registros  \\\n",
       "0      /shuttle/missions/sts-71/movies/sts-71-launch.mpg         2158   \n",
       "1                   /shuttle/missions/sts-69/count69.gif        24381   \n",
       "2      /shuttle/missions/sts-69/movies/sts-69-rollbac...          729   \n",
       "3        /shuttle/technology/sts-newsref/stsref-toc.html         6516   \n",
       "4      /shuttle/missions/sts-69/movies/ws-animation-d...         1392   \n",
       "...                                                  ...          ...   \n",
       "15332      /shuttle/technology/images/apu_mods-small.gif            3   \n",
       "15333                                  /SIUE/at_work.gif            1   \n",
       "15334                                          /apollo13            1   \n",
       "15335                           /history/apollo-13/docs/            1   \n",
       "15336        /rmplc.co.uk/eduweb/sites/senacre/texan.gif            3   \n",
       "\n",
       "       total_transferencia  \n",
       "0               1639380464  \n",
       "1               1005927794  \n",
       "2                512058235  \n",
       "3                493211198  \n",
       "4                464050354  \n",
       "...                    ...  \n",
       "15332                    0  \n",
       "15333                    0  \n",
       "15334                    0  \n",
       "15335                    0  \n",
       "15336                    0  \n",
       "\n",
       "[15337 rows x 3 columns]"
      ]
     },
     "execution_count": 19,
     "metadata": {},
     "output_type": "execute_result"
    }
   ],
   "source": [
    "spark.sql(\"\"\"select url,\n",
    "                    count(*) as n_registros,\n",
    "                    sum(tamano_contenido) as total_transferencia\n",
    "             from A\n",
    "             group by url\n",
    "             order By total_transferencia desc\"\"\").toPandas()"
   ]
  },
  {
   "cell_type": "code",
   "execution_count": 20,
   "id": "c8e32486",
   "metadata": {},
   "outputs": [
    {
     "data": {
      "text/html": [
       "<div>\n",
       "<style scoped>\n",
       "    .dataframe tbody tr th:only-of-type {\n",
       "        vertical-align: middle;\n",
       "    }\n",
       "\n",
       "    .dataframe tbody tr th {\n",
       "        vertical-align: top;\n",
       "    }\n",
       "\n",
       "    .dataframe thead th {\n",
       "        text-align: right;\n",
       "    }\n",
       "</style>\n",
       "<table border=\"1\" class=\"dataframe\">\n",
       "  <thead>\n",
       "    <tr style=\"text-align: right;\">\n",
       "      <th></th>\n",
       "      <th>url</th>\n",
       "      <th>tamano_contenido</th>\n",
       "    </tr>\n",
       "  </thead>\n",
       "  <tbody>\n",
       "    <tr>\n",
       "      <th>0</th>\n",
       "      <td>/shuttle/missions/sts-71/movies/sts-71-launch.mpg</td>\n",
       "      <td>1121554</td>\n",
       "    </tr>\n",
       "    <tr>\n",
       "      <th>1</th>\n",
       "      <td>/shuttle/missions/sts-71/movies/sts-71-launch.mpg</td>\n",
       "      <td>147456</td>\n",
       "    </tr>\n",
       "    <tr>\n",
       "      <th>2</th>\n",
       "      <td>/shuttle/missions/sts-71/movies/sts-71-launch.mpg</td>\n",
       "      <td>1121554</td>\n",
       "    </tr>\n",
       "    <tr>\n",
       "      <th>3</th>\n",
       "      <td>/shuttle/missions/sts-71/movies/sts-71-launch.mpg</td>\n",
       "      <td>81920</td>\n",
       "    </tr>\n",
       "    <tr>\n",
       "      <th>4</th>\n",
       "      <td>/shuttle/missions/sts-71/movies/sts-71-launch.mpg</td>\n",
       "      <td>1121554</td>\n",
       "    </tr>\n",
       "    <tr>\n",
       "      <th>...</th>\n",
       "      <td>...</td>\n",
       "      <td>...</td>\n",
       "    </tr>\n",
       "    <tr>\n",
       "      <th>2153</th>\n",
       "      <td>/shuttle/missions/sts-71/movies/sts-71-launch.mpg</td>\n",
       "      <td>1121554</td>\n",
       "    </tr>\n",
       "    <tr>\n",
       "      <th>2154</th>\n",
       "      <td>/shuttle/missions/sts-71/movies/sts-71-launch.mpg</td>\n",
       "      <td>1121554</td>\n",
       "    </tr>\n",
       "    <tr>\n",
       "      <th>2155</th>\n",
       "      <td>/shuttle/missions/sts-71/movies/sts-71-launch.mpg</td>\n",
       "      <td>1121554</td>\n",
       "    </tr>\n",
       "    <tr>\n",
       "      <th>2156</th>\n",
       "      <td>/shuttle/missions/sts-71/movies/sts-71-launch.mpg</td>\n",
       "      <td>1121554</td>\n",
       "    </tr>\n",
       "    <tr>\n",
       "      <th>2157</th>\n",
       "      <td>/shuttle/missions/sts-71/movies/sts-71-launch.mpg</td>\n",
       "      <td>1121554</td>\n",
       "    </tr>\n",
       "  </tbody>\n",
       "</table>\n",
       "<p>2158 rows × 2 columns</p>\n",
       "</div>"
      ],
      "text/plain": [
       "                                                    url  tamano_contenido\n",
       "0     /shuttle/missions/sts-71/movies/sts-71-launch.mpg           1121554\n",
       "1     /shuttle/missions/sts-71/movies/sts-71-launch.mpg            147456\n",
       "2     /shuttle/missions/sts-71/movies/sts-71-launch.mpg           1121554\n",
       "3     /shuttle/missions/sts-71/movies/sts-71-launch.mpg             81920\n",
       "4     /shuttle/missions/sts-71/movies/sts-71-launch.mpg           1121554\n",
       "...                                                 ...               ...\n",
       "2153  /shuttle/missions/sts-71/movies/sts-71-launch.mpg           1121554\n",
       "2154  /shuttle/missions/sts-71/movies/sts-71-launch.mpg           1121554\n",
       "2155  /shuttle/missions/sts-71/movies/sts-71-launch.mpg           1121554\n",
       "2156  /shuttle/missions/sts-71/movies/sts-71-launch.mpg           1121554\n",
       "2157  /shuttle/missions/sts-71/movies/sts-71-launch.mpg           1121554\n",
       "\n",
       "[2158 rows x 2 columns]"
      ]
     },
     "execution_count": 20,
     "metadata": {},
     "output_type": "execute_result"
    }
   ],
   "source": [
    "spark.sql(\"\"\"select url,\n",
    "                    tamano_contenido \n",
    "             from A \n",
    "             where url == '/shuttle/missions/sts-71/movies/sts-71-launch.mpg'\"\"\").toPandas()"
   ]
  },
  {
   "cell_type": "markdown",
   "id": "17a22508",
   "metadata": {},
   "source": [
    "### Además, queremos saber que recurso de nuestra web es el que más tráfico recibe. Es decir, el recurso con más registros en nuestro log."
   ]
  },
  {
   "cell_type": "markdown",
   "id": "9f88cbf8",
   "metadata": {},
   "source": [
    "#### PySpark"
   ]
  },
  {
   "cell_type": "code",
   "execution_count": 21,
   "id": "62a7edff",
   "metadata": {},
   "outputs": [
    {
     "name": "stdout",
     "output_type": "stream",
     "text": [
      "+--------------------------+---------------+\n",
      "|url                       |Nº de Registros|\n",
      "+--------------------------+---------------+\n",
      "|/images/NASA-logosmall.gif|97384          |\n",
      "+--------------------------+---------------+\n",
      "only showing top 1 row\n",
      "\n"
     ]
    }
   ],
   "source": [
    "(df.\n",
    " groupBy(\"url\")\n",
    " .count().orderBy(\"count\"\n",
    "                  ,ascending = False)\n",
    " .select(\"url\",F.col(\"count\").alias(\"Nº de Registros\"))\n",
    " .show(1,truncate = False)\n",
    ")"
   ]
  },
  {
   "cell_type": "markdown",
   "id": "be48388a",
   "metadata": {},
   "source": [
    "#### SQL"
   ]
  },
  {
   "cell_type": "code",
   "execution_count": 22,
   "id": "7fbec0d5",
   "metadata": {},
   "outputs": [
    {
     "data": {
      "text/html": [
       "<div>\n",
       "<style scoped>\n",
       "    .dataframe tbody tr th:only-of-type {\n",
       "        vertical-align: middle;\n",
       "    }\n",
       "\n",
       "    .dataframe tbody tr th {\n",
       "        vertical-align: top;\n",
       "    }\n",
       "\n",
       "    .dataframe thead th {\n",
       "        text-align: right;\n",
       "    }\n",
       "</style>\n",
       "<table border=\"1\" class=\"dataframe\">\n",
       "  <thead>\n",
       "    <tr style=\"text-align: right;\">\n",
       "      <th></th>\n",
       "      <th>url</th>\n",
       "      <th>n_registros</th>\n",
       "    </tr>\n",
       "  </thead>\n",
       "  <tbody>\n",
       "    <tr>\n",
       "      <th>0</th>\n",
       "      <td>/images/NASA-logosmall.gif</td>\n",
       "      <td>97384</td>\n",
       "    </tr>\n",
       "  </tbody>\n",
       "</table>\n",
       "</div>"
      ],
      "text/plain": [
       "                          url  n_registros\n",
       "0  /images/NASA-logosmall.gif        97384"
      ]
     },
     "execution_count": 22,
     "metadata": {},
     "output_type": "execute_result"
    }
   ],
   "source": [
    "spark.sql(\"\"\"select url,\n",
    "                    count(*) as n_registros\n",
    "             from A\n",
    "             group by url\n",
    "             order By n_registros desc\n",
    "             limit 1\"\"\").toPandas()"
   ]
  },
  {
   "cell_type": "markdown",
   "id": "48b0af7d",
   "metadata": {},
   "source": [
    "### ¿Qué días la web recibió más tráfico?"
   ]
  },
  {
   "cell_type": "markdown",
   "id": "4a52ff00",
   "metadata": {},
   "source": [
    "#### PySpark"
   ]
  },
  {
   "cell_type": "code",
   "execution_count": 23,
   "id": "af61de95",
   "metadata": {},
   "outputs": [
    {
     "data": {
      "text/plain": [
       "DataFrame[ip: string, cliente: string, id_usuario: string, fecha_hora: timestamp, metodo: string, url: string, protocolo: string, cod_respuesta: bigint, tamano_contenido: bigint, fecha: date, Hora: string]"
      ]
     },
     "execution_count": 23,
     "metadata": {},
     "output_type": "execute_result"
    }
   ],
   "source": [
    "from pyspark.sql.functions import to_date\n",
    "df1 = (df.withColumn(\"fecha\",to_date(F.col(\"fecha_hora\")))\n",
    "      .withColumn(\"Hora\",F.substring(\"fecha_hora\",12,15)))\n",
    "df1.cache()"
   ]
  },
  {
   "cell_type": "code",
   "execution_count": 24,
   "id": "d3a9ca6a",
   "metadata": {},
   "outputs": [],
   "source": [
    "(df1.write\n",
    "  .mode('overwrite') # or append  \n",
    "  .format('parquet') # this is optional, parquet is default\n",
    "  .option('path', \"Resultados/df1_parquet\")\n",
    "  .save())"
   ]
  },
  {
   "cell_type": "code",
   "execution_count": 25,
   "id": "a1877ffb",
   "metadata": {},
   "outputs": [
    {
     "name": "stdout",
     "output_type": "stream",
     "text": [
      "+----------+-----+\n",
      "|     fecha|count|\n",
      "+----------+-----+\n",
      "|1995-08-31|89825|\n",
      "|1995-08-30|80299|\n",
      "|1995-08-29|67984|\n",
      "|1995-08-11|61242|\n",
      "|1995-08-10|61237|\n",
      "+----------+-----+\n",
      "only showing top 5 rows\n",
      "\n"
     ]
    }
   ],
   "source": [
    "df1.groupby(\"fecha\").count().orderBy(\"count\",ascending = False).show(5)"
   ]
  },
  {
   "cell_type": "markdown",
   "id": "b3c5ab09",
   "metadata": {},
   "source": [
    "#### SQL"
   ]
  },
  {
   "cell_type": "code",
   "execution_count": 26,
   "id": "880869e1",
   "metadata": {},
   "outputs": [],
   "source": [
    "(spark\n",
    "   .read.parquet(\"Resultados/df1_parquet\")\n",
    "   .createOrReplaceTempView(\"B\"))"
   ]
  },
  {
   "cell_type": "code",
   "execution_count": 27,
   "id": "b969c8b2",
   "metadata": {},
   "outputs": [
    {
     "data": {
      "text/html": [
       "<div>\n",
       "<style scoped>\n",
       "    .dataframe tbody tr th:only-of-type {\n",
       "        vertical-align: middle;\n",
       "    }\n",
       "\n",
       "    .dataframe tbody tr th {\n",
       "        vertical-align: top;\n",
       "    }\n",
       "\n",
       "    .dataframe thead th {\n",
       "        text-align: right;\n",
       "    }\n",
       "</style>\n",
       "<table border=\"1\" class=\"dataframe\">\n",
       "  <thead>\n",
       "    <tr style=\"text-align: right;\">\n",
       "      <th></th>\n",
       "      <th>fecha</th>\n",
       "      <th>count</th>\n",
       "    </tr>\n",
       "  </thead>\n",
       "  <tbody>\n",
       "    <tr>\n",
       "      <th>0</th>\n",
       "      <td>1995-08-31</td>\n",
       "      <td>89825</td>\n",
       "    </tr>\n",
       "    <tr>\n",
       "      <th>1</th>\n",
       "      <td>1995-08-30</td>\n",
       "      <td>80299</td>\n",
       "    </tr>\n",
       "    <tr>\n",
       "      <th>2</th>\n",
       "      <td>1995-08-29</td>\n",
       "      <td>67984</td>\n",
       "    </tr>\n",
       "    <tr>\n",
       "      <th>3</th>\n",
       "      <td>1995-08-11</td>\n",
       "      <td>61242</td>\n",
       "    </tr>\n",
       "    <tr>\n",
       "      <th>4</th>\n",
       "      <td>1995-08-10</td>\n",
       "      <td>61237</td>\n",
       "    </tr>\n",
       "  </tbody>\n",
       "</table>\n",
       "</div>"
      ],
      "text/plain": [
       "        fecha  count\n",
       "0  1995-08-31  89825\n",
       "1  1995-08-30  80299\n",
       "2  1995-08-29  67984\n",
       "3  1995-08-11  61242\n",
       "4  1995-08-10  61237"
      ]
     },
     "execution_count": 27,
     "metadata": {},
     "output_type": "execute_result"
    }
   ],
   "source": [
    "spark.sql(\"\"\"select fecha,\n",
    "                    count(\"fecha\") as count\n",
    "             from B\n",
    "             group by fecha\n",
    "             order By count desc\n",
    "             limit 5\n",
    "             \"\"\").toPandas()"
   ]
  },
  {
   "cell_type": "markdown",
   "id": "cd0d0628",
   "metadata": {},
   "source": [
    "### ¿Cuáles son los hosts son los más frecuentes?"
   ]
  },
  {
   "cell_type": "markdown",
   "id": "f3a5c7ca",
   "metadata": {},
   "source": [
    "#### PySpark"
   ]
  },
  {
   "cell_type": "code",
   "execution_count": 28,
   "id": "e85a22a8",
   "metadata": {},
   "outputs": [
    {
     "name": "stdout",
     "output_type": "stream",
     "text": [
      "+--------------------+-----+\n",
      "|                  ip|count|\n",
      "+--------------------+-----+\n",
      "|  edams.ksc.nasa.gov| 6530|\n",
      "|piweba4y.prodigy.com| 4846|\n",
      "|        163.206.89.4| 4791|\n",
      "|piweba5y.prodigy.com| 4607|\n",
      "|piweba3y.prodigy.com| 4416|\n",
      "+--------------------+-----+\n",
      "only showing top 5 rows\n",
      "\n"
     ]
    }
   ],
   "source": [
    "(df\n",
    " .groupby(\"ip\")\n",
    " .count()\n",
    " .orderBy(\"count\",ascending=False)\n",
    " .show(5))"
   ]
  },
  {
   "cell_type": "markdown",
   "id": "aef0db0e",
   "metadata": {},
   "source": [
    "#### SQL"
   ]
  },
  {
   "cell_type": "code",
   "execution_count": 29,
   "id": "cd724e92",
   "metadata": {},
   "outputs": [
    {
     "data": {
      "text/html": [
       "<div>\n",
       "<style scoped>\n",
       "    .dataframe tbody tr th:only-of-type {\n",
       "        vertical-align: middle;\n",
       "    }\n",
       "\n",
       "    .dataframe tbody tr th {\n",
       "        vertical-align: top;\n",
       "    }\n",
       "\n",
       "    .dataframe thead th {\n",
       "        text-align: right;\n",
       "    }\n",
       "</style>\n",
       "<table border=\"1\" class=\"dataframe\">\n",
       "  <thead>\n",
       "    <tr style=\"text-align: right;\">\n",
       "      <th></th>\n",
       "      <th>ip</th>\n",
       "      <th>count</th>\n",
       "    </tr>\n",
       "  </thead>\n",
       "  <tbody>\n",
       "    <tr>\n",
       "      <th>0</th>\n",
       "      <td>edams.ksc.nasa.gov</td>\n",
       "      <td>6530</td>\n",
       "    </tr>\n",
       "    <tr>\n",
       "      <th>1</th>\n",
       "      <td>piweba4y.prodigy.com</td>\n",
       "      <td>4846</td>\n",
       "    </tr>\n",
       "    <tr>\n",
       "      <th>2</th>\n",
       "      <td>163.206.89.4</td>\n",
       "      <td>4791</td>\n",
       "    </tr>\n",
       "    <tr>\n",
       "      <th>3</th>\n",
       "      <td>piweba5y.prodigy.com</td>\n",
       "      <td>4607</td>\n",
       "    </tr>\n",
       "    <tr>\n",
       "      <th>4</th>\n",
       "      <td>piweba3y.prodigy.com</td>\n",
       "      <td>4416</td>\n",
       "    </tr>\n",
       "  </tbody>\n",
       "</table>\n",
       "</div>"
      ],
      "text/plain": [
       "                     ip  count\n",
       "0    edams.ksc.nasa.gov   6530\n",
       "1  piweba4y.prodigy.com   4846\n",
       "2          163.206.89.4   4791\n",
       "3  piweba5y.prodigy.com   4607\n",
       "4  piweba3y.prodigy.com   4416"
      ]
     },
     "execution_count": 29,
     "metadata": {},
     "output_type": "execute_result"
    }
   ],
   "source": [
    "spark.sql(\"\"\"select ip,\n",
    "                    count(*) as count\n",
    "             from B\n",
    "             group by ip\n",
    "             order by count desc\n",
    "             limit 5\"\"\").toPandas()"
   ]
  },
  {
   "cell_type": "markdown",
   "id": "5d4ae0de",
   "metadata": {},
   "source": [
    "### ¿A qué horas se produce el mayor número de tráfico en la web?"
   ]
  },
  {
   "cell_type": "markdown",
   "id": "93f9656b",
   "metadata": {},
   "source": [
    "#### PySpark"
   ]
  },
  {
   "cell_type": "code",
   "execution_count": 30,
   "id": "14e98a6a",
   "metadata": {},
   "outputs": [
    {
     "name": "stdout",
     "output_type": "stream",
     "text": [
      "+--------+-----+\n",
      "|    Hora|count|\n",
      "+--------+-----+\n",
      "|14:28:00|   63|\n",
      "|13:34:33|   60|\n",
      "|15:30:46|   59|\n",
      "|15:26:48|   57|\n",
      "|15:48:25|   56|\n",
      "+--------+-----+\n",
      "only showing top 5 rows\n",
      "\n"
     ]
    }
   ],
   "source": [
    "df1.groupby(\"Hora\").count().orderBy(\"count\",ascending = False).show(5)"
   ]
  },
  {
   "cell_type": "markdown",
   "id": "559af5b7",
   "metadata": {},
   "source": [
    "### ¿Cuál es el número de errores 404 que ha habido cada día?"
   ]
  },
  {
   "cell_type": "markdown",
   "id": "5afc3506",
   "metadata": {},
   "source": [
    "#### PySpark"
   ]
  },
  {
   "cell_type": "code",
   "execution_count": 31,
   "id": "96e62d9c",
   "metadata": {},
   "outputs": [
    {
     "name": "stdout",
     "output_type": "stream",
     "text": [
      "+----------+-----+\n",
      "|     fecha|count|\n",
      "+----------+-----+\n",
      "|1995-08-30|  567|\n",
      "|1995-08-07|  532|\n",
      "|1995-08-31|  526|\n",
      "|1995-08-29|  420|\n",
      "|1995-08-24|  420|\n",
      "+----------+-----+\n",
      "only showing top 5 rows\n",
      "\n"
     ]
    }
   ],
   "source": [
    "(df1.where(F.col(\"cod_respuesta\") == \"404\")\n",
    " .groupby(\"fecha\")\n",
    " .count()\n",
    " .orderBy(\"count\",ascending = False)\n",
    " .show(5))"
   ]
  },
  {
   "cell_type": "code",
   "execution_count": 32,
   "id": "d92836ed",
   "metadata": {},
   "outputs": [
    {
     "data": {
      "text/plain": [
       "243"
      ]
     },
     "execution_count": 32,
     "metadata": {},
     "output_type": "execute_result"
    }
   ],
   "source": [
    "(df1.where((F.col(\"cod_respuesta\") == \"404\") & (F.col(\"fecha\") == '1995-08-01')).count())"
   ]
  },
  {
   "cell_type": "code",
   "execution_count": 33,
   "id": "22d149a8",
   "metadata": {},
   "outputs": [
    {
     "data": {
      "text/plain": [
       "567"
      ]
     },
     "execution_count": 33,
     "metadata": {},
     "output_type": "execute_result"
    }
   ],
   "source": [
    "(df1.where((F.col(\"cod_respuesta\") == \"404\") & (F.col(\"fecha\") == '1995-08-30')).count())"
   ]
  },
  {
   "cell_type": "markdown",
   "id": "f9f4f703",
   "metadata": {},
   "source": [
    "#### SQL"
   ]
  },
  {
   "cell_type": "code",
   "execution_count": 34,
   "id": "ebc90a03",
   "metadata": {},
   "outputs": [
    {
     "data": {
      "text/html": [
       "<div>\n",
       "<style scoped>\n",
       "    .dataframe tbody tr th:only-of-type {\n",
       "        vertical-align: middle;\n",
       "    }\n",
       "\n",
       "    .dataframe tbody tr th {\n",
       "        vertical-align: top;\n",
       "    }\n",
       "\n",
       "    .dataframe thead th {\n",
       "        text-align: right;\n",
       "    }\n",
       "</style>\n",
       "<table border=\"1\" class=\"dataframe\">\n",
       "  <thead>\n",
       "    <tr style=\"text-align: right;\">\n",
       "      <th></th>\n",
       "      <th>fecha</th>\n",
       "      <th>count</th>\n",
       "    </tr>\n",
       "  </thead>\n",
       "  <tbody>\n",
       "    <tr>\n",
       "      <th>0</th>\n",
       "      <td>1995-08-30</td>\n",
       "      <td>567</td>\n",
       "    </tr>\n",
       "    <tr>\n",
       "      <th>1</th>\n",
       "      <td>1995-08-07</td>\n",
       "      <td>532</td>\n",
       "    </tr>\n",
       "    <tr>\n",
       "      <th>2</th>\n",
       "      <td>1995-08-31</td>\n",
       "      <td>526</td>\n",
       "    </tr>\n",
       "    <tr>\n",
       "      <th>3</th>\n",
       "      <td>1995-08-29</td>\n",
       "      <td>420</td>\n",
       "    </tr>\n",
       "    <tr>\n",
       "      <th>4</th>\n",
       "      <td>1995-08-24</td>\n",
       "      <td>420</td>\n",
       "    </tr>\n",
       "  </tbody>\n",
       "</table>\n",
       "</div>"
      ],
      "text/plain": [
       "        fecha  count\n",
       "0  1995-08-30    567\n",
       "1  1995-08-07    532\n",
       "2  1995-08-31    526\n",
       "3  1995-08-29    420\n",
       "4  1995-08-24    420"
      ]
     },
     "execution_count": 34,
     "metadata": {},
     "output_type": "execute_result"
    }
   ],
   "source": [
    "spark.sql(\"\"\"select fecha,\n",
    "                    count(*) as count\n",
    "             from B\n",
    "             where cod_respuesta == '404'\n",
    "             group by fecha\n",
    "             order By count desc\n",
    "             limit 5\n",
    "             \"\"\").toPandas()"
   ]
  },
  {
   "cell_type": "code",
   "execution_count": 35,
   "id": "c9130152",
   "metadata": {},
   "outputs": [
    {
     "data": {
      "text/plain": [
       "DataFrame[ip: string, cliente: string, id_usuario: string, fecha_hora: timestamp, metodo: string, url: string, protocolo: string, cod_respuesta: bigint, tamano_contenido: bigint, fecha: date, Hora: string]"
      ]
     },
     "execution_count": 35,
     "metadata": {},
     "output_type": "execute_result"
    }
   ],
   "source": [
    "df.unpersist()\n",
    "df1.unpersist()"
   ]
  },
  {
   "cell_type": "code",
   "execution_count": null,
   "id": "5678fe79",
   "metadata": {},
   "outputs": [],
   "source": []
  }
 ],
 "metadata": {
  "kernelspec": {
   "display_name": "Python 3",
   "language": "python",
   "name": "python3"
  },
  "language_info": {
   "codemirror_mode": {
    "name": "ipython",
    "version": 3
   },
   "file_extension": ".py",
   "mimetype": "text/x-python",
   "name": "python",
   "nbconvert_exporter": "python",
   "pygments_lexer": "ipython3",
   "version": "3.8.6"
  }
 },
 "nbformat": 4,
 "nbformat_minor": 5
}
