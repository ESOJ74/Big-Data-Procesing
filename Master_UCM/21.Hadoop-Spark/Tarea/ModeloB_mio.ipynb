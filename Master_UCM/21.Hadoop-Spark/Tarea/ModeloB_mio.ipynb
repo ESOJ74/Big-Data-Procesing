{
 "cells": [
  {
   "cell_type": "markdown",
   "id": "3db96c67",
   "metadata": {},
   "source": [
    "# Banco Mundial: préstamos a países en desarrollo\n",
    "\n",
    "Detalles sobre la organización en: https://www.worldbank.org/en/about/what-we-do\n",
    "\n",
    "### Disponible en Kaggle en:\n",
    "https://www.kaggle.com/theworldbank/world-banks-major-contracts\n",
    "\n",
    "El Banco Mundial es una organización internacional que se fundó en 1944 para reconstruir Europa después de la Segunda Guerra Mundial. Es uno de una variedad de organizaciones que ayudan a dar forma y equilibrar la economía mundial. Hoy, su función principal es combatir la pobreza ofreciendo asistencia para el desarrollo a países del tercer mundo de ingresos medios y bajos.\n",
    "Según el propio Banco Mundial, la organización tiene dos objetivos muy específicos para 2030:\n",
    "* Poner fin a la pobreza extrema disminuyendo el porcentaje de personas que viven con menos de `$`1.90 por día a no más del 3% \n",
    "* Promover la prosperidad compartida fomentando el crecimiento de los ingresos del 40% inferior para cada país."
   ]
  },
  {
   "cell_type": "markdown",
   "id": "5a386122",
   "metadata": {},
   "source": [
    "# Variables y significado"
   ]
  },
  {
   "cell_type": "markdown",
   "id": "5753a4aa",
   "metadata": {},
   "source": [
    "1. As of Date: 6-Sep-17, date when the file was generated. \n",
    "2. Fiscal Year: año fiscal en el que se ha llevado a cabo el préstamo.\n",
    "3. Region: área geográfica del país al que se le ha concedido el préstamo.\n",
    "4. Borrower Country: país al que se le ha concedido el préstamo.\n",
    "5. Borrower Country Code: código de dicho país.\n",
    "6. Project ID: código interno del préstamo.\n",
    "7. Project Name: nombre del proyecto que se llevará a cabo.\n",
    "8. Procurement Type: área para la cual se utilizará el préstamo.\n",
    "9. Procurement Category: ídem al anterior pero con una categorización más amplia.\n",
    "10. Procurement Method: tipo de adjudicación.\n",
    "11. Product Line: área interna a la que se le ha concedido el préstamo.\n",
    "12. Major Sector: economic sector económico al que se destinará.\n",
    "13. WB Contract Number: número interno de contrato.\n",
    "14. Contract Description: descripción.\n",
    "15. Contract Signing Date: fecha en la que el contrato se oficializó.\n",
    "16. Supplier: proveedor principal que trabaja en el proyecto.\n",
    "17. Supplier Country: país del proveedor principal.\n",
    "18. Supplier Country Code: código del país del proveedor.\n",
    "19. Total Contract Amount (USD): cantidad total en dólares.\n",
    "20. Borrower Contract Reference Number: número de referencia del contrato."
   ]
  },
  {
   "cell_type": "code",
   "execution_count": 1,
   "id": "c9674578",
   "metadata": {},
   "outputs": [],
   "source": [
    "from pyspark.sql import SparkSession\n",
    "#create a SparkSession\n",
    "spark = (SparkSession\n",
    "    .builder\n",
    "    .appName(\"Example-3_6\")\n",
    "    .config(\"spark.jars.packages\", \"org.apache.spark:spark-avro_2.12:3.1.2\")\n",
    "    .getOrCreate())"
   ]
  },
  {
   "cell_type": "markdown",
   "id": "bd686146",
   "metadata": {},
   "source": [
    "# Sobre el dataset anterior (Major_Contract_Awards.csv) se pide:"
   ]
  },
  {
   "cell_type": "markdown",
   "id": "7cfbd80f",
   "metadata": {},
   "source": [
    "(1 punto) Ejercicio 1\n",
    "\n",
    "Leerlo tratando de que Spark infiera el tipo de dato de cada columna, y cachearlo.\n",
    "Puesto que existen columnas que contienen una coma enmedio del valor, en esos casos los valores vienen entre comillas dobles. Spark ya contempla esta posibilidad y puede leerlas adecuadamente si al leer le indicamos las siguientes opciones adicionales además de las que ya sueles usar: .option(\"quote\", \"\\\"\").option(\"escape\", \"\\\"\").\n",
    "Asegúrate de que las filas que no tienen el formato correcto sean descartadas, indicando también la opción mode con el valor DROPMALFORMED como vimos en clase."
   ]
  },
  {
   "cell_type": "code",
   "execution_count": 2,
   "id": "26cff751",
   "metadata": {},
   "outputs": [
    {
     "data": {
      "text/plain": [
       "DataFrame[As of Date: string, Fiscal Year: string, Region: string, Borrower Country: string, Borrower Country Code: string, Project ID: string, Project Name: string, Procurement Type: string, Procurement Category: string, Procurement Method: string, Product line: string, Major Sector: string, WB Contract Number: int, Contract Description: string, Contract Signing Date: string, Supplier: string, Supplier Country: string, Supplier Country Code: string, Total Contract Amount (USD): string, Borrower Contract Reference Number: string]"
      ]
     },
     "execution_count": 2,
     "metadata": {},
     "output_type": "execute_result"
    }
   ],
   "source": [
    "from pyspark.sql import functions as F\n",
    "\n",
    "contractsDF = spark.read\\\n",
    "                 .option(\"header\", \"true\")\\\n",
    "                 .option(\"inferSchema\", \"true\")\\\n",
    "                 .option(\"quote\", \"\\\"\")\\\n",
    "                 .option(\"escape\", \"\\\"\")\\\n",
    "                 .option(\"mode\", \"DROPMALFORMED\")\\\n",
    "                 .csv(\"ModeloB Major_Contract_Awards.csv\")\n",
    "\n",
    "contractsDF.cache()"
   ]
  },
  {
   "cell_type": "markdown",
   "id": "92c72742",
   "metadata": {},
   "source": [
    "Ejercicio 2\n",
    "\n",
    "* La columna **Total Contract Amount (USD)** es en realidad numérica, pero todas las cantidades incluyen el signo `$` por lo que Spark la reconoce como string. Para corregir este comportamiento, vamos a eliminar el `$` de todas las filas utilizando la función `F.regexp_replace(\"Total Contract Amount (USD)\", \"\\$\", \"\")` donde `\"\\$\"` es el string que queremos reemplazar (hay que escaparlo poniendo `\\` delante porque sino el `$` se interpreta como un carácter especial), y siendo el nuevo string el string vacío, `\"\"`. Esta función pertenece al paquete `pyspark.sql.functions`, por lo que ya funciona de manera distribuida, y devuelve como resultado un objeto columna transformado. \n",
    "\n",
    "* Aplica esta función dentro de la función `withColumn` para **reemplazar** la columna `Total Contract Amount (USD)` ya existente por la columna devuelta por `regexp_replace`. La manera de utilizarla es totalmente análoga a la utilización de, por ejemplo, la función `F.when` dentro de `withColumn`. \n",
    "* Aprovecha también para hacer un casting del objeto columna devuelto por regexp_replace, que es una columna de strings, a una columna de enteros: `F.regexp_replace(...).cast(...)`. Almacena el DF resultante en la variable `contractsDFenteros`, **cachéala** y utilízala a partir de este momento para trabajar en las celdas posteriores, salvo que la celda indique lo contrario."
   ]
  },
  {
   "cell_type": "code",
   "execution_count": 5,
   "id": "f9f2bf0c",
   "metadata": {},
   "outputs": [
    {
     "data": {
      "text/plain": [
       "DataFrame[As of Date: string, Fiscal Year: string, Region: string, Borrower Country: string, Borrower Country Code: string, Project ID: string, Project Name: string, Procurement Type: string, Procurement Category: string, Procurement Method: string, Product line: string, Major Sector: string, WB Contract Number: int, Contract Description: string, Contract Signing Date: string, Supplier: string, Supplier Country: string, Supplier Country Code: string, Total Contract Amount (USD): int, Borrower Contract Reference Number: string]"
      ]
     },
     "execution_count": 5,
     "metadata": {},
     "output_type": "execute_result"
    }
   ],
   "source": [
    "import pyspark.sql.functions as F\n",
    "from pyspark.sql.types import IntegerType\n",
    "\n",
    "contractsDFenteros = contractsDF.withColumn(\"Total Contract Amount (USD)\",\n",
    "                                            F.regexp_replace(\"Total Contract Amount (USD)\",\n",
    "                                                             \"\\$\",\n",
    "                                                             \"\").cast(\"Integer\")\n",
    "                                           )\n",
    "contractsDFenteros.cache()"
   ]
  },
  {
   "cell_type": "markdown",
   "id": "31453fe7",
   "metadata": {},
   "source": [
    "Ejercicio 3\n",
    "\n",
    "Partiendo de contractsDFenteros, crear un nuevo DF donde la columna \"Region\" sea reemplazada por otra con mismo nombre, de tipo string en la que todos los valores de la columna original (LATIN AMERICA AND CARIBBEAN, SOUTH ASIA, OTHER ... etc) estén traducidos al español. Puedes elegir la traducción que más te guste, pero debe mantenerse el mismo número de categorías que ya había, que eran siete.\n",
    "El evaluador oculto comprobará que sigue habiendo el mismo número de ejemplos en cada categoría con el nuevo nombre, y que las categorías efectivamente se han traducido (ninguna se debe llamar igual que antes). Puedes cambiar AFRICA por África."
   ]
  },
  {
   "cell_type": "code",
   "execution_count": 12,
   "id": "281f12b7",
   "metadata": {},
   "outputs": [
    {
     "data": {
      "text/html": [
       "<div>\n",
       "<style scoped>\n",
       "    .dataframe tbody tr th:only-of-type {\n",
       "        vertical-align: middle;\n",
       "    }\n",
       "\n",
       "    .dataframe tbody tr th {\n",
       "        vertical-align: top;\n",
       "    }\n",
       "\n",
       "    .dataframe thead th {\n",
       "        text-align: right;\n",
       "    }\n",
       "</style>\n",
       "<table border=\"1\" class=\"dataframe\">\n",
       "  <thead>\n",
       "    <tr style=\"text-align: right;\">\n",
       "      <th></th>\n",
       "      <th>Region</th>\n",
       "      <th>count</th>\n",
       "    </tr>\n",
       "  </thead>\n",
       "  <tbody>\n",
       "    <tr>\n",
       "      <th>0</th>\n",
       "      <td>LATIN AMERICA AND CARIBBEAN</td>\n",
       "      <td>29123</td>\n",
       "    </tr>\n",
       "    <tr>\n",
       "      <th>1</th>\n",
       "      <td>SOUTH ASIA</td>\n",
       "      <td>18903</td>\n",
       "    </tr>\n",
       "    <tr>\n",
       "      <th>2</th>\n",
       "      <td>OTHER</td>\n",
       "      <td>75</td>\n",
       "    </tr>\n",
       "    <tr>\n",
       "      <th>3</th>\n",
       "      <td>AFRICA</td>\n",
       "      <td>39212</td>\n",
       "    </tr>\n",
       "    <tr>\n",
       "      <th>4</th>\n",
       "      <td>MIDDLE EAST AND NORTH AFRICA</td>\n",
       "      <td>7818</td>\n",
       "    </tr>\n",
       "    <tr>\n",
       "      <th>5</th>\n",
       "      <td>EAST ASIA AND PACIFIC</td>\n",
       "      <td>23404</td>\n",
       "    </tr>\n",
       "    <tr>\n",
       "      <th>6</th>\n",
       "      <td>EUROPE AND CENTRAL ASIA</td>\n",
       "      <td>29980</td>\n",
       "    </tr>\n",
       "  </tbody>\n",
       "</table>\n",
       "</div>"
      ],
      "text/plain": [
       "                         Region  count\n",
       "0   LATIN AMERICA AND CARIBBEAN  29123\n",
       "1                    SOUTH ASIA  18903\n",
       "2                         OTHER     75\n",
       "3                        AFRICA  39212\n",
       "4  MIDDLE EAST AND NORTH AFRICA   7818\n",
       "5         EAST ASIA AND PACIFIC  23404\n",
       "6       EUROPE AND CENTRAL ASIA  29980"
      ]
     },
     "execution_count": 12,
     "metadata": {},
     "output_type": "execute_result"
    }
   ],
   "source": [
    "contractsDFenteros.groupBy(\"Region\").count().toPandas()"
   ]
  },
  {
   "cell_type": "code",
   "execution_count": 19,
   "id": "cb883e0d",
   "metadata": {},
   "outputs": [
    {
     "data": {
      "text/html": [
       "<div>\n",
       "<style scoped>\n",
       "    .dataframe tbody tr th:only-of-type {\n",
       "        vertical-align: middle;\n",
       "    }\n",
       "\n",
       "    .dataframe tbody tr th {\n",
       "        vertical-align: top;\n",
       "    }\n",
       "\n",
       "    .dataframe thead th {\n",
       "        text-align: right;\n",
       "    }\n",
       "</style>\n",
       "<table border=\"1\" class=\"dataframe\">\n",
       "  <thead>\n",
       "    <tr style=\"text-align: right;\">\n",
       "      <th></th>\n",
       "      <th>Region</th>\n",
       "    </tr>\n",
       "  </thead>\n",
       "  <tbody>\n",
       "    <tr>\n",
       "      <th>0</th>\n",
       "      <td>ÁFRICA</td>\n",
       "    </tr>\n",
       "    <tr>\n",
       "      <th>1</th>\n",
       "      <td>ÁFRICA</td>\n",
       "    </tr>\n",
       "    <tr>\n",
       "      <th>2</th>\n",
       "      <td>ÁFRICA</td>\n",
       "    </tr>\n",
       "    <tr>\n",
       "      <th>3</th>\n",
       "      <td>ÁFRICA</td>\n",
       "    </tr>\n",
       "    <tr>\n",
       "      <th>4</th>\n",
       "      <td>ESTE DE ASIA Y PACIFICO</td>\n",
       "    </tr>\n",
       "    <tr>\n",
       "      <th>...</th>\n",
       "      <td>...</td>\n",
       "    </tr>\n",
       "    <tr>\n",
       "      <th>148510</th>\n",
       "      <td>ÁFRICA</td>\n",
       "    </tr>\n",
       "    <tr>\n",
       "      <th>148511</th>\n",
       "      <td>ÁFRICA</td>\n",
       "    </tr>\n",
       "    <tr>\n",
       "      <th>148512</th>\n",
       "      <td>ÁFRICA</td>\n",
       "    </tr>\n",
       "    <tr>\n",
       "      <th>148513</th>\n",
       "      <td>EUROPA Y ASIA CENTRAL</td>\n",
       "    </tr>\n",
       "    <tr>\n",
       "      <th>148514</th>\n",
       "      <td>ÁFRICA</td>\n",
       "    </tr>\n",
       "  </tbody>\n",
       "</table>\n",
       "<p>148515 rows × 1 columns</p>\n",
       "</div>"
      ],
      "text/plain": [
       "                         Region\n",
       "0                        ÁFRICA\n",
       "1                        ÁFRICA\n",
       "2                        ÁFRICA\n",
       "3                        ÁFRICA\n",
       "4       ESTE DE ASIA Y PACIFICO\n",
       "...                         ...\n",
       "148510                   ÁFRICA\n",
       "148511                   ÁFRICA\n",
       "148512                   ÁFRICA\n",
       "148513    EUROPA Y ASIA CENTRAL\n",
       "148514                   ÁFRICA\n",
       "\n",
       "[148515 rows x 1 columns]"
      ]
     },
     "execution_count": 19,
     "metadata": {},
     "output_type": "execute_result"
    }
   ],
   "source": [
    " contractsTranslatedDF = contractsDFenteros.withColumn(\"Region\",\n",
    "                                                         F.when(\n",
    "                                                           F.col(\"Region\") == \"LATIN AMERICA AND CARIBBEAN\",\n",
    "                                                             \"LATINOAMERICA Y CARIBE\"\n",
    "                                                         )\\\n",
    "                                                         .when(\n",
    "                                                             F.col(\"Region\") == \"SOUTH ASIA\",\n",
    "                                                             \"SUDASIA\"\n",
    "                                                         )\\\n",
    "                                                         .when(\n",
    "                                                             F.col(\"Region\") == \"AFRICA\",\n",
    "                                                             \"ÁFRICA\"\n",
    "                                                         )\\\n",
    "                                                         .when(\n",
    "                                                             F.col(\"Region\") == \"MIDDLE EAST AND NORTH AFRICA\",\n",
    "                                                             \"ESTE MEDIO Y NORTE DE AFRICA\"\n",
    "                                                         )\\\n",
    "                                                         .when(\n",
    "                                                             F.col(\"Region\") == \"EAST ASIA AND PACIFIC\",\n",
    "                                                             \"ESTE DE ASIA Y PACIFICO\"\n",
    "                                                         )\\\n",
    "                                                         .when(\n",
    "                                                             F.col(\"Region\") == \"EUROPE AND CENTRAL ASIA\",\n",
    "                                                             \"EUROPA Y ASIA CENTRAL\"\n",
    "                                                         )\\\n",
    "                                                         .when(\n",
    "                                                             F.col(\"Region\") == \"OTHER\",\n",
    "                                                             \"OTROS\"\n",
    "                                                         )\\\n",
    "                                                      )\n",
    "    \n",
    "contractsTranslatedDF.select(\"Region\").toPandas()"
   ]
  },
  {
   "cell_type": "markdown",
   "id": "3356b909",
   "metadata": {},
   "source": [
    " Ejercicio 4\n",
    "\n",
    "Partiendo de contractsTranslatedDF, crear un nuevo DataFrame de una sola fila que contenga, por este orden de columnas, el número de categorías distintas existentes en cada una de las columnas Procurement Type, Procurement Category y Procurement Method. Pista: crear cada una de estas tres columnas al vuelo con select(). Renombrar cada columna de conteo para que se llame igual que la propia columna que estamos contando."
   ]
  },
  {
   "cell_type": "code",
   "execution_count": 29,
   "id": "f5374a6f",
   "metadata": {},
   "outputs": [
    {
     "data": {
      "text/html": [
       "<div>\n",
       "<style scoped>\n",
       "    .dataframe tbody tr th:only-of-type {\n",
       "        vertical-align: middle;\n",
       "    }\n",
       "\n",
       "    .dataframe tbody tr th {\n",
       "        vertical-align: top;\n",
       "    }\n",
       "\n",
       "    .dataframe thead th {\n",
       "        text-align: right;\n",
       "    }\n",
       "</style>\n",
       "<table border=\"1\" class=\"dataframe\">\n",
       "  <thead>\n",
       "    <tr style=\"text-align: right;\">\n",
       "      <th></th>\n",
       "      <th>Procurement Type</th>\n",
       "      <th>Procurement Category</th>\n",
       "      <th>Procurement Method</th>\n",
       "    </tr>\n",
       "  </thead>\n",
       "  <tbody>\n",
       "    <tr>\n",
       "      <th>0</th>\n",
       "      <td>60</td>\n",
       "      <td>5</td>\n",
       "      <td>18</td>\n",
       "    </tr>\n",
       "  </tbody>\n",
       "</table>\n",
       "</div>"
      ],
      "text/plain": [
       "   Procurement Type  Procurement Category  Procurement Method\n",
       "0                60                     5                  18"
      ]
     },
     "execution_count": 29,
     "metadata": {},
     "output_type": "execute_result"
    }
   ],
   "source": [
    "numeroCategoriasDF = contractsTranslatedDF.select(\n",
    "    F.countDistinct(\"Procurement Type\").alias(\"Procurement Type\"),\n",
    "    F.countDistinct(\"Procurement Category\").alias(\"Procurement Category\"),\n",
    "    F.countDistinct(\"Procurement Method\").alias(\"Procurement Method\")\n",
    ")\n",
    "numeroCategoriasDF.toPandas()"
   ]
  },
  {
   "cell_type": "markdown",
   "id": "ba7cffa9",
   "metadata": {},
   "source": [
    "Ejercicio 5\n",
    "\n",
    "Partiendo de contractsDFenteros definido anteriormente, crear un pipeline formado por dos etapas: un indexador de la columna categórica Procurement Method y un discretizador (bucketizer) de la columna numérica que habíamos convertido a entero al principio, Total Contract Amount (USD), de manera que sea convertida en una columna de números reales empezando en 0 y cuya parte decimal siempre sea 0.\n",
    "Para el indexador, si una vez entrenado le llegasen etiquetas que no ha visto antes, deberá eliminar esas filas (recordar la opción adecuada que vimos en clase). La columna de salida debe llamarse ProcurementIndexed.\n",
    "Para el discretizador, utilizar como puntos de corte los siguientes: (-Inf, 0, 100000, 200000, 300000, 400000, Inf). La columna de salida debe llamarse TotalDiscretized.\n",
    "Una vez creados ambos, componerlos para crear un Pipeline, y aplicarlo a contractsDFenteros para entrenar y a continuación también para predecir (es decir, transformarlo). El DF resultante de la transformación debe almacenarse en la variable contractsTransformedDF"
   ]
  },
  {
   "cell_type": "code",
   "execution_count": null,
   "id": "09620b06",
   "metadata": {},
   "outputs": [],
   "source": [
    " "
   ]
  }
 ],
 "metadata": {
  "kernelspec": {
   "display_name": "Python 3",
   "language": "python",
   "name": "python3"
  },
  "language_info": {
   "codemirror_mode": {
    "name": "ipython",
    "version": 3
   },
   "file_extension": ".py",
   "mimetype": "text/x-python",
   "name": "python",
   "nbconvert_exporter": "python",
   "pygments_lexer": "ipython3",
   "version": "3.8.6"
  }
 },
 "nbformat": 4,
 "nbformat_minor": 5
}
