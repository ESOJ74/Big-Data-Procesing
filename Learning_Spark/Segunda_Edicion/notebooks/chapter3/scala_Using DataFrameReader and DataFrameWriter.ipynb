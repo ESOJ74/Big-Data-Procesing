{
 "cells": [
  {
   "cell_type": "code",
   "execution_count": 5,
   "id": "71afd30b",
   "metadata": {},
   "outputs": [
    {
     "data": {
      "text/plain": [
       "import org.apache.spark.sql.SparkSession\n",
       "import org.apache.spark.sql.types._\n",
       "import org.apache.spark.sql.functions.{col, expr}\n"
      ]
     },
     "execution_count": 5,
     "metadata": {},
     "output_type": "execute_result"
    }
   ],
   "source": [
    "import org.apache.spark.sql.SparkSession\n",
    "import org.apache.spark.sql.types._\n",
    "import org.apache.spark.sql.functions.{col, expr}"
   ]
  },
  {
   "cell_type": "code",
   "execution_count": 9,
   "id": "4a582678",
   "metadata": {},
   "outputs": [
    {
     "data": {
      "text/plain": [
       "sampleDF: org.apache.spark.sql.DataFrame = [CallNumber: string, UnitID: string ... 26 more fields]\n"
      ]
     },
     "execution_count": 9,
     "metadata": {},
     "output_type": "execute_result"
    }
   ],
   "source": [
    "val sampleDF = spark\n",
    " .read\n",
    " .option(\"header\", true)\n",
    " .csv(\"\"\"sf-fire-calls.csv\"\"\")"
   ]
  },
  {
   "cell_type": "code",
   "execution_count": 10,
   "id": "c4093587",
   "metadata": {},
   "outputs": [
    {
     "data": {
      "text/plain": [
       "fireSchema: org.apache.spark.sql.types.StructType = StructType(StructField(CallNumber,IntegerType,true), StructField(UnitID,StringType,true), StructField(IncidentNumber,IntegerType,true), StructField(CallType,StringType,true), StructField(CallDate,StringType,true), StructField(WatchDate,StringType,true), StructField(CallFinalDisposition,StringType,true), StructField(AvailableDtTm,StringType,true), StructField(Address,StringType,true), StructField(City,StringType,true), StructField(Zipcode,IntegerType,true), StructField(Battalion,StringType,true), StructField(StationArea,StringType,true), StructField(Box,StringType,true), StructField(OriginalPriority,StringType,true), StructField(Priority,StringType,true), StructField(FinalPriority,IntegerType,true), StructField(ALSUnit,BooleanType,true)...\n"
      ]
     },
     "execution_count": 10,
     "metadata": {},
     "output_type": "execute_result"
    }
   ],
   "source": [
    "val fireSchema = StructType(Array(StructField(\"CallNumber\", IntegerType, true),\n",
    " StructField(\"UnitID\", StringType, true),\n",
    " StructField(\"IncidentNumber\", IntegerType, true),\n",
    " StructField(\"CallType\", StringType, true),\n",
    " StructField(\"CallDate\", StringType, true),\n",
    " StructField(\"WatchDate\", StringType, true),\n",
    " StructField(\"CallFinalDisposition\", StringType, true),\n",
    " StructField(\"AvailableDtTm\", StringType, true),\n",
    " StructField(\"Address\", StringType, true),\n",
    " StructField(\"City\", StringType, true),\n",
    " StructField(\"Zipcode\", IntegerType, true),\n",
    " StructField(\"Battalion\", StringType, true),\n",
    " StructField(\"StationArea\", StringType, true),\n",
    " StructField(\"Box\", StringType, true),\n",
    " StructField(\"OriginalPriority\", StringType, true),\n",
    " StructField(\"Priority\", StringType, true),\n",
    " StructField(\"FinalPriority\", IntegerType, true),\n",
    " StructField(\"ALSUnit\", BooleanType, true),\n",
    " StructField(\"CallTypeGroup\", StringType, true),\n",
    " StructField(\"NumAlarms\", IntegerType, true),\n",
    " StructField(\"UnitType\", StringType, true),\n",
    " StructField(\"UnitSequenceInCallDispatch\", IntegerType, true),\n",
    " StructField(\"FirePreventionDistrict\", StringType, true),\n",
    " StructField(\"SupervisorDistrict\", StringType, true),\n",
    " StructField(\"Neighborhood\", StringType, true),\n",
    " StructField(\"Location\", StringType, true),\n",
    " StructField(\"RowID\", StringType, true),\n",
    " StructField(\"Delay\", FloatType, true)))\n",
    "\n",
    "// Read the file using the CSV DataFrameReader\n",
    "val sfFireFile=\"sf-fire-calls.csv\"\n",
    "val fireDF = spark.read.schema(fireSchema)\n",
    " .option(\"header\", \"true\")\n",
    " .csv(sfFireFile)"
   ]
  },
  {
   "cell_type": "code",
   "execution_count": 13,
   "id": "516d5fa1",
   "metadata": {},
   "outputs": [
    {
     "name": "stdout",
     "output_type": "stream",
     "text": [
      "+--------------+----------------------+--------------+\n",
      "|IncidentNumber|AvailableDtTm         |CallType      |\n",
      "+--------------+----------------------+--------------+\n",
      "|2003235       |01/11/2002 01:51:44 AM|Structure Fire|\n",
      "|2003250       |01/11/2002 04:16:46 AM|Vehicle Fire  |\n",
      "|2003259       |01/11/2002 06:01:58 AM|Alarms        |\n",
      "|2003279       |01/11/2002 08:03:26 AM|Structure Fire|\n",
      "|2003301       |01/11/2002 09:46:44 AM|Alarms        |\n",
      "+--------------+----------------------+--------------+\n",
      "only showing top 5 rows\n",
      "\n"
     ]
    },
    {
     "data": {
      "text/plain": [
       "fewFireDF: org.apache.spark.sql.Dataset[org.apache.spark.sql.Row] = [IncidentNumber: int, AvailableDtTm: string ... 1 more field]\n"
      ]
     },
     "execution_count": 13,
     "metadata": {},
     "output_type": "execute_result"
    }
   ],
   "source": [
    "val fewFireDF = fireDF\n",
    " .select(\"IncidentNumber\", \"AvailableDtTm\", \"CallType\")\n",
    " .where($\"CallType\" =!= \"Medical Incident\")\n",
    "fewFireDF.show(5, false)"
   ]
  },
  {
   "cell_type": "code",
   "execution_count": 19,
   "id": "95f06eb7",
   "metadata": {},
   "outputs": [
    {
     "name": "stdout",
     "output_type": "stream",
     "text": [
      "+-----------------+\n",
      "|DistinctCallTypes|\n",
      "+-----------------+\n",
      "|               30|\n",
      "+-----------------+\n",
      "\n"
     ]
    }
   ],
   "source": [
    "fireDF\n",
    " .select(\"CallType\")\n",
    " .where(col(\"CallType\").isNotNull)\n",
    " .agg(countDistinct('CallType) as 'DistinctCallTypes)\n",
    " .show()"
   ]
  },
  {
   "cell_type": "code",
   "execution_count": 21,
   "id": "0e871527",
   "metadata": {},
   "outputs": [
    {
     "name": "stdout",
     "output_type": "stream",
     "text": [
      "+-----------------------------------+\n",
      "|CallType                           |\n",
      "+-----------------------------------+\n",
      "|Elevator / Escalator Rescue        |\n",
      "|Marine Fire                        |\n",
      "|Aircraft Emergency                 |\n",
      "|Confined Space / Structure Collapse|\n",
      "|Administrative                     |\n",
      "|Alarms                             |\n",
      "|Odor (Strange / Unknown)           |\n",
      "|Citizen Assist / Service Call      |\n",
      "|HazMat                             |\n",
      "|Watercraft in Distress             |\n",
      "+-----------------------------------+\n",
      "only showing top 10 rows\n",
      "\n"
     ]
    }
   ],
   "source": [
    "fireDF\n",
    " .select(\"CallType\")\n",
    " .where($\"CallType\".isNotNull)\n",
    " .distinct()\n",
    " .show(10, false)"
   ]
  },
  {
   "cell_type": "code",
   "execution_count": 12,
   "id": "70d91cb1",
   "metadata": {},
   "outputs": [
    {
     "data": {
      "text/plain": [
       "parquetPath: String = parquet_scala\n"
      ]
     },
     "execution_count": 12,
     "metadata": {},
     "output_type": "execute_result"
    }
   ],
   "source": [
    "// In Scala to save as a Parquet file\n",
    "val parquetPath = \"parquet_scala\"\n",
    "fireDF.write.format(\"parquet\").save(parquetPath)"
   ]
  },
  {
   "cell_type": "code",
   "execution_count": null,
   "id": "8ed8e3bc",
   "metadata": {},
   "outputs": [],
   "source": []
  }
 ],
 "metadata": {
  "kernelspec": {
   "display_name": "spylon-kernel",
   "language": "scala",
   "name": "spylon-kernel"
  },
  "language_info": {
   "codemirror_mode": "text/x-scala",
   "file_extension": ".scala",
   "help_links": [
    {
     "text": "MetaKernel Magics",
     "url": "https://metakernel.readthedocs.io/en/latest/source/README.html"
    }
   ],
   "mimetype": "text/x-scala",
   "name": "scala",
   "pygments_lexer": "scala",
   "version": "0.4.1"
  }
 },
 "nbformat": 4,
 "nbformat_minor": 5
}
