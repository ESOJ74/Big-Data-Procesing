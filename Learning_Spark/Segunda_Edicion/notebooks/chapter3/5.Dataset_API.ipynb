{
 "cells": [
  {
   "cell_type": "code",
   "execution_count": 42,
   "id": "29e4c27b",
   "metadata": {},
   "outputs": [
    {
     "data": {
      "text/plain": [
       "defined class DeviceIoTData\n"
      ]
     },
     "execution_count": 42,
     "metadata": {},
     "output_type": "execute_result"
    }
   ],
   "source": [
    "case class DeviceIoTData (battery_level: Long, c02_level: Long,\n",
    "cca2: String, cca3: String, cn: String, device_id: Long,\n",
    "device_name: String, humidity: Long, ip: String, latitude: Double,\n",
    "lcd: String, longitude: Double, scale:String, temp: Long,\n",
    "timestamp: Long)\n",
    "\n",
    "/*case class DeviceIoTData (device_id: Long, device_name: String, ip:\n",
    "String, cca2: String, cca3: String, cn: String, latitude:\n",
    "Double, longitude: Double, scale: String, temp: Long,\n",
    "humidity: Long, battery_level: Long, c02_level: Long, lcd: String,\n",
    "timestamp :Long\n",
    ")*/"
   ]
  },
  {
   "cell_type": "code",
   "execution_count": 43,
   "id": "2b45643a",
   "metadata": {},
   "outputs": [
    {
     "name": "stdout",
     "output_type": "stream",
     "text": [
      "+-------------+---------+----+----+-------------+---------+---------------------+--------+-------------+--------+------+---------+-------+----+-------------+\n",
      "|battery_level|c02_level|cca2|cca3|cn           |device_id|device_name          |humidity|ip           |latitude|lcd   |longitude|scale  |temp|timestamp    |\n",
      "+-------------+---------+----+----+-------------+---------+---------------------+--------+-------------+--------+------+---------+-------+----+-------------+\n",
      "|8            |868      |US  |USA |United States|1        |meter-gauge-1xbYRYcj |51      |68.161.225.1 |38.0    |green |-97.0    |Celsius|34  |1458444054093|\n",
      "|7            |1473     |NO  |NOR |Norway       |2        |sensor-pad-2n2Pea    |70      |213.161.254.1|62.47   |red   |6.15     |Celsius|11  |1458444054119|\n",
      "|2            |1556     |IT  |ITA |Italy        |3        |device-mac-36TWSKiT  |44      |88.36.5.1    |42.83   |red   |12.83    |Celsius|19  |1458444054120|\n",
      "|6            |1080     |US  |USA |United States|4        |sensor-pad-4mzWkz    |32      |66.39.173.154|44.06   |yellow|-121.32  |Celsius|28  |1458444054121|\n",
      "|4            |931      |PH  |PHL |Philippines  |5        |therm-stick-5gimpUrBB|62      |203.82.41.9  |14.58   |green |120.97   |Celsius|25  |1458444054122|\n",
      "+-------------+---------+----+----+-------------+---------+---------------------+--------+-------------+--------+------+---------+-------+----+-------------+\n",
      "only showing top 5 rows\n",
      "\n"
     ]
    },
    {
     "data": {
      "text/plain": [
       "ds: org.apache.spark.sql.Dataset[DeviceIoTData] = [battery_level: bigint, c02_level: bigint ... 13 more fields]\n"
      ]
     },
     "execution_count": 43,
     "metadata": {},
     "output_type": "execute_result"
    }
   ],
   "source": [
    "val ds = spark.read\n",
    ".json(\"iot_devices.json\")\n",
    ".as[DeviceIoTData]\n",
    "ds.show(5, false)"
   ]
  },
  {
   "cell_type": "code",
   "execution_count": 44,
   "id": "3085cfad",
   "metadata": {},
   "outputs": [],
   "source": [
    "//val filterTempDS = ds.filter(d => {d.temp > 30 && d.humidity > 70})"
   ]
  },
  {
   "cell_type": "code",
   "execution_count": 45,
   "id": "036ddbac",
   "metadata": {},
   "outputs": [
    {
     "data": {
      "text/plain": [
       "filterTempDS: org.apache.spark.sql.Dataset[DeviceIoTData] = [battery_level: bigint, c02_level: bigint ... 13 more fields]\n"
      ]
     },
     "execution_count": 45,
     "metadata": {},
     "output_type": "execute_result"
    }
   ],
   "source": [
    "val filterTempDS = ds.filter($\"temp\" > 30 && $\"humidity\" > 70)"
   ]
  },
  {
   "cell_type": "code",
   "execution_count": 46,
   "id": "0ed92f79",
   "metadata": {},
   "outputs": [
    {
     "name": "stdout",
     "output_type": "stream",
     "text": [
      "+-------------+---------+----+----+-------------+---------+----------------------+--------+---------------+--------+------+---------+-------+----+-------------+\n",
      "|battery_level|c02_level|cca2|cca3|cn           |device_id|device_name           |humidity|ip             |latitude|lcd   |longitude|scale  |temp|timestamp    |\n",
      "+-------------+---------+----+----+-------------+---------+----------------------+--------+---------------+--------+------+---------+-------+----+-------------+\n",
      "|0            |1466     |US  |USA |United States|17       |meter-gauge-17zb8Fghhl|98      |161.188.212.254|39.95   |red   |-75.16   |Celsius|31  |1458444054129|\n",
      "|9            |986      |FR  |FRA |France       |48       |sensor-pad-48jt4eL    |97      |90.37.208.1    |43.88   |green |4.9      |Celsius|31  |1458444054151|\n",
      "|8            |1436     |US  |USA |United States|54       |sensor-pad-5410CWPrNb6|73      |204.15.64.249  |32.89   |red   |-117.13  |Celsius|34  |1458444054155|\n",
      "|4            |1090     |US  |USA |United States|63       |device-mac-63GL4xSaZbj|91      |66.198.198.1   |44.56   |yellow|-105.67  |Celsius|31  |1458444054162|\n",
      "|4            |1072     |PH  |PHL |Philippines  |81       |device-mac-81nsKomrRe |90      |222.127.71.1   |14.55   |yellow|121.04   |Celsius|31  |1458444054172|\n",
      "+-------------+---------+----+----+-------------+---------+----------------------+--------+---------------+--------+------+---------+-------+----+-------------+\n",
      "only showing top 5 rows\n",
      "\n"
     ]
    }
   ],
   "source": [
    "filterTempDS.show(5, false)"
   ]
  },
  {
   "cell_type": "code",
   "execution_count": 48,
   "id": "59a3a500",
   "metadata": {},
   "outputs": [
    {
     "data": {
      "text/plain": [
       "defined class DeviceTempByCountry\n"
      ]
     },
     "execution_count": 48,
     "metadata": {},
     "output_type": "execute_result"
    }
   ],
   "source": [
    "case class DeviceTempByCountry(temp: Long, device_name: String, device_id: Long,\n",
    " cca3: String)"
   ]
  },
  {
   "cell_type": "code",
   "execution_count": 50,
   "id": "fdc8aa97",
   "metadata": {},
   "outputs": [
    {
     "name": "stdout",
     "output_type": "stream",
     "text": [
      "+-------------+---------+----+----+-------------+---------+---------------------+--------+---------------+--------+------+---------+-------+----+-------------+\n",
      "|battery_level|c02_level|cca2|cca3|cn           |device_id|device_name          |humidity|ip             |latitude|lcd   |longitude|scale  |temp|timestamp    |\n",
      "+-------------+---------+----+----+-------------+---------+---------------------+--------+---------------+--------+------+---------+-------+----+-------------+\n",
      "|8            |868      |US  |USA |United States|1        |meter-gauge-1xbYRYcj |51      |68.161.225.1   |38.0    |green |-97.0    |Celsius|34  |1458444054093|\n",
      "|6            |1080     |US  |USA |United States|4        |sensor-pad-4mzWkz    |32      |66.39.173.154  |44.06   |yellow|-121.32  |Celsius|28  |1458444054121|\n",
      "|3            |1210     |US  |USA |United States|6        |sensor-pad-6al7RTAobR|51      |204.116.105.67 |35.93   |yellow|-85.46   |Celsius|27  |1458444054122|\n",
      "|0            |1536     |JP  |JPN |Japan        |8        |sensor-pad-8xUD6pzsQI|35      |210.173.177.1  |35.69   |red   |139.69   |Celsius|27  |1458444054123|\n",
      "|7            |1470     |US  |USA |United States|10       |sensor-pad-10BsywSYUF|56      |208.109.163.218|33.61   |red   |-111.89  |Celsius|26  |1458444054125|\n",
      "+-------------+---------+----+----+-------------+---------+---------------------+--------+---------------+--------+------+---------+-------+----+-------------+\n",
      "only showing top 5 rows\n",
      "\n"
     ]
    },
    {
     "data": {
      "text/plain": [
       "dsTemp: org.apache.spark.sql.Dataset[DeviceTempByCountry] = [battery_level: bigint, c02_level: bigint ... 13 more fields]\n"
      ]
     },
     "execution_count": 50,
     "metadata": {},
     "output_type": "execute_result"
    }
   ],
   "source": [
    "val dsTemp = ds\n",
    " .filter($\"temp\" > 25)\n",
    " //.map(d => (d.temp, d.device_name, d.device_id, d.cca3))\n",
    " //.toDF(\"temp\", \"device_name\", \"device_id\", \"cca3\")\n",
    " .as[DeviceTempByCountry]\n",
    "dsTemp.show(5, false)"
   ]
  },
  {
   "cell_type": "code",
   "execution_count": 51,
   "id": "3a4afff1",
   "metadata": {},
   "outputs": [
    {
     "name": "stdout",
     "output_type": "stream",
     "text": [
      "DeviceTempByCountry(34,meter-gauge-1xbYRYcj,1,USA)\n"
     ]
    },
    {
     "data": {
      "text/plain": [
       "device: DeviceTempByCountry = DeviceTempByCountry(34,meter-gauge-1xbYRYcj,1,USA)\n"
      ]
     },
     "execution_count": 51,
     "metadata": {},
     "output_type": "execute_result"
    }
   ],
   "source": [
    "val device = dsTemp.first()\n",
    "println(device)"
   ]
  },
  {
   "cell_type": "code",
   "execution_count": 40,
   "id": "47f5f672",
   "metadata": {},
   "outputs": [
    {
     "data": {
      "text/plain": [
       "dsTemp2: org.apache.spark.sql.Dataset[DeviceTempByCountry] = [temp: bigint, device_name: string ... 3 more fields]\n"
      ]
     },
     "execution_count": 40,
     "metadata": {},
     "output_type": "execute_result"
    }
   ],
   "source": [
    "val dsTemp2 = ds\n",
    " .select($\"temp\", $\"device_name\", $\"device_id\", $\"device_id\", $\"cca3\")\n",
    " .where(\"temp > 25\")\n",
    " .as[DeviceTempByCountry]\n"
   ]
  },
  {
   "cell_type": "code",
   "execution_count": 52,
   "id": "b73ed560",
   "metadata": {},
   "outputs": [
    {
     "name": "stdout",
     "output_type": "stream",
     "text": [
      "DeviceTempByCountry(34,meter-gauge-1xbYRYcj,1,USA)\n"
     ]
    }
   ],
   "source": [
    "println(dsTemp2.first())"
   ]
  },
  {
   "cell_type": "code",
   "execution_count": null,
   "id": "63ebbc84",
   "metadata": {},
   "outputs": [],
   "source": []
  }
 ],
 "metadata": {
  "kernelspec": {
   "display_name": "spylon-kernel",
   "language": "scala",
   "name": "spylon-kernel"
  },
  "language_info": {
   "codemirror_mode": "text/x-scala",
   "file_extension": ".scala",
   "help_links": [
    {
     "text": "MetaKernel Magics",
     "url": "https://metakernel.readthedocs.io/en/latest/source/README.html"
    }
   ],
   "mimetype": "text/x-scala",
   "name": "scala",
   "pygments_lexer": "scala",
   "version": "0.4.1"
  }
 },
 "nbformat": 4,
 "nbformat_minor": 5
}
