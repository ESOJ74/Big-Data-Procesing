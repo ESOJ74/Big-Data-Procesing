{
 "cells": [
  {
   "cell_type": "code",
   "execution_count": 1,
   "id": "84b2719a",
   "metadata": {},
   "outputs": [
    {
     "data": {
      "text/plain": [
       "Intitializing Scala interpreter ..."
      ]
     },
     "metadata": {},
     "output_type": "display_data"
    },
    {
     "data": {
      "text/plain": [
       "Spark Web UI available at http://192.168.0.11:4050\n",
       "SparkContext available as 'sc' (version = 3.1.2, master = local[*], app id = local-1632388931021)\n",
       "SparkSession available as 'spark'\n"
      ]
     },
     "metadata": {},
     "output_type": "display_data"
    },
    {
     "data": {
      "text/plain": [
       "import org.apache.spark.sql.Row\n",
       "import org.apache.spark.sql.SparkSession\n",
       "import org.apache.spark.sql.types._\n"
      ]
     },
     "execution_count": 1,
     "metadata": {},
     "output_type": "execute_result"
    }
   ],
   "source": [
    "import org.apache.spark.sql.Row\n",
    "import org.apache.spark.sql.SparkSession\n",
    "import org.apache.spark.sql.types._"
   ]
  },
  {
   "cell_type": "code",
   "execution_count": 2,
   "id": "890a763e",
   "metadata": {},
   "outputs": [
    {
     "name": "stdout",
     "output_type": "stream",
     "text": [
      "+-------------+-----+\n",
      "|       Author|State|\n",
      "+-------------+-----+\n",
      "|Matei Zaharia|   CA|\n",
      "|  Reynold Xin|   CA|\n",
      "+-------------+-----+\n",
      "\n"
     ]
    },
    {
     "data": {
      "text/plain": [
       "spark: org.apache.spark.sql.SparkSession = org.apache.spark.sql.SparkSession@4ba90467\n",
       "schema: org.apache.spark.sql.types.StructType = StructType(StructField(Author,StringType,false), StructField(State,StringType,false))\n",
       "rows: Seq[(String, String)] = List((Matei Zaharia,CA), (Reynold Xin,CA))\n",
       "authors_df: org.apache.spark.sql.DataFrame = [Author: string, State: string]\n"
      ]
     },
     "execution_count": 2,
     "metadata": {},
     "output_type": "execute_result"
    }
   ],
   "source": [
    "val spark = (SparkSession\n",
    "        .builder\n",
    "        .appName(\"Authors\")\n",
    "        .getOrCreate())\n",
    "\n",
    "val schema = StructType(Array(\n",
    "        StructField(\"Author\" , StringType, false), \n",
    "        StructField(\"State\", StringType, false))\n",
    ")\n",
    "\n",
    "val rows = Seq((\"Matei Zaharia\", \"CA\"), (\"Reynold Xin\", \"CA\"))\n",
    "val authors_df = rows.toDF(\"Author\",\"State\")\n",
    "authors_df.show()"
   ]
  },
  {
   "cell_type": "code",
   "execution_count": 3,
   "id": "9b774f39",
   "metadata": {},
   "outputs": [
    {
     "data": {
      "text/plain": [
       "blogRow: org.apache.spark.sql.Row = [6,Reynold,Xin,https://tinyurl.6,255568,3/2/2015,[Ljava.lang.String;@6a446d01]\n",
       "res1: Any = Reynold\n"
      ]
     },
     "execution_count": 3,
     "metadata": {},
     "output_type": "execute_result"
    }
   ],
   "source": [
    "// Create a Row\n",
    "val blogRow = Row(6, \"Reynold\", \"Xin\", \"https://tinyurl.6\", 255568, \"3/2/2015\", Array(\"twitter\", \"LinkedIn\"))\n",
    "// Access using index for individual items\n",
    "blogRow(1)"
   ]
  },
  {
   "cell_type": "code",
   "execution_count": null,
   "id": "7ccf1cf4",
   "metadata": {},
   "outputs": [],
   "source": []
  }
 ],
 "metadata": {
  "kernelspec": {
   "display_name": "spylon-kernel",
   "language": "scala",
   "name": "spylon-kernel"
  },
  "language_info": {
   "codemirror_mode": "text/x-scala",
   "file_extension": ".scala",
   "help_links": [
    {
     "text": "MetaKernel Magics",
     "url": "https://metakernel.readthedocs.io/en/latest/source/README.html"
    }
   ],
   "mimetype": "text/x-scala",
   "name": "scala",
   "pygments_lexer": "scala",
   "version": "0.4.1"
  }
 },
 "nbformat": 4,
 "nbformat_minor": 5
}
