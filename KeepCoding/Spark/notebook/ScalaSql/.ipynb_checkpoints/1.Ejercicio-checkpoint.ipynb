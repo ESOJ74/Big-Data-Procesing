{
 "cells": [
  {
   "cell_type": "code",
   "execution_count": 2,
   "id": "2bc30f5e",
   "metadata": {},
   "outputs": [
    {
     "data": {
      "text/plain": [
       "import org.apache.spark.sql.SparkSession\n",
       "spark: org.apache.spark.sql.SparkSession = org.apache.spark.sql.SparkSession@19a7fe5e\n"
      ]
     },
     "execution_count": 2,
     "metadata": {},
     "output_type": "execute_result"
    }
   ],
   "source": [
    "import org.apache.spark.sql.SparkSession\n",
    "\n",
    "val spark = SparkSession\n",
    "      .builder()\n",
    "      .master(\"local[*]\")\n",
    "      .appName(\"Spark SQL KeepCoding Base\")\n",
    "      .getOrCreate()"
   ]
  },
  {
   "cell_type": "code",
   "execution_count": 3,
   "id": "5a796d92",
   "metadata": {},
   "outputs": [
    {
     "ename": "java.lang.NullPointerException",
     "evalue": "",
     "output_type": "error",
     "traceback": [
      "java.lang.NullPointerException",
      "  ... 37 elided",
      ""
     ]
    }
   ],
   "source": [
    " // Read CSV\n",
    "val csvFilePath = getClass.getClassLoader.getResource(\"sample.csv\").getFile"
   ]
  },
  {
   "cell_type": "code",
   "execution_count": 1,
   "id": "64974f4b",
   "metadata": {},
   "outputs": [
    {
     "data": {
      "text/plain": [
       "Intitializing Scala interpreter ..."
      ]
     },
     "metadata": {},
     "output_type": "display_data"
    },
    {
     "data": {
      "text/plain": [
       "Spark Web UI available at http://192.168.0.11:4040\n",
       "SparkContext available as 'sc' (version = 3.1.2, master = local[*], app id = local-1632284069694)\n",
       "SparkSession available as 'spark'\n"
      ]
     },
     "metadata": {},
     "output_type": "display_data"
    },
    {
     "ename": "<console>",
     "evalue": "2: error: illegal start of definition",
     "output_type": "error",
     "traceback": [
      "<console>:2: error: illegal start of definition",
      "       package io.keepcoding.spark.sql.exercise1",
      "       ^",
      ""
     ]
    }
   ],
   "source": [
    "import org.apache.spark.sql.SparkSession\n",
    "\n",
    "object ReadMultipleDataSources {\n",
    "\n",
    "  def main(args: Array[String]): Unit = {\n",
    "\n",
    "    val spark = SparkSession\n",
    "      .builder()\n",
    "      .master(\"local[*]\")\n",
    "      .appName(\"Spark SQL KeepCoding Base\")\n",
    "      .getOrCreate()\n",
    "\n",
    "    // Read CSV\n",
    "\n",
    "    val csvFilePath = getClass.getClassLoader.getResource(\"sample.csv\").getFile\n",
    "\n",
    "    val csvDefault = spark\n",
    "      .read\n",
    "      .csv(csvFilePath)\n",
    "\n",
    "    val csv = spark\n",
    "      .read\n",
    "      .format(\"csv\")\n",
    "      //.option(\"sep\", \",\")\n",
    "      //.option(\"inferSchema\", \"true\")\n",
    "      //.option(\"header\", \"true\")\n",
    "      .load(csvFilePath)\n",
    "\n",
    "    csvDefault.show\n",
    "    csvDefault.printSchema\n",
    "\n",
    "    csv.show\n",
    "    csv.printSchema\n",
    "\n",
    "    // Read JSON\n",
    "\n",
    "    val jsonFilePath = getClass.getClassLoader.getResource(\"sample.json\").getFile\n",
    "\n",
    "    val jsonDefault = spark\n",
    "      .read\n",
    "      .json(jsonFilePath)\n",
    "\n",
    "    val json = spark\n",
    "      .read\n",
    "      .format(\"json\")\n",
    "      .load(jsonFilePath)\n",
    "\n",
    "    jsonDefault.show\n",
    "    jsonDefault.printSchema\n",
    "\n",
    "    json.show\n",
    "    json.printSchema\n",
    "\n",
    "    spark.close()\n",
    "  }\n",
    "\n",
    "}"
   ]
  },
  {
   "cell_type": "code",
   "execution_count": null,
   "id": "28eaa0e9",
   "metadata": {},
   "outputs": [],
   "source": []
  }
 ],
 "metadata": {
  "kernelspec": {
   "display_name": "spylon-kernel",
   "language": "scala",
   "name": "spylon-kernel"
  },
  "language_info": {
   "codemirror_mode": "text/x-scala",
   "file_extension": ".scala",
   "help_links": [
    {
     "text": "MetaKernel Magics",
     "url": "https://metakernel.readthedocs.io/en/latest/source/README.html"
    }
   ],
   "mimetype": "text/x-scala",
   "name": "scala",
   "pygments_lexer": "scala",
   "version": "0.4.1"
  }
 },
 "nbformat": 4,
 "nbformat_minor": 5
}
