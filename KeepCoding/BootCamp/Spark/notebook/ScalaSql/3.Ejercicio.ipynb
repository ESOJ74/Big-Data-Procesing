{
 "cells": [
  {
   "cell_type": "code",
   "execution_count": 14,
   "id": "34bf7eb6",
   "metadata": {},
   "outputs": [
    {
     "data": {
      "text/plain": [
       "import org.apache.spark.sql.SparkSession\n",
       "spark: org.apache.spark.sql.SparkSession = org.apache.spark.sql.SparkSession@65d0cb7\n"
      ]
     },
     "execution_count": 14,
     "metadata": {},
     "output_type": "execute_result"
    }
   ],
   "source": [
    "import org.apache.spark.sql.SparkSession\n",
    "\n",
    "val spark = SparkSession\n",
    "      .builder()\n",
    "      .master(\"local[*]\")\n",
    "      .appName(\"Spark SQL KeepCoding Base\")\n",
    "      .getOrCreate()"
   ]
  },
  {
   "cell_type": "code",
   "execution_count": 10,
   "id": "fbd576a4",
   "metadata": {},
   "outputs": [
    {
     "data": {
      "text/plain": [
       "parquet: (spark: org.apache.spark.sql.SparkSession)Unit\n"
      ]
     },
     "execution_count": 10,
     "metadata": {},
     "output_type": "execute_result"
    }
   ],
   "source": [
    "def parquet(spark: SparkSession): Unit = {\n",
    "    \n",
    "    spark\n",
    "      .read\n",
    "      .format(\"json\")\n",
    "      .load(\"exercise2_output/*.json\")\n",
    "      .write\n",
    "      .format(\"parquet\")\n",
    "      .save(\"exercise3_output/spark-parquet\")\n",
    "    \n",
    "    spark\n",
    "      .read\n",
    "      .format(\"json\")\n",
    "      .load(\"exercise2_output/*.json\")\n",
    "      .write\n",
    "      .partitionBy(\"curso\", \"clase\")\n",
    "      .format(\"parquet\")\n",
    "      .save(\"exercise3_output/spark-parquet-partitioned\")\n",
    "  }"
   ]
  },
  {
   "cell_type": "code",
   "execution_count": 39,
   "id": "a5809687",
   "metadata": {},
   "outputs": [
    {
     "data": {
      "text/plain": [
       "avro: (spark: org.apache.spark.sql.SparkSession)Unit\n"
      ]
     },
     "execution_count": 39,
     "metadata": {},
     "output_type": "execute_result"
    }
   ],
   "source": [
    "  def avro(spark: SparkSession): Unit = {\n",
    "      \n",
    "    spark\n",
    "      .read\n",
    "      .format(\"json\")\n",
    "      .load(\"exercise2_output/*.json\")\n",
    "      .write\n",
    "      .option(\"avroSchema\", \"avro/highschool_user_schema_v1_0_0.avsc\")\n",
    "      .save(\"exercise3_output/spark-avro-user_schema_v1_0_0\")\n",
    "      \n",
    "    spark\n",
    "      .read\n",
    "      .option(\"avroSchema\", \"avro/highschool_user_schema_v1_1_0.avsc\")\n",
    "      .format(\"parquet\")\n",
    "      .load(\"exercise3_output/spark-avro-user_schema_v1_0_0/*.*\")\n",
    "      .withColumn(\"edad\", when($\"nombre\" === \"sara\" && $\"apellido\" === \"garcia\", 18L))\n",
    "      .write\n",
    "      .option(\"avroSchema\", \"avro/highschool_user_schema_v1_1_0.avsc\")\n",
    "      .format(\"json\")\n",
    "      .save(\"exercise3_output/spark-avro-user_schema_v1_1_0\")\n",
    "  }"
   ]
  },
  {
   "cell_type": "code",
   "execution_count": 40,
   "id": "ee3e30d6",
   "metadata": {},
   "outputs": [],
   "source": [
    "parquet(spark)\n",
    "avro(spark)"
   ]
  }
 ],
 "metadata": {
  "kernelspec": {
   "display_name": "spylon-kernel",
   "language": "scala",
   "name": "spylon-kernel"
  },
  "language_info": {
   "codemirror_mode": "text/x-scala",
   "file_extension": ".scala",
   "help_links": [
    {
     "text": "MetaKernel Magics",
     "url": "https://metakernel.readthedocs.io/en/latest/source/README.html"
    }
   ],
   "mimetype": "text/x-scala",
   "name": "scala",
   "pygments_lexer": "scala",
   "version": "0.4.1"
  }
 },
 "nbformat": 4,
 "nbformat_minor": 5
}
