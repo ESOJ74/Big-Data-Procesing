{
 "cells": [
  {
   "cell_type": "markdown",
   "metadata": {
    "collapsed": true
   },
   "source": [
    "# Modelo de Regresión Múltiple"
   ]
  },
  {
   "cell_type": "code",
   "execution_count": 1,
   "metadata": {
    "collapsed": true
   },
   "outputs": [],
   "source": [
    "#from pyspark import SparkContext\n",
    "#sc = SparkContext()\n",
    "#from pyspark.sql import SQLContext\n",
    "#sqlContext=SQLContext(sc)"
   ]
  },
  {
   "cell_type": "code",
   "execution_count": 2,
   "metadata": {
    "collapsed": true
   },
   "outputs": [],
   "source": [
    "bd5 = sqlContext.read.format(\n",
    "    \"com.databricks.spark.csv\"\n",
    ").option(\"header\", \"true\").load(\"file:/home/cloudera/Documents/Ficheros de trabajo/bd5.csv\", inferSchema=True)\n",
    "sqlContext.registerDataFrameAsTable(bd5, \"bd5\")\n",
    "\n",
    "bd5 = bd5.withColumn('Horario1',(bd5.Horario==1) \n",
    ").withColumn('Horario2',(bd5.Horario==2) \n",
    ").withColumn('Horario3',(bd5.Horario==3))\n",
    "\n",
    "bd5 = bd5.withColumn('DepDelay2',(bd5.DepDelay**2)\n",
    ").withColumn('DepD_Distance',(bd5.DepDelay * bd5.Distance)) "
   ]
  },
  {
   "cell_type": "markdown",
   "metadata": {},
   "source": [
    "## Descripción Previa de la Base de Datos"
   ]
  },
  {
   "cell_type": "markdown",
   "metadata": {},
   "source": [
    "Resumen Numérico"
   ]
  },
  {
   "cell_type": "code",
   "execution_count": 3,
   "metadata": {
    "collapsed": false
   },
   "outputs": [
    {
     "data": {
      "text/html": [
       "<div>\n",
       "<table border=\"1\" class=\"dataframe\">\n",
       "  <thead>\n",
       "    <tr style=\"text-align: right;\">\n",
       "      <th></th>\n",
       "      <th>ArrDelay</th>\n",
       "      <th>DepDelay</th>\n",
       "      <th>DayOfWeek</th>\n",
       "      <th>CRSDepTime</th>\n",
       "      <th>DepDelay2</th>\n",
       "      <th>DepD_Distance</th>\n",
       "    </tr>\n",
       "  </thead>\n",
       "  <tbody>\n",
       "    <tr>\n",
       "      <th>ArrDelay</th>\n",
       "      <td>1.000000</td>\n",
       "      <td>0.959840</td>\n",
       "      <td>0.054927</td>\n",
       "      <td>0.121811</td>\n",
       "      <td>0.742436</td>\n",
       "      <td>0.835426</td>\n",
       "    </tr>\n",
       "    <tr>\n",
       "      <th>DepDelay</th>\n",
       "      <td>0.959840</td>\n",
       "      <td>1.000000</td>\n",
       "      <td>0.051572</td>\n",
       "      <td>0.115697</td>\n",
       "      <td>0.775680</td>\n",
       "      <td>0.886463</td>\n",
       "    </tr>\n",
       "    <tr>\n",
       "      <th>DayOfWeek</th>\n",
       "      <td>0.054927</td>\n",
       "      <td>0.051572</td>\n",
       "      <td>1.000000</td>\n",
       "      <td>-0.037421</td>\n",
       "      <td>0.019880</td>\n",
       "      <td>0.061005</td>\n",
       "    </tr>\n",
       "    <tr>\n",
       "      <th>CRSDepTime</th>\n",
       "      <td>0.121811</td>\n",
       "      <td>0.115697</td>\n",
       "      <td>-0.037421</td>\n",
       "      <td>1.000000</td>\n",
       "      <td>0.037993</td>\n",
       "      <td>0.091446</td>\n",
       "    </tr>\n",
       "    <tr>\n",
       "      <th>DepDelay2</th>\n",
       "      <td>0.742436</td>\n",
       "      <td>0.775680</td>\n",
       "      <td>0.019880</td>\n",
       "      <td>0.037993</td>\n",
       "      <td>1.000000</td>\n",
       "      <td>0.638278</td>\n",
       "    </tr>\n",
       "    <tr>\n",
       "      <th>DepD_Distance</th>\n",
       "      <td>0.835426</td>\n",
       "      <td>0.886463</td>\n",
       "      <td>0.061005</td>\n",
       "      <td>0.091446</td>\n",
       "      <td>0.638278</td>\n",
       "      <td>1.000000</td>\n",
       "    </tr>\n",
       "  </tbody>\n",
       "</table>\n",
       "</div>"
      ],
      "text/plain": [
       "               ArrDelay  DepDelay  DayOfWeek  CRSDepTime  DepDelay2  \\\n",
       "ArrDelay       1.000000  0.959840   0.054927    0.121811   0.742436   \n",
       "DepDelay       0.959840  1.000000   0.051572    0.115697   0.775680   \n",
       "DayOfWeek      0.054927  0.051572   1.000000   -0.037421   0.019880   \n",
       "CRSDepTime     0.121811  0.115697  -0.037421    1.000000   0.037993   \n",
       "DepDelay2      0.742436  0.775680   0.019880    0.037993   1.000000   \n",
       "DepD_Distance  0.835426  0.886463   0.061005    0.091446   0.638278   \n",
       "\n",
       "               DepD_Distance  \n",
       "ArrDelay            0.835426  \n",
       "DepDelay            0.886463  \n",
       "DayOfWeek           0.061005  \n",
       "CRSDepTime          0.091446  \n",
       "DepDelay2           0.638278  \n",
       "DepD_Distance       1.000000  "
      ]
     },
     "execution_count": 3,
     "metadata": {},
     "output_type": "execute_result"
    }
   ],
   "source": [
    "pdf5 = bd5.sample(False, 0.1, 0).select('ArrDelay','DepDelay','DayOfWeek','CRSDepTime','DepDelay2','DepD_Distance').toPandas()\n",
    "pdf5.corr()"
   ]
  },
  {
   "cell_type": "markdown",
   "metadata": {},
   "source": [
    "Configuración de la Base de Datos"
   ]
  },
  {
   "cell_type": "code",
   "execution_count": 4,
   "metadata": {
    "collapsed": true
   },
   "outputs": [],
   "source": [
    "from pyspark.ml.feature import VectorAssembler\n",
    "\n",
    "a1  = VectorAssembler(\n",
    "    inputCols=['DepDelay','Distance','DayOfWeek',\n",
    "               'CRSDepTime','Horario1','Horario2',\n",
    "               'Horario3','DepDelay2','DepD_Distance'],\n",
    "    outputCol='features')\n",
    "bd6 = a1.transform(bd5)"
   ]
  },
  {
   "cell_type": "code",
   "execution_count": 5,
   "metadata": {
    "collapsed": false
   },
   "outputs": [
    {
     "name": "stdout",
     "output_type": "stream",
     "text": [
      "+-----+--------------------+\n",
      "|label|            features|\n",
      "+-----+--------------------+\n",
      "|-16.0|(9,[1,2,3,5],[174...|\n",
      "| -9.0|(9,[1,2,3,6],[174...|\n",
      "|-18.0|[-2.0,1747.0,5.0,...|\n",
      "|119.0|[130.0,628.0,5.0,...|\n",
      "|-18.0|[-8.0,628.0,5.0,2...|\n",
      "| -5.0|[2.0,628.0,5.0,73...|\n",
      "|  0.0|[11.0,628.0,5.0,1...|\n",
      "| -7.0|[-2.0,1199.0,6.0,...|\n",
      "|-21.0|[-3.0,1199.0,6.0,...|\n",
      "|-13.0|[-3.0,1747.0,6.0,...|\n",
      "|-15.0|[2.0,1747.0,6.0,9...|\n",
      "| -9.0|[-4.0,1946.0,6.0,...|\n",
      "|-14.0|[1.0,1946.0,6.0,1...|\n",
      "|-14.0|[6.0,1587.0,6.0,1...|\n",
      "| -7.0|[-4.0,1587.0,6.0,...|\n",
      "|  6.0|[18.0,1199.0,6.0,...|\n",
      "|-15.0|(9,[1,2,3,5],[119...|\n",
      "| -8.0|(9,[1,2,3],[628.0...|\n",
      "| -4.0|[7.0,628.0,6.0,83...|\n",
      "| -4.0|[-3.0,628.0,6.0,6...|\n",
      "+-----+--------------------+\n",
      "only showing top 20 rows\n",
      "\n"
     ]
    }
   ],
   "source": [
    "from pyspark.sql.functions import col\n",
    "\n",
    "bd6 = bd6.select(col(\"ArrDelay\").alias(\"label\"),'features')\n",
    "bd6.show()"
   ]
  },
  {
   "cell_type": "markdown",
   "metadata": {},
   "source": [
    "## Ajuste del modelo"
   ]
  },
  {
   "cell_type": "code",
   "execution_count": 6,
   "metadata": {
    "collapsed": false
   },
   "outputs": [
    {
     "name": "stderr",
     "output_type": "stream",
     "text": [
      "/usr/lib/spark/python/pyspark/ml/regression.py:123: UserWarning: weights is deprecated. Use coefficients instead.\n",
      "  warnings.warn(\"weights is deprecated. Use coefficients instead.\")\n"
     ]
    }
   ],
   "source": [
    "from pyspark.ml.regression import LinearRegression\n",
    "\n",
    "# Define LinearRegression algorithm\n",
    "lr = LinearRegression()\n",
    "model = lr.fit(bd6)\n",
    "pred = model.transform(bd6)"
   ]
  },
  {
   "cell_type": "code",
   "execution_count": 7,
   "metadata": {
    "collapsed": false
   },
   "outputs": [
    {
     "name": "stdout",
     "output_type": "stream",
     "text": [
      "-4.635889634541887 [1.05553557286,-0.00289488941365,0.135668773288,0.00144922041931,-0.242298226852,1.62235576514,0.159579377181,-1.79458480022e-05,-2.10428631003e-05]\n"
     ]
    }
   ],
   "source": [
    "print(model.intercept,model.coefficients)"
   ]
  },
  {
   "cell_type": "markdown",
   "metadata": {},
   "source": [
    "Modelo Predictivo:\n",
    "\n",
    "$ Y_i = \\beta_0 + \\beta_1 X_{1i} + ... \\beta_p X_{pi} $"
   ]
  },
  {
   "cell_type": "code",
   "execution_count": 8,
   "metadata": {
    "collapsed": false,
    "scrolled": true
   },
   "outputs": [
    {
     "name": "stdout",
     "output_type": "stream",
     "text": [
      "+-----+--------------------+-------------------+-------------------+\n",
      "|label|            features|         prediction|           residual|\n",
      "+-----+--------------------+-------------------+-------------------+\n",
      "|-16.0|(9,[1,2,3,5],[174...| -6.211447166863374| -9.788552833136626|\n",
      "| -9.0|(9,[1,2,3,6],[174...| -7.051058774518492|-1.9489412254815077|\n",
      "|-18.0|[-2.0,1747.0,5.0,...| -7.959222248442044|-10.040777751557956|\n",
      "|119.0|[130.0,628.0,5.0,...| 132.38334287706127|-13.383342877061267|\n",
      "|-18.0|[-8.0,628.0,5.0,2...|-11.071887212260929| -6.928112787739071|\n",
      "| -5.0|[2.0,628.0,5.0,73...|-2.8753341143510367|-2.1246658856489633|\n",
      "|  0.0|[11.0,628.0,5.0,1...|  8.028310412873815| -8.028310412873815|\n",
      "| -7.0|[-2.0,1199.0,6.0,...| -8.690067009954756| 1.6900670099547561|\n",
      "|-21.0|[-3.0,1199.0,6.0,...| -7.724606984982583|-13.275393015017418|\n",
      "|-13.0|[-3.0,1747.0,6.0,...| -9.457399338080045|-3.5426006619199555|\n",
      "|-15.0|[2.0,1747.0,6.0,9...|-3.8933807529877105| -11.10661924701229|\n",
      "| -9.0|[-4.0,1946.0,6.0,...|-10.572817225692894| 1.5728172256928943|\n",
      "|-14.0|[1.0,1946.0,6.0,1...|  -6.11476480535611|  -7.88523519464389|\n",
      "|-14.0|[6.0,1587.0,6.0,1...|0.19446279800103294|-14.194462798001034|\n",
      "| -7.0|[-4.0,1587.0,6.0,...|-11.703775349265566|  4.703775349265566|\n",
      "|  6.0|[18.0,1199.0,6.0,...| 13.753980708935543|-7.7539807089355435|\n",
      "|-15.0|(9,[1,2,3,5],[119...| -4.032874562814941|-10.967125437185059|\n",
      "| -8.0|(9,[1,2,3],[628.0...| -3.118224016983759| -4.881775983016241|\n",
      "| -4.0|[7.0,628.0,6.0,83...|  4.487952505962732| -8.487952505962731|\n",
      "| -4.0|[-3.0,628.0,6.0,6...| -8.081788182207523|  4.081788182207523|\n",
      "+-----+--------------------+-------------------+-------------------+\n",
      "only showing top 20 rows\n",
      "\n"
     ]
    }
   ],
   "source": [
    "pred = pred.withColumn('residual', pred.label-pred.prediction)\n",
    "pred.show()"
   ]
  },
  {
   "cell_type": "code",
   "execution_count": 9,
   "metadata": {
    "collapsed": false
   },
   "outputs": [
    {
     "name": "stdout",
     "output_type": "stream",
     "text": [
      "15.340617652785411\n",
      "10.608701507780205\n",
      "0.9178062697891254\n"
     ]
    }
   ],
   "source": [
    "from pyspark.ml.evaluation import RegressionEvaluator\n",
    "\n",
    "print(RegressionEvaluator(metricName=\"rmse\").evaluate(pred))\n",
    "print(RegressionEvaluator(metricName=\"mae\").evaluate(pred))\n",
    "print(RegressionEvaluator(metricName=\"r2\").evaluate(pred))\n"
   ]
  },
  {
   "cell_type": "code",
   "execution_count": 10,
   "metadata": {
    "collapsed": false
   },
   "outputs": [
    {
     "data": {
      "text/plain": [
       "<seaborn.axisgrid.JointGrid at 0x7fb8cf365898>"
      ]
     },
     "execution_count": 10,
     "metadata": {},
     "output_type": "execute_result"
    },
    {
     "data": {
      "image/png": "[encoded data removed]",
      "text/plain": [
       "<matplotlib.figure.Figure at 0x7fb8cf365710>"
      ]
     },
     "metadata": {},
     "output_type": "display_data"
    }
   ],
   "source": [
    "import seaborn as sns\n",
    "%matplotlib inline\n",
    "\n",
    "pdpred = pred.toPandas()\n",
    "sns.jointplot(x=\"prediction\", y=\"residual\", data=pdpred)"
   ]
  }
 ],
 "metadata": {
  "anaconda-cloud": {},
  "kernelspec": {
   "display_name": "Python [default]",
   "language": "python",
   "name": "python3"
  },
  "language_info": {
   "codemirror_mode": {
    "name": "ipython",
    "version": 3
   },
   "file_extension": ".py",
   "mimetype": "text/x-python",
   "name": "python",
   "nbconvert_exporter": "python",
   "pygments_lexer": "ipython3",
   "version": "3.5.2"
  }
 },
 "nbformat": 4,
 "nbformat_minor": 2
}
