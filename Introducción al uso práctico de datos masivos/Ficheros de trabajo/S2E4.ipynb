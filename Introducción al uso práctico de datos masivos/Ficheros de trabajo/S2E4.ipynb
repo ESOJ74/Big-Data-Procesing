{
 "cells": [
  {
   "cell_type": "markdown",
   "metadata": {
    "collapsed": true
   },
   "source": [
    "# Modelo de Regresión Simple"
   ]
  },
  {
   "cell_type": "code",
   "execution_count": 1,
   "metadata": {
    "collapsed": true
   },
   "outputs": [],
   "source": [
    "#from pyspark import SparkContext\n",
    "#sc = SparkContext()\n",
    "#from pyspark.sql import SQLContext\n",
    "#sqlContext=SQLContext(sc)"
   ]
  },
  {
   "cell_type": "code",
   "execution_count": 2,
   "metadata": {
    "collapsed": true
   },
   "outputs": [],
   "source": [
    "bd5 = sqlContext.read.format(\n",
    "    \"com.databricks.spark.csv\"\n",
    ").option(\"header\", \"true\").load(\"file:/home/cloudera/Documents/Ficheros de trabajo/bd5.csv\", inferSchema=True)\n",
    "sqlContext.registerDataFrameAsTable(bd5, \"bd5\")"
   ]
  },
  {
   "cell_type": "markdown",
   "metadata": {},
   "source": [
    "## Descripción Previa de la Base de Datos"
   ]
  },
  {
   "cell_type": "markdown",
   "metadata": {},
   "source": [
    "Resumen Numérico"
   ]
  },
  {
   "cell_type": "code",
   "execution_count": 3,
   "metadata": {
    "collapsed": false
   },
   "outputs": [
    {
     "data": {
      "text/html": [
       "<div>\n",
       "<table border=\"1\" class=\"dataframe\">\n",
       "  <thead>\n",
       "    <tr style=\"text-align: right;\">\n",
       "      <th></th>\n",
       "      <th>Horario</th>\n",
       "      <th>ArrDelay</th>\n",
       "      <th>DepDelay</th>\n",
       "      <th>RetrasoNeto</th>\n",
       "    </tr>\n",
       "  </thead>\n",
       "  <tbody>\n",
       "    <tr>\n",
       "      <th>Horario</th>\n",
       "      <td>1.000000</td>\n",
       "      <td>0.110390</td>\n",
       "      <td>0.106962</td>\n",
       "      <td>0.042998</td>\n",
       "    </tr>\n",
       "    <tr>\n",
       "      <th>ArrDelay</th>\n",
       "      <td>0.110390</td>\n",
       "      <td>1.000000</td>\n",
       "      <td>0.959840</td>\n",
       "      <td>0.418959</td>\n",
       "    </tr>\n",
       "    <tr>\n",
       "      <th>DepDelay</th>\n",
       "      <td>0.106962</td>\n",
       "      <td>0.959840</td>\n",
       "      <td>1.000000</td>\n",
       "      <td>0.147394</td>\n",
       "    </tr>\n",
       "    <tr>\n",
       "      <th>RetrasoNeto</th>\n",
       "      <td>0.042998</td>\n",
       "      <td>0.418959</td>\n",
       "      <td>0.147394</td>\n",
       "      <td>1.000000</td>\n",
       "    </tr>\n",
       "  </tbody>\n",
       "</table>\n",
       "</div>"
      ],
      "text/plain": [
       "              Horario  ArrDelay  DepDelay  RetrasoNeto\n",
       "Horario      1.000000  0.110390  0.106962     0.042998\n",
       "ArrDelay     0.110390  1.000000  0.959840     0.418959\n",
       "DepDelay     0.106962  0.959840  1.000000     0.147394\n",
       "RetrasoNeto  0.042998  0.418959  0.147394     1.000000"
      ]
     },
     "execution_count": 3,
     "metadata": {},
     "output_type": "execute_result"
    }
   ],
   "source": [
    "pdf4 = bd5.sample(False, 0.1, 0).select('Dest','Horario','ArrDelay','DepDelay','RetrasoNeto').toPandas()\n",
    "pdf4.corr()"
   ]
  },
  {
   "cell_type": "markdown",
   "metadata": {},
   "source": [
    "Resumen Gráfico"
   ]
  },
  {
   "cell_type": "code",
   "execution_count": 4,
   "metadata": {
    "collapsed": false
   },
   "outputs": [
    {
     "data": {
      "text/plain": [
       "<seaborn.axisgrid.JointGrid at 0x7efee9d76dd8>"
      ]
     },
     "execution_count": 4,
     "metadata": {},
     "output_type": "execute_result"
    },
    {
     "data": {
      "image/png": "[encoded data removed]",
      "text/plain": [
       "<matplotlib.figure.Figure at 0x7efee9d76b00>"
      ]
     },
     "metadata": {},
     "output_type": "display_data"
    }
   ],
   "source": [
    "import seaborn as sns\n",
    "%matplotlib inline\n",
    "sns.jointplot(x=\"DepDelay\", y=\"ArrDelay\", data=pdf4)"
   ]
  },
  {
   "cell_type": "markdown",
   "metadata": {},
   "source": [
    "## Configuración de la base de datos"
   ]
  },
  {
   "cell_type": "code",
   "execution_count": 5,
   "metadata": {
    "collapsed": false
   },
   "outputs": [
    {
     "name": "stdout",
     "output_type": "stream",
     "text": [
      "+-----+--------+\n",
      "|label|features|\n",
      "+-----+--------+\n",
      "|-16.0|   [0.0]|\n",
      "| -9.0|   [0.0]|\n",
      "|-18.0|  [-2.0]|\n",
      "|119.0| [130.0]|\n",
      "|-18.0|  [-8.0]|\n",
      "| -5.0|   [2.0]|\n",
      "|  0.0|  [11.0]|\n",
      "| -7.0|  [-2.0]|\n",
      "|-21.0|  [-3.0]|\n",
      "|-13.0|  [-3.0]|\n",
      "|-15.0|   [2.0]|\n",
      "| -9.0|  [-4.0]|\n",
      "|-14.0|   [1.0]|\n",
      "|-14.0|   [6.0]|\n",
      "| -7.0|  [-4.0]|\n",
      "|  6.0|  [18.0]|\n",
      "|-15.0|   [0.0]|\n",
      "| -8.0|   [0.0]|\n",
      "| -4.0|   [7.0]|\n",
      "| -4.0|  [-3.0]|\n",
      "+-----+--------+\n",
      "only showing top 20 rows\n",
      "\n"
     ]
    }
   ],
   "source": [
    "from pyspark.ml.feature import VectorAssembler\n",
    "from pyspark.sql.functions import col\n",
    "\n",
    "assembler = VectorAssembler(\n",
    "    inputCols=['DepDelay'],\n",
    "    outputCol='features')\n",
    "\n",
    "bd6 = assembler.transform(bd5).select(col(\"ArrDelay\").alias(\"label\"),'features')\n",
    "bd6.show()"
   ]
  },
  {
   "cell_type": "markdown",
   "metadata": {},
   "source": [
    "### Ajuste del modelo"
   ]
  },
  {
   "cell_type": "code",
   "execution_count": 6,
   "metadata": {
    "collapsed": false
   },
   "outputs": [
    {
     "name": "stderr",
     "output_type": "stream",
     "text": [
      "/usr/lib/spark/python/pyspark/ml/regression.py:123: UserWarning: weights is deprecated. Use coefficients instead.\n",
      "  warnings.warn(\"weights is deprecated. Use coefficients instead.\")\n"
     ]
    }
   ],
   "source": [
    "from pyspark.ml.regression import LinearRegression\n",
    "lr = LinearRegression()\n",
    "model = lr.fit(bd6)\n",
    "pred = model.transform(bd6)"
   ]
  },
  {
   "cell_type": "markdown",
   "metadata": {},
   "source": [
    "Coeficientes"
   ]
  },
  {
   "cell_type": "code",
   "execution_count": 7,
   "metadata": {
    "collapsed": false
   },
   "outputs": [
    {
     "name": "stdout",
     "output_type": "stream",
     "text": [
      "-4.3994410804913295 [1.02786002478]\n"
     ]
    }
   ],
   "source": [
    "print(model.intercept,model.coefficients)"
   ]
  },
  {
   "cell_type": "markdown",
   "metadata": {},
   "source": [
    "Modelo Teórico:\n",
    "\n",
    "__ArrDelay = $\\beta_0$ + $\\beta_1$*DepDelay + $\\epsilon$__ \n",
    "\n",
    "\n",
    "Modelo Predictivo:\n",
    "\n",
    "__ArrDelay = -4.4 + 1.03*DepDelay__\n",
    "\n",
    "\n"
   ]
  },
  {
   "cell_type": "markdown",
   "metadata": {},
   "source": [
    "Valores Predichos y Residuos"
   ]
  },
  {
   "cell_type": "code",
   "execution_count": 8,
   "metadata": {
    "collapsed": false
   },
   "outputs": [
    {
     "name": "stdout",
     "output_type": "stream",
     "text": [
      "+-----+--------+-------------------+--------------------+\n",
      "|label|features|         prediction|            residual|\n",
      "+-----+--------+-------------------+--------------------+\n",
      "|-16.0|   [0.0]|-4.3994410804913295| -11.600558919508671|\n",
      "| -9.0|   [0.0]|-4.3994410804913295| -4.6005589195086705|\n",
      "|-18.0|  [-2.0]| -6.455161130042824| -11.544838869957175|\n",
      "|119.0| [130.0]|  129.2223621403558| -10.222362140355813|\n",
      "|-18.0|  [-8.0]|-12.622321278697306| -5.3776787213026935|\n",
      "| -5.0|   [2.0]| -2.343721030939835|  -2.656278969060165|\n",
      "|  0.0|  [11.0]|  6.907019192041889|  -6.907019192041889|\n",
      "| -7.0|  [-2.0]| -6.455161130042824|  -0.544838869957176|\n",
      "|-21.0|  [-3.0]| -7.483021154818571| -13.516978845181429|\n",
      "|-13.0|  [-3.0]| -7.483021154818571|  -5.516978845181429|\n",
      "|-15.0|   [2.0]| -2.343721030939835| -12.656278969060164|\n",
      "| -9.0|  [-4.0]| -8.510881179594318|-0.48911882040568244|\n",
      "|-14.0|   [1.0]|-3.3715810557155823| -10.628418944284418|\n",
      "|-14.0|   [6.0]| 1.7677190681631538| -15.767719068163153|\n",
      "| -7.0|  [-4.0]| -8.510881179594318|  1.5108811795943176|\n",
      "|  6.0|  [18.0]| 14.102039365472123|  -8.102039365472123|\n",
      "|-15.0|   [0.0]|-4.3994410804913295| -10.600558919508671|\n",
      "| -8.0|   [0.0]|-4.3994410804913295| -3.6005589195086705|\n",
      "| -4.0|   [7.0]|  2.795579092938901|  -6.795579092938901|\n",
      "| -4.0|  [-3.0]| -7.483021154818571|   3.483021154818571|\n",
      "+-----+--------+-------------------+--------------------+\n",
      "only showing top 20 rows\n",
      "\n"
     ]
    }
   ],
   "source": [
    "pred = pred.withColumn('residual', pred.label-pred.prediction)\n",
    "pred.show()"
   ]
  },
  {
   "cell_type": "markdown",
   "metadata": {},
   "source": [
    "Representación gráfica de resultados"
   ]
  },
  {
   "cell_type": "code",
   "execution_count": 9,
   "metadata": {
    "collapsed": false
   },
   "outputs": [
    {
     "data": {
      "text/plain": [
       "<seaborn.axisgrid.JointGrid at 0x7efeaf2345c0>"
      ]
     },
     "execution_count": 9,
     "metadata": {},
     "output_type": "execute_result"
    },
    {
     "data": {
      "image/png": "[encoded data removed]",
      "text/plain": [
       "<matplotlib.figure.Figure at 0x7efeaf0cee48>"
      ]
     },
     "metadata": {},
     "output_type": "display_data"
    }
   ],
   "source": [
    "pdpred = pred.toPandas()\n",
    "sns.jointplot(x=\"prediction\", y=\"label\", data=pdpred)"
   ]
  },
  {
   "cell_type": "code",
   "execution_count": 10,
   "metadata": {
    "collapsed": false
   },
   "outputs": [
    {
     "data": {
      "text/plain": [
       "<seaborn.axisgrid.JointGrid at 0x7efee9d767b8>"
      ]
     },
     "execution_count": 10,
     "metadata": {},
     "output_type": "execute_result"
    },
    {
     "data": {
      "image/png": "[encoded data removed]",
      "text/plain": [
       "<matplotlib.figure.Figure at 0x7efee9d767f0>"
      ]
     },
     "metadata": {},
     "output_type": "display_data"
    }
   ],
   "source": [
    "sns.jointplot(x=\"prediction\", y=\"residual\", data=pdpred)"
   ]
  },
  {
   "cell_type": "markdown",
   "metadata": {},
   "source": [
    "Métricas de Evaluación (R2, RMSE, MAE)"
   ]
  },
  {
   "cell_type": "code",
   "execution_count": 11,
   "metadata": {
    "collapsed": false
   },
   "outputs": [
    {
     "name": "stdout",
     "output_type": "stream",
     "text": [
      "15.498421344920363\n",
      "0.9161065747950499\n"
     ]
    }
   ],
   "source": [
    "from pyspark.ml.evaluation import RegressionEvaluator\n",
    "\n",
    "print(RegressionEvaluator(metricName=\"rmse\").evaluate(pred))\n",
    "print(RegressionEvaluator(metricName=\"r2\").evaluate(pred))\n"
   ]
  },
  {
   "cell_type": "markdown",
   "metadata": {},
   "source": [
    "Otros parámetros opcionales del modelo"
   ]
  },
  {
   "cell_type": "code",
   "execution_count": 12,
   "metadata": {
    "collapsed": true
   },
   "outputs": [],
   "source": [
    "#lr = LinearRegression()\n",
    "#lr = LinearRegression(\n",
    "    #maxIter=5, \n",
    "    #regParam=0.0,\n",
    "    #elasticNetParam=0.0,\n",
    "    #solver=\"normal\", \n",
    "    #weightCol=\"weight\")"
   ]
  }
 ],
 "metadata": {
  "anaconda-cloud": {},
  "kernelspec": {
   "display_name": "Python [default]",
   "language": "python",
   "name": "python3"
  },
  "language_info": {
   "codemirror_mode": {
    "name": "ipython",
    "version": 3
   },
   "file_extension": ".py",
   "mimetype": "text/x-python",
   "name": "python",
   "nbconvert_exporter": "python",
   "pygments_lexer": "ipython3",
   "version": "3.5.2"
  }
 },
 "nbformat": 4,
 "nbformat_minor": 2
}
