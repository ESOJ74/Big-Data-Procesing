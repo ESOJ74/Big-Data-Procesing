{
 "cells": [
  {
   "cell_type": "markdown",
   "metadata": {
    "collapsed": true
   },
   "source": [
    "# Análisis Exploratorio de Datos (1)"
   ]
  },
  {
   "cell_type": "markdown",
   "metadata": {},
   "source": [
    "## Posibles Objectivos:\n",
    "\n",
    "* **Predecir  el retraso de los vuelos**\n",
    "* Analizar factores relacionados con los vuelos causantes de retraso\n",
    "* Analizar factores relacionados con vuelos con retraso atribuible a la aerolínea.\n",
    "* Classificar Aeropuertos\n",
    "* Classificar Aerolíneas\n",
    "\n"
   ]
  },
  {
   "cell_type": "markdown",
   "metadata": {},
   "source": [
    "## Lectura inicial"
   ]
  },
  {
   "cell_type": "markdown",
   "metadata": {},
   "source": [
    "Definir SparkContext y SQLContext"
   ]
  },
  {
   "cell_type": "code",
   "execution_count": 1,
   "metadata": {},
   "outputs": [],
   "source": [
    "import pyspark\n",
    "from pyspark import SparkContext\n",
    "sc = SparkContext()\n",
    "from pyspark.sql import SQLContext\n",
    "sqlContext=SQLContext(sc)"
   ]
  },
  {
   "cell_type": "markdown",
   "metadata": {},
   "source": [
    "Lectura del fichero de trabajo"
   ]
  },
  {
   "cell_type": "code",
   "execution_count": 3,
   "metadata": {},
   "outputs": [],
   "source": [
    "bd = sqlContext.read.format(\"com.databricks.spark.csv\"\n",
    ").option(\"header\", \"true\"\n",
    ").load(\"On_Time_On_Time_Performance_2016_12.csv\", inferSchema=True\n",
    ")"
   ]
  },
  {
   "cell_type": "markdown",
   "metadata": {},
   "source": [
    "## Pre-proceso inicial"
   ]
  },
  {
   "cell_type": "markdown",
   "metadata": {},
   "source": [
    "Filtro variables de interés y principales aeropuertos"
   ]
  },
  {
   "cell_type": "code",
   "execution_count": 4,
   "metadata": {},
   "outputs": [],
   "source": [
    "bd=bd.select('Year','Month','DayofMonth','DayOfWeek','CRSDepTime','UniqueCarrier', 'TailNum', 'ArrDelay','DepDelay','Origin','Dest','Distance','Cancelled', 'Diverted','CarrierDelay','WeatherDelay','NASDelay','SecurityDelay','LateAircraftDelay') "
   ]
  },
  {
   "cell_type": "code",
   "execution_count": 5,
   "metadata": {},
   "outputs": [],
   "source": [
    "sqlContext.registerDataFrameAsTable(bd, \"bd\")\n",
    "bd2 = sqlContext.sql(\"select * from bd \\\n",
    "            where Origin in ('ATL','ORD','DEN','LAX','DFW','SFO','PHX','LAS') \\\n",
    "            and Dest in ('ATL','ORD','DEN','LAX','DFW','SFO','PHX','LAS')\")\n",
    "sqlContext.registerDataFrameAsTable(bd2, \"bd2\")"
   ]
  },
  {
   "cell_type": "markdown",
   "metadata": {},
   "source": [
    "# Exploración de Variables\n",
    "Los datos (variables) son características observables de los individuos de una población. Éstas variables pueden ser:\n",
    "\n",
    "* __CUALITATIVAS__: etiquetas (numéricas o no) que representan el grupo o categoría al cual pertenece un individuo. Se puede diferenciar entre nominales y ordinales.\n",
    "\n",
    "* __CUANTITATIVAS__: valores numéricos para los cuales tiene sentido hacer aritmética. Se puede diferenciar entre valores enteros  (discretos) y valores medidos en cierta escala (continuos).\n"
   ]
  },
  {
   "cell_type": "markdown",
   "metadata": {},
   "source": [
    "## Exploración de Variables Cualitativas\n",
    "* Número de casos disponibles\n",
    "* Número de categorías\n",
    "* Frecuencias relativas\n",
    "* Frecuencias absolutas\n",
    "* Frec. relativa acumulada\n",
    "* Frec. absoluta acumulada"
   ]
  },
  {
   "cell_type": "code",
   "execution_count": 6,
   "metadata": {},
   "outputs": [
    {
     "data": {
      "text/plain": [
       "30965"
      ]
     },
     "execution_count": 6,
     "metadata": {},
     "output_type": "execute_result"
    }
   ],
   "source": [
    "bd2.count()"
   ]
  },
  {
   "cell_type": "code",
   "execution_count": 7,
   "metadata": {},
   "outputs": [
    {
     "data": {
      "text/plain": [
       "8"
      ]
     },
     "execution_count": 7,
     "metadata": {},
     "output_type": "execute_result"
    }
   ],
   "source": [
    "bd2.select(\"Dest\").distinct().count()"
   ]
  },
  {
   "cell_type": "code",
   "execution_count": 8,
   "metadata": {},
   "outputs": [
    {
     "name": "stdout",
     "output_type": "stream",
     "text": [
      "+----+-----+\n",
      "|Dest|count|\n",
      "+----+-----+\n",
      "| LAS| 3726|\n",
      "| DEN| 3967|\n",
      "| PHX| 3302|\n",
      "| DFW| 3275|\n",
      "| SFO| 4430|\n",
      "| ATL| 3094|\n",
      "| ORD| 3829|\n",
      "| LAX| 5342|\n",
      "+----+-----+\n",
      "\n"
     ]
    }
   ],
   "source": [
    "bd2.groupBy(\"Dest\").count().show()"
   ]
  },
  {
   "cell_type": "code",
   "execution_count": 10,
   "metadata": {},
   "outputs": [
    {
     "name": "stdout",
     "output_type": "stream",
     "text": [
      "+----+----+-----+\n",
      "|Dest|   n|    p|\n",
      "+----+----+-----+\n",
      "| LAS|3726|12.03|\n",
      "| DEN|3967|12.81|\n",
      "| PHX|3302|10.66|\n",
      "| DFW|3275|10.58|\n",
      "| SFO|4430|14.31|\n",
      "| ATL|3094| 9.99|\n",
      "| ORD|3829|12.37|\n",
      "| LAX|5342|17.25|\n",
      "+----+----+-----+\n",
      "\n"
     ]
    }
   ],
   "source": [
    "sqlContext.sql(\"select Dest, count(*) as n , round(  100*count(*)/30965  ,2) as p \\\n",
    "                from bd2 \\\n",
    "                group by Dest  \").show()"
   ]
  },
  {
   "cell_type": "code",
   "execution_count": 11,
   "metadata": {},
   "outputs": [
    {
     "name": "stdout",
     "output_type": "stream",
     "text": [
      "+----+----+------------------+\n",
      "|Dest|   n|                 p|\n",
      "+----+----+------------------+\n",
      "| LAS|3726|12.032940416599386|\n",
      "| DEN|3967|12.811238495075084|\n",
      "| PHX|3302|10.663652510899402|\n",
      "| DFW|3275|10.576457290489262|\n",
      "| SFO|4430|14.306475052478605|\n",
      "| ATL|3094| 9.991926368480543|\n",
      "| ORD|3829|12.365574035201034|\n",
      "| LAX|5342|17.251735830776685|\n",
      "+----+----+------------------+\n",
      "\n"
     ]
    }
   ],
   "source": [
    "sqlContext.sql(\"select t1.Dest , t1.n , 100*t1.n/t2.t as p\\\n",
    "               from (select Dest, count(*) as n from bd2 group by Dest ) as t1 , \\\n",
    "               (select count(*) as t from bd2) as t2\").show()"
   ]
  },
  {
   "cell_type": "markdown",
   "metadata": {},
   "source": [
    "## Exploración de Variables Cuantitativas\n",
    "\n",
    "* Número de casos disponibles\n",
    "* Medidas de localización\n",
    "  * Media: centro de masas\n",
    "  * Mediana: punto medio (50% de la muestra)\n",
    "* Medidas de dispersión  \n",
    "  * Varianza / desviación estándar\n",
    "  * Cuartiles Q3 y Q1 (25% y 75% de la muestra)\n",
    "  * Rango Intercuartílico: IQR = Q3 – Q1\n",
    "  * Rango = max – min\n",
    "* Valores extremos\n",
    "  * Máximo y Mínimo;  Top y Bottom\n",
    "  * Percentiles (1%, 99%)\n",
    "  * Porcentaje de casos 'por encima/debajo de'."
   ]
  },
  {
   "cell_type": "code",
   "execution_count": 12,
   "metadata": {},
   "outputs": [
    {
     "name": "stdout",
     "output_type": "stream",
     "text": [
      "+-------+------------------+\n",
      "|summary|          ArrDelay|\n",
      "+-------+------------------+\n",
      "|  count|             30466|\n",
      "|   mean|13.300695857677411|\n",
      "| stddev| 53.50946738163752|\n",
      "|    min|             -53.0|\n",
      "|    max|            2028.0|\n",
      "+-------+------------------+\n",
      "\n"
     ]
    }
   ],
   "source": [
    "bd2.describe(\"ArrDelay\").show()"
   ]
  },
  {
   "cell_type": "code",
   "execution_count": 13,
   "metadata": {},
   "outputs": [
    {
     "data": {
      "text/plain": [
       "[Row(max(ArrDelay)=2028.0)]"
      ]
     },
     "execution_count": 13,
     "metadata": {},
     "output_type": "execute_result"
    }
   ],
   "source": [
    "bd2.select('ArrDelay').groupBy().max().collect()"
   ]
  },
  {
   "cell_type": "code",
   "execution_count": 14,
   "metadata": {},
   "outputs": [
    {
     "name": "stdout",
     "output_type": "stream",
     "text": [
      "+-----+------+\n",
      "|  Min|   Max|\n",
      "+-----+------+\n",
      "|-53.0|2028.0|\n",
      "+-----+------+\n",
      "\n"
     ]
    }
   ],
   "source": [
    "sqlContext.sql(\"select min(ArrDelay) as Min, \\\n",
    "                max(ArrDelay) as Max from bd2\" ).show()"
   ]
  },
  {
   "cell_type": "code",
   "execution_count": 16,
   "metadata": {},
   "outputs": [
    {
     "name": "stdout",
     "output_type": "stream",
     "text": [
      "+--------+\n",
      "|ArrDelay|\n",
      "+--------+\n",
      "|  2028.0|\n",
      "|  1505.0|\n",
      "|  1006.0|\n",
      "|   996.0|\n",
      "|   951.0|\n",
      "|   920.0|\n",
      "|   920.0|\n",
      "|   873.0|\n",
      "|   872.0|\n",
      "|   868.0|\n",
      "+--------+\n",
      "only showing top 10 rows\n",
      "\n"
     ]
    }
   ],
   "source": [
    "bd2.select('ArrDelay').orderBy('ArrDelay',ascending=False).show(10)"
   ]
  },
  {
   "cell_type": "code",
   "execution_count": 17,
   "metadata": {},
   "outputs": [
    {
     "data": {
      "text/plain": [
       "Row(ArrDelay=103.0)"
      ]
     },
     "execution_count": 17,
     "metadata": {},
     "output_type": "execute_result"
    }
   ],
   "source": [
    "n=bd2.select('ArrDelay').count()\n",
    "P95=int(n*0.95)\n",
    "bd2.select('ArrDelay').sort('ArrDelay').collect()[P95]"
   ]
  },
  {
   "cell_type": "markdown",
   "metadata": {},
   "source": [
    "## Representación gráfica de Variables Cualitativas\n"
   ]
  },
  {
   "cell_type": "code",
   "execution_count": 41,
   "metadata": {},
   "outputs": [],
   "source": [
    "import matplotlib.pyplot as plt\n",
    "plt.style.use(\"dark_background\")\n",
    "%matplotlib inline"
   ]
  },
  {
   "cell_type": "code",
   "execution_count": 42,
   "metadata": {},
   "outputs": [
    {
     "data": {
      "text/html": [
       "<div>\n",
       "<style scoped>\n",
       "    .dataframe tbody tr th:only-of-type {\n",
       "        vertical-align: middle;\n",
       "    }\n",
       "\n",
       "    .dataframe tbody tr th {\n",
       "        vertical-align: top;\n",
       "    }\n",
       "\n",
       "    .dataframe thead th {\n",
       "        text-align: right;\n",
       "    }\n",
       "</style>\n",
       "<table border=\"1\" class=\"dataframe\">\n",
       "  <thead>\n",
       "    <tr style=\"text-align: right;\">\n",
       "      <th></th>\n",
       "      <th>Dest</th>\n",
       "      <th>n</th>\n",
       "    </tr>\n",
       "  </thead>\n",
       "  <tbody>\n",
       "    <tr>\n",
       "      <th>0</th>\n",
       "      <td>LAS</td>\n",
       "      <td>3726</td>\n",
       "    </tr>\n",
       "    <tr>\n",
       "      <th>1</th>\n",
       "      <td>DEN</td>\n",
       "      <td>3967</td>\n",
       "    </tr>\n",
       "    <tr>\n",
       "      <th>2</th>\n",
       "      <td>PHX</td>\n",
       "      <td>3302</td>\n",
       "    </tr>\n",
       "    <tr>\n",
       "      <th>3</th>\n",
       "      <td>DFW</td>\n",
       "      <td>3275</td>\n",
       "    </tr>\n",
       "    <tr>\n",
       "      <th>4</th>\n",
       "      <td>SFO</td>\n",
       "      <td>4430</td>\n",
       "    </tr>\n",
       "    <tr>\n",
       "      <th>5</th>\n",
       "      <td>ATL</td>\n",
       "      <td>3094</td>\n",
       "    </tr>\n",
       "    <tr>\n",
       "      <th>6</th>\n",
       "      <td>ORD</td>\n",
       "      <td>3829</td>\n",
       "    </tr>\n",
       "    <tr>\n",
       "      <th>7</th>\n",
       "      <td>LAX</td>\n",
       "      <td>5342</td>\n",
       "    </tr>\n",
       "  </tbody>\n",
       "</table>\n",
       "</div>"
      ],
      "text/plain": [
       "  Dest     n\n",
       "0  LAS  3726\n",
       "1  DEN  3967\n",
       "2  PHX  3302\n",
       "3  DFW  3275\n",
       "4  SFO  4430\n",
       "5  ATL  3094\n",
       "6  ORD  3829\n",
       "7  LAX  5342"
      ]
     },
     "execution_count": 42,
     "metadata": {},
     "output_type": "execute_result"
    }
   ],
   "source": [
    "g1=sqlContext.sql(\"select Dest, count(*) as n from bd2 group by Dest\")\n",
    "pdf1=g1.toPandas()\n",
    "pdf1"
   ]
  },
  {
   "cell_type": "code",
   "execution_count": 43,
   "metadata": {},
   "outputs": [
    {
     "data": {
      "text/plain": [
       "<AxesSubplot:xlabel='Dest'>"
      ]
     },
     "execution_count": 43,
     "metadata": {},
     "output_type": "execute_result"
    },
    {
     "data": {
      "image/png": "[encoded data removed]",
      "text/plain": [
       "<Figure size 432x288 with 1 Axes>"
      ]
     },
     "metadata": {
      "needs_background": "dark"
     },
     "output_type": "display_data"
    }
   ],
   "source": [
    "pdf1.plot(kind='bar',x='Dest',y='n')"
   ]
  },
  {
   "cell_type": "code",
   "execution_count": 44,
   "metadata": {},
   "outputs": [
    {
     "data": {
      "text/plain": [
       "<AxesSubplot:ylabel='Dest'>"
      ]
     },
     "execution_count": 44,
     "metadata": {},
     "output_type": "execute_result"
    },
    {
     "data": {
      "image/png": "[encoded data removed]",
      "text/plain": [
       "<Figure size 432x288 with 1 Axes>"
      ]
     },
     "metadata": {
      "needs_background": "dark"
     },
     "output_type": "display_data"
    }
   ],
   "source": [
    "pdf1.plot(kind='barh',x='Dest',y='n')"
   ]
  },
  {
   "cell_type": "code",
   "execution_count": 45,
   "metadata": {},
   "outputs": [
    {
     "data": {
      "text/plain": [
       "<AxesSubplot:ylabel='n'>"
      ]
     },
     "execution_count": 45,
     "metadata": {},
     "output_type": "execute_result"
    },
    {
     "data": {
      "image/png": "[encoded data removed]",
      "text/plain": [
       "<Figure size 432x288 with 1 Axes>"
      ]
     },
     "metadata": {},
     "output_type": "display_data"
    }
   ],
   "source": [
    "pdf1.plot.pie(y='n',labels=pdf1['Dest'])"
   ]
  },
  {
   "cell_type": "markdown",
   "metadata": {},
   "source": [
    "## Representación gráfica de Variables Cuantitativas\n"
   ]
  },
  {
   "cell_type": "markdown",
   "metadata": {},
   "source": [
    "Sólo se representan los datos de una muestra"
   ]
  },
  {
   "cell_type": "code",
   "execution_count": 46,
   "metadata": {},
   "outputs": [],
   "source": [
    "#pdf2 = bd2.select('ArrDelay').toPandas()\n",
    "pdf2 = bd2.sample(False, 0.1, 0).select('ArrDelay').toPandas()"
   ]
  },
  {
   "cell_type": "code",
   "execution_count": 47,
   "metadata": {},
   "outputs": [
    {
     "data": {
      "text/plain": [
       "<AxesSubplot:ylabel='Frequency'>"
      ]
     },
     "execution_count": 47,
     "metadata": {},
     "output_type": "execute_result"
    },
    {
     "data": {
      "image/png": "[encoded data removed]",
      "text/plain": [
       "<Figure size 432x288 with 1 Axes>"
      ]
     },
     "metadata": {
      "needs_background": "dark"
     },
     "output_type": "display_data"
    }
   ],
   "source": [
    "pdf2.plot.hist(bins=20)"
   ]
  },
  {
   "cell_type": "code",
   "execution_count": 48,
   "metadata": {},
   "outputs": [
    {
     "data": {
      "text/plain": [
       "<AxesSubplot:>"
      ]
     },
     "execution_count": 48,
     "metadata": {},
     "output_type": "execute_result"
    },
    {
     "data": {
      "image/png": "[encoded data removed]",
      "text/plain": [
       "<Figure size 432x288 with 1 Axes>"
      ]
     },
     "metadata": {
      "needs_background": "dark"
     },
     "output_type": "display_data"
    }
   ],
   "source": [
    "pdf2.plot.box()"
   ]
  }
 ],
 "metadata": {
  "anaconda-cloud": {},
  "kernelspec": {
   "display_name": "Python 3",
   "language": "python",
   "name": "python3"
  },
  "language_info": {
   "codemirror_mode": {
    "name": "ipython",
    "version": 3
   },
   "file_extension": ".py",
   "mimetype": "text/x-python",
   "name": "python",
   "nbconvert_exporter": "python",
   "pygments_lexer": "ipython3",
   "version": "3.8.11"
  }
 },
 "nbformat": 4,
 "nbformat_minor": 2
}
